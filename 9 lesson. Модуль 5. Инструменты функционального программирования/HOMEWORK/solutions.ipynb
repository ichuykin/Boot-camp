{
 "metadata": {
  "language_info": {
   "codemirror_mode": {
    "name": "ipython",
    "version": 3
   },
   "file_extension": ".py",
   "mimetype": "text/x-python",
   "name": "python",
   "nbconvert_exporter": "python",
   "pygments_lexer": "ipython3",
   "version": "3.8.8"
  },
  "orig_nbformat": 4,
  "kernelspec": {
   "name": "python3",
   "display_name": "Python 3.8.8 64-bit ('base': conda)"
  },
  "interpreter": {
   "hash": "262af24f6390e181d1b86df4568fd74653813b7e5cf759105ca918c8cd7e2241"
  }
 },
 "nbformat": 4,
 "nbformat_minor": 2,
 "cells": [
  {
   "source": [
    "# 2"
   ],
   "cell_type": "markdown",
   "metadata": {}
  },
  {
   "cell_type": "code",
   "execution_count": 1,
   "metadata": {},
   "outputs": [
    {
     "output_type": "execute_result",
     "data": {
      "text/plain": [
       "30.333333333333332"
      ]
     },
     "metadata": {},
     "execution_count": 1
    }
   ],
   "source": [
    "def func(x1, x2, x3, c):\n",
    "    return x1**2 + x2**.5 + x3/(x1+x2) + c\n",
    "\n",
    "def curry(func):\n",
    "    def f1(x1=5):\n",
    "        def f2(x2):\n",
    "            def f3(x3=7):\n",
    "                def f4(c):\n",
    "                    return x1**2 + x2**.5 + x3/(x1+x2) + c\n",
    "                return f4\n",
    "            return f3\n",
    "        return f2\n",
    "    return f1\n",
    "\n",
    "curried = curry(func)\n",
    "curried()(16)()(1)"
   ]
  },
  {
   "cell_type": "code",
   "execution_count": 3,
   "metadata": {},
   "outputs": [
    {
     "output_type": "execute_result",
     "data": {
      "text/plain": [
       "30.333333333333332"
      ]
     },
     "metadata": {},
     "execution_count": 3
    }
   ],
   "source": [
    "def curry(func):\n",
    "    return (lambda x1=5:  lambda x2:  lambda x3=7:  lambda c:  x1**2 + x2**.5 + x3/(x1+x2) + c)\n",
    "curried = curry(func)\n",
    "curried()(16)()(1)"
   ]
  },
  {
   "cell_type": "code",
   "execution_count": 6,
   "metadata": {},
   "outputs": [
    {
     "output_type": "execute_result",
     "data": {
      "text/plain": [
       "30.333333333333332"
      ]
     },
     "metadata": {},
     "execution_count": 6
    }
   ],
   "source": [
    "from functools import partial\n",
    "import math\n",
    "\n",
    "def func(x1, x2, x3, c):                \n",
    "    return x1 ** 2 + math.sqrt(x2) + x3/(x1 + x2) + c\n",
    "\n",
    "func_x1_x3_fixed = partial(func, x1=5, x3=7)\n",
    "func_x1_x3_fixed(x2 = 16, c= 1)"
   ]
  },
  {
   "cell_type": "code",
   "execution_count": null,
   "metadata": {},
   "outputs": [],
   "source": []
  }
 ]
}