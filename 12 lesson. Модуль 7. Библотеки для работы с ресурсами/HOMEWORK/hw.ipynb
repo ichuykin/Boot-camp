{
 "metadata": {
  "language_info": {
   "codemirror_mode": {
    "name": "ipython",
    "version": 3
   },
   "file_extension": ".py",
   "mimetype": "text/x-python",
   "name": "python",
   "nbconvert_exporter": "python",
   "pygments_lexer": "ipython3",
   "version": 3
  },
  "orig_nbformat": 2
 },
 "nbformat": 4,
 "nbformat_minor": 2,
 "cells": [
  {
   "source": [
    "# Assignment.1"
   ],
   "cell_type": "markdown",
   "metadata": {}
  },
  {
   "source": [
    "Для созданного класса шахматных фигур сформировать csv файл с информацией о каждой фигуре и ее позиции на шахматной доске"
   ],
   "cell_type": "markdown",
   "metadata": {}
  },
  {
   "cell_type": "code",
   "execution_count": null,
   "metadata": {},
   "outputs": [],
   "source": [
    "### YOUR CODE HERE"
   ]
  },
  {
   "source": [
    "# Attention"
   ],
   "cell_type": "markdown",
   "metadata": {}
  },
  {
   "source": [
    "Для работы с этим и некоторыми следующими заданиями Вам понадобится взаимодействие с сайтами. Для этого предлагаю использовать модуль **requests**.<br>\n",
    "```\n",
    "import requests\n",
    "response = requests.get(url) - возвращает ответ от сайта\n",
    "response.text - получает содержимое сайта в декодированном виде\n",
    "response.encoding - возвращает кодировку\n",
    "response.content - возвращает содержимое сайта в виде байтов\n",
    "```"
   ],
   "cell_type": "markdown",
   "metadata": {}
  },
  {
   "source": [
    "# Assignment.2"
   ],
   "cell_type": "markdown",
   "metadata": {}
  },
  {
   "source": [
    "Find the sum of numbers on http://python-data.dr-chuck.net/regex_sum_201873.txt."
   ],
   "cell_type": "markdown",
   "metadata": {}
  },
  {
   "cell_type": "code",
   "execution_count": null,
   "metadata": {},
   "outputs": [],
   "source": [
    "### YOUR CODE HERE"
   ]
  },
  {
   "source": [
    "# Assignment.3"
   ],
   "cell_type": "markdown",
   "metadata": {}
  },
  {
   "source": [
    "[Read] (https://docs.python.org/3/library/xml.etree.elementtree.html)"
   ],
   "cell_type": "markdown",
   "metadata": {}
  },
  {
   "source": [
    "Find the sum of numbers inside count on http://python-data.dr-chuck.net/comments_200531.xml.\n"
   ],
   "cell_type": "markdown",
   "metadata": {}
  },
  {
   "cell_type": "code",
   "execution_count": null,
   "metadata": {},
   "outputs": [],
   "source": [
    "### YOUR CODE HERE\n"
   ]
  },
  {
   "source": [
    "# Assignment.4"
   ],
   "cell_type": "markdown",
   "metadata": {}
  },
  {
   "source": [
    "* Выполнять все задания для текста между ```*** START OF THE PROJECT GUTENBERG EBOOK THE IDIOT *** и *** END OF THE PROJECT GUTENBERG EBOOK THE IDIOT ***```\n",
    "* Заменить все символы \";\" на \".\"\n",
    "* Найти кол-во вхождений артикля **the** в тексте в любом регистре\n",
    "* Найдите, сколько раз кто-либо был процитирован (текст в кавычках)."
   ],
   "cell_type": "markdown",
   "metadata": {}
  },
  {
   "cell_type": "code",
   "execution_count": null,
   "metadata": {},
   "outputs": [],
   "source": [
    "### YOUR CODE HERE"
   ]
  }
 ]
}