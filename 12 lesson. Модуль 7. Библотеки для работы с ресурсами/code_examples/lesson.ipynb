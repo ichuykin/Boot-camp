{
 "metadata": {
  "language_info": {
   "codemirror_mode": {
    "name": "ipython",
    "version": 3
   },
   "file_extension": ".py",
   "mimetype": "text/x-python",
   "name": "python",
   "nbconvert_exporter": "python",
   "pygments_lexer": "ipython3",
   "version": "3.8.8"
  },
  "orig_nbformat": 2,
  "kernelspec": {
   "name": "python3",
   "display_name": "Python 3.8.8 64-bit ('base': conda)"
  },
  "interpreter": {
   "hash": "7b1a062bb510a37bcdd2ba61ed6bba242638905c2c079c3f0f71d3b5a6f7f2ab"
  }
 },
 "nbformat": 4,
 "nbformat_minor": 2,
 "cells": [
  {
   "source": [
    "# Resourses"
   ],
   "cell_type": "markdown",
   "metadata": {}
  },
  {
   "source": [
    "## Lection"
   ],
   "cell_type": "markdown",
   "metadata": {}
  },
  {
   "source": [
    "** slice **"
   ],
   "cell_type": "markdown",
   "metadata": {}
  },
  {
   "cell_type": "code",
   "execution_count": 1,
   "metadata": {},
   "outputs": [
    {
     "output_type": "execute_result",
     "data": {
      "text/plain": [
       "[2, 4, 6]"
      ]
     },
     "metadata": {},
     "execution_count": 1
    }
   ],
   "source": [
    "x = [1,2,3,4,5,6]\n",
    "named = slice(1,None,2)\n",
    "x[named]"
   ]
  },
  {
   "source": [
    "** reversed **"
   ],
   "cell_type": "markdown",
   "metadata": {}
  },
  {
   "cell_type": "code",
   "execution_count": 4,
   "metadata": {},
   "outputs": [
    {
     "output_type": "execute_result",
     "data": {
      "text/plain": [
       "[10, 9, 8, 7, 6, 5, 4, 3, 2, 1, 0]"
      ]
     },
     "metadata": {},
     "execution_count": 4
    }
   ],
   "source": [
    "list(range(10,-1,-1))"
   ]
  },
  {
   "cell_type": "code",
   "execution_count": 7,
   "metadata": {},
   "outputs": [
    {
     "output_type": "execute_result",
     "data": {
      "text/plain": [
       "[10, 9, 8, 7, 6, 5, 4, 3, 2, 1, 0]"
      ]
     },
     "metadata": {},
     "execution_count": 7
    }
   ],
   "source": [
    "list(reversed(range(10+1)))"
   ]
  },
  {
   "source": [
    "** collections **"
   ],
   "cell_type": "markdown",
   "metadata": {}
  },
  {
   "cell_type": "code",
   "execution_count": 15,
   "metadata": {},
   "outputs": [
    {
     "output_type": "stream",
     "name": "stdout",
     "text": [
      "Tom 23\n('name', 'age')\n{'name': 'Tom', 'age': 23}\n"
     ]
    },
    {
     "output_type": "execute_result",
     "data": {
      "text/plain": [
       "Person(name='Bill', age=23)"
      ]
     },
     "metadata": {},
     "execution_count": 15
    }
   ],
   "source": [
    "from collections import namedtuple\n",
    "Person = namedtuple(\"Person\",[\"name\", \"age\"])\n",
    "p = Person(\"Tom\",23)\n",
    "print(p.name, p.age)\n",
    "print(p._fields)\n",
    "print(p._asdict())\n",
    "p._replace(name = \"Bill\")"
   ]
  },
  {
   "cell_type": "code",
   "execution_count": 26,
   "metadata": {},
   "outputs": [
    {
     "output_type": "error",
     "ename": "KeyError",
     "evalue": "1",
     "traceback": [
      "\u001b[1;31m---------------------------------------------------------------------------\u001b[0m",
      "\u001b[1;31mKeyError\u001b[0m                                  Traceback (most recent call last)",
      "\u001b[1;32m<ipython-input-26-04b73a85b772>\u001b[0m in \u001b[0;36m<module>\u001b[1;34m\u001b[0m\n\u001b[0;32m      1\u001b[0m \u001b[0mg\u001b[0m \u001b[1;33m=\u001b[0m \u001b[1;33m{\u001b[0m\u001b[1;33m}\u001b[0m\u001b[1;33m\u001b[0m\u001b[1;33m\u001b[0m\u001b[0m\n\u001b[0;32m      2\u001b[0m \u001b[0mg\u001b[0m\u001b[1;33m[\u001b[0m\u001b[1;36m0\u001b[0m\u001b[1;33m]\u001b[0m\u001b[1;33m=\u001b[0m\u001b[1;36m10\u001b[0m\u001b[1;33m\u001b[0m\u001b[1;33m\u001b[0m\u001b[0m\n\u001b[1;32m----> 3\u001b[1;33m \u001b[0mg\u001b[0m\u001b[1;33m[\u001b[0m\u001b[1;36m1\u001b[0m\u001b[1;33m]\u001b[0m\u001b[1;33m\u001b[0m\u001b[1;33m\u001b[0m\u001b[0m\n\u001b[0m",
      "\u001b[1;31mKeyError\u001b[0m: 1"
     ]
    }
   ],
   "source": [
    "g = {}\n",
    "g[0]=10\n",
    "g[1]"
   ]
  },
  {
   "cell_type": "code",
   "execution_count": 21,
   "metadata": {},
   "outputs": [
    {
     "output_type": "execute_result",
     "data": {
      "text/plain": [
       "0"
      ]
     },
     "metadata": {},
     "execution_count": 21
    }
   ],
   "source": [
    "from collections import defaultdict\n",
    "g = defaultdict(int)\n",
    "g[\"c\"] += 1\n",
    "g[\"c\"]\n",
    "g['g']\n"
   ]
  },
  {
   "cell_type": "code",
   "execution_count": null,
   "metadata": {},
   "outputs": [],
   "source": [
    "from collections import OrderedDict"
   ]
  },
  {
   "cell_type": "code",
   "execution_count": 30,
   "metadata": {},
   "outputs": [
    {
     "output_type": "execute_result",
     "data": {
      "text/plain": [
       "dict_values([2, 2, 1, 1])"
      ]
     },
     "metadata": {},
     "execution_count": 30
    }
   ],
   "source": [
    "from collections import Counter\n",
    "c = Counter([1,2,2,1,4,5])\n",
    "# c[1]+=10\n",
    "c\n",
    "c.most_common(1)\n",
    "c.values()"
   ]
  },
  {
   "source": [
    "** Decimal **"
   ],
   "cell_type": "markdown",
   "metadata": {}
  },
  {
   "source": [
    "[to read](https://pyprog.pro/python/st_lib/decimal.html)"
   ],
   "cell_type": "markdown",
   "metadata": {}
  },
  {
   "cell_type": "code",
   "execution_count": 11,
   "metadata": {},
   "outputs": [
    {
     "output_type": "execute_result",
     "data": {
      "text/plain": [
       "True"
      ]
     },
     "metadata": {},
     "execution_count": 11
    }
   ],
   "source": [
    "0.51 == 0.50999999999999999"
   ]
  },
  {
   "cell_type": "code",
   "execution_count": 17,
   "metadata": {},
   "outputs": [
    {
     "output_type": "execute_result",
     "data": {
      "text/plain": [
       "'0x1.051eb851eb852p-1'"
      ]
     },
     "metadata": {},
     "execution_count": 17
    }
   ],
   "source": [
    "0.51.hex()"
   ]
  },
  {
   "cell_type": "code",
   "execution_count": 18,
   "metadata": {},
   "outputs": [
    {
     "output_type": "execute_result",
     "data": {
      "text/plain": [
       "'0x1.051eb851eb852p-1'"
      ]
     },
     "metadata": {},
     "execution_count": 18
    }
   ],
   "source": [
    "0.50999999999999999.hex()"
   ]
  },
  {
   "cell_type": "code",
   "execution_count": 19,
   "metadata": {},
   "outputs": [
    {
     "output_type": "execute_result",
     "data": {
      "text/plain": [
       "'0x1.051eb851e9523p-1'"
      ]
     },
     "metadata": {},
     "execution_count": 19
    }
   ],
   "source": [
    "0.509999999999.hex()"
   ]
  },
  {
   "cell_type": "code",
   "execution_count": 12,
   "metadata": {},
   "outputs": [
    {
     "output_type": "execute_result",
     "data": {
      "text/plain": [
       "0.9999999999999999"
      ]
     },
     "metadata": {},
     "execution_count": 12
    }
   ],
   "source": [
    "0.3+0.3+0.3+0.1"
   ]
  },
  {
   "cell_type": "code",
   "execution_count": 24,
   "metadata": {},
   "outputs": [],
   "source": [
    "import decimal\n"
   ]
  },
  {
   "cell_type": "code",
   "execution_count": 25,
   "metadata": {},
   "outputs": [
    {
     "output_type": "execute_result",
     "data": {
      "text/plain": [
       "Context(prec=28, rounding=ROUND_HALF_EVEN, Emin=-999999, Emax=999999, capitals=1, clamp=0, flags=[], traps=[InvalidOperation, DivisionByZero, Overflow])"
      ]
     },
     "metadata": {},
     "execution_count": 25
    }
   ],
   "source": [
    "decimal.getcontext()"
   ]
  },
  {
   "cell_type": "code",
   "execution_count": 33,
   "metadata": {},
   "outputs": [],
   "source": [
    "decimal.getcontext().prec = 50"
   ]
  },
  {
   "cell_type": "code",
   "execution_count": 41,
   "metadata": {},
   "outputs": [
    {
     "output_type": "execute_result",
     "data": {
      "text/plain": [
       "Decimal('1.0')"
      ]
     },
     "metadata": {},
     "execution_count": 41
    }
   ],
   "source": [
    "d  =decimal.Decimal('0.3')+decimal.Decimal('0.3')+decimal.Decimal('0.3')\n",
    "d"
   ]
  },
  {
   "cell_type": "code",
   "execution_count": 40,
   "metadata": {},
   "outputs": [
    {
     "output_type": "execute_result",
     "data": {
      "text/plain": [
       "True"
      ]
     },
     "metadata": {},
     "execution_count": 40
    }
   ],
   "source": [
    "d == decimal.Decimal('0.9')"
   ]
  },
  {
   "cell_type": "code",
   "execution_count": 42,
   "metadata": {},
   "outputs": [
    {
     "output_type": "execute_result",
     "data": {
      "text/plain": [
       "Decimal('3.0')"
      ]
     },
     "metadata": {},
     "execution_count": 42
    }
   ],
   "source": [
    "d * 3"
   ]
  },
  {
   "cell_type": "code",
   "execution_count": 44,
   "metadata": {},
   "outputs": [
    {
     "output_type": "execute_result",
     "data": {
      "text/plain": [
       "Decimal('0.44')"
      ]
     },
     "metadata": {},
     "execution_count": 44
    }
   ],
   "source": [
    "number = decimal.Decimal(\"0.444\")\n",
    "number = number.quantize(Decimal(\"1.00\"))\n",
    "number"
   ]
  },
  {
   "cell_type": "code",
   "execution_count": 45,
   "metadata": {},
   "outputs": [
    {
     "output_type": "stream",
     "name": "stdout",
     "text": [
      "10.03\n"
     ]
    }
   ],
   "source": [
    "number = decimal.Decimal(\"10.026\")\n",
    "print(number.quantize(Decimal(\"1.00\"), ROUND_HALF_DOWN))   "
   ]
  },
  {
   "cell_type": "code",
   "execution_count": 58,
   "metadata": {},
   "outputs": [],
   "source": [
    "decimal.getcontext().prec = 200"
   ]
  },
  {
   "cell_type": "code",
   "execution_count": 60,
   "metadata": {},
   "outputs": [],
   "source": [
    "from decimal import *"
   ]
  },
  {
   "cell_type": "code",
   "execution_count": 71,
   "metadata": {},
   "outputs": [
    {
     "output_type": "execute_result",
     "data": {
      "text/plain": [
       "Context(prec=28, rounding=ROUND_HALF_EVEN, Emin=-999999, Emax=999999, capitals=1, clamp=0, flags=[], traps=[InvalidOperation, DivisionByZero, Overflow])"
      ]
     },
     "metadata": {},
     "execution_count": 71
    }
   ],
   "source": [
    "getcontext()"
   ]
  },
  {
   "cell_type": "code",
   "execution_count": 66,
   "metadata": {},
   "outputs": [],
   "source": [
    "c= getcontext()\n",
    "c.prec = 100"
   ]
  },
  {
   "cell_type": "code",
   "execution_count": 56,
   "metadata": {},
   "outputs": [
    {
     "output_type": "stream",
     "name": "stdout",
     "text": [
      "2.645751311064590590501615754\n"
     ]
    }
   ],
   "source": [
    "print(decimal.Decimal(7).sqrt())"
   ]
  },
  {
   "cell_type": "code",
   "execution_count": 73,
   "metadata": {},
   "outputs": [
    {
     "output_type": "execute_result",
     "data": {
      "text/plain": [
       "False"
      ]
     },
     "metadata": {},
     "execution_count": 73
    }
   ],
   "source": [
    "Decimal(2)>Decimal(3)"
   ]
  },
  {
   "source": [
    "** time **"
   ],
   "cell_type": "markdown",
   "metadata": {}
  },
  {
   "source": [
    "[to read](https://stackoverflow.com/questions/25785243/understanding-time-perf-counter-and-time-process-time)"
   ],
   "cell_type": "markdown",
   "metadata": {}
  },
  {
   "cell_type": "code",
   "execution_count": 75,
   "metadata": {},
   "outputs": [],
   "source": [
    "import time"
   ]
  },
  {
   "cell_type": "code",
   "execution_count": 108,
   "metadata": {},
   "outputs": [
    {
     "output_type": "execute_result",
     "data": {
      "text/plain": [
       "1624867609.5241022"
      ]
     },
     "metadata": {},
     "execution_count": 108
    }
   ],
   "source": [
    "time.time()"
   ]
  },
  {
   "cell_type": "code",
   "execution_count": 77,
   "metadata": {},
   "outputs": [],
   "source": [
    "time.sleep(3)"
   ]
  },
  {
   "cell_type": "code",
   "execution_count": 100,
   "metadata": {},
   "outputs": [
    {
     "output_type": "execute_result",
     "data": {
      "text/plain": [
       "8147.8685052"
      ]
     },
     "metadata": {},
     "execution_count": 100
    }
   ],
   "source": [
    "time.perf_counter()"
   ]
  },
  {
   "cell_type": "code",
   "execution_count": 98,
   "metadata": {},
   "outputs": [
    {
     "output_type": "execute_result",
     "data": {
      "text/plain": [
       "36.53125"
      ]
     },
     "metadata": {},
     "execution_count": 98
    }
   ],
   "source": [
    "time.process_time()"
   ]
  },
  {
   "cell_type": "code",
   "execution_count": 107,
   "metadata": {},
   "outputs": [
    {
     "output_type": "execute_result",
     "data": {
      "text/plain": [
       "247001.625"
      ]
     },
     "metadata": {},
     "execution_count": 107
    }
   ],
   "source": [
    "time.monotonic()"
   ]
  },
  {
   "source": [
    "** datetime **"
   ],
   "cell_type": "markdown",
   "metadata": {}
  },
  {
   "source": [
    "[to read](https://docs.python.org/3/library/datetime.html#timedelta-objects)"
   ],
   "cell_type": "markdown",
   "metadata": {}
  },
  {
   "cell_type": "code",
   "execution_count": 110,
   "metadata": {},
   "outputs": [
    {
     "output_type": "execute_result",
     "data": {
      "text/plain": [
       "datetime.date(1999, 2, 20)"
      ]
     },
     "metadata": {},
     "execution_count": 110
    }
   ],
   "source": [
    "import datetime\n",
    "datetime.date(year= 1999, month=2, day=20)"
   ]
  },
  {
   "cell_type": "code",
   "execution_count": 118,
   "metadata": {},
   "outputs": [
    {
     "output_type": "execute_result",
     "data": {
      "text/plain": [
       "'2021-06-28'"
      ]
     },
     "metadata": {},
     "execution_count": 118
    }
   ],
   "source": [
    "str(datetime.date.today())"
   ]
  },
  {
   "cell_type": "code",
   "execution_count": 115,
   "metadata": {},
   "outputs": [
    {
     "output_type": "execute_result",
     "data": {
      "text/plain": [
       "12"
      ]
     },
     "metadata": {},
     "execution_count": 115
    }
   ],
   "source": [
    "x = datetime.time(hour=12, minute=0, second=10, microsecond=5)\n",
    "x.hour"
   ]
  },
  {
   "cell_type": "code",
   "execution_count": 117,
   "metadata": {},
   "outputs": [
    {
     "output_type": "execute_result",
     "data": {
      "text/plain": [
       "'2021-06-28 11:15:51.417457'"
      ]
     },
     "metadata": {},
     "execution_count": 117
    }
   ],
   "source": [
    "str(datetime.datetime.now())"
   ]
  },
  {
   "cell_type": "code",
   "execution_count": 125,
   "metadata": {},
   "outputs": [],
   "source": [
    "t = datetime.datetime(year = 43, month = 4, day = 3,hour=12, minute=0, second=10, microsecond=3)"
   ]
  },
  {
   "cell_type": "code",
   "execution_count": 127,
   "metadata": {},
   "outputs": [
    {
     "output_type": "execute_result",
     "data": {
      "text/plain": [
       "' today is 03.04.0043'"
      ]
     },
     "metadata": {},
     "execution_count": 127
    }
   ],
   "source": [
    "t.strftime(\" today is %d.%m.%Y\")"
   ]
  },
  {
   "cell_type": "code",
   "execution_count": 128,
   "metadata": {},
   "outputs": [
    {
     "output_type": "execute_result",
     "data": {
      "text/plain": [
       "datetime.datetime(1999, 10, 10, 0, 0)"
      ]
     },
     "metadata": {},
     "execution_count": 128
    }
   ],
   "source": [
    "datetime.datetime.strptime('10.10.1999', '%d.%m.%Y')"
   ]
  },
  {
   "source": [
    "[calendar](https://docs.python.org/3/library/calendar.html)"
   ],
   "cell_type": "markdown",
   "metadata": {}
  },
  {
   "source": [
    "** csv **"
   ],
   "cell_type": "markdown",
   "metadata": {}
  },
  {
   "source": [
    "import csv"
   ],
   "cell_type": "code",
   "metadata": {},
   "execution_count": 2,
   "outputs": []
  },
  {
   "cell_type": "code",
   "execution_count": 3,
   "metadata": {},
   "outputs": [],
   "source": [
    "data = []\n",
    "with open('data/file.csv', 'r') as csv_file:\n",
    "    csv_data = csv.reader(csv_file)  # <_csv.reader object at 0x01CCFD30>\n",
    "    for row in csv_data:\n",
    "        data.append(row)\n"
   ]
  },
  {
   "cell_type": "code",
   "execution_count": 132,
   "metadata": {
    "tags": [
     "outputPrepend"
    ]
   },
   "outputs": [
    {
     "output_type": "stream",
     "name": "stdout",
     "text": [
      " development',\n",
      "  'Slightly satisfied',\n",
      "  'I am actively looking for a job',\n",
      "  'Kotlin;Python',\n",
      "  'HTML/CSS;Java;JavaScript;SQL',\n",
      "  'Apache Spark;Hadoop;Node.js',\n",
      "  'NA',\n",
      "  'Github',\n",
      "  'Confluence;Jira',\n",
      "  'Yes',\n",
      "  'Extremely important',\n",
      "  'Not at all important/not necessary',\n",
      "  'Curious about other opportunities;Better compensation;Wanting to work with '\n",
      "  'new technologies;Growth or leadership opportunities;Looking to relocate',\n",
      "  'Read company media, such as employee blogs or company culture '\n",
      "  'videos;Company reviews from third party sites (e.g. Glassdoor, '\n",
      "  'Blind);Personal network - friends or family',\n",
      "  'Once a year',\n",
      "  'No',\n",
      "  'Yes',\n",
      "  'No',\n",
      "  'Sometimes: 1-2 days per month but less than weekly',\n",
      "  'Start a free trial;Ask developers I know/work with;Visit developer '\n",
      "  'communities like Stack Overflow;Read ratings or reviews on third party '\n",
      "  'sites like G2Crowd',\n",
      "  'Hello, old friend',\n",
      "  'Stack Overflow (public Q&A for anyone who codes);Stack Exchange (public Q&A '\n",
      "  'for a variety of topics)',\n",
      "  'Call a coworker or friend;Visit Stack Overflow;Visit another developer '\n",
      "  'community (please name):',\n",
      "  'Windows',\n",
      "  '5,000 to 9,999 employees',\n",
      "  'Linux',\n",
      "  'Windows',\n",
      "  'I have some influence',\n",
      "  'Bisexual',\n",
      "  'Yes',\n",
      "  'Yes, somewhat',\n",
      "  'Daily or almost daily',\n",
      "  'Daily or almost daily',\n",
      "  'Neither easy nor difficult',\n",
      "  'Appropriate in length',\n",
      "  'No',\n",
      "  'Another engineering discipline (such as civil, electrical, mechanical, '\n",
      "  'etc.)',\n",
      "  'Angular;Angular.js;React.js',\n",
      "  'Spring',\n",
      "  'Just as welcome now as I felt last year',\n",
      "  '8',\n",
      "  '5',\n",
      "  '3'],\n",
      " ['475',\n",
      "  'I am a developer by profession',\n",
      "  'Yes',\n",
      "  'NA',\n",
      "  '19',\n",
      "  'NA',\n",
      "  'NA',\n",
      "  'NA',\n",
      "  'Italy',\n",
      "  'European Euro',\n",
      "  'EUR',\n",
      "  'MariaDB;Microsoft SQL Server;MySQL;Oracle',\n",
      "  'MariaDB;Microsoft SQL Server;MySQL;Oracle',\n",
      "  'Developer, full-stack',\n",
      "  'Professional degree (JD, MD, etc.)',\n",
      "  'Employed full-time',\n",
      "  'White or of European descent',\n",
      "  'Man',\n",
      "  'Flex time or a flexible schedule;Languages, frameworks, and other '\n",
      "  'technologies I’d be working with;Remote work options',\n",
      "  'Slightly dissatisfied',\n",
      "  'I’m not actively looking, but I am open to new opportunities',\n",
      "  'Bash/Shell/PowerShell;HTML/CSS;Java;JavaScript;SQL',\n",
      "  'Bash/Shell/PowerShell;HTML/CSS;Java;JavaScript;SQL',\n",
      "  'NA',\n",
      "  'NA',\n",
      "  'Confluence;Jira',\n",
      "  'Confluence;Jira',\n",
      "  'Not sure',\n",
      "  'Somewhat important',\n",
      "  'Very important',\n",
      "  'Curious about other opportunities',\n",
      "  'Read other media like news articles, founder profiles, etc. about the '\n",
      "  'company',\n",
      "  'Once a year',\n",
      "  'NA',\n",
      "  'No',\n",
      "  'No',\n",
      "  'Sometimes: 1-2 days per month but less than weekly',\n",
      "  'Start a free trial',\n",
      "  'Hello, old friend',\n",
      "  'Stack Overflow (public Q&A for anyone who codes)',\n",
      "  'Visit Stack Overflow',\n",
      "  'Linux-based',\n",
      "  '10 to 19 employees',\n",
      "  'AWS;Linux;Windows',\n",
      "  'AWS;Linux;Windows',\n",
      "  'I have some influence',\n",
      "  'NA',\n",
      "  'Yes',\n",
      "  'Yes, definitely',\n",
      "  'I have never participated in Q&A on Stack Overflow',\n",
      "  'Daily or almost daily',\n",
      "  'Neither easy nor difficult',\n",
      "  'Appropriate in length',\n",
      "  'No',\n",
      "  'Web development or web design',\n",
      "  'Spring',\n",
      "  'Spring',\n",
      "  'Just as welcome now as I felt last year',\n",
      "  '40',\n",
      "  '9',\n",
      "  '5'],\n",
      " ['476',\n",
      "  'I am a developer by profession',\n",
      "  'Yes',\n",
      "  '41',\n",
      "  '10',\n",
      "  'NA',\n",
      "  'NA',\n",
      "  'NA',\n",
      "  'Netherlands',\n",
      "  'European Euro',\n",
      "  'EUR',\n",
      "  'PostgreSQL',\n",
      "  'PostgreSQL',\n",
      "  'Developer, back-end;Developer, desktop or enterprise '\n",
      "  'applications;Developer, QA or test',\n",
      "  'Bachelor’s degree (B.A., B.S., B.Eng., etc.)',\n",
      "  'Employed full-time',\n",
      "  'White or of European descent',\n",
      "  'Man',\n",
      "  'Flex time or a flexible schedule;Remote work options;Office environment or '\n",
      "  'company culture',\n",
      "  'Slightly satisfied',\n",
      "  'I’m not actively looking, but I am open to new opportunities',\n",
      "  'Java;Kotlin;SQL',\n",
      "  'Java;SQL',\n",
      "  'NA',\n",
      "  'NA',\n",
      "  'Jira;Github;Gitlab;Google Suite (Docs, Meet, etc)',\n",
      "  'Confluence;Jira;Github;Gitlab;Google Suite (Docs, Meet, etc)',\n",
      "  'Yes',\n",
      "  'Extremely important',\n",
      "  'Fairly important',\n",
      "  'Curious about other opportunities;Better compensation;Better work/life '\n",
      "  'balance',\n",
      "  'Read company media, such as employee blogs or company culture '\n",
      "  'videos;Personal network - friends or family;Read other media like news '\n",
      "  'articles, founder profiles, etc. about the company',\n",
      "  'Once every few years',\n",
      "  'No',\n",
      "  'Yes',\n",
      "  'No',\n",
      "  'Rarely: 1-2 days per year or less',\n",
      "  'Ask developers I know/work with;Visit developer communities like Stack '\n",
      "  'Overflow',\n",
      "  'Amused',\n",
      "  'Stack Overflow (public Q&A for anyone who codes);Stack Exchange (public Q&A '\n",
      "  'for a variety of topics);Stack Overflow Jobs (for job seekers)',\n",
      "  'Call a coworker or friend;Visit Stack Overflow;Go for a walk or other '\n",
      "  'physical activity;Do other work and come back later',\n",
      "  'MacOS',\n",
      "  '1,000 to 4,999 employees',\n",
      "  'Google Cloud Platform;Linux;MacOS;Windows',\n",
      "  'Linux;MacOS;Windows',\n",
      "  'I have some influence',\n",
      "  'Straight / Heterosexual',\n",
      "  'Yes',\n",
      "  'Yes, definitely',\n",
      "  'Multiple times per day',\n",
      "  'Multiple times per day',\n",
      "  'Neither easy nor difficult',\n",
      "  'Appropriate in length',\n",
      "  'No',\n",
      "  'Computer science, computer engineering, or software engineering',\n",
      "  'Spring',\n",
      "  'Spring',\n",
      "  'Somewhat less welcome now than last year',\n",
      "  '40',\n",
      "  '30',\n",
      "  '14'],\n",
      " ['477',\n",
      "  'I am a developer by profession',\n",
      "  'Yes',\n",
      "  '28',\n",
      "  '15',\n",
      "  'Yearly',\n",
      "  '36000',\n",
      "  '46533',\n",
      "  'United Kingdom',\n",
      "  'Pound sterling',\n",
      "  'GBP',\n",
      "  'MariaDB;Microsoft SQL Server;PostgreSQL;Redis',\n",
      "  'MariaDB;Microsoft SQL Server;Oracle',\n",
      "  'Developer, full-stack',\n",
      "  'Bachelor’s degree (B.A., B.S., B.Eng., etc.)',\n",
      "  'Employed full-time',\n",
      "  'White or of European descent',\n",
      "  'Man',\n",
      "  'Flex time or a flexible schedule;Languages, frameworks, and other '\n",
      "  'technologies I’d be working with;Office environment or company culture',\n",
      "  'Slightly satisfied',\n",
      "  'I am not interested in new job opportunities',\n",
      "  'C#;JavaScript;PHP;TypeScript',\n",
      "  'Bash/Shell/PowerShell;HTML/CSS;JavaScript;PHP;SQL',\n",
      "  '.NET Core',\n",
      "  'Node.js',\n",
      "  'Microsoft Teams',\n",
      "  'Microsoft Teams',\n",
      "  'No',\n",
      "  'Neutral',\n",
      "  'Somewhat important',\n",
      "  'Better compensation;Trouble with leadership at my company;Wanting to work '\n",
      "  'with new technologies',\n",
      "  'Read company media, such as employee blogs or company culture videos;Read '\n",
      "  'other media like news articles, founder profiles, etc. about the company',\n",
      "  'Once a year',\n",
      "  'No',\n",
      "  'No',\n",
      "  'No',\n",
      "  'Occasionally: 1-2 days per quarter but less than monthly',\n",
      "  'Start a free trial',\n",
      "  'Indifferent',\n",
      "  'Stack Overflow (public Q&A for anyone who codes);Stack Exchange (public Q&A '\n",
      "  'for a variety of topics)',\n",
      "  'Call a coworker or friend;Do other work and come back later',\n",
      "  'Linux-based',\n",
      "  '10 to 19 employees',\n",
      "  'Docker;Linux',\n",
      "  'Docker;Linux',\n",
      "  'I have some influence',\n",
      "  'Straight / Heterosexual',\n",
      "  'No',\n",
      "  'No, not really',\n",
      "  'NA',\n",
      "  'A few times per week',\n",
      "  'Neither easy nor difficult',\n",
      "  'Appropriate in length',\n",
      "  'No',\n",
      "  'Mathematics or statistics',\n",
      "  'ASP.NET Core;Laravel',\n",
      "  'jQuery',\n",
      "  'Just as welcome now as I felt last year',\n",
      "  '40',\n",
      "  '12',\n",
      "  '6'],\n",
      " ['478',\n",
      "  'I am a developer by profession',\n",
      "  'Yes',\n",
      "  '24',\n",
      "  '15',\n",
      "  'Yearly',\n",
      "  '108000',\n",
      "  '108000',\n",
      "  'United States',\n",
      "  'United States dollar',\n",
      "  'USD',\n",
      "  'NA',\n",
      "  'PostgreSQL;Redis',\n",
      "  'Developer, full-stack;Engineering manager',\n",
      "  'Bachelor’s degree (B.A., B.S., B.Eng., etc.)',\n",
      "  'Employed full-time',\n",
      "  'White or of European descent',\n",
      "  'Woman',\n",
      "  'Languages, frameworks, and other technologies I’d be working with;Specific '\n",
      "  'department or team I’d be working on;Office environment or company culture',\n",
      "  'Very satisfied',\n",
      "  'I’m not actively looking, but I am open to new opportunities',\n",
      "  'Java;Python;Ruby',\n",
      "  'HTML/CSS;Ruby',\n",
      "  'NA',\n",
      "  'Ansible',\n",
      "  'Github;Slack;Trello',\n",
      "  'Github;Slack;Trello;Google Suite (Docs, Meet, etc)',\n",
      "  'No',\n",
      "  'Extremely important',\n",
      "  'Somewhat important',\n",
      "  'Curious about other opportunities;Wanting to work with new '\n",
      "  'technologies;Growth or leadership opportunities',\n",
      "  'Read company media, such as employee blogs or company culture '\n",
      "  'videos;Company reviews from third party sites (e.g. Glassdoor, Blind)',\n",
      "  'Once a year',\n",
      "  'Not sure',\n",
      "  'Yes',\n",
      "  'No',\n",
      "  'Often: 1-2 days per week or more',\n",
      "  'Visit developer communities like Stack Overflow;Read ratings or reviews on '\n",
      "  'third party sites like G2Crowd',\n",
      "  'Indifferent',\n",
      "  'Stack Overflow (public Q&A for anyone who codes);Stack Exchange (public Q&A '\n",
      "  'for a variety of topics);Stack Overflow Jobs (for job seekers);Stack '\n",
      "  'Overflow Talent (for hiring companies/recruiters)',\n",
      "  'Visit Stack Overflow;Go for a walk or other physical activity;Do other work '\n",
      "  'and come back later',\n",
      "  'MacOS',\n",
      "  '20 to 99 employees',\n",
      "  'NA',\n",
      "  'NA',\n",
      "  'I have some influence',\n",
      "  'Straight / Heterosexual',\n",
      "  'Yes',\n",
      "  'Yes, somewhat',\n",
      "  'A few times per month or weekly',\n",
      "  'Daily or almost daily',\n",
      "  'Easy',\n",
      "  'Appropriate in length',\n",
      "  'No',\n",
      "  'Computer science, computer engineering, or software engineering',\n",
      "  'Ruby on Rails',\n",
      "  'Ruby on Rails',\n",
      "  'Somewhat less welcome now than last year',\n",
      "  '40',\n",
      "  '8',\n",
      "  '3'],\n",
      " ['479',\n",
      "  'I am a developer by profession',\n",
      "  'No',\n",
      "  '31',\n",
      "  '23',\n",
      "  'Yearly',\n",
      "  '118500',\n",
      "  '118500',\n",
      "  'United States',\n",
      "  'United States dollar',\n",
      "  'USD',\n",
      "  'PostgreSQL',\n",
      "  'Firebase;PostgreSQL',\n",
      "  'Developer, back-end;Developer, front-end;Developer, full-stack;Developer, '\n",
      "  'mobile',\n",
      "  'Bachelor’s degree (B.A., B.S., B.Eng., etc.)',\n",
      "  'Employed full-time',\n",
      "  'White or of European descent',\n",
      "  'Woman',\n",
      "  'Industry that I’d be working in;Languages, frameworks, and other '\n",
      "  'technologies I’d be working with;Office environment or company culture',\n",
      "  'Very satisfied',\n",
      "  'I am not interested in new job opportunities',\n",
      "  'Go;Ruby;SQL',\n",
      "  'HTML/CSS;JavaScript;Ruby;SQL',\n",
      "  'React Native',\n",
      "  'Node.js;React Native',\n",
      "  'Github;Slack',\n",
      "  'Confluence;Jira;Github;Gitlab;Slack;Trello;Google Suite (Docs, Meet, etc)',\n",
      "  'No',\n",
      "  'Somewhat important',\n",
      "  'Not at all important/not necessary',\n",
      "  'Having a bad day (or week or month) at work;Curious about other '\n",
      "  'opportunities;Better compensation;Trouble with my teammates;Trouble with my '\n",
      "  'direct manager;Trouble with leadership at my company;Growth or leadership '\n",
      "  'opportunities;Looking to relocate',\n",
      "  'Read company media, such as employee blogs or company culture '\n",
      "  'videos;Company reviews from third party sites (e.g. Glassdoor, Blind);Read '\n",
      "  'other media like news articles, founder profiles, etc. about the company',\n",
      "  'Once a year',\n",
      "  'No',\n",
      "  'Yes',\n",
      "  'No',\n",
      "  'Never',\n",
      "  'Start a free trial;Ask developers I know/work with;Read ratings or reviews '\n",
      "  'on third party sites like G2Crowd',\n",
      "  'Hello, old friend',\n",
      "  'Stack Overflow (public Q&A for anyone who codes)',\n",
      "  'Call a coworker or friend;Visit Stack Overflow;Go for a walk or other '\n",
      "  'physical activity;Do other work and come back later',\n",
      "  'MacOS',\n",
      "  '20 to 99 employees',\n",
      "  'AWS;Heroku;iOS',\n",
      "  'AWS;Docker;Heroku;Kubernetes',\n",
      "  'I have some influence',\n",
      "  'Straight / Heterosexual',\n",
      "  'Yes',\n",
      "  'No, not really',\n",
      "  'Less than once per month or monthly',\n",
      "  'A few times per month or weekly',\n",
      "  'Easy',\n",
      "  'Appropriate in length',\n",
      "  'No',\n",
      "  'A social science (such as anthropology, psychology, political science, '\n",
      "  'etc.)',\n",
      "  'Django;Gatsby;React.js;Ruby on Rails;Spring',\n",
      "  'Gatsby;jQuery;React.js;Ruby on Rails;Spring',\n",
      "  'Just as welcome now as I felt last year',\n",
      "  '40',\n",
      "  '7',\n",
      "  '7'],\n",
      " ['480',\n",
      "  'I am a developer by profession',\n",
      "  'No',\n",
      "  '60',\n",
      "  '16',\n",
      "  'NA',\n",
      "  '0',\n",
      "  'NA',\n",
      "  'Canada',\n",
      "  'Canadian dollar',\n",
      "  'CAD',\n",
      "  'Microsoft SQL Server',\n",
      "  'Microsoft SQL Server',\n",
      "  'Designer;Developer, back-end;Developer, desktop or enterprise '\n",
      "  'applications;Developer, front-end;Developer, full-stack;Developer, game or '\n",
      "  'graphics;Developer, mobile',\n",
      "  'Bachelor’s degree (B.A., B.S., B.Eng., etc.)',\n",
      "  'Employed full-time',\n",
      "  'White or of European descent',\n",
      "  'Man',\n",
      "  'Flex time or a flexible schedule;Languages, frameworks, and other '\n",
      "  'technologies I’d be working with;Office environment or company culture',\n",
      "  'Very satisfied',\n",
      "  'I’m not actively looking, but I am open to new opportunities',\n",
      "  'C#;Dart;HTML/CSS;SQL;TypeScript',\n",
      "  'C#;Dart;HTML/CSS;JavaScript;SQL',\n",
      "  '.NET;.NET Core;Flutter',\n",
      "  '.NET;Flutter;Unity 3D',\n",
      "  'Github',\n",
      "  'Github',\n",
      "  'No',\n",
      "  'Extremely important',\n",
      "  'Critically important',\n",
      "  'Just because;Better compensation;Better work/life balance;Wanting to work '\n",
      "  'with new technologies',\n",
      "  'Read company media, such as employee blogs or company culture '\n",
      "  'videos;Company reviews from third party sites (e.g. Glassdoor, '\n",
      "  'Blind);Personal network - friends or family;Read other media like news '\n",
      "  'articles, founder profiles, etc. about the company',\n",
      "  'Once every few years',\n",
      "  'Not sure',\n",
      "  'Yes',\n",
      "  'Yes',\n",
      "  'Sometimes: 1-2 days per month but less than weekly',\n",
      "  'Start a free trial;Ask developers I know/work with;Visit developer '\n",
      "  'communities like Stack Overflow;Read ratings or reviews on third party '\n",
      "  'sites like G2Crowd',\n",
      "  'Indifferent',\n",
      "  'Stack Overflow (public Q&A for anyone who codes);Stack Overflow Jobs (for '\n",
      "  'job seekers)',\n",
      "  'Visit Stack Overflow;Watch help / tutorial videos',\n",
      "  'Windows',\n",
      "  'Just me - I am a freelancer, sole proprietor, etc.',\n",
      "  'Microsoft Azure;Windows',\n",
      "  'Microsoft Azure;Windows',\n",
      "  'I have a great deal of influence',\n",
      "  'Straight / Heterosexual',\n",
      "  'Yes',\n",
      "  'Yes, somewhat',\n",
      "  'A few times per week',\n",
      "  'Multiple times per day',\n",
      "  'Easy',\n",
      "  'Appropriate in length',\n",
      "  'No',\n",
      "  'Computer science, computer engineering, or software engineering',\n",
      "  'ASP.NET;ASP.NET Core',\n",
      "  'ASP.NET',\n",
      "  'Just as welcome now as I felt last year',\n",
      "  '30',\n",
      "  '45',\n",
      "  '40'],\n",
      " ['481',\n",
      "  'I am a student who is learning to code',\n",
      "  'Yes',\n",
      "  '30',\n",
      "  '16',\n",
      "  'NA',\n",
      "  'NA',\n",
      "  'NA',\n",
      "  'United States',\n",
      "  'NA',\n",
      "  'NA',\n",
      "  'PostgreSQL',\n",
      "  'MySQL;PostgreSQL',\n",
      "  'Developer, full-stack;Developer, mobile;Senior executive/VP',\n",
      "  'Bachelor’s degree (B.A., B.S., B.Eng., etc.)',\n",
      "  'Not employed, but looking for work',\n",
      "  'White or of European descent',\n",
      "  'Man',\n",
      "  'Flex time or a flexible schedule;Office environment or company '\n",
      "  'culture;Family friendliness',\n",
      "  'NA',\n",
      "  'I am actively looking for a job',\n",
      "  'C#;C++;Dart;HTML/CSS;JavaScript;Python;R;SQL',\n",
      "  'C#;C++;Dart;HTML/CSS;JavaScript;Python;SQL',\n",
      "  'Flutter;Node.js;Pandas;React Native;TensorFlow;Torch/PyTorch;Unity 3D',\n",
      "  'Flutter;Node.js;Pandas;React Native;TensorFlow;Torch/PyTorch',\n",
      "  'Github;Trello;Stack Overflow for Teams',\n",
      "  'Github;Slack;Microsoft Teams;Microsoft Azure;Trello;Google Suite (Docs, '\n",
      "  'Meet, etc)',\n",
      "  'NA',\n",
      "  'NA',\n",
      "  'NA',\n",
      "  'NA',\n",
      "  'NA',\n",
      "  'Every few months',\n",
      "  'No',\n",
      "  'NA',\n",
      "  'Yes',\n",
      "  'NA',\n",
      "  'Start a free trial;Ask developers I know/work with;Visit developer '\n",
      "  'communities like Stack Overflow',\n",
      "  'Hello, old friend',\n",
      "  'Stack Overflow (public Q&A for anyone who codes);Stack Exchange (public Q&A '\n",
      "  'for a variety of topics);Stack Overflow Jobs (for job seekers)',\n",
      "  'Call a coworker or friend;Visit Stack Overflow;Go for a walk or other '\n",
      "  'physical activity;Watch help / tutorial videos;Do other work and come back '\n",
      "  'later',\n",
      "  'Windows',\n",
      "  'NA',\n",
      "  'Android;AWS;Heroku;iOS;Linux;MacOS;Raspberry Pi',\n",
      "  'Android;Heroku;iOS;Linux;MacOS;Microsoft Azure;Raspberry Pi;Slack Apps and '\n",
      "  'Integrations',\n",
      "  'NA',\n",
      "  'Straight / Heterosexual',\n",
      "  'Yes',\n",
      "  'Yes, definitely',\n",
      "  'Daily or almost daily',\n",
      "  'Multiple times per day',\n",
      "  'Easy',\n",
      "  'Appropriate in length',\n",
      "  'No',\n",
      "  'Computer science, computer engineering, or software engineering',\n",
      "  'Angular.js;ASP.NET;Django;Flask;Laravel;React.js;Symfony;Vue.js',\n",
      "  'Angular.js;ASP.NET;Django;Flask;Laravel;React.js;Vue.js',\n",
      "  'A lot more welcome now than last year',\n",
      "  'NA',\n",
      "  '4',\n",
      "  'NA'],\n",
      " ['482',\n",
      "  'I am a developer by profession',\n",
      "  'No',\n",
      "  '33',\n",
      "  '26',\n",
      "  'Yearly',\n",
      "  '60000',\n",
      "  '60000',\n",
      "  'United States',\n",
      "  'United States dollar',\n",
      "  'USD',\n",
      "  'DynamoDB;Redis',\n",
      "  'DynamoDB;MongoDB;MySQL;PostgreSQL;Redis',\n",
      "  'DevOps specialist;Engineer, site reliability',\n",
      "  'Bachelor’s degree (B.A., B.S., B.Eng., etc.)',\n",
      "  'Employed full-time',\n",
      "  'White or of European descent',\n",
      "  'Man',\n",
      "  'Specific department or team I’d be working on;Remote work options;Office '\n",
      "  'environment or company culture',\n",
      "  'Slightly dissatisfied',\n",
      "  'I’m not actively looking, but I am open to new opportunities',\n",
      "  'Go;Rust',\n",
      "  'Bash/Shell/PowerShell;C#;Go',\n",
      "  '.NET Core;Teraform',\n",
      "  '.NET Core;Teraform',\n",
      "  'Github;Slack',\n",
      "  'Confluence;Jira;Github',\n",
      "  'Yes',\n",
      "  'Extremely important',\n",
      "  'Somewhat important',\n",
      "  'Curious about other opportunities;Better compensation;Growth or leadership '\n",
      "  'opportunities',\n",
      "  'Read company media, such as employee blogs or company culture '\n",
      "  'videos;Company reviews from third party sites (e.g. Glassdoor, '\n",
      "  'Blind);Personal network - friends or family',\n",
      "  'Once a year',\n",
      "  'Not sure',\n",
      "  'Yes',\n",
      "  'No',\n",
      "  'Occasionally: 1-2 days per quarter but less than monthly',\n",
      "  'Start a free trial;Ask developers I know/work with',\n",
      "  'Hello, old friend',\n",
      "  'Stack Overflow (public Q&A for anyone who codes);Stack Overflow for Teams '\n",
      "  '(private Q&A for organizations)',\n",
      "  'Call a coworker or friend;Visit Stack Overflow;Watch help / tutorial '\n",
      "  'videos;Do other work and come back later',\n",
      "  'Linux-based',\n",
      "  '1,000 to 4,999 employees',\n",
      "  'AWS;Docker;Kubernetes;Linux',\n",
      "  'AWS;Docker;Kubernetes;Linux;Windows',\n",
      "  'I have some influence',\n",
      "  'Straight / Heterosexual',\n",
      "  'No',\n",
      "  'No, not really',\n",
      "  'NA',\n",
      "  'A few times per month or weekly',\n",
      "  'Easy',\n",
      "  'Appropriate in length',\n",
      "  'No',\n",
      "  'Computer science, computer engineering, or software engineering',\n",
      "  'ASP.NET Core;React.js;Vue.js',\n",
      "  'NA',\n",
      "  'Just as welcome now as I felt last year',\n",
      "  '40',\n",
      "  '8',\n",
      "  '3'],\n",
      " ['483',\n",
      "  'I am a developer by profession',\n",
      "  'Yes',\n",
      "  '24',\n",
      "  '18',\n",
      "  'Yearly',\n",
      "  '70000',\n",
      "  '70000',\n",
      "  'United States',\n",
      "  'United States dollar',\n",
      "  'USD',\n",
      "  'PostgreSQL',\n",
      "  'Microsoft SQL Server;MySQL',\n",
      "  'Developer, back-end;Engineer, data',\n",
      "  'Bachelor’s degree (B.A., B.S., B.Eng., etc.)',\n",
      "  'Employed full-time',\n",
      "  'White or of European descent',\n",
      "  'Man',\n",
      "  'Flex time or a flexible schedule;Languages, frameworks, and other '\n",
      "  'technologies I’d be working with;Remote work options',\n",
      "  'Slightly satisfied',\n",
      "  'I’m not actively looking, but I am open to new opportunities',\n",
      "  'Go;Rust;TypeScript;VBA',\n",
      "  'Bash/Shell/PowerShell;C#;HTML/CSS;JavaScript;PHP;Python',\n",
      "  '.NET;.NET Core;Xamarin',\n",
      "  '.NET;.NET Core',\n",
      "  'Github;Gitlab;Slack;Trello',\n",
      "  'Jira;Github;Gitlab;Microsoft Teams;Trello',\n",
      "  'Yes',\n",
      "  'Neutral',\n",
      "  'Critically important',\n",
      "  'Curious about other opportunities;Better compensation;Better work/life '\n",
      "  'balance;Wanting to work with new technologies;Growth or leadership '\n",
      "  'opportunities;Looking to relocate',\n",
      "  'Read company media, such as employee blogs or company culture '\n",
      "  'videos;Company reviews from third party sites (e.g. Glassdoor, '\n",
      "  'Blind);Personal network - friends or family;Read other media like news '\n",
      "  'articles, founder profiles, etc. about the company;Directly asking current '\n",
      "  'or past employees at the company',\n",
      "  'Once a year',\n",
      "  'Not sure',\n",
      "  'Yes',\n",
      "  'Yes',\n",
      "  'Occasionally: 1-2 days per quarter but less than monthly',\n",
      "  'Ask developers I know/work with;Read ratings or reviews on third party '\n",
      "  'sites like G2Crowd;Research companies that have advertised on sites I '\n",
      "  'visit;Research companies that have emailed me',\n",
      "  'Hello, old friend',\n",
      "  'Stack Overflow (public Q&A for anyone who codes);Stack Exchange (public Q&A '\n",
      "  'for a variety of topics)',\n",
      "  'Go for a walk or other physical activity;Do other work and come back later',\n",
      "  'Windows',\n",
      "  '100 to 499 employees',\n",
      "  'Docker;Microsoft Azure',\n",
      "  'Windows',\n",
      "  'I have some influence',\n",
      "  'Straight / Heterosexual',\n",
      "  'No',\n",
      "  'No, not really',\n",
      "  'NA',\n",
      "  'A few times per week',\n",
      "  'Easy',\n",
      "  'Appropriate in length',\n",
      "  'No',\n",
      "  'A humanities discipline (such as literature, history, philosophy, etc.)',\n",
      "  'React.js',\n",
      "  'ASP.NET;ASP.NET Core;React.js',\n",
      "  'Somewhat more welcome now than last year',\n",
      "  'NA',\n",
      "  '5',\n",
      "  '2'],\n",
      " ['484',\n",
      "  'I am a developer by profession',\n",
      "  "
     ]
    },
    {
     "output_type": "error",
     "ename": "KeyboardInterrupt",
     "evalue": "",
     "traceback": [
      "\u001b[1;31m---------------------------------------------------------------------------\u001b[0m",
      "\u001b[1;31mKeyboardInterrupt\u001b[0m                         Traceback (most recent call last)",
      "\u001b[1;32m<ipython-input-132-348ff87b77d2>\u001b[0m in \u001b[0;36m<module>\u001b[1;34m\u001b[0m\n\u001b[0;32m      1\u001b[0m \u001b[1;32mfrom\u001b[0m \u001b[0mpprint\u001b[0m \u001b[1;32mimport\u001b[0m \u001b[0mpprint\u001b[0m\u001b[1;33m\u001b[0m\u001b[1;33m\u001b[0m\u001b[0m\n\u001b[1;32m----> 2\u001b[1;33m \u001b[0mpprint\u001b[0m\u001b[1;33m(\u001b[0m\u001b[0mdata\u001b[0m\u001b[1;33m)\u001b[0m\u001b[1;33m\u001b[0m\u001b[1;33m\u001b[0m\u001b[0m\n\u001b[0m",
      "\u001b[1;32mC:\\data\\programs\\Anaconda\\lib\\pprint.py\u001b[0m in \u001b[0;36mpprint\u001b[1;34m(object, stream, indent, width, depth, compact, sort_dicts)\u001b[0m\n\u001b[0;32m     51\u001b[0m         \u001b[0mstream\u001b[0m\u001b[1;33m=\u001b[0m\u001b[0mstream\u001b[0m\u001b[1;33m,\u001b[0m \u001b[0mindent\u001b[0m\u001b[1;33m=\u001b[0m\u001b[0mindent\u001b[0m\u001b[1;33m,\u001b[0m \u001b[0mwidth\u001b[0m\u001b[1;33m=\u001b[0m\u001b[0mwidth\u001b[0m\u001b[1;33m,\u001b[0m \u001b[0mdepth\u001b[0m\u001b[1;33m=\u001b[0m\u001b[0mdepth\u001b[0m\u001b[1;33m,\u001b[0m\u001b[1;33m\u001b[0m\u001b[1;33m\u001b[0m\u001b[0m\n\u001b[0;32m     52\u001b[0m         compact=compact, sort_dicts=sort_dicts)\n\u001b[1;32m---> 53\u001b[1;33m     \u001b[0mprinter\u001b[0m\u001b[1;33m.\u001b[0m\u001b[0mpprint\u001b[0m\u001b[1;33m(\u001b[0m\u001b[0mobject\u001b[0m\u001b[1;33m)\u001b[0m\u001b[1;33m\u001b[0m\u001b[1;33m\u001b[0m\u001b[0m\n\u001b[0m\u001b[0;32m     54\u001b[0m \u001b[1;33m\u001b[0m\u001b[0m\n\u001b[0;32m     55\u001b[0m def pformat(object, indent=1, width=80, depth=None, *,\n",
      "\u001b[1;32mC:\\data\\programs\\Anaconda\\lib\\pprint.py\u001b[0m in \u001b[0;36mpprint\u001b[1;34m(self, object)\u001b[0m\n\u001b[0;32m    146\u001b[0m \u001b[1;33m\u001b[0m\u001b[0m\n\u001b[0;32m    147\u001b[0m     \u001b[1;32mdef\u001b[0m \u001b[0mpprint\u001b[0m\u001b[1;33m(\u001b[0m\u001b[0mself\u001b[0m\u001b[1;33m,\u001b[0m \u001b[0mobject\u001b[0m\u001b[1;33m)\u001b[0m\u001b[1;33m:\u001b[0m\u001b[1;33m\u001b[0m\u001b[1;33m\u001b[0m\u001b[0m\n\u001b[1;32m--> 148\u001b[1;33m         \u001b[0mself\u001b[0m\u001b[1;33m.\u001b[0m\u001b[0m_format\u001b[0m\u001b[1;33m(\u001b[0m\u001b[0mobject\u001b[0m\u001b[1;33m,\u001b[0m \u001b[0mself\u001b[0m\u001b[1;33m.\u001b[0m\u001b[0m_stream\u001b[0m\u001b[1;33m,\u001b[0m \u001b[1;36m0\u001b[0m\u001b[1;33m,\u001b[0m \u001b[1;36m0\u001b[0m\u001b[1;33m,\u001b[0m \u001b[1;33m{\u001b[0m\u001b[1;33m}\u001b[0m\u001b[1;33m,\u001b[0m \u001b[1;36m0\u001b[0m\u001b[1;33m)\u001b[0m\u001b[1;33m\u001b[0m\u001b[1;33m\u001b[0m\u001b[0m\n\u001b[0m\u001b[0;32m    149\u001b[0m         \u001b[0mself\u001b[0m\u001b[1;33m.\u001b[0m\u001b[0m_stream\u001b[0m\u001b[1;33m.\u001b[0m\u001b[0mwrite\u001b[0m\u001b[1;33m(\u001b[0m\u001b[1;34m\"\\n\"\u001b[0m\u001b[1;33m)\u001b[0m\u001b[1;33m\u001b[0m\u001b[1;33m\u001b[0m\u001b[0m\n\u001b[0;32m    150\u001b[0m \u001b[1;33m\u001b[0m\u001b[0m\n",
      "\u001b[1;32mC:\\data\\programs\\Anaconda\\lib\\pprint.py\u001b[0m in \u001b[0;36m_format\u001b[1;34m(self, object, stream, indent, allowance, context, level)\u001b[0m\n\u001b[0;32m    174\u001b[0m             \u001b[1;32mif\u001b[0m \u001b[0mp\u001b[0m \u001b[1;32mis\u001b[0m \u001b[1;32mnot\u001b[0m \u001b[1;32mNone\u001b[0m\u001b[1;33m:\u001b[0m\u001b[1;33m\u001b[0m\u001b[1;33m\u001b[0m\u001b[0m\n\u001b[0;32m    175\u001b[0m                 \u001b[0mcontext\u001b[0m\u001b[1;33m[\u001b[0m\u001b[0mobjid\u001b[0m\u001b[1;33m]\u001b[0m \u001b[1;33m=\u001b[0m \u001b[1;36m1\u001b[0m\u001b[1;33m\u001b[0m\u001b[1;33m\u001b[0m\u001b[0m\n\u001b[1;32m--> 176\u001b[1;33m                 \u001b[0mp\u001b[0m\u001b[1;33m(\u001b[0m\u001b[0mself\u001b[0m\u001b[1;33m,\u001b[0m \u001b[0mobject\u001b[0m\u001b[1;33m,\u001b[0m \u001b[0mstream\u001b[0m\u001b[1;33m,\u001b[0m \u001b[0mindent\u001b[0m\u001b[1;33m,\u001b[0m \u001b[0mallowance\u001b[0m\u001b[1;33m,\u001b[0m \u001b[0mcontext\u001b[0m\u001b[1;33m,\u001b[0m \u001b[0mlevel\u001b[0m \u001b[1;33m+\u001b[0m \u001b[1;36m1\u001b[0m\u001b[1;33m)\u001b[0m\u001b[1;33m\u001b[0m\u001b[1;33m\u001b[0m\u001b[0m\n\u001b[0m\u001b[0;32m    177\u001b[0m                 \u001b[1;32mdel\u001b[0m \u001b[0mcontext\u001b[0m\u001b[1;33m[\u001b[0m\u001b[0mobjid\u001b[0m\u001b[1;33m]\u001b[0m\u001b[1;33m\u001b[0m\u001b[1;33m\u001b[0m\u001b[0m\n\u001b[0;32m    178\u001b[0m                 \u001b[1;32mreturn\u001b[0m\u001b[1;33m\u001b[0m\u001b[1;33m\u001b[0m\u001b[0m\n",
      "\u001b[1;32mC:\\data\\programs\\Anaconda\\lib\\pprint.py\u001b[0m in \u001b[0;36m_pprint_list\u001b[1;34m(self, object, stream, indent, allowance, context, level)\u001b[0m\n\u001b[0;32m    219\u001b[0m     \u001b[1;32mdef\u001b[0m \u001b[0m_pprint_list\u001b[0m\u001b[1;33m(\u001b[0m\u001b[0mself\u001b[0m\u001b[1;33m,\u001b[0m \u001b[0mobject\u001b[0m\u001b[1;33m,\u001b[0m \u001b[0mstream\u001b[0m\u001b[1;33m,\u001b[0m \u001b[0mindent\u001b[0m\u001b[1;33m,\u001b[0m \u001b[0mallowance\u001b[0m\u001b[1;33m,\u001b[0m \u001b[0mcontext\u001b[0m\u001b[1;33m,\u001b[0m \u001b[0mlevel\u001b[0m\u001b[1;33m)\u001b[0m\u001b[1;33m:\u001b[0m\u001b[1;33m\u001b[0m\u001b[1;33m\u001b[0m\u001b[0m\n\u001b[0;32m    220\u001b[0m         \u001b[0mstream\u001b[0m\u001b[1;33m.\u001b[0m\u001b[0mwrite\u001b[0m\u001b[1;33m(\u001b[0m\u001b[1;34m'['\u001b[0m\u001b[1;33m)\u001b[0m\u001b[1;33m\u001b[0m\u001b[1;33m\u001b[0m\u001b[0m\n\u001b[1;32m--> 221\u001b[1;33m         self._format_items(object, stream, indent, allowance + 1,\n\u001b[0m\u001b[0;32m    222\u001b[0m                            context, level)\n\u001b[0;32m    223\u001b[0m         \u001b[0mstream\u001b[0m\u001b[1;33m.\u001b[0m\u001b[0mwrite\u001b[0m\u001b[1;33m(\u001b[0m\u001b[1;34m']'\u001b[0m\u001b[1;33m)\u001b[0m\u001b[1;33m\u001b[0m\u001b[1;33m\u001b[0m\u001b[0m\n",
      "\u001b[1;32mC:\\data\\programs\\Anaconda\\lib\\pprint.py\u001b[0m in \u001b[0;36m_format_items\u001b[1;34m(self, items, stream, indent, allowance, context, level)\u001b[0m\n\u001b[0;32m    397\u001b[0m             \u001b[0mwrite\u001b[0m\u001b[1;33m(\u001b[0m\u001b[0mdelim\u001b[0m\u001b[1;33m)\u001b[0m\u001b[1;33m\u001b[0m\u001b[1;33m\u001b[0m\u001b[0m\n\u001b[0;32m    398\u001b[0m             \u001b[0mdelim\u001b[0m \u001b[1;33m=\u001b[0m \u001b[0mdelimnl\u001b[0m\u001b[1;33m\u001b[0m\u001b[1;33m\u001b[0m\u001b[0m\n\u001b[1;32m--> 399\u001b[1;33m             self._format(ent, stream, indent,\n\u001b[0m\u001b[0;32m    400\u001b[0m                          \u001b[0mallowance\u001b[0m \u001b[1;32mif\u001b[0m \u001b[0mlast\u001b[0m \u001b[1;32melse\u001b[0m \u001b[1;36m1\u001b[0m\u001b[1;33m,\u001b[0m\u001b[1;33m\u001b[0m\u001b[1;33m\u001b[0m\u001b[0m\n\u001b[0;32m    401\u001b[0m                          context, level)\n",
      "\u001b[1;32mC:\\data\\programs\\Anaconda\\lib\\pprint.py\u001b[0m in \u001b[0;36m_format\u001b[1;34m(self, object, stream, indent, allowance, context, level)\u001b[0m\n\u001b[0;32m    174\u001b[0m             \u001b[1;32mif\u001b[0m \u001b[0mp\u001b[0m \u001b[1;32mis\u001b[0m \u001b[1;32mnot\u001b[0m \u001b[1;32mNone\u001b[0m\u001b[1;33m:\u001b[0m\u001b[1;33m\u001b[0m\u001b[1;33m\u001b[0m\u001b[0m\n\u001b[0;32m    175\u001b[0m                 \u001b[0mcontext\u001b[0m\u001b[1;33m[\u001b[0m\u001b[0mobjid\u001b[0m\u001b[1;33m]\u001b[0m \u001b[1;33m=\u001b[0m \u001b[1;36m1\u001b[0m\u001b[1;33m\u001b[0m\u001b[1;33m\u001b[0m\u001b[0m\n\u001b[1;32m--> 176\u001b[1;33m                 \u001b[0mp\u001b[0m\u001b[1;33m(\u001b[0m\u001b[0mself\u001b[0m\u001b[1;33m,\u001b[0m \u001b[0mobject\u001b[0m\u001b[1;33m,\u001b[0m \u001b[0mstream\u001b[0m\u001b[1;33m,\u001b[0m \u001b[0mindent\u001b[0m\u001b[1;33m,\u001b[0m \u001b[0mallowance\u001b[0m\u001b[1;33m,\u001b[0m \u001b[0mcontext\u001b[0m\u001b[1;33m,\u001b[0m \u001b[0mlevel\u001b[0m \u001b[1;33m+\u001b[0m \u001b[1;36m1\u001b[0m\u001b[1;33m)\u001b[0m\u001b[1;33m\u001b[0m\u001b[1;33m\u001b[0m\u001b[0m\n\u001b[0m\u001b[0;32m    177\u001b[0m                 \u001b[1;32mdel\u001b[0m \u001b[0mcontext\u001b[0m\u001b[1;33m[\u001b[0m\u001b[0mobjid\u001b[0m\u001b[1;33m]\u001b[0m\u001b[1;33m\u001b[0m\u001b[1;33m\u001b[0m\u001b[0m\n\u001b[0;32m    178\u001b[0m                 \u001b[1;32mreturn\u001b[0m\u001b[1;33m\u001b[0m\u001b[1;33m\u001b[0m\u001b[0m\n",
      "\u001b[1;32mC:\\data\\programs\\Anaconda\\lib\\pprint.py\u001b[0m in \u001b[0;36m_pprint_list\u001b[1;34m(self, object, stream, indent, allowance, context, level)\u001b[0m\n\u001b[0;32m    219\u001b[0m     \u001b[1;32mdef\u001b[0m \u001b[0m_pprint_list\u001b[0m\u001b[1;33m(\u001b[0m\u001b[0mself\u001b[0m\u001b[1;33m,\u001b[0m \u001b[0mobject\u001b[0m\u001b[1;33m,\u001b[0m \u001b[0mstream\u001b[0m\u001b[1;33m,\u001b[0m \u001b[0mindent\u001b[0m\u001b[1;33m,\u001b[0m \u001b[0mallowance\u001b[0m\u001b[1;33m,\u001b[0m \u001b[0mcontext\u001b[0m\u001b[1;33m,\u001b[0m \u001b[0mlevel\u001b[0m\u001b[1;33m)\u001b[0m\u001b[1;33m:\u001b[0m\u001b[1;33m\u001b[0m\u001b[1;33m\u001b[0m\u001b[0m\n\u001b[0;32m    220\u001b[0m         \u001b[0mstream\u001b[0m\u001b[1;33m.\u001b[0m\u001b[0mwrite\u001b[0m\u001b[1;33m(\u001b[0m\u001b[1;34m'['\u001b[0m\u001b[1;33m)\u001b[0m\u001b[1;33m\u001b[0m\u001b[1;33m\u001b[0m\u001b[0m\n\u001b[1;32m--> 221\u001b[1;33m         self._format_items(object, stream, indent, allowance + 1,\n\u001b[0m\u001b[0;32m    222\u001b[0m                            context, level)\n\u001b[0;32m    223\u001b[0m         \u001b[0mstream\u001b[0m\u001b[1;33m.\u001b[0m\u001b[0mwrite\u001b[0m\u001b[1;33m(\u001b[0m\u001b[1;34m']'\u001b[0m\u001b[1;33m)\u001b[0m\u001b[1;33m\u001b[0m\u001b[1;33m\u001b[0m\u001b[0m\n",
      "\u001b[1;32mC:\\data\\programs\\Anaconda\\lib\\pprint.py\u001b[0m in \u001b[0;36m_format_items\u001b[1;34m(self, items, stream, indent, allowance, context, level)\u001b[0m\n\u001b[0;32m    395\u001b[0m                     \u001b[0mwrite\u001b[0m\u001b[1;33m(\u001b[0m\u001b[0mrep\u001b[0m\u001b[1;33m)\u001b[0m\u001b[1;33m\u001b[0m\u001b[1;33m\u001b[0m\u001b[0m\n\u001b[0;32m    396\u001b[0m                     \u001b[1;32mcontinue\u001b[0m\u001b[1;33m\u001b[0m\u001b[1;33m\u001b[0m\u001b[0m\n\u001b[1;32m--> 397\u001b[1;33m             \u001b[0mwrite\u001b[0m\u001b[1;33m(\u001b[0m\u001b[0mdelim\u001b[0m\u001b[1;33m)\u001b[0m\u001b[1;33m\u001b[0m\u001b[1;33m\u001b[0m\u001b[0m\n\u001b[0m\u001b[0;32m    398\u001b[0m             \u001b[0mdelim\u001b[0m \u001b[1;33m=\u001b[0m \u001b[0mdelimnl\u001b[0m\u001b[1;33m\u001b[0m\u001b[1;33m\u001b[0m\u001b[0m\n\u001b[0;32m    399\u001b[0m             self._format(ent, stream, indent,\n",
      "\u001b[1;32mC:\\data\\programs\\Anaconda\\lib\\site-packages\\ipykernel\\iostream.py\u001b[0m in \u001b[0;36mwrite\u001b[1;34m(self, string)\u001b[0m\n\u001b[0;32m    402\u001b[0m             \u001b[0mis_child\u001b[0m \u001b[1;33m=\u001b[0m \u001b[1;33m(\u001b[0m\u001b[1;32mnot\u001b[0m \u001b[0mself\u001b[0m\u001b[1;33m.\u001b[0m\u001b[0m_is_master_process\u001b[0m\u001b[1;33m(\u001b[0m\u001b[1;33m)\u001b[0m\u001b[1;33m)\u001b[0m\u001b[1;33m\u001b[0m\u001b[1;33m\u001b[0m\u001b[0m\n\u001b[0;32m    403\u001b[0m             \u001b[1;31m# only touch the buffer in the IO thread to avoid races\u001b[0m\u001b[1;33m\u001b[0m\u001b[1;33m\u001b[0m\u001b[1;33m\u001b[0m\u001b[0m\n\u001b[1;32m--> 404\u001b[1;33m             \u001b[0mself\u001b[0m\u001b[1;33m.\u001b[0m\u001b[0mpub_thread\u001b[0m\u001b[1;33m.\u001b[0m\u001b[0mschedule\u001b[0m\u001b[1;33m(\u001b[0m\u001b[1;32mlambda\u001b[0m \u001b[1;33m:\u001b[0m \u001b[0mself\u001b[0m\u001b[1;33m.\u001b[0m\u001b[0m_buffer\u001b[0m\u001b[1;33m.\u001b[0m\u001b[0mwrite\u001b[0m\u001b[1;33m(\u001b[0m\u001b[0mstring\u001b[0m\u001b[1;33m)\u001b[0m\u001b[1;33m)\u001b[0m\u001b[1;33m\u001b[0m\u001b[1;33m\u001b[0m\u001b[0m\n\u001b[0m\u001b[0;32m    405\u001b[0m             \u001b[1;32mif\u001b[0m \u001b[0mis_child\u001b[0m\u001b[1;33m:\u001b[0m\u001b[1;33m\u001b[0m\u001b[1;33m\u001b[0m\u001b[0m\n\u001b[0;32m    406\u001b[0m                 \u001b[1;31m# mp.Pool cannot be trusted to flush promptly (or ever),\u001b[0m\u001b[1;33m\u001b[0m\u001b[1;33m\u001b[0m\u001b[1;33m\u001b[0m\u001b[0m\n",
      "\u001b[1;32mC:\\data\\programs\\Anaconda\\lib\\site-packages\\ipykernel\\iostream.py\u001b[0m in \u001b[0;36mschedule\u001b[1;34m(self, f)\u001b[0m\n\u001b[0;32m    203\u001b[0m             \u001b[0mself\u001b[0m\u001b[1;33m.\u001b[0m\u001b[0m_events\u001b[0m\u001b[1;33m.\u001b[0m\u001b[0mappend\u001b[0m\u001b[1;33m(\u001b[0m\u001b[0mf\u001b[0m\u001b[1;33m)\u001b[0m\u001b[1;33m\u001b[0m\u001b[1;33m\u001b[0m\u001b[0m\n\u001b[0;32m    204\u001b[0m             \u001b[1;31m# wake event thread (message content is ignored)\u001b[0m\u001b[1;33m\u001b[0m\u001b[1;33m\u001b[0m\u001b[1;33m\u001b[0m\u001b[0m\n\u001b[1;32m--> 205\u001b[1;33m             \u001b[0mself\u001b[0m\u001b[1;33m.\u001b[0m\u001b[0m_event_pipe\u001b[0m\u001b[1;33m.\u001b[0m\u001b[0msend\u001b[0m\u001b[1;33m(\u001b[0m\u001b[1;34mb''\u001b[0m\u001b[1;33m)\u001b[0m\u001b[1;33m\u001b[0m\u001b[1;33m\u001b[0m\u001b[0m\n\u001b[0m\u001b[0;32m    206\u001b[0m         \u001b[1;32melse\u001b[0m\u001b[1;33m:\u001b[0m\u001b[1;33m\u001b[0m\u001b[1;33m\u001b[0m\u001b[0m\n\u001b[0;32m    207\u001b[0m             \u001b[0mf\u001b[0m\u001b[1;33m(\u001b[0m\u001b[1;33m)\u001b[0m\u001b[1;33m\u001b[0m\u001b[1;33m\u001b[0m\u001b[0m\n",
      "\u001b[1;32mC:\\data\\programs\\Anaconda\\lib\\site-packages\\zmq\\sugar\\socket.py\u001b[0m in \u001b[0;36msend\u001b[1;34m(self, data, flags, copy, track, routing_id, group)\u001b[0m\n\u001b[0;32m    489\u001b[0m                                  copy_threshold=self.copy_threshold)\n\u001b[0;32m    490\u001b[0m             \u001b[0mdata\u001b[0m\u001b[1;33m.\u001b[0m\u001b[0mgroup\u001b[0m \u001b[1;33m=\u001b[0m \u001b[0mgroup\u001b[0m\u001b[1;33m\u001b[0m\u001b[1;33m\u001b[0m\u001b[0m\n\u001b[1;32m--> 491\u001b[1;33m         \u001b[1;32mreturn\u001b[0m \u001b[0msuper\u001b[0m\u001b[1;33m(\u001b[0m\u001b[0mSocket\u001b[0m\u001b[1;33m,\u001b[0m \u001b[0mself\u001b[0m\u001b[1;33m)\u001b[0m\u001b[1;33m.\u001b[0m\u001b[0msend\u001b[0m\u001b[1;33m(\u001b[0m\u001b[0mdata\u001b[0m\u001b[1;33m,\u001b[0m \u001b[0mflags\u001b[0m\u001b[1;33m=\u001b[0m\u001b[0mflags\u001b[0m\u001b[1;33m,\u001b[0m \u001b[0mcopy\u001b[0m\u001b[1;33m=\u001b[0m\u001b[0mcopy\u001b[0m\u001b[1;33m,\u001b[0m \u001b[0mtrack\u001b[0m\u001b[1;33m=\u001b[0m\u001b[0mtrack\u001b[0m\u001b[1;33m)\u001b[0m\u001b[1;33m\u001b[0m\u001b[1;33m\u001b[0m\u001b[0m\n\u001b[0m\u001b[0;32m    492\u001b[0m \u001b[1;33m\u001b[0m\u001b[0m\n\u001b[0;32m    493\u001b[0m     \u001b[1;32mdef\u001b[0m \u001b[0msend_multipart\u001b[0m\u001b[1;33m(\u001b[0m\u001b[0mself\u001b[0m\u001b[1;33m,\u001b[0m \u001b[0mmsg_parts\u001b[0m\u001b[1;33m,\u001b[0m \u001b[0mflags\u001b[0m\u001b[1;33m=\u001b[0m\u001b[1;36m0\u001b[0m\u001b[1;33m,\u001b[0m \u001b[0mcopy\u001b[0m\u001b[1;33m=\u001b[0m\u001b[1;32mTrue\u001b[0m\u001b[1;33m,\u001b[0m \u001b[0mtrack\u001b[0m\u001b[1;33m=\u001b[0m\u001b[1;32mFalse\u001b[0m\u001b[1;33m,\u001b[0m \u001b[1;33m**\u001b[0m\u001b[0mkwargs\u001b[0m\u001b[1;33m)\u001b[0m\u001b[1;33m:\u001b[0m\u001b[1;33m\u001b[0m\u001b[1;33m\u001b[0m\u001b[0m\n",
      "\u001b[1;32mzmq/backend/cython/socket.pyx\u001b[0m in \u001b[0;36mzmq.backend.cython.socket.Socket.send\u001b[1;34m()\u001b[0m\n",
      "\u001b[1;32mzmq/backend/cython/socket.pyx\u001b[0m in \u001b[0;36mzmq.backend.cython.socket.Socket.send\u001b[1;34m()\u001b[0m\n",
      "\u001b[1;32mzmq/backend/cython/socket.pyx\u001b[0m in \u001b[0;36mzmq.backend.cython.socket._send_copy\u001b[1;34m()\u001b[0m\n",
      "\u001b[1;32mC:\\data\\programs\\Anaconda\\lib\\site-packages\\zmq\\backend\\cython\\checkrc.pxd\u001b[0m in \u001b[0;36mzmq.backend.cython.checkrc._check_rc\u001b[1;34m()\u001b[0m\n",
      "\u001b[1;31mKeyboardInterrupt\u001b[0m: "
     ]
    }
   ],
   "source": [
    "from pprint import pprint\n",
    "# pprint(data)"
   ]
  },
  {
   "cell_type": "code",
   "execution_count": 4,
   "metadata": {},
   "outputs": [
    {
     "output_type": "execute_result",
     "data": {
      "text/plain": [
       "['1',\n",
       " 'I am a developer by profession',\n",
       " 'Yes',\n",
       " 'NA',\n",
       " '13',\n",
       " 'Monthly',\n",
       " 'NA',\n",
       " 'NA',\n",
       " 'Germany',\n",
       " 'European Euro',\n",
       " 'EUR',\n",
       " 'Microsoft SQL Server',\n",
       " 'Elasticsearch;Microsoft SQL Server;Oracle',\n",
       " 'Developer, desktop or enterprise applications;Developer, full-stack',\n",
       " 'Master’s degree (M.A., M.S., M.Eng., MBA, etc.)',\n",
       " 'Independent contractor, freelancer, or self-employed',\n",
       " 'White or of European descent',\n",
       " 'Man',\n",
       " 'Languages, frameworks, and other technologies I’d be working with;Remote work options;Opportunities for professional development',\n",
       " 'Slightly satisfied',\n",
       " 'I am not interested in new job opportunities',\n",
       " 'C#;HTML/CSS;JavaScript',\n",
       " 'C#;HTML/CSS;JavaScript',\n",
       " '.NET Core;Xamarin',\n",
       " '.NET;.NET Core',\n",
       " 'Microsoft Teams;Microsoft Azure;Trello',\n",
       " 'Confluence;Jira;Slack;Microsoft Azure;Trello',\n",
       " 'No',\n",
       " 'Somewhat important',\n",
       " 'Fairly important',\n",
       " 'NA',\n",
       " 'NA',\n",
       " 'Once a year',\n",
       " 'Not sure',\n",
       " 'NA',\n",
       " 'No',\n",
       " 'Often: 1-2 days per week or more',\n",
       " 'Start a free trial;Ask developers I know/work with',\n",
       " 'Amused',\n",
       " 'Stack Overflow (public Q&A for anyone who codes)',\n",
       " 'Visit Stack Overflow;Go for a walk or other physical activity;Do other work and come back later',\n",
       " 'Windows',\n",
       " '2 to 9 employees',\n",
       " 'Android;iOS;Kubernetes;Microsoft Azure;Windows',\n",
       " 'Windows',\n",
       " 'NA',\n",
       " 'Straight / Heterosexual',\n",
       " 'No',\n",
       " 'No, not at all',\n",
       " 'NA',\n",
       " 'Multiple times per day',\n",
       " 'Neither easy nor difficult',\n",
       " 'Appropriate in length',\n",
       " 'No',\n",
       " 'Computer science, computer engineering, or software engineering',\n",
       " 'ASP.NET Core',\n",
       " 'ASP.NET;ASP.NET Core',\n",
       " 'Just as welcome now as I felt last year',\n",
       " '50',\n",
       " '36',\n",
       " '27']"
      ]
     },
     "metadata": {},
     "execution_count": 4
    }
   ],
   "source": [
    "data[1]"
   ]
  },
  {
   "cell_type": "code",
   "execution_count": 5,
   "metadata": {},
   "outputs": [],
   "source": [
    "with open('data/result.csv', 'w') as fout:\n",
    "    writer = csv.writer(fout) \n",
    "    writer.writerow(data[0])"
   ]
  },
  {
   "cell_type": "code",
   "execution_count": 8,
   "metadata": {
    "tags": [
     "outputPrepend"
    ]
   },
   "outputs": [
    {
     "output_type": "stream",
     "name": "stdout",
     "text": [
      "Link': 'Hello, old friend', 'NEWSOSites': 'Stack Overflow (public Q&A for anyone who codes);Stack Exchange (public Q&A for a variety of topics);Stack Overflow Jobs (for job seekers);Stack Overflow for Teams (private Q&A for organizations)', 'NEWStuck': 'Visit Stack Overflow;Do other work and come back later', 'OpSys': 'MacOS', 'OrgSize': '2 to 9 employees', 'PlatformDesireNextYear': 'Android;AWS;Docker;iOS;Kubernetes;Linux;MacOS;Raspberry Pi', 'PlatformWorkedWith': 'Android;AWS;Docker;Google Cloud Platform;iOS;Kubernetes;Linux;MacOS', 'PurchaseWhat': 'I have a great deal of influence', 'Sexuality': 'Straight / Heterosexual', 'SOAccount': 'Yes', 'SOComm': 'Yes, definitely', 'SOPartFreq': 'Multiple times per day', 'SOVisitFreq': 'Multiple times per day', 'SurveyEase': 'Easy', 'SurveyLength': 'Appropriate in length', 'Trans': 'No', 'UndergradMajor': 'Computer science, computer engineering, or software engineering', 'WebframeDesireNextYear': 'jQuery;Spring', 'WebframeWorkedWith': 'jQuery;React.js', 'WelcomeChange': 'Just as welcome now as I felt last year', 'WorkWeekHrs': '55', 'YearsCode': '9', 'YearsCodePro': '5'}\n",
      "{'Respondent': '3854', 'MainBranch': 'I am a developer by profession', 'Hobbyist': 'Yes', 'Age': '26', 'Age1stCode': '14', 'CompFreq': 'Yearly', 'CompTotal': '430000', 'ConvertedComp': '430000', 'Country': 'United States', 'CurrencyDesc': 'United States dollar', 'CurrencySymbol': 'USD', 'DatabaseDesireNextYear': 'NA', 'DatabaseWorkedWith': 'MongoDB;PostgreSQL;Redis', 'DevType': 'Developer, back-end;Developer, desktop or enterprise applications;Developer, full-stack', 'EdLevel': 'Bachelor’s degree (B.A., B.S., B.Eng., etc.)', 'Employment': 'Employed full-time', 'Ethnicity': 'White or of European descent', 'Gender': 'Man', 'JobFactors': 'Flex time or a flexible schedule;Office environment or company culture;Opportunities for professional development', 'JobSat': 'Very satisfied', 'JobSeek': 'I am not interested in new job opportunities', 'LanguageDesireNextYear': 'C++;Go;JavaScript;Python;SQL;TypeScript', 'LanguageWorkedWith': 'C++;Go;HTML/CSS;JavaScript;Python;Ruby;SQL;TypeScript', 'MiscTechDesireNextYear': 'Node.js;Unreal Engine', 'MiscTechWorkedWith': 'Node.js;Unreal Engine', 'NEWCollabToolsDesireNextYear': 'Github;Slack;Trello;Google Suite (Docs, Meet, etc)', 'NEWCollabToolsWorkedWith': 'Confluence;Jira;Github;Slack;Trello;Google Suite (Docs, Meet, etc);Stack Overflow for Teams', 'NEWDevOps': 'Yes', 'NEWDevOpsImpt': 'Extremely important', 'NEWEdImpt': 'Not at all important/not necessary', 'NEWJobHunt': 'Having a bad day (or week or month) at work;Curious about other opportunities;Better compensation;Trouble with my teammates;Trouble with my direct manager;Trouble with leadership at my company;Wanting to work with new technologies;Growth or leadership opportunities', 'NEWJobHuntResearch': 'Read company media, such as employee blogs or company culture videos;Company reviews from third party sites (e.g. Glassdoor, Blind);Publicly available financial information (e.g. Crunchbase);Personal network - friends or family;Read other media like news articles, founder profiles, etc. about the company;Directly asking current or past employees at the company', 'NEWLearn': 'Every few months', 'NEWOffTopic': 'Yes', 'NEWOnboardGood': 'No', 'NEWOtherComms': 'Yes', 'NEWOvertime': 'Sometimes: 1-2 days per month but less than weekly', 'NEWPurchaseResearch': 'Start a free trial;Ask developers I know/work with;Visit developer communities like Stack Overflow', 'NEWPurpleLink': 'Hello, old friend', 'NEWSOSites': 'Stack Overflow (public Q&A for anyone who codes);Stack Exchange (public Q&A for a variety of topics);Stack Overflow for Teams (private Q&A for organizations)', 'NEWStuck': 'Call a coworker or friend;Visit Stack Overflow;Go for a walk or other physical activity;Do other work and come back later', 'OpSys': 'MacOS', 'OrgSize': '1,000 to 4,999 employees', 'PlatformDesireNextYear': 'Linux;Slack Apps and Integrations', 'PlatformWorkedWith': 'Linux;Slack Apps and Integrations', 'PurchaseWhat': 'I have some influence', 'Sexuality': 'Straight / Heterosexual', 'SOAccount': 'Yes', 'SOComm': 'No, not really', 'SOPartFreq': 'Less than once per month or monthly', 'SOVisitFreq': 'Daily or almost daily', 'SurveyEase': 'Neither easy nor difficult', 'SurveyLength': 'Appropriate in length', 'Trans': 'No', 'UndergradMajor': 'Computer science, computer engineering, or software engineering', 'WebframeDesireNextYear': 'NA', 'WebframeWorkedWith': 'jQuery;Ruby on Rails', 'WelcomeChange': 'Just as welcome now as I felt last year', 'WorkWeekHrs': '40', 'YearsCode': '9', 'YearsCodePro': '5'}\n",
      "{'Respondent': '3855', 'MainBranch': 'I am a developer by profession', 'Hobbyist': 'Yes', 'Age': '43', 'Age1stCode': 'Younger than 5 years', 'CompFreq': 'Weekly', 'CompTotal': '1333', 'ConvertedComp': '86150', 'Country': 'United Kingdom', 'CurrencyDesc': 'Pound sterling', 'CurrencySymbol': 'GBP', 'DatabaseDesireNextYear': 'Microsoft SQL Server', 'DatabaseWorkedWith': 'Microsoft SQL Server;PostgreSQL;Redis', 'DevType': 'Database administrator;Developer, back-end;Developer, front-end;Developer, full-stack;Developer, game or graphics;Engineer, site reliability;Marketing or sales professional;Product manager;Scientist;Senior executive/VP;System administrator', 'EdLevel': 'Bachelor’s degree (B.A., B.S., B.Eng., etc.)', 'Employment': 'Employed full-time', 'Ethnicity': 'White or of European descent', 'Gender': 'Man', 'JobFactors': 'Flex time or a flexible schedule;Languages, frameworks, and other technologies I’d be working with;Remote work options', 'JobSat': 'Slightly satisfied', 'JobSeek': 'I am actively looking for a job', 'LanguageDesireNextYear': 'C#;HTML/CSS;JavaScript;SQL;TypeScript', 'LanguageWorkedWith': 'Assembly;C#;C++;HTML/CSS;JavaScript;SQL;TypeScript', 'MiscTechDesireNextYear': '.NET Core;Xamarin', 'MiscTechWorkedWith': '.NET;.NET Core;Node.js', 'NEWCollabToolsDesireNextYear': 'Github', 'NEWCollabToolsWorkedWith': 'Github;Google Suite (Docs, Meet, etc)', 'NEWDevOps': 'No', 'NEWDevOpsImpt': 'Somewhat important', 'NEWEdImpt': 'Not at all important/not necessary', 'NEWJobHunt': 'Better compensation', 'NEWJobHuntResearch': 'Read company media, such as employee blogs or company culture videos;Company reviews from third party sites (e.g. Glassdoor, Blind);Publicly available financial information (e.g. Crunchbase);Personal network - friends or family;Read other media like news articles, founder profiles, etc. about the company;Directly asking current or past employees at the company', 'NEWLearn': 'Once a year', 'NEWOffTopic': 'Yes', 'NEWOnboardGood': 'No', 'NEWOtherComms': 'Yes', 'NEWOvertime': 'Sometimes: 1-2 days per month but less than weekly', 'NEWPurchaseResearch': 'Start a free trial;Ask developers I know/work with;Visit developer communities like Stack Overflow', 'NEWPurpleLink': 'Hello, old friend', 'NEWSOSites': 'Stack Overflow (public Q&A for anyone who codes);Stack Exchange (public Q&A for a variety of topics)', 'NEWStuck': 'Visit Stack Overflow;Watch help / tutorial videos', 'OpSys': 'Windows', 'OrgSize': '2 to 9 employees', 'PlatformDesireNextYear': 'Docker;Microsoft Azure;Windows', 'PlatformWorkedWith': 'Docker;Linux;Microsoft Azure;Windows', 'PurchaseWhat': 'I have a great deal of influence', 'Sexuality': 'Straight / Heterosexual', 'SOAccount': 'Yes', 'SOComm': 'No, not really', 'SOPartFreq': 'Less than once per month or monthly', 'SOVisitFreq': 'A few times per week', 'SurveyEase': 'Easy', 'SurveyLength': 'Appropriate in length', 'Trans': 'No', 'UndergradMajor': 'Computer science, computer engineering, or software engineering', 'WebframeDesireNextYear': 'ASP.NET Core', 'WebframeWorkedWith': 'ASP.NET;ASP.NET Core', 'WelcomeChange': 'Just as welcome now as I felt last year', 'WorkWeekHrs': '40', 'YearsCode': '25', 'YearsCodePro': '22'}\n",
      "{'Respondent': '3856', 'MainBranch': 'I am a developer by profession', 'Hobbyist': 'Yes', 'Age': '24', 'Age1stCode': '11', 'CompFreq': 'Yearly', 'CompTotal': '62000', 'ConvertedComp': '46891', 'Country': 'Canada', 'CurrencyDesc': 'Canadian dollar', 'CurrencySymbol': 'CAD', 'DatabaseDesireNextYear': 'Microsoft SQL Server', 'DatabaseWorkedWith': 'Microsoft SQL Server', 'DevType': 'Data or business analyst;Designer;Developer, back-end;Developer, desktop or enterprise applications;Developer, front-end;Developer, mobile', 'EdLevel': 'Bachelor’s degree (B.A., B.S., B.Eng., etc.)', 'Employment': 'Employed full-time', 'Ethnicity': 'White or of European descent', 'Gender': 'Man', 'JobFactors': 'Specific department or team I’d be working on;Office environment or company culture;Family friendliness', 'JobSat': 'Very satisfied', 'JobSeek': 'I am not interested in new job opportunities', 'LanguageDesireNextYear': 'C#;Objective-C', 'LanguageWorkedWith': 'C#;C++;Java;Objective-C;Python;SQL;VBA', 'MiscTechDesireNextYear': '.NET', 'MiscTechWorkedWith': '.NET;TensorFlow;Unity 3D', 'NEWCollabToolsDesireNextYear': 'Github;Google Suite (Docs, Meet, etc)', 'NEWCollabToolsWorkedWith': 'Github;Trello;Google Suite (Docs, Meet, etc)', 'NEWDevOps': 'No', 'NEWDevOpsImpt': 'Not at all important', 'NEWEdImpt': 'Critically important', 'NEWJobHunt': 'NA', 'NEWJobHuntResearch': 'Company reviews from third party sites (e.g. Glassdoor, Blind);Personal network - friends or family;Directly asking current or past employees at the company', 'NEWLearn': 'Once every few years', 'NEWOffTopic': 'No', 'NEWOnboardGood': 'Yes', 'NEWOtherComms': 'No', 'NEWOvertime': 'Sometimes: 1-2 days per month but less than weekly', 'NEWPurchaseResearch': 'Start a free trial;Ask developers I know/work with;Visit developer communities like Stack Overflow', 'NEWPurpleLink': 'Amused', 'NEWSOSites': 'Stack Overflow (public Q&A for anyone who codes);Stack Exchange (public Q&A for a variety of topics)', 'NEWStuck': 'Call a coworker or friend;Visit Stack Overflow;Go for a walk or other physical activity', 'OpSys': 'Windows', 'OrgSize': '2 to 9 employees', 'PlatformDesireNextYear': 'Android;iOS;Windows', 'PlatformWorkedWith': 'Android;iOS;Windows', 'PurchaseWhat': 'I have a great deal of influence', 'Sexuality': 'Straight / Heterosexual', 'SOAccount': 'Yes', 'SOComm': 'Yes, somewhat', 'SOPartFreq': 'Less than once per month or monthly', 'SOVisitFreq': 'Multiple times per day', 'SurveyEase': 'Neither easy nor difficult', 'SurveyLength': 'Appropriate in length', 'Trans': 'No', 'UndergradMajor': 'Computer science, computer engineering, or software engineering', 'WebframeDesireNextYear': 'NA', 'WebframeWorkedWith': 'NA', 'WelcomeChange': 'Just as welcome now as I felt last year', 'WorkWeekHrs': '40', 'YearsCode': '13', 'YearsCodePro': '2'}\n",
      "{'Respondent': '3857', 'MainBranch': 'I am a developer by profession', 'Hobbyist': 'Yes', 'Age': '30', 'Age1stCode': '6', 'CompFreq': 'Yearly', 'CompTotal': '0', 'ConvertedComp': '0', 'Country': 'United States', 'CurrencyDesc': 'United States dollar', 'CurrencySymbol': 'USD', 'DatabaseDesireNextYear': 'PostgreSQL;Redis', 'DatabaseWorkedWith': 'MySQL;PostgreSQL;Redis', 'DevType': 'Developer, back-end;Developer, front-end;Developer, full-stack;System administrator', 'EdLevel': 'Master’s degree (M.A., M.S., M.Eng., MBA, etc.)', 'Employment': 'Independent contractor, freelancer, or self-employed', 'Ethnicity': 'White or of European descent', 'Gender': 'Man', 'JobFactors': 'Flex time or a flexible schedule;Remote work options;How widely used or impactful my work output would be', 'JobSat': 'Neither satisfied nor dissatisfied', 'JobSeek': 'I am actively looking for a job', 'LanguageDesireNextYear': 'Haskell;HTML/CSS;Kotlin;Rust;Scala;TypeScript', 'LanguageWorkedWith': 'Bash/Shell/PowerShell;HTML/CSS;JavaScript;PHP;Python;Scala;TypeScript', 'MiscTechDesireNextYear': 'NA', 'MiscTechWorkedWith': 'Ansible;Node.js', 'NEWCollabToolsDesireNextYear': 'Jira;Gitlab;Slack;Google Suite (Docs, Meet, etc)', 'NEWCollabToolsWorkedWith': 'Jira;Slack;Google Suite (Docs, Meet, etc)', 'NEWDevOps': 'No', 'NEWDevOpsImpt': 'Extremely important', 'NEWEdImpt': 'Somewhat important', 'NEWJobHunt': 'Better compensation;Growth or leadership opportunities', 'NEWJobHuntResearch': 'Read company media, such as employee blogs or company culture videos;Company reviews from third party sites (e.g. Glassdoor, Blind);Personal network - friends or family', 'NEWLearn': 'Once a year', 'NEWOffTopic': 'Not sure', 'NEWOnboardGood': 'Onboarding? What onboarding?', 'NEWOtherComms': 'Yes', 'NEWOvertime': 'Sometimes: 1-2 days per month but less than weekly', 'NEWPurchaseResearch': 'Ask developers I know/work with;Visit developer communities like Stack Overflow;Read ratings or reviews on third party sites like G2Crowd', 'NEWPurpleLink': 'Hello, old friend', 'NEWSOSites': 'Stack Overflow (public Q&A for anyone who codes);Stack Exchange (public Q&A for a variety of topics)', 'NEWStuck': 'Play games;Call a coworker or friend;Visit Stack Overflow;Go for a walk or other physical activity;Do other work and come back later', 'OpSys': 'Linux-based', 'OrgSize': 'Just me - I am a freelancer, sole proprietor, etc.', 'PlatformDesireNextYear': 'Docker;Google Cloud Platform;Kubernetes;Linux', 'PlatformWorkedWith': 'Linux', 'PurchaseWhat': 'NA', 'Sexuality': 'Straight / Heterosexual', 'SOAccount': 'Yes', 'SOComm': 'No, not really', 'SOPartFreq': 'Less than once per month or monthly', 'SOVisitFreq': 'Daily or almost daily', 'SurveyEase': 'Neither easy nor difficult', 'SurveyLength': 'Appropriate in length', 'Trans': 'No', 'UndergradMajor': 'Computer science, computer engineering, or software engineering', 'WebframeDesireNextYear': 'React.js', 'WebframeWorkedWith': 'React.js;Symfony', 'WelcomeChange': 'Just as welcome now as I felt last year', 'WorkWeekHrs': '35', 'YearsCode': '24', 'YearsCodePro': '8'}\n",
      "{'Respondent': '3858', 'MainBranch': 'I am a developer by profession', 'Hobbyist': 'Yes', 'Age': '36', 'Age1stCode': '23', 'CompFreq': 'Yearly', 'CompTotal': '43000', 'ConvertedComp': '43000', 'Country': 'United States', 'CurrencyDesc': 'United States dollar', 'CurrencySymbol': 'USD', 'DatabaseDesireNextYear': 'Microsoft SQL Server;SQLite', 'DatabaseWorkedWith': 'Microsoft SQL Server;SQLite', 'DevType': 'Developer, full-stack', 'EdLevel': 'Some college/university study without earning a degree', 'Employment': 'Employed full-time', 'Ethnicity': 'White or of European descent', 'Gender': 'Man', 'JobFactors': 'Flex time or a flexible schedule;Languages, frameworks, and other technologies I’d be working with;Office environment or company culture', 'JobSat': 'Slightly satisfied', 'JobSeek': 'I am not interested in new job opportunities', 'LanguageDesireNextYear': 'Assembly;Bash/Shell/PowerShell;C#;HTML/CSS;Java;JavaScript;SQL;TypeScript', 'LanguageWorkedWith': 'C#;HTML/CSS;Java;JavaScript;SQL;TypeScript', 'MiscTechDesireNextYear': '.NET;.NET Core', 'MiscTechWorkedWith': '.NET;.NET Core', 'NEWCollabToolsDesireNextYear': 'Confluence;Jira;Microsoft Teams;Microsoft Azure', 'NEWCollabToolsWorkedWith': 'Confluence;Jira;Microsoft Teams;Microsoft Azure', 'NEWDevOps': 'No', 'NEWDevOpsImpt': 'Extremely important', 'NEWEdImpt': 'Somewhat important', 'NEWJobHunt': 'Curious about other opportunities;Growth or leadership opportunities', 'NEWJobHuntResearch': 'Read company media, such as employee blogs or company culture videos;Company reviews from third party sites (e.g. Glassdoor, Blind);Publicly available financial information (e.g. Crunchbase);Personal network - friends or family;Read other media like news articles, founder profiles, etc. about the company;Directly asking current or past employees at the company', 'NEWLearn': 'NA', 'NEWOffTopic': 'Not sure', 'NEWOnboardGood': 'Yes', 'NEWOtherComms': 'No', 'NEWOvertime': 'Rarely: 1-2 days per year or less', 'NEWPurchaseResearch': 'Ask developers I know/work with;Visit developer communities like Stack Overflow', 'NEWPurpleLink': 'Hello, old friend', 'NEWSOSites': 'Stack Overflow (public Q&A for anyone who codes);Stack Exchange (public Q&A for a variety of topics)', 'NEWStuck': 'Visit Stack Overflow;Go for a walk or other physical activity;Watch help / tutorial videos;Do other work and come back later;Visit another developer community (please name):', 'OpSys': 'Windows', 'OrgSize': '100 to 499 employees', 'PlatformDesireNextYear': 'Docker;Linux;Microsoft Azure;Windows', 'PlatformWorkedWith': 'Android;Microsoft Azure;Windows', 'PurchaseWhat': 'I have some influence', 'Sexuality': 'Straight / Heterosexual', 'SOAccount': 'No', 'SOComm': 'Neutral', 'SOPartFreq': 'NA', 'SOVisitFreq': 'Multiple times per day', 'SurveyEase': 'Easy', 'SurveyLength': 'Appropriate in length', 'Trans': 'No', 'UndergradMajor': 'A social science (such as anthropology, psychology, political science, etc.)', 'WebframeDesireNextYear': 'Angular;ASP.NET Core', 'WebframeWorkedWith': 'Angular;ASP.NET;ASP.NET Core', 'WelcomeChange': 'Just as welcome now as I felt last year', 'WorkWeekHrs': '40', 'YearsCode': '3', 'YearsCodePro': '1'}\n",
      "{'Respondent': '3859', 'MainBranch': 'I am a developer by profession', 'Hobbyist': 'No', 'Age': '27', 'Age1stCode': '15', 'CompFreq': 'Yearly', 'CompTotal': '140000', 'ConvertedComp': '140000', 'Country': 'United States', 'CurrencyDesc': 'United States dollar', 'CurrencySymbol': 'USD', 'DatabaseDesireNextYear': 'Cassandra;Couchbase;PostgreSQL;Redis', 'DatabaseWorkedWith': 'PostgreSQL', 'DevType': 'Database administrator;Developer, back-end;Developer, front-end;Developer, full-stack;Developer, QA or test;DevOps specialist;Engineer, data;Engineer, site reliability;Engineering manager;Product manager', 'EdLevel': 'Bachelor’s degree (B.A., B.S., B.Eng., etc.)', 'Employment': 'Employed full-time', 'Ethnicity': 'White or of European descent', 'Gender': 'Man', 'JobFactors': 'Languages, frameworks, and other technologies I’d be working with;Office environment or company culture;Opportunities for professional development', 'JobSat': 'Slightly dissatisfied', 'JobSeek': 'I’m not actively looking, but I am open to new opportunities', 'LanguageDesireNextYear': 'Scala', 'LanguageWorkedWith': 'HTML/CSS;JavaScript;Scala;SQL', 'MiscTechDesireNextYear': 'Apache Spark;Teraform', 'MiscTechWorkedWith': 'NA', 'NEWCollabToolsDesireNextYear': 'Github;Gitlab;Slack', 'NEWCollabToolsWorkedWith': 'Github;Gitlab;Slack;Google Suite (Docs, Meet, etc)', 'NEWDevOps': 'No', 'NEWDevOpsImpt': 'Somewhat important', 'NEWEdImpt': 'Not at all important/not necessary', 'NEWJobHunt': 'Better compensation;Growth or leadership opportunities', 'NEWJobHuntResearch': 'Read company media, such as employee blogs or company culture videos;Company reviews from third party sites (e.g. Glassdoor, Blind);Publicly available financial information (e.g. Crunchbase);Personal network - friends or family;Directly asking current or past employees at the company', 'NEWLearn': 'Once every few years', 'NEWOffTopic': 'Not sure', 'NEWOnboardGood': 'Yes', 'NEWOtherComms': 'No', 'NEWOvertime': 'Occasionally: 1-2 days per quarter but less than monthly', 'NEWPurchaseResearch': 'Ask developers I know/work with', 'NEWPurpleLink': 'Amused', 'NEWSOSites': 'Stack Overflow (public Q&A for anyone who codes);Stack Exchange (public Q&A for a variety of topics)', 'NEWStuck': 'Visit Stack Overflow;Go for a walk or other physical activity', 'OpSys': 'Linux-based', 'OrgSize': '20 to 99 employees', 'PlatformDesireNextYear': 'Docker;Kubernetes;Linux', 'PlatformWorkedWith': 'AWS;Docker;Kubernetes;Linux', 'PurchaseWhat': 'I have a great deal of influence', 'Sexuality': 'Straight / Heterosexual', 'SOAccount': 'Yes', 'SOComm': 'No, not really', 'SOPartFreq': 'Less than once per month or monthly', 'SOVisitFreq': 'A few times per month or weekly', 'SurveyEase': 'Easy', 'SurveyLength': 'Appropriate in length', 'Trans': 'No', 'UndergradMajor': 'Computer science, computer engineering, or software engineering', 'WebframeDesireNextYear': 'Vue.js', 'WebframeWorkedWith': 'NA', 'WelcomeChange': 'Just as welcome now as I felt last year', 'WorkWeekHrs': '30', 'YearsCode': '13', 'YearsCodePro': '6'}"
     ]
    },
    {
     "output_type": "error",
     "ename": "KeyboardInterrupt",
     "evalue": "",
     "traceback": [
      "\u001b[1;31m---------------------------------------------------------------------------\u001b[0m",
      "\u001b[1;31mKeyboardInterrupt\u001b[0m                         Traceback (most recent call last)",
      "\u001b[1;32m<ipython-input-8-de518acd7081>\u001b[0m in \u001b[0;36m<module>\u001b[1;34m\u001b[0m\n\u001b[0;32m      5\u001b[0m     \u001b[1;32mfor\u001b[0m \u001b[0mrow\u001b[0m \u001b[1;32min\u001b[0m \u001b[0mcsv_data\u001b[0m\u001b[1;33m:\u001b[0m\u001b[1;33m\u001b[0m\u001b[1;33m\u001b[0m\u001b[0m\n\u001b[0;32m      6\u001b[0m         \u001b[1;31m#data.append(row[\"Respondent\"])\u001b[0m\u001b[1;33m\u001b[0m\u001b[1;33m\u001b[0m\u001b[1;33m\u001b[0m\u001b[0m\n\u001b[1;32m----> 7\u001b[1;33m         \u001b[0mprint\u001b[0m\u001b[1;33m(\u001b[0m\u001b[0mrow\u001b[0m\u001b[1;33m)\u001b[0m\u001b[1;33m\u001b[0m\u001b[1;33m\u001b[0m\u001b[0m\n\u001b[0m",
      "\u001b[1;32mC:\\data\\programs\\Anaconda\\lib\\site-packages\\ipykernel\\iostream.py\u001b[0m in \u001b[0;36mwrite\u001b[1;34m(self, string)\u001b[0m\n\u001b[0;32m    402\u001b[0m             \u001b[0mis_child\u001b[0m \u001b[1;33m=\u001b[0m \u001b[1;33m(\u001b[0m\u001b[1;32mnot\u001b[0m \u001b[0mself\u001b[0m\u001b[1;33m.\u001b[0m\u001b[0m_is_master_process\u001b[0m\u001b[1;33m(\u001b[0m\u001b[1;33m)\u001b[0m\u001b[1;33m)\u001b[0m\u001b[1;33m\u001b[0m\u001b[1;33m\u001b[0m\u001b[0m\n\u001b[0;32m    403\u001b[0m             \u001b[1;31m# only touch the buffer in the IO thread to avoid races\u001b[0m\u001b[1;33m\u001b[0m\u001b[1;33m\u001b[0m\u001b[1;33m\u001b[0m\u001b[0m\n\u001b[1;32m--> 404\u001b[1;33m             \u001b[0mself\u001b[0m\u001b[1;33m.\u001b[0m\u001b[0mpub_thread\u001b[0m\u001b[1;33m.\u001b[0m\u001b[0mschedule\u001b[0m\u001b[1;33m(\u001b[0m\u001b[1;32mlambda\u001b[0m \u001b[1;33m:\u001b[0m \u001b[0mself\u001b[0m\u001b[1;33m.\u001b[0m\u001b[0m_buffer\u001b[0m\u001b[1;33m.\u001b[0m\u001b[0mwrite\u001b[0m\u001b[1;33m(\u001b[0m\u001b[0mstring\u001b[0m\u001b[1;33m)\u001b[0m\u001b[1;33m)\u001b[0m\u001b[1;33m\u001b[0m\u001b[1;33m\u001b[0m\u001b[0m\n\u001b[0m\u001b[0;32m    405\u001b[0m             \u001b[1;32mif\u001b[0m \u001b[0mis_child\u001b[0m\u001b[1;33m:\u001b[0m\u001b[1;33m\u001b[0m\u001b[1;33m\u001b[0m\u001b[0m\n\u001b[0;32m    406\u001b[0m                 \u001b[1;31m# mp.Pool cannot be trusted to flush promptly (or ever),\u001b[0m\u001b[1;33m\u001b[0m\u001b[1;33m\u001b[0m\u001b[1;33m\u001b[0m\u001b[0m\n",
      "\u001b[1;32mC:\\data\\programs\\Anaconda\\lib\\site-packages\\ipykernel\\iostream.py\u001b[0m in \u001b[0;36mschedule\u001b[1;34m(self, f)\u001b[0m\n\u001b[0;32m    203\u001b[0m             \u001b[0mself\u001b[0m\u001b[1;33m.\u001b[0m\u001b[0m_events\u001b[0m\u001b[1;33m.\u001b[0m\u001b[0mappend\u001b[0m\u001b[1;33m(\u001b[0m\u001b[0mf\u001b[0m\u001b[1;33m)\u001b[0m\u001b[1;33m\u001b[0m\u001b[1;33m\u001b[0m\u001b[0m\n\u001b[0;32m    204\u001b[0m             \u001b[1;31m# wake event thread (message content is ignored)\u001b[0m\u001b[1;33m\u001b[0m\u001b[1;33m\u001b[0m\u001b[1;33m\u001b[0m\u001b[0m\n\u001b[1;32m--> 205\u001b[1;33m             \u001b[0mself\u001b[0m\u001b[1;33m.\u001b[0m\u001b[0m_event_pipe\u001b[0m\u001b[1;33m.\u001b[0m\u001b[0msend\u001b[0m\u001b[1;33m(\u001b[0m\u001b[1;34mb''\u001b[0m\u001b[1;33m)\u001b[0m\u001b[1;33m\u001b[0m\u001b[1;33m\u001b[0m\u001b[0m\n\u001b[0m\u001b[0;32m    206\u001b[0m         \u001b[1;32melse\u001b[0m\u001b[1;33m:\u001b[0m\u001b[1;33m\u001b[0m\u001b[1;33m\u001b[0m\u001b[0m\n\u001b[0;32m    207\u001b[0m             \u001b[0mf\u001b[0m\u001b[1;33m(\u001b[0m\u001b[1;33m)\u001b[0m\u001b[1;33m\u001b[0m\u001b[1;33m\u001b[0m\u001b[0m\n",
      "\u001b[1;32mC:\\data\\programs\\Anaconda\\lib\\site-packages\\zmq\\sugar\\socket.py\u001b[0m in \u001b[0;36msend\u001b[1;34m(self, data, flags, copy, track, routing_id, group)\u001b[0m\n\u001b[0;32m    489\u001b[0m                                  copy_threshold=self.copy_threshold)\n\u001b[0;32m    490\u001b[0m             \u001b[0mdata\u001b[0m\u001b[1;33m.\u001b[0m\u001b[0mgroup\u001b[0m \u001b[1;33m=\u001b[0m \u001b[0mgroup\u001b[0m\u001b[1;33m\u001b[0m\u001b[1;33m\u001b[0m\u001b[0m\n\u001b[1;32m--> 491\u001b[1;33m         \u001b[1;32mreturn\u001b[0m \u001b[0msuper\u001b[0m\u001b[1;33m(\u001b[0m\u001b[0mSocket\u001b[0m\u001b[1;33m,\u001b[0m \u001b[0mself\u001b[0m\u001b[1;33m)\u001b[0m\u001b[1;33m.\u001b[0m\u001b[0msend\u001b[0m\u001b[1;33m(\u001b[0m\u001b[0mdata\u001b[0m\u001b[1;33m,\u001b[0m \u001b[0mflags\u001b[0m\u001b[1;33m=\u001b[0m\u001b[0mflags\u001b[0m\u001b[1;33m,\u001b[0m \u001b[0mcopy\u001b[0m\u001b[1;33m=\u001b[0m\u001b[0mcopy\u001b[0m\u001b[1;33m,\u001b[0m \u001b[0mtrack\u001b[0m\u001b[1;33m=\u001b[0m\u001b[0mtrack\u001b[0m\u001b[1;33m)\u001b[0m\u001b[1;33m\u001b[0m\u001b[1;33m\u001b[0m\u001b[0m\n\u001b[0m\u001b[0;32m    492\u001b[0m \u001b[1;33m\u001b[0m\u001b[0m\n\u001b[0;32m    493\u001b[0m     \u001b[1;32mdef\u001b[0m \u001b[0msend_multipart\u001b[0m\u001b[1;33m(\u001b[0m\u001b[0mself\u001b[0m\u001b[1;33m,\u001b[0m \u001b[0mmsg_parts\u001b[0m\u001b[1;33m,\u001b[0m \u001b[0mflags\u001b[0m\u001b[1;33m=\u001b[0m\u001b[1;36m0\u001b[0m\u001b[1;33m,\u001b[0m \u001b[0mcopy\u001b[0m\u001b[1;33m=\u001b[0m\u001b[1;32mTrue\u001b[0m\u001b[1;33m,\u001b[0m \u001b[0mtrack\u001b[0m\u001b[1;33m=\u001b[0m\u001b[1;32mFalse\u001b[0m\u001b[1;33m,\u001b[0m \u001b[1;33m**\u001b[0m\u001b[0mkwargs\u001b[0m\u001b[1;33m)\u001b[0m\u001b[1;33m:\u001b[0m\u001b[1;33m\u001b[0m\u001b[1;33m\u001b[0m\u001b[0m\n",
      "\u001b[1;32mzmq/backend/cython/socket.pyx\u001b[0m in \u001b[0;36mzmq.backend.cython.socket.Socket.send\u001b[1;34m()\u001b[0m\n",
      "\u001b[1;32mzmq/backend/cython/socket.pyx\u001b[0m in \u001b[0;36mzmq.backend.cython.socket.Socket.send\u001b[1;34m()\u001b[0m\n",
      "\u001b[1;32mzmq/backend/cython/socket.pyx\u001b[0m in \u001b[0;36mzmq.backend.cython.socket._send_copy\u001b[1;34m()\u001b[0m\n",
      "\u001b[1;32mC:\\data\\programs\\Anaconda\\lib\\site-packages\\zmq\\backend\\cython\\checkrc.pxd\u001b[0m in \u001b[0;36mzmq.backend.cython.checkrc._check_rc\u001b[1;34m()\u001b[0m\n",
      "\u001b[1;31mKeyboardInterrupt\u001b[0m: "
     ]
    }
   ],
   "source": [
    "data = []\n",
    "with open('data/file.csv', 'r') as csv_file:\n",
    "    csv_data = csv.DictReader(csv_file)  # <_csv.reader object at 0x01CCFD30>\n",
    "    # print(csv_data)\n",
    "    for row in csv_data:\n",
    "        data.append(row[\"Respondent\"])\n",
    "        # print(row)"
   ]
  },
  {
   "cell_type": "code",
   "execution_count": 9,
   "metadata": {},
   "outputs": [],
   "source": [
    "# \n",
    "# data"
   ]
  },
  {
   "cell_type": "code",
   "execution_count": 10,
   "metadata": {},
   "outputs": [],
   "source": [
    "person = {'Name': 'Jack', 'Age': '23'}\n",
    "\n",
    "with open('data/result.csv', \"w\") as out_file:\n",
    "    writer = csv.DictWriter(out_file, delimiter=',',fieldnames=[\"Name\", \"Age\"])\n",
    "    writer.writerow(person)"
   ]
  },
  {
   "cell_type": "code",
   "execution_count": 11,
   "metadata": {},
   "outputs": [],
   "source": [
    "people = [{'Name': 'Jack', 'Age': '23'},\n",
    "          {'Name': 'Tom', 'Age': '27'}]\n",
    "\n",
    "with open('data/result.csv', 'w', newline='') as out_csv:\n",
    "    writer = csv.DictWriter(out_csv, delimiter=',', fieldnames=[\"Name\", \"Age\"])\n",
    "    writer.writeheader()\n",
    "    writer.writerows(people)"
   ]
  },
  {
   "source": [
    "** json **"
   ],
   "cell_type": "markdown",
   "metadata": {}
  },
  {
   "cell_type": "code",
   "execution_count": null,
   "metadata": {},
   "outputs": [],
   "source": [
    "{\n",
    "  \"Name\":\"Tom\"\n",
    "  \"Age\":\"32\"\n",
    "}"
   ]
  },
  {
   "source": [
    "В роли значения можут выступать:\n",
    "<br>\n",
    "* -- object (аналог словаря - dict в пайтоне)\n",
    "* -- array (аналог списка - list)\n",
    "* -- string (str)\n",
    "* -- number (int,long,float)\n",
    "* -- true/false (True/False)\n",
    "* -- null (None)"
   ],
   "cell_type": "markdown",
   "metadata": {}
  },
  {
   "cell_type": "code",
   "execution_count": 10,
   "metadata": {},
   "outputs": [],
   "source": [
    "import json"
   ]
  },
  {
   "cell_type": "code",
   "execution_count": 8,
   "metadata": {},
   "outputs": [],
   "source": [
    "data = {\n",
    "    \"version\": \"0.2.0\",\n",
    "    \"configurations\": [\n",
    "        {\n",
    "            \"name\": \"Python: Current File\",\n",
    "            \"type\": \"python\",\n",
    "            \"request\": \"launch\",\n",
    "            \"program\": \"$file\",\n",
    "            \"console\": \"integratedTerminal\"\n",
    "        }\n",
    "    ]\n",
    "}"
   ]
  },
  {
   "source": [
    "** Serialization **"
   ],
   "cell_type": "markdown",
   "metadata": {}
  },
  {
   "cell_type": "code",
   "execution_count": 15,
   "metadata": {},
   "outputs": [],
   "source": [
    "# Запись в файл:\n",
    "with open(\"data/file.json\", \"w\") as write_file:\n",
    "    json.dump(data, write_file,  indent = 4)"
   ]
  },
  {
   "cell_type": "code",
   "execution_count": 12,
   "metadata": {},
   "outputs": [
    {
     "output_type": "execute_result",
     "data": {
      "text/plain": [
       "'{\\n    \"version\": \"0.2.0\",\\n    \"configurations\": [\\n        {\\n            \"name\": \"Python: Current File\",\\n            \"type\": \"python\",\\n            \"request\": \"launch\",\\n            \"program\": \"$file\",\\n            \"console\": \"integratedTerminal\"\\n        }\\n    ]\\n}'"
      ]
     },
     "metadata": {},
     "execution_count": 12
    }
   ],
   "source": [
    "json_data = json.dumps(data,  indent = 4)\n",
    "json_data"
   ]
  },
  {
   "source": [
    "** Deserialization **"
   ],
   "cell_type": "markdown",
   "metadata": {}
  },
  {
   "cell_type": "code",
   "execution_count": 18,
   "metadata": {},
   "outputs": [
    {
     "output_type": "execute_result",
     "data": {
      "text/plain": [
       "{'version': '0.2.0',\n",
       " 'configurations': [{'name': 'Python: Current File',\n",
       "   'type': 'python',\n",
       "   'request': 'launch',\n",
       "   'program': '$file',\n",
       "   'console': 'integratedTerminal'}]}"
      ]
     },
     "metadata": {},
     "execution_count": 18
    }
   ],
   "source": [
    "with open(\"data/file.json\", \"r\") as read_file:\n",
    "    loaded_json_file = json.load(read_file)\n",
    "loaded_json_file"
   ]
  },
  {
   "source": [
    "** xml **"
   ],
   "cell_type": "markdown",
   "metadata": {}
  },
  {
   "source": [
    "[to read](https://codecamp.ru/blog/python-manipulating-xml/)"
   ],
   "cell_type": "markdown",
   "metadata": {}
  },
  {
   "source": [
    "[to read](https://habr.com/ru/post/519604/)"
   ],
   "cell_type": "markdown",
   "metadata": {}
  },
  {
   "cell_type": "code",
   "execution_count": 20,
   "metadata": {},
   "outputs": [
    {
     "output_type": "stream",
     "name": "stdout",
     "text": [
      "<Element 'collection' at 0x0000029A1F9170E0>\n"
     ]
    }
   ],
   "source": [
    "import xml.etree.ElementTree as xml\n",
    "tree = xml.parse(r'data\\file.xml')\n",
    "root = tree.getroot()\n",
    "print(root)"
   ]
  },
  {
   "cell_type": "code",
   "execution_count": 21,
   "metadata": {},
   "outputs": [
    {
     "output_type": "execute_result",
     "data": {
      "text/plain": [
       "{}"
      ]
     },
     "metadata": {},
     "execution_count": 21
    }
   ],
   "source": [
    "root.attrib"
   ]
  },
  {
   "cell_type": "code",
   "execution_count": 173,
   "metadata": {},
   "outputs": [
    {
     "output_type": "execute_result",
     "data": {
      "text/plain": [
       "'collection'"
      ]
     },
     "metadata": {},
     "execution_count": 173
    }
   ],
   "source": [
    "root.tag"
   ]
  },
  {
   "cell_type": "code",
   "execution_count": 174,
   "metadata": {},
   "outputs": [
    {
     "output_type": "stream",
     "name": "stdout",
     "text": [
      "genre {'category': 'Action'}\ngenre {'category': 'Thriller'}\n"
     ]
    }
   ],
   "source": [
    "for child in root:\n",
    "    print(child.tag, child.attrib)"
   ]
  },
  {
   "cell_type": "code",
   "execution_count": 175,
   "metadata": {},
   "outputs": [
    {
     "output_type": "execute_result",
     "data": {
      "text/plain": [
       "['collection',\n",
       " 'genre',\n",
       " 'decade',\n",
       " 'movie',\n",
       " 'format',\n",
       " 'year',\n",
       " 'rating',\n",
       " 'description',\n",
       " 'movie',\n",
       " 'format',\n",
       " 'year',\n",
       " 'rating',\n",
       " 'description',\n",
       " 'movie',\n",
       " 'format',\n",
       " 'year',\n",
       " 'rating',\n",
       " 'description',\n",
       " 'decade',\n",
       " 'movie',\n",
       " 'format',\n",
       " 'year',\n",
       " 'rating',\n",
       " 'description',\n",
       " 'movie',\n",
       " 'format',\n",
       " 'year',\n",
       " 'rating',\n",
       " 'description',\n",
       " 'movie',\n",
       " 'format',\n",
       " 'year',\n",
       " 'rating',\n",
       " 'description',\n",
       " 'genre',\n",
       " 'decade',\n",
       " 'movie',\n",
       " 'format',\n",
       " 'year',\n",
       " 'rating',\n",
       " 'description',\n",
       " 'decade',\n",
       " 'movie',\n",
       " 'format',\n",
       " 'year',\n",
       " 'rating',\n",
       " 'description',\n",
       " 'movie',\n",
       " 'format',\n",
       " 'year',\n",
       " 'rating',\n",
       " 'description']"
      ]
     },
     "metadata": {},
     "execution_count": 175
    }
   ],
   "source": [
    "[elem.tag for elem in root.iter()]"
   ]
  },
  {
   "cell_type": "code",
   "execution_count": 27,
   "metadata": {},
   "outputs": [
    {
     "output_type": "stream",
     "name": "stdout",
     "text": [
      "<?xml version='1.0' encoding='utf8'?>\n<collection>\n    <genre category=\"Action\">\n        <decade years=\"1980s\">\n            <movie favorite=\"True\" title=\"Indiana Jones: The raiders of the lost Ark\">\n                <format multiple=\"No\">DVD</format>\n                <year>1981</year>\n                <rating>PG</rating>\n                <description>\n                'Archaeologist and adventurer Indiana Jones \n                is hired by the U.S. government to find the Ark of the \n                Covenant before the Nazis.'\n                </description>\n            </movie>\n               <movie favorite=\"True\" title=\"THE KARATE KID\">\n               <format multiple=\"Yes\">DVD,Online</format>\n               <year>1984</year>\n               <rating>PG</rating>\n               <description>None provided.</description>\n            </movie>\n            <movie favorite=\"False\" title=\"Back 2 the Future\">\n               <format multiple=\"False\">Blu-ray</format>\n               <year>1985</year>\n               <rating>PG</rating>\n               <description>Marty McFly</description>\n            </movie>\n        </decade>\n        <decade years=\"1990s\">\n            <movie favorite=\"False\" title=\"X-Men\">\n               <format multiple=\"Yes\">dvd, digital</format>\n               <year>2000</year>\n               <rating>PG-13</rating>\n               <description>Two mutants come to a private academy for their kind whose resident superhero team must \n               oppose a terrorist organization with similar powers.</description>\n            </movie>\n            <movie favorite=\"True\" title=\"Batman Returns\">\n               <format multiple=\"No\">VHS</format>\n               <year>1992</year>\n               <rating>PG13</rating>\n               <description>NA.</description>\n            </movie>\n               <movie favorite=\"False\" title=\"Reservoir Dogs\">\n               <format multiple=\"No\">Online</format>\n               <year>1992</year>\n               <rating>R</rating>\n               <description>WhAtEvER I Want!!!?!</description>\n            </movie>\n        </decade>    \n    </genre>\n\n    <genre category=\"Thriller\">\n        <decade years=\"1970s\">\n            <movie favorite=\"False\" title=\"ALIEN\">\n                <format multiple=\"Yes\">DVD</format>\n                <year>1979</year>\n                <rating>R</rating>\n                <description>\"\"\"\"\"\"\"\"\"</description>\n            </movie>\n        </decade>\n        <decade years=\"1980s\">\n            <movie favorite=\"True\" title=\"Ferris Bueller's Day Off\">\n                <format multiple=\"No\">DVD</format>\n                <year>1986</year>\n                <rating>PG13</rating>\n                <description>Funny movie about a funny guy</description>\n            </movie>\n            <movie favorite=\"FALSE\" title=\"American Psycho\">\n                <format multiple=\"No\">blue-ray</format>\n                <year>2000</year>\n                <rating>Unrated</rating>\n                <description>psychopathic Bateman</description>\n            </movie>\n        </decade>\n    </genre>\n</collection>\n"
     ]
    }
   ],
   "source": [
    "print(xml.tostring(root, encoding='utf8').decode('utf8'))"
   ]
  },
  {
   "cell_type": "code",
   "execution_count": 184,
   "metadata": {},
   "outputs": [
    {
     "output_type": "stream",
     "name": "stdout",
     "text": [
      "{'favorite': 'True', 'title': 'Indiana Jones: The raiders of the lost Ark'}\n{'favorite': 'True', 'title': 'THE KARATE KID'}\n{'favorite': 'False', 'title': 'Back 2 the Future'}\n{'favorite': 'False', 'title': 'X-Men'}\n{'favorite': 'True', 'title': 'Batman Returns'}\n{'favorite': 'False', 'title': 'Reservoir Dogs'}\n{'favorite': 'False', 'title': 'ALIEN'}\n{'favorite': 'True', 'title': \"Ferris Bueller's Day Off\"}\n{'favorite': 'FALSE', 'title': 'American Psycho'}\n"
     ]
    }
   ],
   "source": [
    "for movie in root.iter('movie'):\n",
    "    print(movie.attrib)"
   ]
  },
  {
   "cell_type": "code",
   "execution_count": 185,
   "metadata": {},
   "outputs": [
    {
     "output_type": "stream",
     "name": "stdout",
     "text": [
      "\n                'Archaeologist and adventurer Indiana Jones \n                is hired by the U.S. government to find the Ark of the \n                Covenant before the Nazis.'\n                \nNone provided.\nMarty McFly\nTwo mutants come to a private academy for their kind whose resident superhero team must \n               oppose a terrorist organization with similar powers.\nNA.\nWhAtEvER I Want!!!?!\n\"\"\"\"\"\"\"\"\"\nFunny movie about a funny guy\npsychopathic Bateman\n"
     ]
    }
   ],
   "source": [
    "for description in root.iter('description'):\n",
    "    print(description.text)"
   ]
  },
  {
   "source": [
    "**Xpath**"
   ],
   "cell_type": "markdown",
   "metadata": {}
  },
  {
   "source": [
    "[xpath](https://towardsdatascience.com/xpath-for-python-89f4423415e0)"
   ],
   "cell_type": "markdown",
   "metadata": {}
  },
  {
   "cell_type": "code",
   "execution_count": 54,
   "metadata": {},
   "outputs": [
    {
     "output_type": "stream",
     "name": "stdout",
     "text": [
      "{'favorite': 'True', 'title': 'Batman Returns'}\n{'favorite': 'False', 'title': 'Reservoir Dogs'}\n"
     ]
    }
   ],
   "source": [
    "for movie in root.findall(\"./genre/decade/movie/[year='1992']\"):\n",
    "    print(movie.attrib)"
   ]
  },
  {
   "cell_type": "code",
   "execution_count": 28,
   "metadata": {},
   "outputs": [
    {
     "output_type": "stream",
     "name": "stdout",
     "text": [
      "<Element 'movie' at 0x0000029A1F8F45E0>\n"
     ]
    }
   ],
   "source": [
    "b2tf = root.find(\"./genre/decade/movie[@title='Back 2 the Future']\")\n",
    "print(b2tf)"
   ]
  },
  {
   "cell_type": "code",
   "execution_count": 188,
   "metadata": {},
   "outputs": [
    {
     "output_type": "stream",
     "name": "stdout",
     "text": [
      "{'favorite': 'False', 'title': 'Back to the Future'}\n"
     ]
    }
   ],
   "source": [
    "b2tf.attrib[\"title\"] = \"Back to the Future\"\n",
    "print(b2tf.attrib)"
   ]
  },
  {
   "cell_type": "code",
   "execution_count": 29,
   "metadata": {},
   "outputs": [
    {
     "output_type": "stream",
     "name": "stdout",
     "text": [
      "{'multiple': 'Yes'}\n{'multiple': 'Yes'}\n{'multiple': 'Yes'}\n"
     ]
    }
   ],
   "source": [
    "for movie in root.findall(\"./genre/decade/movie/format/[@multiple='Yes']\"):\n",
    "    print(movie.attrib)"
   ]
  },
  {
   "cell_type": "code",
   "execution_count": 189,
   "metadata": {},
   "outputs": [],
   "source": [
    "tree.write(\"data\\\\movies.xml\")"
   ]
  },
  {
   "cell_type": "code",
   "execution_count": null,
   "metadata": {},
   "outputs": [],
   "source": []
  },
  {
   "source": [
    "** yaml **"
   ],
   "cell_type": "markdown",
   "metadata": {}
  },
  {
   "source": [
    "[yaml](https://medium.com/@p4p3rb0y1/python-yaml-tutorial-getting-started-in-a-few-minutes-24b2d51831f3)"
   ],
   "cell_type": "markdown",
   "metadata": {}
  },
  {
   "cell_type": "code",
   "execution_count": 3,
   "metadata": {},
   "outputs": [
    {
     "output_type": "stream",
     "name": "stdout",
     "text": [
      "{'name': 'base', 'channels': ['defaults'], 'dependencies': ['_ipyw_jlab_nb_ext_conf=0.1.0=py38_0', 'alabaster=0.7.12=pyhd3eb1b0_0', 'anaconda=2021.05=py38_0', 'anaconda-client=1.7.2=py38_0', 'anaconda-navigator=2.0.3=py38_0', 'anaconda-project=0.9.1=pyhd3eb1b0_1', 'anyio=2.2.0=py38haa95532_2', 'appdirs=1.4.4=py_0', 'argh=0.26.2=py38_0', 'argon2-cffi=20.1.0=py38h2bbff1b_1', 'asn1crypto=1.4.0=py_0', 'astroid=2.5=py38haa95532_1', 'astropy=4.2.1=py38h2bbff1b_1', 'async_generator=1.10=pyhd3eb1b0_0', 'atomicwrites=1.4.0=py_0', 'attrs=20.3.0=pyhd3eb1b0_0', 'autopep8=1.5.6=pyhd3eb1b0_0', 'babel=2.9.0=pyhd3eb1b0_0', 'backcall=0.2.0=pyhd3eb1b0_0', 'backports=1.0=pyhd3eb1b0_2', 'backports.functools_lru_cache=1.6.4=pyhd3eb1b0_0', 'backports.shutil_get_terminal_size=1.0.0=pyhd3eb1b0_3', 'backports.tempfile=1.0=pyhd3eb1b0_1', 'backports.weakref=1.0.post1=py_1', 'bcrypt=3.2.0=py38he774522_0', 'beautifulsoup4=4.9.3=pyha847dfd_0', 'bitarray=1.9.2=py38h2bbff1b_1', 'bkcharts=0.2=py38_0', 'black=19.10b0=py_0', 'blas=1.0=mkl', 'bleach=3.3.0=pyhd3eb1b0_0', 'blosc=1.21.0=h19a0ad4_0', 'bokeh=2.3.2=py38haa95532_0', 'boto=2.49.0=py38_0', 'bottleneck=1.3.2=py38h2a96729_1', 'brotli=1.0.9=ha925a31_2', 'brotlipy=0.7.0=py38h2bbff1b_1003', 'bzip2=1.0.8=he774522_0', 'ca-certificates=2021.4.13=haa95532_1', 'certifi=2020.12.5=py38haa95532_0', 'cffi=1.14.5=py38hcd4344a_0', 'chardet=4.0.0=py38haa95532_1003', 'charls=2.2.0=h6c2663c_0', 'click=7.1.2=pyhd3eb1b0_0', 'cloudpickle=1.6.0=py_0', 'clyent=1.2.2=py38_1', 'colorama=0.4.4=pyhd3eb1b0_0', 'comtypes=1.1.9=py38haa95532_1002', 'conda=4.10.1=py38haa95532_1', 'conda-build=3.21.4=py38haa95532_0', 'conda-content-trust=0.1.1=pyhd3eb1b0_0', 'conda-env=2.6.0=1', 'conda-package-handling=1.7.3=py38h8cc25b3_1', 'conda-repo-cli=1.0.4=pyhd3eb1b0_0', 'conda-token=0.3.0=pyhd3eb1b0_0', 'conda-verify=3.4.2=py_1', 'console_shortcut=0.1.1=4', 'contextlib2=0.6.0.post1=py_0', 'cryptography=3.4.7=py38h71e12ea_0', 'curl=7.71.1=h2a8f88b_1', 'cycler=0.10.0=py38_0', 'cython=0.29.23=py38hd77b12b_0', 'cytoolz=0.11.0=py38he774522_0', 'dask=2021.4.0=pyhd3eb1b0_0', 'dask-core=2021.4.0=pyhd3eb1b0_0', 'decorator=5.0.6=pyhd3eb1b0_0', 'defusedxml=0.7.1=pyhd3eb1b0_0', 'diff-match-patch=20200713=py_0', 'distributed=2021.4.0=py38haa95532_0', 'docutils=0.17=py38haa95532_1', 'entrypoints=0.3=py38_0', 'et_xmlfile=1.0.1=py_1001', 'fastcache=1.1.0=py38he774522_0', 'filelock=3.0.12=pyhd3eb1b0_1', 'flake8=3.9.0=pyhd3eb1b0_0', 'flask=1.1.2=pyhd3eb1b0_0', 'freetype=2.10.4=hd328e21_0', 'fsspec=0.9.0=pyhd3eb1b0_0', 'future=0.18.2=py38_1', 'get_terminal_size=1.0.0=h38e98db_0', 'gevent=21.1.2=py38h2bbff1b_1', 'giflib=5.2.1=h62dcd97_0', 'glob2=0.7=pyhd3eb1b0_0', 'greenlet=1.0.0=py38hd77b12b_2', 'h5py=2.10.0=py38h5e291fa_0', 'hdf5=1.10.4=h7ebc959_0', 'heapdict=1.0.1=py_0', 'html5lib=1.1=py_0', 'icc_rt=2019.0.0=h0cc432a_1', 'icu=58.2=ha925a31_3', 'idna=2.10=pyhd3eb1b0_0', 'imagecodecs=2021.3.31=py38h5da4933_0', 'imageio=2.9.0=pyhd3eb1b0_0', 'imagesize=1.2.0=pyhd3eb1b0_0', 'importlib-metadata=3.10.0=py38haa95532_0', 'importlib_metadata=3.10.0=hd3eb1b0_0', 'iniconfig=1.1.1=pyhd3eb1b0_0', 'intel-openmp=2021.2.0=haa95532_616', 'intervaltree=3.1.0=py_0', 'ipykernel=5.3.4=py38h5ca1d4c_0', 'ipython=7.22.0=py38hd4e2768_0', 'ipython_genutils=0.2.0=pyhd3eb1b0_1', 'ipywidgets=7.6.3=pyhd3eb1b0_1', 'isort=5.8.0=pyhd3eb1b0_0', 'itsdangerous=1.1.0=pyhd3eb1b0_0', 'jdcal=1.4.1=py_0', 'jedi=0.17.2=py38haa95532_1', 'jinja2=2.11.3=pyhd3eb1b0_0', 'joblib=1.0.1=pyhd3eb1b0_0', 'jpeg=9b=hb83a4c4_2', 'json5=0.9.5=py_0', 'jsonschema=3.2.0=py_2', 'jupyter=1.0.0=py38_7', 'jupyter-packaging=0.7.12=pyhd3eb1b0_0', 'jupyter_client=6.1.12=pyhd3eb1b0_0', 'jupyter_console=6.4.0=pyhd3eb1b0_0', 'jupyter_core=4.7.1=py38haa95532_0', 'jupyter_server=1.4.1=py38haa95532_0', 'jupyterlab=3.0.14=pyhd3eb1b0_1', 'jupyterlab_pygments=0.1.2=py_0', 'jupyterlab_server=2.4.0=pyhd3eb1b0_0', 'jupyterlab_widgets=1.0.0=pyhd3eb1b0_1', 'keyring=22.3.0=py38haa95532_0', 'kiwisolver=1.3.1=py38hd77b12b_0', 'krb5=1.18.2=hc04afaa_0', 'lazy-object-proxy=1.6.0=py38h2bbff1b_0', 'lcms2=2.12=h83e58a3_0', 'lerc=2.2.1=hd77b12b_0', 'libaec=1.0.4=h33f27b4_1', 'libarchive=3.4.2=h5e25573_0', 'libcurl=7.71.1=h2a8f88b_1', 'libdeflate=1.7=h2bbff1b_5', 'libiconv=1.15=h1df5818_7', 'liblief=0.10.1=ha925a31_0', 'libpng=1.6.37=h2a8f88b_0', 'libsodium=1.0.18=h62dcd97_0', 'libspatialindex=1.9.3=h6c2663c_0', 'libssh2=1.9.0=h7a1dbc1_1', 'libtiff=4.2.0=hd0e1b90_0', 'libxml2=2.9.10=hb89e7f3_3', 'libxslt=1.1.34=he774522_0', 'libzopfli=1.0.3=ha925a31_0', 'llvmlite=0.36.0=py38h34b8924_4', 'locket=0.2.1=py38haa95532_1', 'lxml=4.6.3=py38h9b66d53_0', 'lz4-c=1.9.3=h2bbff1b_0', 'lzo=2.10=he774522_2', 'm2w64-gcc-libgfortran=5.3.0=6', 'm2w64-gcc-libs=5.3.0=7', 'm2w64-gcc-libs-core=5.3.0=7', 'm2w64-gmp=6.1.0=2', 'm2w64-libwinpthread-git=5.0.0.4634.697f757=2', 'markupsafe=1.1.1=py38he774522_0', 'matplotlib=3.3.4=py38haa95532_0', 'matplotlib-base=3.3.4=py38h49ac443_0', 'mccabe=0.6.1=py38_1', 'menuinst=1.4.16=py38he774522_1', 'mistune=0.8.4=py38he774522_1000', 'mkl=2021.2.0=haa95532_296', 'mkl-service=2.3.0=py38h2bbff1b_1', 'mkl_fft=1.3.0=py38h277e83a_2', 'mkl_random=1.2.1=py38hf11a4ad_2', 'mock=4.0.3=pyhd3eb1b0_0', 'more-itertools=8.7.0=pyhd3eb1b0_0', 'mpmath=1.2.1=py38haa95532_0', 'msgpack-python=1.0.2=py38h59b6b97_1', 'msys2-conda-epoch=20160418=1', 'multipledispatch=0.6.0=py38_0', 'mypy_extensions=0.4.3=py38_0', 'navigator-updater=0.2.1=py38_0', 'nbclassic=0.2.6=pyhd3eb1b0_0', 'nbclient=0.5.3=pyhd3eb1b0_0', 'nbconvert=6.0.7=py38_0', 'nbformat=5.1.3=pyhd3eb1b0_0', 'nest-asyncio=1.5.1=pyhd3eb1b0_0', 'networkx=2.5=py_0', 'nltk=3.6.1=pyhd3eb1b0_0', 'nose=1.3.7=pyhd3eb1b0_1006', 'notebook=6.3.0=py38haa95532_0', 'numba=0.53.1=py38hf11a4ad_0', 'numexpr=2.7.3=py38hb80d3ca_1', 'numpy=1.20.1=py38h34a8a5c_0', 'numpy-base=1.20.1=py38haf7ebc8_0', 'numpydoc=1.1.0=pyhd3eb1b0_1', 'olefile=0.46=py_0', 'openjpeg=2.3.0=h5ec785f_1', 'openpyxl=3.0.7=pyhd3eb1b0_0', 'openssl=1.1.1k=h2bbff1b_0', 'packaging=20.9=pyhd3eb1b0_0', 'pandas=1.2.4=py38hd77b12b_0', 'pandoc=2.12=haa95532_0', 'pandocfilters=1.4.3=py38haa95532_1', 'paramiko=2.7.2=py_0', 'parso=0.7.0=py_0', 'partd=1.2.0=pyhd3eb1b0_0', 'path=15.1.2=py38haa95532_0', 'path.py=12.5.0=0', 'pathlib2=2.3.5=py38haa95532_2', 'pathspec=0.7.0=py_0', 'patsy=0.5.1=py38_0', 'pep8=1.7.1=py38_0', 'pexpect=4.8.0=pyhd3eb1b0_3', 'pickleshare=0.7.5=pyhd3eb1b0_1003', 'pillow=8.2.0=py38h4fa10fc_0', 'pip=21.0.1=py38haa95532_0', 'pkginfo=1.7.0=py38haa95532_0', 'pluggy=0.13.1=py38haa95532_0', 'ply=3.11=py38_0', 'powershell_shortcut=0.0.1=3', 'prometheus_client=0.10.1=pyhd3eb1b0_0', 'prompt-toolkit=3.0.17=pyh06a4308_0', 'prompt_toolkit=3.0.17=hd3eb1b0_0', 'psutil=5.8.0=py38h2bbff1b_1', 'ptyprocess=0.7.0=pyhd3eb1b0_2', 'py=1.10.0=pyhd3eb1b0_0', 'py-lief=0.10.1=py38ha925a31_0', 'pycodestyle=2.6.0=pyhd3eb1b0_0', 'pycosat=0.6.3=py38h2bbff1b_0', 'pycparser=2.20=py_2', 'pycurl=7.43.0.6=py38h7a1dbc1_0', 'pydocstyle=6.0.0=pyhd3eb1b0_0', 'pyerfa=1.7.3=py38h2bbff1b_0', 'pyflakes=2.2.0=pyhd3eb1b0_0', 'pygments=2.8.1=pyhd3eb1b0_0', 'pylint=2.7.4=py38haa95532_1', 'pyls-black=0.4.6=hd3eb1b0_0', 'pyls-spyder=0.3.2=pyhd3eb1b0_0', 'pynacl=1.4.0=py38h62dcd97_1', 'pyodbc=4.0.30=py38ha925a31_0', 'pyopenssl=20.0.1=pyhd3eb1b0_1', 'pyparsing=2.4.7=pyhd3eb1b0_0', 'pyqt=5.9.2=py38ha925a31_4', 'pyreadline=2.1=py38_1', 'pyrsistent=0.17.3=py38he774522_0', 'pysocks=1.7.1=py38haa95532_0', 'pytables=3.6.1=py38ha5be198_0', 'pytest=6.2.3=py38haa95532_2', 'python=3.8.8=hdbf39b2_5', 'python-dateutil=2.8.1=pyhd3eb1b0_0', 'python-jsonrpc-server=0.4.0=py_0', 'python-language-server=0.36.2=pyhd3eb1b0_0', 'python-libarchive-c=2.9=pyhd3eb1b0_1', 'pytz=2021.1=pyhd3eb1b0_0', 'pywavelets=1.1.1=py38he774522_2', 'pywin32=227=py38he774522_1', 'pywin32-ctypes=0.2.0=py38_1000', 'pywinpty=0.5.7=py38_0', 'pyyaml=5.4.1=py38h2bbff1b_1', 'pyzmq=20.0.0=py38hd77b12b_1', 'qdarkstyle=2.8.1=py_0', 'qt=5.9.7=vc14h73c81de_0', 'qtawesome=1.0.2=pyhd3eb1b0_0', 'qtconsole=5.0.3=pyhd3eb1b0_0', 'qtpy=1.9.0=py_0', 'regex=2021.4.4=py38h2bbff1b_0', 'requests=2.25.1=pyhd3eb1b0_0', 'rope=0.18.0=py_0', 'rtree=0.9.7=py38h2eaa2aa_1', 'ruamel_yaml=0.15.100=py38h2bbff1b_0', 'scikit-image=0.18.1=py38hf11a4ad_0', 'scikit-learn=0.24.1=py38hf11a4ad_0', 'scipy=1.6.2=py38h66253e8_1', 'seaborn=0.11.1=pyhd3eb1b0_0', 'send2trash=1.5.0=pyhd3eb1b0_1', 'setuptools=52.0.0=py38haa95532_0', 'simplegeneric=0.8.1=py38_2', 'singledispatch=3.6.1=pyhd3eb1b0_1001', 'sip=4.19.13=py38ha925a31_0', 'six=1.15.0=py38haa95532_0', 'snappy=1.1.8=h33f27b4_0', 'sniffio=1.2.0=py38haa95532_1', 'snowballstemmer=2.1.0=pyhd3eb1b0_0', 'sortedcollections=2.1.0=pyhd3eb1b0_0', 'sortedcontainers=2.3.0=pyhd3eb1b0_0', 'soupsieve=2.2.1=pyhd3eb1b0_0', 'sphinx=4.0.1=pyhd3eb1b0_0', 'sphinxcontrib=1.0=py38_1', 'sphinxcontrib-applehelp=1.0.2=pyhd3eb1b0_0', 'sphinxcontrib-devhelp=1.0.2=pyhd3eb1b0_0', 'sphinxcontrib-htmlhelp=1.0.3=pyhd3eb1b0_0', 'sphinxcontrib-jsmath=1.0.1=pyhd3eb1b0_0', 'sphinxcontrib-qthelp=1.0.3=pyhd3eb1b0_0', 'sphinxcontrib-serializinghtml=1.1.4=pyhd3eb1b0_0', 'sphinxcontrib-websupport=1.2.4=py_0', 'spyder=4.2.5=py38haa95532_0', 'spyder-kernels=1.10.2=py38haa95532_0', 'sqlalchemy=1.4.7=py38h2bbff1b_0', 'sqlite=3.35.4=h2bbff1b_0', 'statsmodels=0.12.2=py38h2bbff1b_0', 'sympy=1.8=py38haa95532_0', 'tbb=2020.3=h74a9793_0', 'tblib=1.7.0=py_0', 'terminado=0.9.4=py38haa95532_0', 'testpath=0.4.4=pyhd3eb1b0_0', 'textdistance=4.2.1=pyhd3eb1b0_0', 'threadpoolctl=2.1.0=pyh5ca1d4c_0', 'three-merge=0.1.1=pyhd3eb1b0_0', 'tifffile=2021.4.8=pyhd3eb1b0_2', 'tk=8.6.10=he774522_0', 'toml=0.10.2=pyhd3eb1b0_0', 'toolz=0.11.1=pyhd3eb1b0_0', 'tornado=6.1=py38h2bbff1b_0', 'tqdm=4.59.0=pyhd3eb1b0_1', 'traitlets=5.0.5=pyhd3eb1b0_0', 'typed-ast=1.4.2=py38h2bbff1b_1', 'typing_extensions=3.7.4.3=pyha847dfd_0', 'ujson=4.0.2=py38hd77b12b_0', 'unicodecsv=0.14.1=py38_0', 'urllib3=1.26.4=pyhd3eb1b0_0', 'vc=14.2=h21ff451_1', 'vs2015_runtime=14.27.29016=h5e58377_2', 'watchdog=1.0.2=py38haa95532_1', 'wcwidth=0.2.5=py_0', 'webencodings=0.5.1=py38_1', 'werkzeug=1.0.1=pyhd3eb1b0_0', 'wheel=0.36.2=pyhd3eb1b0_0', 'widgetsnbextension=3.5.1=py38_0', 'win_inet_pton=1.1.0=py38haa95532_0', 'win_unicode_console=0.5=py38_0', 'wincertstore=0.2=py38_0', 'winpty=0.4.3=4', 'wrapt=1.12.1=py38he774522_1', 'xlrd=2.0.1=pyhd3eb1b0_0', 'xlsxwriter=1.3.8=pyhd3eb1b0_0', 'xlwings=0.23.0=py38haa95532_0', 'xlwt=1.3.0=py38_0', 'xmltodict=0.12.0=py_0', 'xz=5.2.5=h62dcd97_0', 'yaml=0.2.5=he774522_0', 'yapf=0.31.0=pyhd3eb1b0_0', 'zeromq=4.3.3=ha925a31_3', 'zfp=0.5.5=hd77b12b_6', 'zict=2.0.0=pyhd3eb1b0_0', 'zipp=3.4.1=pyhd3eb1b0_0', 'zlib=1.2.11=h62dcd97_4', 'zope=1.0=py38_1', 'zope.event=4.5.0=py38_0', 'zope.interface=5.3.0=py38h2bbff1b_0', 'zstd=1.4.5=h04227a9_0', {'pip': ['altgraph==0.17', 'branca==0.4.2', 'coroutine==0.0.2', 'faker==8.5.1', 'folium==0.12.1', 'gits==0.4', 'gtts==2.2.3', 'inexactsearch==1.0.2', 'jupyter-kite==2.0.2', 'jupyterlab-kite==2.0.2', 'pefile==2021.5.24', 'playsound==1.2.2', 'pyaudio==0.2.11', 'pyinstaller==4.3', 'pyinstaller-hooks-contrib==2021.1', 'pympler==0.9', 'pytesseract==0.3.7', 'silpa-common==0.3', 'soundex==1.1.3', 'speechrecognition==3.8.1', 'spellchecker==0.4', 'tesseract==0.1.3', 'text-unidecode==1.3']}], 'prefix': 'C:\\\\data\\\\programs\\\\Anaconda'}\n"
     ]
    }
   ],
   "source": [
    "import yaml\n",
    "with open('data/environment.yml') as f:\n",
    "    data = yaml.load(f)\n",
    "    print(data)"
   ]
  },
  {
   "cell_type": "code",
   "execution_count": 4,
   "metadata": {},
   "outputs": [
    {
     "output_type": "stream",
     "name": "stdout",
     "text": [
      "name -> base\n",
      "channels -> ['defaults']\n",
      "dependencies -> ['_ipyw_jlab_nb_ext_conf=0.1.0=py38_0', 'alabaster=0.7.12=pyhd3eb1b0_0', 'anaconda=2021.05=py38_0', 'anaconda-client=1.7.2=py38_0', 'anaconda-navigator=2.0.3=py38_0', 'anaconda-project=0.9.1=pyhd3eb1b0_1', 'anyio=2.2.0=py38haa95532_2', 'appdirs=1.4.4=py_0', 'argh=0.26.2=py38_0', 'argon2-cffi=20.1.0=py38h2bbff1b_1', 'asn1crypto=1.4.0=py_0', 'astroid=2.5=py38haa95532_1', 'astropy=4.2.1=py38h2bbff1b_1', 'async_generator=1.10=pyhd3eb1b0_0', 'atomicwrites=1.4.0=py_0', 'attrs=20.3.0=pyhd3eb1b0_0', 'autopep8=1.5.6=pyhd3eb1b0_0', 'babel=2.9.0=pyhd3eb1b0_0', 'backcall=0.2.0=pyhd3eb1b0_0', 'backports=1.0=pyhd3eb1b0_2', 'backports.functools_lru_cache=1.6.4=pyhd3eb1b0_0', 'backports.shutil_get_terminal_size=1.0.0=pyhd3eb1b0_3', 'backports.tempfile=1.0=pyhd3eb1b0_1', 'backports.weakref=1.0.post1=py_1', 'bcrypt=3.2.0=py38he774522_0', 'beautifulsoup4=4.9.3=pyha847dfd_0', 'bitarray=1.9.2=py38h2bbff1b_1', 'bkcharts=0.2=py38_0', 'black=19.10b0=py_0', 'blas=1.0=mkl', 'bleach=3.3.0=pyhd3eb1b0_0', 'blosc=1.21.0=h19a0ad4_0', 'bokeh=2.3.2=py38haa95532_0', 'boto=2.49.0=py38_0', 'bottleneck=1.3.2=py38h2a96729_1', 'brotli=1.0.9=ha925a31_2', 'brotlipy=0.7.0=py38h2bbff1b_1003', 'bzip2=1.0.8=he774522_0', 'ca-certificates=2021.4.13=haa95532_1', 'certifi=2020.12.5=py38haa95532_0', 'cffi=1.14.5=py38hcd4344a_0', 'chardet=4.0.0=py38haa95532_1003', 'charls=2.2.0=h6c2663c_0', 'click=7.1.2=pyhd3eb1b0_0', 'cloudpickle=1.6.0=py_0', 'clyent=1.2.2=py38_1', 'colorama=0.4.4=pyhd3eb1b0_0', 'comtypes=1.1.9=py38haa95532_1002', 'conda=4.10.1=py38haa95532_1', 'conda-build=3.21.4=py38haa95532_0', 'conda-content-trust=0.1.1=pyhd3eb1b0_0', 'conda-env=2.6.0=1', 'conda-package-handling=1.7.3=py38h8cc25b3_1', 'conda-repo-cli=1.0.4=pyhd3eb1b0_0', 'conda-token=0.3.0=pyhd3eb1b0_0', 'conda-verify=3.4.2=py_1', 'console_shortcut=0.1.1=4', 'contextlib2=0.6.0.post1=py_0', 'cryptography=3.4.7=py38h71e12ea_0', 'curl=7.71.1=h2a8f88b_1', 'cycler=0.10.0=py38_0', 'cython=0.29.23=py38hd77b12b_0', 'cytoolz=0.11.0=py38he774522_0', 'dask=2021.4.0=pyhd3eb1b0_0', 'dask-core=2021.4.0=pyhd3eb1b0_0', 'decorator=5.0.6=pyhd3eb1b0_0', 'defusedxml=0.7.1=pyhd3eb1b0_0', 'diff-match-patch=20200713=py_0', 'distributed=2021.4.0=py38haa95532_0', 'docutils=0.17=py38haa95532_1', 'entrypoints=0.3=py38_0', 'et_xmlfile=1.0.1=py_1001', 'fastcache=1.1.0=py38he774522_0', 'filelock=3.0.12=pyhd3eb1b0_1', 'flake8=3.9.0=pyhd3eb1b0_0', 'flask=1.1.2=pyhd3eb1b0_0', 'freetype=2.10.4=hd328e21_0', 'fsspec=0.9.0=pyhd3eb1b0_0', 'future=0.18.2=py38_1', 'get_terminal_size=1.0.0=h38e98db_0', 'gevent=21.1.2=py38h2bbff1b_1', 'giflib=5.2.1=h62dcd97_0', 'glob2=0.7=pyhd3eb1b0_0', 'greenlet=1.0.0=py38hd77b12b_2', 'h5py=2.10.0=py38h5e291fa_0', 'hdf5=1.10.4=h7ebc959_0', 'heapdict=1.0.1=py_0', 'html5lib=1.1=py_0', 'icc_rt=2019.0.0=h0cc432a_1', 'icu=58.2=ha925a31_3', 'idna=2.10=pyhd3eb1b0_0', 'imagecodecs=2021.3.31=py38h5da4933_0', 'imageio=2.9.0=pyhd3eb1b0_0', 'imagesize=1.2.0=pyhd3eb1b0_0', 'importlib-metadata=3.10.0=py38haa95532_0', 'importlib_metadata=3.10.0=hd3eb1b0_0', 'iniconfig=1.1.1=pyhd3eb1b0_0', 'intel-openmp=2021.2.0=haa95532_616', 'intervaltree=3.1.0=py_0', 'ipykernel=5.3.4=py38h5ca1d4c_0', 'ipython=7.22.0=py38hd4e2768_0', 'ipython_genutils=0.2.0=pyhd3eb1b0_1', 'ipywidgets=7.6.3=pyhd3eb1b0_1', 'isort=5.8.0=pyhd3eb1b0_0', 'itsdangerous=1.1.0=pyhd3eb1b0_0', 'jdcal=1.4.1=py_0', 'jedi=0.17.2=py38haa95532_1', 'jinja2=2.11.3=pyhd3eb1b0_0', 'joblib=1.0.1=pyhd3eb1b0_0', 'jpeg=9b=hb83a4c4_2', 'json5=0.9.5=py_0', 'jsonschema=3.2.0=py_2', 'jupyter=1.0.0=py38_7', 'jupyter-packaging=0.7.12=pyhd3eb1b0_0', 'jupyter_client=6.1.12=pyhd3eb1b0_0', 'jupyter_console=6.4.0=pyhd3eb1b0_0', 'jupyter_core=4.7.1=py38haa95532_0', 'jupyter_server=1.4.1=py38haa95532_0', 'jupyterlab=3.0.14=pyhd3eb1b0_1', 'jupyterlab_pygments=0.1.2=py_0', 'jupyterlab_server=2.4.0=pyhd3eb1b0_0', 'jupyterlab_widgets=1.0.0=pyhd3eb1b0_1', 'keyring=22.3.0=py38haa95532_0', 'kiwisolver=1.3.1=py38hd77b12b_0', 'krb5=1.18.2=hc04afaa_0', 'lazy-object-proxy=1.6.0=py38h2bbff1b_0', 'lcms2=2.12=h83e58a3_0', 'lerc=2.2.1=hd77b12b_0', 'libaec=1.0.4=h33f27b4_1', 'libarchive=3.4.2=h5e25573_0', 'libcurl=7.71.1=h2a8f88b_1', 'libdeflate=1.7=h2bbff1b_5', 'libiconv=1.15=h1df5818_7', 'liblief=0.10.1=ha925a31_0', 'libpng=1.6.37=h2a8f88b_0', 'libsodium=1.0.18=h62dcd97_0', 'libspatialindex=1.9.3=h6c2663c_0', 'libssh2=1.9.0=h7a1dbc1_1', 'libtiff=4.2.0=hd0e1b90_0', 'libxml2=2.9.10=hb89e7f3_3', 'libxslt=1.1.34=he774522_0', 'libzopfli=1.0.3=ha925a31_0', 'llvmlite=0.36.0=py38h34b8924_4', 'locket=0.2.1=py38haa95532_1', 'lxml=4.6.3=py38h9b66d53_0', 'lz4-c=1.9.3=h2bbff1b_0', 'lzo=2.10=he774522_2', 'm2w64-gcc-libgfortran=5.3.0=6', 'm2w64-gcc-libs=5.3.0=7', 'm2w64-gcc-libs-core=5.3.0=7', 'm2w64-gmp=6.1.0=2', 'm2w64-libwinpthread-git=5.0.0.4634.697f757=2', 'markupsafe=1.1.1=py38he774522_0', 'matplotlib=3.3.4=py38haa95532_0', 'matplotlib-base=3.3.4=py38h49ac443_0', 'mccabe=0.6.1=py38_1', 'menuinst=1.4.16=py38he774522_1', 'mistune=0.8.4=py38he774522_1000', 'mkl=2021.2.0=haa95532_296', 'mkl-service=2.3.0=py38h2bbff1b_1', 'mkl_fft=1.3.0=py38h277e83a_2', 'mkl_random=1.2.1=py38hf11a4ad_2', 'mock=4.0.3=pyhd3eb1b0_0', 'more-itertools=8.7.0=pyhd3eb1b0_0', 'mpmath=1.2.1=py38haa95532_0', 'msgpack-python=1.0.2=py38h59b6b97_1', 'msys2-conda-epoch=20160418=1', 'multipledispatch=0.6.0=py38_0', 'mypy_extensions=0.4.3=py38_0', 'navigator-updater=0.2.1=py38_0', 'nbclassic=0.2.6=pyhd3eb1b0_0', 'nbclient=0.5.3=pyhd3eb1b0_0', 'nbconvert=6.0.7=py38_0', 'nbformat=5.1.3=pyhd3eb1b0_0', 'nest-asyncio=1.5.1=pyhd3eb1b0_0', 'networkx=2.5=py_0', 'nltk=3.6.1=pyhd3eb1b0_0', 'nose=1.3.7=pyhd3eb1b0_1006', 'notebook=6.3.0=py38haa95532_0', 'numba=0.53.1=py38hf11a4ad_0', 'numexpr=2.7.3=py38hb80d3ca_1', 'numpy=1.20.1=py38h34a8a5c_0', 'numpy-base=1.20.1=py38haf7ebc8_0', 'numpydoc=1.1.0=pyhd3eb1b0_1', 'olefile=0.46=py_0', 'openjpeg=2.3.0=h5ec785f_1', 'openpyxl=3.0.7=pyhd3eb1b0_0', 'openssl=1.1.1k=h2bbff1b_0', 'packaging=20.9=pyhd3eb1b0_0', 'pandas=1.2.4=py38hd77b12b_0', 'pandoc=2.12=haa95532_0', 'pandocfilters=1.4.3=py38haa95532_1', 'paramiko=2.7.2=py_0', 'parso=0.7.0=py_0', 'partd=1.2.0=pyhd3eb1b0_0', 'path=15.1.2=py38haa95532_0', 'path.py=12.5.0=0', 'pathlib2=2.3.5=py38haa95532_2', 'pathspec=0.7.0=py_0', 'patsy=0.5.1=py38_0', 'pep8=1.7.1=py38_0', 'pexpect=4.8.0=pyhd3eb1b0_3', 'pickleshare=0.7.5=pyhd3eb1b0_1003', 'pillow=8.2.0=py38h4fa10fc_0', 'pip=21.0.1=py38haa95532_0', 'pkginfo=1.7.0=py38haa95532_0', 'pluggy=0.13.1=py38haa95532_0', 'ply=3.11=py38_0', 'powershell_shortcut=0.0.1=3', 'prometheus_client=0.10.1=pyhd3eb1b0_0', 'prompt-toolkit=3.0.17=pyh06a4308_0', 'prompt_toolkit=3.0.17=hd3eb1b0_0', 'psutil=5.8.0=py38h2bbff1b_1', 'ptyprocess=0.7.0=pyhd3eb1b0_2', 'py=1.10.0=pyhd3eb1b0_0', 'py-lief=0.10.1=py38ha925a31_0', 'pycodestyle=2.6.0=pyhd3eb1b0_0', 'pycosat=0.6.3=py38h2bbff1b_0', 'pycparser=2.20=py_2', 'pycurl=7.43.0.6=py38h7a1dbc1_0', 'pydocstyle=6.0.0=pyhd3eb1b0_0', 'pyerfa=1.7.3=py38h2bbff1b_0', 'pyflakes=2.2.0=pyhd3eb1b0_0', 'pygments=2.8.1=pyhd3eb1b0_0', 'pylint=2.7.4=py38haa95532_1', 'pyls-black=0.4.6=hd3eb1b0_0', 'pyls-spyder=0.3.2=pyhd3eb1b0_0', 'pynacl=1.4.0=py38h62dcd97_1', 'pyodbc=4.0.30=py38ha925a31_0', 'pyopenssl=20.0.1=pyhd3eb1b0_1', 'pyparsing=2.4.7=pyhd3eb1b0_0', 'pyqt=5.9.2=py38ha925a31_4', 'pyreadline=2.1=py38_1', 'pyrsistent=0.17.3=py38he774522_0', 'pysocks=1.7.1=py38haa95532_0', 'pytables=3.6.1=py38ha5be198_0', 'pytest=6.2.3=py38haa95532_2', 'python=3.8.8=hdbf39b2_5', 'python-dateutil=2.8.1=pyhd3eb1b0_0', 'python-jsonrpc-server=0.4.0=py_0', 'python-language-server=0.36.2=pyhd3eb1b0_0', 'python-libarchive-c=2.9=pyhd3eb1b0_1', 'pytz=2021.1=pyhd3eb1b0_0', 'pywavelets=1.1.1=py38he774522_2', 'pywin32=227=py38he774522_1', 'pywin32-ctypes=0.2.0=py38_1000', 'pywinpty=0.5.7=py38_0', 'pyyaml=5.4.1=py38h2bbff1b_1', 'pyzmq=20.0.0=py38hd77b12b_1', 'qdarkstyle=2.8.1=py_0', 'qt=5.9.7=vc14h73c81de_0', 'qtawesome=1.0.2=pyhd3eb1b0_0', 'qtconsole=5.0.3=pyhd3eb1b0_0', 'qtpy=1.9.0=py_0', 'regex=2021.4.4=py38h2bbff1b_0', 'requests=2.25.1=pyhd3eb1b0_0', 'rope=0.18.0=py_0', 'rtree=0.9.7=py38h2eaa2aa_1', 'ruamel_yaml=0.15.100=py38h2bbff1b_0', 'scikit-image=0.18.1=py38hf11a4ad_0', 'scikit-learn=0.24.1=py38hf11a4ad_0', 'scipy=1.6.2=py38h66253e8_1', 'seaborn=0.11.1=pyhd3eb1b0_0', 'send2trash=1.5.0=pyhd3eb1b0_1', 'setuptools=52.0.0=py38haa95532_0', 'simplegeneric=0.8.1=py38_2', 'singledispatch=3.6.1=pyhd3eb1b0_1001', 'sip=4.19.13=py38ha925a31_0', 'six=1.15.0=py38haa95532_0', 'snappy=1.1.8=h33f27b4_0', 'sniffio=1.2.0=py38haa95532_1', 'snowballstemmer=2.1.0=pyhd3eb1b0_0', 'sortedcollections=2.1.0=pyhd3eb1b0_0', 'sortedcontainers=2.3.0=pyhd3eb1b0_0', 'soupsieve=2.2.1=pyhd3eb1b0_0', 'sphinx=4.0.1=pyhd3eb1b0_0', 'sphinxcontrib=1.0=py38_1', 'sphinxcontrib-applehelp=1.0.2=pyhd3eb1b0_0', 'sphinxcontrib-devhelp=1.0.2=pyhd3eb1b0_0', 'sphinxcontrib-htmlhelp=1.0.3=pyhd3eb1b0_0', 'sphinxcontrib-jsmath=1.0.1=pyhd3eb1b0_0', 'sphinxcontrib-qthelp=1.0.3=pyhd3eb1b0_0', 'sphinxcontrib-serializinghtml=1.1.4=pyhd3eb1b0_0', 'sphinxcontrib-websupport=1.2.4=py_0', 'spyder=4.2.5=py38haa95532_0', 'spyder-kernels=1.10.2=py38haa95532_0', 'sqlalchemy=1.4.7=py38h2bbff1b_0', 'sqlite=3.35.4=h2bbff1b_0', 'statsmodels=0.12.2=py38h2bbff1b_0', 'sympy=1.8=py38haa95532_0', 'tbb=2020.3=h74a9793_0', 'tblib=1.7.0=py_0', 'terminado=0.9.4=py38haa95532_0', 'testpath=0.4.4=pyhd3eb1b0_0', 'textdistance=4.2.1=pyhd3eb1b0_0', 'threadpoolctl=2.1.0=pyh5ca1d4c_0', 'three-merge=0.1.1=pyhd3eb1b0_0', 'tifffile=2021.4.8=pyhd3eb1b0_2', 'tk=8.6.10=he774522_0', 'toml=0.10.2=pyhd3eb1b0_0', 'toolz=0.11.1=pyhd3eb1b0_0', 'tornado=6.1=py38h2bbff1b_0', 'tqdm=4.59.0=pyhd3eb1b0_1', 'traitlets=5.0.5=pyhd3eb1b0_0', 'typed-ast=1.4.2=py38h2bbff1b_1', 'typing_extensions=3.7.4.3=pyha847dfd_0', 'ujson=4.0.2=py38hd77b12b_0', 'unicodecsv=0.14.1=py38_0', 'urllib3=1.26.4=pyhd3eb1b0_0', 'vc=14.2=h21ff451_1', 'vs2015_runtime=14.27.29016=h5e58377_2', 'watchdog=1.0.2=py38haa95532_1', 'wcwidth=0.2.5=py_0', 'webencodings=0.5.1=py38_1', 'werkzeug=1.0.1=pyhd3eb1b0_0', 'wheel=0.36.2=pyhd3eb1b0_0', 'widgetsnbextension=3.5.1=py38_0', 'win_inet_pton=1.1.0=py38haa95532_0', 'win_unicode_console=0.5=py38_0', 'wincertstore=0.2=py38_0', 'winpty=0.4.3=4', 'wrapt=1.12.1=py38he774522_1', 'xlrd=2.0.1=pyhd3eb1b0_0', 'xlsxwriter=1.3.8=pyhd3eb1b0_0', 'xlwings=0.23.0=py38haa95532_0', 'xlwt=1.3.0=py38_0', 'xmltodict=0.12.0=py_0', 'xz=5.2.5=h62dcd97_0', 'yaml=0.2.5=he774522_0', 'yapf=0.31.0=pyhd3eb1b0_0', 'zeromq=4.3.3=ha925a31_3', 'zfp=0.5.5=hd77b12b_6', 'zict=2.0.0=pyhd3eb1b0_0', 'zipp=3.4.1=pyhd3eb1b0_0', 'zlib=1.2.11=h62dcd97_4', 'zope=1.0=py38_1', 'zope.event=4.5.0=py38_0', 'zope.interface=5.3.0=py38h2bbff1b_0', 'zstd=1.4.5=h04227a9_0', {'pip': ['altgraph==0.17', 'branca==0.4.2', 'coroutine==0.0.2', 'faker==8.5.1', 'folium==0.12.1', 'gits==0.4', 'gtts==2.2.3', 'inexactsearch==1.0.2', 'jupyter-kite==2.0.2', 'jupyterlab-kite==2.0.2', 'pefile==2021.5.24', 'playsound==1.2.2', 'pyaudio==0.2.11', 'pyinstaller==4.3', 'pyinstaller-hooks-contrib==2021.1', 'pympler==0.9', 'pytesseract==0.3.7', 'silpa-common==0.3', 'soundex==1.1.3', 'speechrecognition==3.8.1', 'spellchecker==0.4', 'tesseract==0.1.3', 'text-unidecode==1.3']}]\n",
      "prefix -> C:\\data\\programs\\Anaconda\n",
      "<ipython-input-4-75b9b9d3e59c>:7: YAMLLoadWarning: calling yaml.load_all() without Loader=... is deprecated, as the default Loader is unsafe. Please read https://msg.pyyaml.org/load for full details.\n",
      "  for doc in docs:\n"
     ]
    }
   ],
   "source": [
    "import yaml\n",
    "\n",
    "with open('data/environment.yml') as f:\n",
    "    \n",
    "    docs = yaml.load_all(f)\n",
    "\n",
    "    for doc in docs:\n",
    "        \n",
    "        for k, v in doc.items():\n",
    "            print(k, \"->\", v)"
   ]
  },
  {
   "cell_type": "code",
   "execution_count": 6,
   "metadata": {},
   "outputs": [
    {
     "output_type": "stream",
     "name": "stdout",
     "text": [
      "<class 'str'>\n"
     ]
    }
   ],
   "source": [
    "import yaml\n",
    "\n",
    "users = [{'name': 'John Doe', 'occupation': 'gardener'},\n",
    "         {'name': 'Lucy Black', 'occupation': 'teacher'}]\n",
    "\n",
    "print(type(yaml.dump(users)))"
   ]
  },
  {
   "cell_type": "code",
   "execution_count": 7,
   "metadata": {},
   "outputs": [],
   "source": [
    "import yaml\n",
    "\n",
    "users = [{'name': 'John Doe', 'occupation': 'gardener'},\n",
    "         {'name': 'Lucy Black', 'occupation': 'teacher'}]\n",
    "\n",
    "with open('data/users.yaml', 'w') as f:\n",
    "    \n",
    "    data = yaml.dump(users, f)"
   ]
  },
  {
   "source": [
    "** re **"
   ],
   "cell_type": "markdown",
   "metadata": {}
  },
  {
   "source": [
    "[to read](https://realpython.com/regex-python/)"
   ],
   "cell_type": "markdown",
   "metadata": {}
  },
  {
   "cell_type": "code",
   "execution_count": 56,
   "metadata": {},
   "outputs": [
    {
     "output_type": "stream",
     "name": "stdout",
     "text": [
      "Match!\n"
     ]
    }
   ],
   "source": [
    "import re\n",
    "pattern = r\"Cookie\"\n",
    "sequence = \"Cookie\"\n",
    "if re.match(pattern, sequence):\n",
    "    print(\"Match!\")\n",
    "else: print(\"Not a match!\")"
   ]
  },
  {
   "source": [
    "** . - any symbol excepn \\n **"
   ],
   "cell_type": "markdown",
   "metadata": {}
  },
  {
   "cell_type": "code",
   "execution_count": 57,
   "metadata": {},
   "outputs": [
    {
     "output_type": "execute_result",
     "data": {
      "text/plain": [
       "<re.Match object; span=(0, 6), match='Cookie'>"
      ]
     },
     "metadata": {},
     "execution_count": 57
    }
   ],
   "source": [
    "re.search(r'Co.k.e', 'Cookie')"
   ]
  },
  {
   "cell_type": "code",
   "execution_count": 58,
   "metadata": {},
   "outputs": [
    {
     "output_type": "execute_result",
     "data": {
      "text/plain": [
       "'Cookie'"
      ]
     },
     "metadata": {},
     "execution_count": 58
    }
   ],
   "source": [
    "re.search(r'Co.k.e', 'Cookie').group()"
   ]
  },
  {
   "source": [
    "** ^ - A caret. Matches the start of the string.**"
   ],
   "cell_type": "markdown",
   "metadata": {}
  },
  {
   "cell_type": "code",
   "execution_count": 59,
   "metadata": {},
   "outputs": [
    {
     "output_type": "execute_result",
     "data": {
      "text/plain": [
       "'Eat'"
      ]
     },
     "metadata": {},
     "execution_count": 59
    }
   ],
   "source": [
    "re.search(r'^Eat', \"Eat cake!\").group()"
   ]
  },
  {
   "cell_type": "code",
   "execution_count": 60,
   "metadata": {},
   "outputs": [
    {
     "output_type": "error",
     "ename": "AttributeError",
     "evalue": "'NoneType' object has no attribute 'group'",
     "traceback": [
      "\u001b[1;31m---------------------------------------------------------------------------\u001b[0m",
      "\u001b[1;31mAttributeError\u001b[0m                            Traceback (most recent call last)",
      "\u001b[1;32m<ipython-input-60-5c9ffce46c6b>\u001b[0m in \u001b[0;36m<module>\u001b[1;34m\u001b[0m\n\u001b[1;32m----> 1\u001b[1;33m \u001b[0mre\u001b[0m\u001b[1;33m.\u001b[0m\u001b[0msearch\u001b[0m\u001b[1;33m(\u001b[0m\u001b[1;34mr'^eat'\u001b[0m\u001b[1;33m,\u001b[0m \u001b[1;34m\"Let's eat cake!\"\u001b[0m\u001b[1;33m)\u001b[0m\u001b[1;33m.\u001b[0m\u001b[0mgroup\u001b[0m\u001b[1;33m(\u001b[0m\u001b[1;33m)\u001b[0m\u001b[1;33m\u001b[0m\u001b[1;33m\u001b[0m\u001b[0m\n\u001b[0m",
      "\u001b[1;31mAttributeError\u001b[0m: 'NoneType' object has no attribute 'group'"
     ]
    }
   ],
   "source": [
    "re.search(r'^eat', \"Let's eat cake!\").group()"
   ]
  },
  {
   "source": [
    "** $ - Matches the end of string. **"
   ],
   "cell_type": "markdown",
   "metadata": {}
  },
  {
   "cell_type": "code",
   "execution_count": 63,
   "metadata": {},
   "outputs": [
    {
     "output_type": "execute_result",
     "data": {
      "text/plain": [
       "'cake'"
      ]
     },
     "metadata": {},
     "execution_count": 63
    }
   ],
   "source": [
    "re.search(r'cake$', \"cake! Let's eat cake\").group()"
   ]
  },
  {
   "cell_type": "code",
   "execution_count": 64,
   "metadata": {},
   "outputs": [
    {
     "output_type": "error",
     "ename": "AttributeError",
     "evalue": "'NoneType' object has no attribute 'group'",
     "traceback": [
      "\u001b[1;31m---------------------------------------------------------------------------\u001b[0m",
      "\u001b[1;31mAttributeError\u001b[0m                            Traceback (most recent call last)",
      "\u001b[1;32m<ipython-input-64-2886acaa1ea0>\u001b[0m in \u001b[0;36m<module>\u001b[1;34m\u001b[0m\n\u001b[1;32m----> 1\u001b[1;33m \u001b[0mre\u001b[0m\u001b[1;33m.\u001b[0m\u001b[0msearch\u001b[0m\u001b[1;33m(\u001b[0m\u001b[1;34mr'cake$'\u001b[0m\u001b[1;33m,\u001b[0m \u001b[1;34m\"Let's get some cake on our way home!\"\u001b[0m\u001b[1;33m)\u001b[0m\u001b[1;33m.\u001b[0m\u001b[0mgroup\u001b[0m\u001b[1;33m(\u001b[0m\u001b[1;33m)\u001b[0m\u001b[1;33m\u001b[0m\u001b[1;33m\u001b[0m\u001b[0m\n\u001b[0m",
      "\u001b[1;31mAttributeError\u001b[0m: 'NoneType' object has no attribute 'group'"
     ]
    }
   ],
   "source": [
    "re.search(r'cake$', \"Let's get some cake on our way home!\").group()"
   ]
  },
  {
   "source": [
    "\n",
    "* ```[abc]``` - Matches a or b or c.\n",
    "* ```[a-zA-Z0-9]``` - Matches any letter from (a to z) or (A to Z) or (0 to 9). "
   ],
   "cell_type": "markdown",
   "metadata": {}
  },
  {
   "cell_type": "code",
   "execution_count": 66,
   "metadata": {},
   "outputs": [
    {
     "output_type": "execute_result",
     "data": {
      "text/plain": [
       "'5'"
      ]
     },
     "metadata": {},
     "execution_count": 66
    }
   ],
   "source": [
    "re.search(r'[0-6]', 'Number: 53').group()"
   ]
  },
  {
   "source": [
    "** ^ **"
   ],
   "cell_type": "markdown",
   "metadata": {}
  },
  {
   "cell_type": "code",
   "execution_count": 67,
   "metadata": {},
   "outputs": [
    {
     "output_type": "execute_result",
     "data": {
      "text/plain": [
       "'Number: 0'"
      ]
     },
     "metadata": {},
     "execution_count": 67
    }
   ],
   "source": [
    "re.search(r'Number: [^5]', 'Number: 0').group()"
   ]
  },
  {
   "cell_type": "code",
   "execution_count": 69,
   "metadata": {},
   "outputs": [
    {
     "output_type": "error",
     "ename": "NameError",
     "evalue": "name 'e' is not defined",
     "traceback": [
      "\u001b[1;31m---------------------------------------------------------------------------\u001b[0m",
      "\u001b[1;31mNameError\u001b[0m                                 Traceback (most recent call last)",
      "\u001b[1;32m<ipython-input-69-47b4a041c515>\u001b[0m in \u001b[0;36m<module>\u001b[1;34m\u001b[0m\n\u001b[1;32m----> 1\u001b[1;33m \u001b[0me\u001b[0m\u001b[1;33m.\u001b[0m\u001b[0msearch\u001b[0m\u001b[1;33m(\u001b[0m\u001b[1;34mr'Number: [^5]'\u001b[0m\u001b[1;33m,\u001b[0m \u001b[1;34m'Number: 5'\u001b[0m\u001b[1;33m)\u001b[0m\u001b[1;33m.\u001b[0m\u001b[0mgroup\u001b[0m\u001b[1;33m(\u001b[0m\u001b[1;33m)\u001b[0m\u001b[1;33m\u001b[0m\u001b[1;33m\u001b[0m\u001b[0m\n\u001b[0m",
      "\u001b[1;31mNameError\u001b[0m: name 'e' is not defined"
     ]
    }
   ],
   "source": [
    "e.search(r'Number: [^5]', 'Number: 5').group()"
   ]
  },
  {
   "source": [
    "** \\w - Lowercase 'w'. Matches any single letter, digit, or underscore. **\n",
    "** \\W - Uppercase 'W'. Matches any character not part of \\w (lowercase w). **"
   ],
   "cell_type": "markdown",
   "metadata": {}
  },
  {
   "cell_type": "code",
   "execution_count": 71,
   "metadata": {},
   "outputs": [
    {
     "output_type": "stream",
     "name": "stdout",
     "text": [
      "Lowercase w: Cookie\n"
     ]
    }
   ],
   "source": [
    "print(\"Lowercase w:\", re.search(r'Co\\wk\\we', 'Cookie').group())"
   ]
  },
  {
   "source": [
    "** \\s - Lowercase 's'. Matches a single whitespace character like: space, newline, tab, return.\n",
    "\\S - Uppercase 'S'. Matches any character not part of \\s (lowercase s).**"
   ],
   "cell_type": "markdown",
   "metadata": {}
  },
  {
   "cell_type": "code",
   "execution_count": 72,
   "metadata": {},
   "outputs": [
    {
     "output_type": "stream",
     "name": "stdout",
     "text": [
      "Lowercase s: Eat cake\nUppercase S: cookie\n"
     ]
    }
   ],
   "source": [
    "print(\"Lowercase s:\", re.search(r'Eat\\scake', 'Eat cake').group())\n",
    "print(\"Uppercase S:\", re.search(r'cook\\Se', \"Let's eat cookie\").group())"
   ]
  },
  {
   "source": [
    "** \\d - Lowercase d. Matches decimal digit 0-9.\n",
    "\\D - Uppercase d. Matches any character that is not a decimal digit. **"
   ],
   "cell_type": "markdown",
   "metadata": {}
  },
  {
   "cell_type": "code",
   "execution_count": 74,
   "metadata": {},
   "outputs": [
    {
     "output_type": "stream",
     "name": "stdout",
     "text": [
      "How many cookies do you want?  100\n"
     ]
    }
   ],
   "source": [
    "print(\"How many cookies do you want? \", re.search(r'\\d+', '100 cookies').group())"
   ]
  },
  {
   "source": [
    "** + - Checks if the preceding character appears one or more times starting from that position. **"
   ],
   "cell_type": "markdown",
   "metadata": {}
  },
  {
   "source": [
    "re.search(r'Co+kie', 'Cooookie').group()"
   ],
   "cell_type": "code",
   "metadata": {},
   "execution_count": 75,
   "outputs": [
    {
     "output_type": "execute_result",
     "data": {
      "text/plain": [
       "'Cooookie'"
      ]
     },
     "metadata": {},
     "execution_count": 75
    }
   ]
  },
  {
   "source": [
    "** * - Checks if the preceding character appears zero or more times starting from that position.**"
   ],
   "cell_type": "markdown",
   "metadata": {}
  },
  {
   "cell_type": "code",
   "execution_count": 76,
   "metadata": {},
   "outputs": [
    {
     "output_type": "execute_result",
     "data": {
      "text/plain": [
       "'Cookie'"
      ]
     },
     "metadata": {},
     "execution_count": 76
    }
   ],
   "source": [
    "re.search(r'Ca*o*kie', 'Cookie').group()"
   ]
  },
  {
   "source": [
    "** ? - Checks if the preceding character appears exactly zero or one time starting from that position.**"
   ],
   "cell_type": "markdown",
   "metadata": {}
  },
  {
   "source": [
    "re.search(r'Colou?r', 'Color').group()"
   ],
   "cell_type": "code",
   "metadata": {},
   "execution_count": 77,
   "outputs": [
    {
     "output_type": "execute_result",
     "data": {
      "text/plain": [
       "'Color'"
      ]
     },
     "metadata": {},
     "execution_count": 77
    }
   ]
  },
  {
   "cell_type": "code",
   "execution_count": 78,
   "metadata": {},
   "outputs": [
    {
     "output_type": "execute_result",
     "data": {
      "text/plain": [
       "'0987654321'"
      ]
     },
     "metadata": {},
     "execution_count": 78
    }
   ],
   "source": [
    "re.search(r'\\d{9,10}', '0987654321').group()"
   ]
  },
  {
   "cell_type": "code",
   "execution_count": 80,
   "metadata": {},
   "outputs": [
    {
     "output_type": "stream",
     "name": "stdout",
     "text": [
      "Email address: support@datacamp.com\nUsername: support\nHost: datacamp.com\n"
     ]
    }
   ],
   "source": [
    "statement = 'Please contact us at: support@datacamp.com'\n",
    "match = re.search(r'([\\w\\.]+)@([\\w\\.]+)', statement)\n",
    "if statement:\n",
    "  print(\"Email address:\", match.group()) # The whole matched text\n",
    "  print(\"Username:\", match.group(1)) # The username (group 1)\n",
    "  print(\"Host:\", match.group(2)) # The host (group 2)"
   ]
  },
  {
   "cell_type": "code",
   "execution_count": null,
   "metadata": {},
   "outputs": [],
   "source": [
    "re.search(\"rc.t\")"
   ]
  },
  {
   "cell_type": "code",
   "execution_count": 82,
   "metadata": {},
   "outputs": [
    {
     "output_type": "stream",
     "name": "stdout",
     "text": [
      "support@datacamp.com\nxyz@datacamp.com\n"
     ]
    }
   ],
   "source": [
    "statement = \"Please contact us at: support@datacamp.com, xyz@datacamp.com\"\n",
    "\n",
    "#'addresses' is a list that stores all the possible match\n",
    "addresses = re.findall(r'[\\w\\.]+@[\\w\\.]+', statement)\n",
    "for address in addresses:\n",
    "    print(address)"
   ]
  },
  {
   "cell_type": "code",
   "execution_count": 85,
   "metadata": {},
   "outputs": [
    {
     "output_type": "execute_result",
     "data": {
      "text/plain": [
       "'cookie'"
      ]
     },
     "metadata": {},
     "execution_count": 85
    }
   ],
   "source": [
    "pattern = re.compile(r\"cookie\")\n",
    "sequence = \"Cake and cookie\"\n",
    "pattern.search(sequence).group()"
   ]
  },
  {
   "cell_type": "code",
   "execution_count": 86,
   "metadata": {},
   "outputs": [
    {
     "output_type": "execute_result",
     "data": {
      "text/plain": [
       "'<h1>TITLE</h1>'"
      ]
     },
     "metadata": {},
     "execution_count": 86
    }
   ],
   "source": [
    "pattern = \"cookie\"\n",
    "sequence = \"Cake and cookie\"\n",
    "\n",
    "heading  = r'<h1>TITLE</h1>'\n",
    "re.match(r'<.*>', heading).group()"
   ]
  },
  {
   "cell_type": "code",
   "execution_count": 87,
   "metadata": {},
   "outputs": [
    {
     "output_type": "execute_result",
     "data": {
      "text/plain": [
       "'<h1>'"
      ]
     },
     "metadata": {},
     "execution_count": 87
    }
   ],
   "source": [
    "heading  = r'<h1>TITLE</h1>'\n",
    "re.match(r'<.*?>', heading).group()"
   ]
  }
 ]
}