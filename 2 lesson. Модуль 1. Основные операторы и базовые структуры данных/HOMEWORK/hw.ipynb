{
 "metadata": {
  "language_info": {
   "codemirror_mode": {
    "name": "ipython",
    "version": 3
   },
   "file_extension": ".py",
   "mimetype": "text/x-python",
   "name": "python",
   "nbconvert_exporter": "python",
   "pygments_lexer": "ipython3",
   "version": 3
  },
  "orig_nbformat": 2
 },
 "nbformat": 4,
 "nbformat_minor": 2,
 "cells": [
  {
   "source": [
    "# Задание 1"
   ],
   "cell_type": "markdown",
   "metadata": {}
  },
  {
   "source": [
    "Заданы размеры окна прямоугольной формы window_x, window_y на первой строке и размеры шкафа(параллелепипед) cupboard_x, cupboard_y, cupboard_z. Определить, пройдет ли шкаф в окно. Сделаем допущение, что грани окна и шкафа должны быть параллельны. "
   ],
   "cell_type": "markdown",
   "metadata": {}
  },
  {
   "cell_type": "code",
   "execution_count": null,
   "metadata": {},
   "outputs": [],
   "source": [
    "### YOUR CODE HERE "
   ]
  },
  {
   "source": [
    "# Задание 2"
   ],
   "cell_type": "markdown",
   "metadata": {}
  },
  {
   "source": [
    "Пользователь вводит число n. Вывести n-ый член из [последовательности Фибоначчи](https://ru.wikipedia.org/wiki/Числа_Фибоначчи)."
   ],
   "cell_type": "markdown",
   "metadata": {}
  },
  {
   "cell_type": "code",
   "execution_count": null,
   "metadata": {},
   "outputs": [],
   "source": [
    "### YOUR CODE HERE "
   ]
  },
  {
   "source": [
    "# Задание 3"
   ],
   "cell_type": "markdown",
   "metadata": {}
  },
  {
   "source": [
    "Набрать 10 баллов на https://www.codewars.com"
   ],
   "cell_type": "markdown",
   "metadata": {}
  },
  {
   "source": [
    "Загрузить скрин с баллами."
   ],
   "cell_type": "markdown",
   "metadata": {}
  },
  {
   "source": [
    "# Задание 4"
   ],
   "cell_type": "markdown",
   "metadata": {}
  },
  {
   "source": [
    "Пользователь вводит строку. Проверить, является ли она [палиндромом](https://ru.wikipedia.org/wiki/Палиндром)"
   ],
   "cell_type": "markdown",
   "metadata": {}
  },
  {
   "cell_type": "code",
   "execution_count": null,
   "metadata": {},
   "outputs": [],
   "source": [
    "### YOUR CODE HERE "
   ]
  }
 ]
}