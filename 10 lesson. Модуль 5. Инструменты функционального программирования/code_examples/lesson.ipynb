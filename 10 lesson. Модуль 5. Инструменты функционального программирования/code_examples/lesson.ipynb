{
 "metadata": {
  "language_info": {
   "codemirror_mode": {
    "name": "ipython",
    "version": 3
   },
   "file_extension": ".py",
   "mimetype": "text/x-python",
   "name": "python",
   "nbconvert_exporter": "python",
   "pygments_lexer": "ipython3",
   "version": "3.8.8"
  },
  "orig_nbformat": 4,
  "kernelspec": {
   "name": "python3",
   "display_name": "Python 3.8.8 64-bit ('base': conda)"
  },
  "interpreter": {
   "hash": "7b1a062bb510a37bcdd2ba61ed6bba242638905c2c079c3f0f71d3b5a6f7f2ab"
  }
 },
 "nbformat": 4,
 "nbformat_minor": 2,
 "cells": [
  {
   "source": [
    "# Инструменты функционального программирования"
   ],
   "cell_type": "markdown",
   "metadata": {}
  },
  {
   "source": [
    "## Lection"
   ],
   "cell_type": "markdown",
   "metadata": {}
  },
  {
   "source": [
    "** Variable Scope Rules **"
   ],
   "cell_type": "markdown",
   "metadata": {}
  },
  {
   "cell_type": "code",
   "execution_count": 25,
   "metadata": {},
   "outputs": [
    {
     "output_type": "stream",
     "name": "stdout",
     "text": [
      "3\n"
     ]
    },
    {
     "output_type": "error",
     "ename": "NameError",
     "evalue": "name 'b' is not defined",
     "traceback": [
      "\u001b[1;31m---------------------------------------------------------------------------\u001b[0m",
      "\u001b[1;31mNameError\u001b[0m                                 Traceback (most recent call last)",
      "\u001b[1;32m<ipython-input-25-6415d7138a47>\u001b[0m in \u001b[0;36m<module>\u001b[1;34m\u001b[0m\n\u001b[0;32m      2\u001b[0m     \u001b[0mprint\u001b[0m\u001b[1;33m(\u001b[0m\u001b[0ma\u001b[0m\u001b[1;33m)\u001b[0m\u001b[1;33m\u001b[0m\u001b[1;33m\u001b[0m\u001b[0m\n\u001b[0;32m      3\u001b[0m     \u001b[0mprint\u001b[0m\u001b[1;33m(\u001b[0m\u001b[0mb\u001b[0m\u001b[1;33m)\u001b[0m\u001b[1;33m\u001b[0m\u001b[1;33m\u001b[0m\u001b[0m\n\u001b[1;32m----> 4\u001b[1;33m \u001b[0mf1\u001b[0m\u001b[1;33m(\u001b[0m\u001b[1;36m3\u001b[0m\u001b[1;33m)\u001b[0m\u001b[1;33m\u001b[0m\u001b[1;33m\u001b[0m\u001b[0m\n\u001b[0m\u001b[0;32m      5\u001b[0m \u001b[1;31m# b1 = 6\u001b[0m\u001b[1;33m\u001b[0m\u001b[1;33m\u001b[0m\u001b[1;33m\u001b[0m\u001b[0m\n",
      "\u001b[1;32m<ipython-input-25-6415d7138a47>\u001b[0m in \u001b[0;36mf1\u001b[1;34m(a)\u001b[0m\n\u001b[0;32m      1\u001b[0m \u001b[1;32mdef\u001b[0m \u001b[0mf1\u001b[0m\u001b[1;33m(\u001b[0m\u001b[0ma\u001b[0m\u001b[1;33m)\u001b[0m\u001b[1;33m:\u001b[0m\u001b[1;33m\u001b[0m\u001b[1;33m\u001b[0m\u001b[0m\n\u001b[0;32m      2\u001b[0m     \u001b[0mprint\u001b[0m\u001b[1;33m(\u001b[0m\u001b[0ma\u001b[0m\u001b[1;33m)\u001b[0m\u001b[1;33m\u001b[0m\u001b[1;33m\u001b[0m\u001b[0m\n\u001b[1;32m----> 3\u001b[1;33m     \u001b[0mprint\u001b[0m\u001b[1;33m(\u001b[0m\u001b[0mb\u001b[0m\u001b[1;33m)\u001b[0m\u001b[1;33m\u001b[0m\u001b[1;33m\u001b[0m\u001b[0m\n\u001b[0m\u001b[0;32m      4\u001b[0m \u001b[0mf1\u001b[0m\u001b[1;33m(\u001b[0m\u001b[1;36m3\u001b[0m\u001b[1;33m)\u001b[0m\u001b[1;33m\u001b[0m\u001b[1;33m\u001b[0m\u001b[0m\n\u001b[0;32m      5\u001b[0m \u001b[1;31m# b1 = 6\u001b[0m\u001b[1;33m\u001b[0m\u001b[1;33m\u001b[0m\u001b[1;33m\u001b[0m\u001b[0m\n",
      "\u001b[1;31mNameError\u001b[0m: name 'b' is not defined"
     ]
    }
   ],
   "source": [
    "def f1(a):\n",
    "    print(a)\n",
    "    print(b)\n",
    "f1(3)\n",
    "# b1 = 6"
   ]
  },
  {
   "cell_type": "code",
   "execution_count": 2,
   "metadata": {},
   "outputs": [
    {
     "output_type": "stream",
     "name": "stdout",
     "text": [
      "3\n"
     ]
    },
    {
     "output_type": "error",
     "ename": "UnboundLocalError",
     "evalue": "local variable 'b' referenced before assignment",
     "traceback": [
      "\u001b[1;31m---------------------------------------------------------------------------\u001b[0m",
      "\u001b[1;31mUnboundLocalError\u001b[0m                         Traceback (most recent call last)",
      "\u001b[1;32m<ipython-input-2-55c0dd1a1ffb>\u001b[0m in \u001b[0;36m<module>\u001b[1;34m\u001b[0m\n\u001b[0;32m      5\u001b[0m     \u001b[0mb\u001b[0m \u001b[1;33m=\u001b[0m \u001b[1;36m9\u001b[0m\u001b[1;33m\u001b[0m\u001b[1;33m\u001b[0m\u001b[0m\n\u001b[0;32m      6\u001b[0m \u001b[1;33m\u001b[0m\u001b[0m\n\u001b[1;32m----> 7\u001b[1;33m \u001b[0mf2\u001b[0m\u001b[1;33m(\u001b[0m\u001b[1;36m3\u001b[0m\u001b[1;33m)\u001b[0m\u001b[1;33m\u001b[0m\u001b[1;33m\u001b[0m\u001b[0m\n\u001b[0m",
      "\u001b[1;32m<ipython-input-2-55c0dd1a1ffb>\u001b[0m in \u001b[0;36mf2\u001b[1;34m(a)\u001b[0m\n\u001b[0;32m      2\u001b[0m \u001b[1;32mdef\u001b[0m \u001b[0mf2\u001b[0m\u001b[1;33m(\u001b[0m\u001b[0ma\u001b[0m\u001b[1;33m)\u001b[0m\u001b[1;33m:\u001b[0m\u001b[1;33m\u001b[0m\u001b[1;33m\u001b[0m\u001b[0m\n\u001b[0;32m      3\u001b[0m     \u001b[0mprint\u001b[0m\u001b[1;33m(\u001b[0m\u001b[0ma\u001b[0m\u001b[1;33m)\u001b[0m\u001b[1;33m\u001b[0m\u001b[1;33m\u001b[0m\u001b[0m\n\u001b[1;32m----> 4\u001b[1;33m     \u001b[0mprint\u001b[0m\u001b[1;33m(\u001b[0m\u001b[0mb\u001b[0m\u001b[1;33m)\u001b[0m\u001b[1;33m\u001b[0m\u001b[1;33m\u001b[0m\u001b[0m\n\u001b[0m\u001b[0;32m      5\u001b[0m     \u001b[0mb\u001b[0m \u001b[1;33m=\u001b[0m \u001b[1;36m9\u001b[0m\u001b[1;33m\u001b[0m\u001b[1;33m\u001b[0m\u001b[0m\n\u001b[0;32m      6\u001b[0m \u001b[1;33m\u001b[0m\u001b[0m\n",
      "\u001b[1;31mUnboundLocalError\u001b[0m: local variable 'b' referenced before assignment"
     ]
    }
   ],
   "source": [
    "b = 6\n",
    "def f2(a):\n",
    "    print(a)\n",
    "    print(b)\n",
    "    b = 9\n",
    "\n",
    "f2(3)"
   ]
  },
  {
   "cell_type": "code",
   "execution_count": 4,
   "metadata": {},
   "outputs": [
    {
     "output_type": "stream",
     "name": "stdout",
     "text": [
      "3\n6\n9\n"
     ]
    }
   ],
   "source": [
    "b = 6\n",
    "def f3(a):\n",
    "    global b\n",
    "    print(a)\n",
    "    print(b)\n",
    "    b = 9\n",
    "\n",
    "f3(3)\n",
    "print(b)"
   ]
  },
  {
   "source": [
    "[to read about dis](https://docs.python.org/3/library/dis.html)"
   ],
   "cell_type": "markdown",
   "metadata": {}
  },
  {
   "source": [
    "[to read about digits](https://stackoverflow.com/questions/12673074/how-should-i-understand-the-output-of-dis-dis)"
   ],
   "cell_type": "markdown",
   "metadata": {}
  },
  {
   "cell_type": "code",
   "execution_count": 5,
   "metadata": {},
   "outputs": [
    {
     "output_type": "stream",
     "name": "stdout",
     "text": [
      "  2           0 LOAD_GLOBAL              0 (print)\n              2 LOAD_FAST                0 (a)\n              4 CALL_FUNCTION            1\n              6 POP_TOP\n\n  3           8 LOAD_GLOBAL              0 (print)\n             10 LOAD_GLOBAL              1 (b)\n             12 CALL_FUNCTION            1\n             14 POP_TOP\n             16 LOAD_CONST               0 (None)\n             18 RETURN_VALUE\n"
     ]
    }
   ],
   "source": [
    "from dis import dis\n",
    "\n",
    "dis(f1)"
   ]
  },
  {
   "cell_type": "code",
   "execution_count": 6,
   "metadata": {},
   "outputs": [
    {
     "output_type": "stream",
     "name": "stdout",
     "text": [
      "  3           0 LOAD_GLOBAL              0 (print)\n              2 LOAD_FAST                0 (a)\n              4 CALL_FUNCTION            1\n              6 POP_TOP\n\n  4           8 LOAD_GLOBAL              0 (print)\n             10 LOAD_FAST                1 (b)\n             12 CALL_FUNCTION            1\n             14 POP_TOP\n\n  5          16 LOAD_CONST               1 (9)\n             18 STORE_FAST               1 (b)\n             20 LOAD_CONST               0 (None)\n             22 RETURN_VALUE\n"
     ]
    }
   ],
   "source": [
    "dis(f2)"
   ]
  },
  {
   "cell_type": "code",
   "execution_count": 7,
   "metadata": {},
   "outputs": [
    {
     "output_type": "stream",
     "name": "stdout",
     "text": [
      "  4           0 LOAD_GLOBAL              0 (print)\n              2 LOAD_FAST                0 (a)\n              4 CALL_FUNCTION            1\n              6 POP_TOP\n\n  5           8 LOAD_GLOBAL              0 (print)\n             10 LOAD_GLOBAL              1 (b)\n             12 CALL_FUNCTION            1\n             14 POP_TOP\n\n  6          16 LOAD_CONST               1 (9)\n             18 STORE_GLOBAL             1 (b)\n             20 LOAD_CONST               0 (None)\n             22 RETURN_VALUE\n"
     ]
    }
   ],
   "source": [
    "dis(f3)"
   ]
  },
  {
   "source": [
    "** Closures **"
   ],
   "cell_type": "markdown",
   "metadata": {}
  },
  {
   "source": [
    "A Closure is a function object that remembers values in enclosing scopes"
   ],
   "cell_type": "markdown",
   "metadata": {}
  },
  {
   "cell_type": "code",
   "execution_count": 12,
   "metadata": {},
   "outputs": [
    {
     "output_type": "execute_result",
     "data": {
      "text/plain": [
       "12.5"
      ]
     },
     "metadata": {},
     "execution_count": 12
    }
   ],
   "source": [
    "def make_averager():\n",
    "    data = []\n",
    "    x=3\n",
    "    def averager(new_value):\n",
    "        data.append(new_value)\n",
    "        total = sum(data)\n",
    "        return total/len(data)\n",
    "    return averager\n",
    "avg = make_averager()\n",
    "avg(10)\n",
    "avg(15)"
   ]
  },
  {
   "cell_type": "code",
   "execution_count": 13,
   "metadata": {},
   "outputs": [
    {
     "output_type": "execute_result",
     "data": {
      "text/plain": [
       "('new_value', 'total')"
      ]
     },
     "metadata": {},
     "execution_count": 13
    }
   ],
   "source": [
    "avg.__code__.co_varnames"
   ]
  },
  {
   "cell_type": "code",
   "execution_count": 14,
   "metadata": {},
   "outputs": [
    {
     "output_type": "execute_result",
     "data": {
      "text/plain": [
       "('data',)"
      ]
     },
     "metadata": {},
     "execution_count": 14
    }
   ],
   "source": [
    "avg.__code__.co_freevars"
   ]
  },
  {
   "cell_type": "code",
   "execution_count": 15,
   "metadata": {},
   "outputs": [
    {
     "output_type": "execute_result",
     "data": {
      "text/plain": [
       "(<cell at 0x000002582DFC71F0: list object at 0x000002582DC6EAC0>,)"
      ]
     },
     "metadata": {},
     "execution_count": 15
    }
   ],
   "source": [
    "avg.__closure__"
   ]
  },
  {
   "cell_type": "code",
   "execution_count": 19,
   "metadata": {},
   "outputs": [
    {
     "output_type": "execute_result",
     "data": {
      "text/plain": [
       "[10, 15]"
      ]
     },
     "metadata": {},
     "execution_count": 19
    }
   ],
   "source": [
    "avg.__closure__[0].cell_contents"
   ]
  },
  {
   "source": [
    "** non local **"
   ],
   "cell_type": "markdown",
   "metadata": {}
  },
  {
   "cell_type": "code",
   "execution_count": 21,
   "metadata": {},
   "outputs": [
    {
     "output_type": "error",
     "ename": "UnboundLocalError",
     "evalue": "local variable 'count' referenced before assignment",
     "traceback": [
      "\u001b[1;31m---------------------------------------------------------------------------\u001b[0m",
      "\u001b[1;31mUnboundLocalError\u001b[0m                         Traceback (most recent call last)",
      "\u001b[1;32m<ipython-input-21-e1af258a3f12>\u001b[0m in \u001b[0;36m<module>\u001b[1;34m\u001b[0m\n\u001b[0;32m      8\u001b[0m     \u001b[1;32mreturn\u001b[0m \u001b[0maverager\u001b[0m\u001b[1;33m\u001b[0m\u001b[1;33m\u001b[0m\u001b[0m\n\u001b[0;32m      9\u001b[0m \u001b[0mavg\u001b[0m \u001b[1;33m=\u001b[0m \u001b[0mmake_averager\u001b[0m\u001b[1;33m(\u001b[0m\u001b[1;33m)\u001b[0m\u001b[1;33m\u001b[0m\u001b[1;33m\u001b[0m\u001b[0m\n\u001b[1;32m---> 10\u001b[1;33m \u001b[0mavg\u001b[0m\u001b[1;33m(\u001b[0m\u001b[1;36m10\u001b[0m\u001b[1;33m)\u001b[0m\u001b[1;33m\u001b[0m\u001b[1;33m\u001b[0m\u001b[0m\n\u001b[0m",
      "\u001b[1;32m<ipython-input-21-e1af258a3f12>\u001b[0m in \u001b[0;36maverager\u001b[1;34m(new_value)\u001b[0m\n\u001b[0;32m      3\u001b[0m     \u001b[0mtotal\u001b[0m \u001b[1;33m=\u001b[0m \u001b[1;36m0\u001b[0m\u001b[1;33m\u001b[0m\u001b[1;33m\u001b[0m\u001b[0m\n\u001b[0;32m      4\u001b[0m     \u001b[1;32mdef\u001b[0m \u001b[0maverager\u001b[0m\u001b[1;33m(\u001b[0m\u001b[0mnew_value\u001b[0m\u001b[1;33m)\u001b[0m\u001b[1;33m:\u001b[0m\u001b[1;33m\u001b[0m\u001b[1;33m\u001b[0m\u001b[0m\n\u001b[1;32m----> 5\u001b[1;33m         \u001b[0mcount\u001b[0m \u001b[1;33m+=\u001b[0m \u001b[1;36m1\u001b[0m\u001b[1;33m\u001b[0m\u001b[1;33m\u001b[0m\u001b[0m\n\u001b[0m\u001b[0;32m      6\u001b[0m         \u001b[0mtotal\u001b[0m \u001b[1;33m+=\u001b[0m \u001b[0mnew_value\u001b[0m\u001b[1;33m\u001b[0m\u001b[1;33m\u001b[0m\u001b[0m\n\u001b[0;32m      7\u001b[0m         \u001b[1;32mreturn\u001b[0m \u001b[0mtotal\u001b[0m \u001b[1;33m/\u001b[0m \u001b[0mcount\u001b[0m\u001b[1;33m\u001b[0m\u001b[1;33m\u001b[0m\u001b[0m\n",
      "\u001b[1;31mUnboundLocalError\u001b[0m: local variable 'count' referenced before assignment"
     ]
    }
   ],
   "source": [
    "def make_averager():\n",
    "    count = 0\n",
    "    total = 0\n",
    "    def averager(new_value):\n",
    "        count += 1\n",
    "        total += new_value\n",
    "        return total / count\n",
    "    return averager\n",
    "avg = make_averager()\n",
    "avg(10)"
   ]
  },
  {
   "cell_type": "code",
   "execution_count": 22,
   "metadata": {},
   "outputs": [
    {
     "output_type": "execute_result",
     "data": {
      "text/plain": [
       "10.0"
      ]
     },
     "metadata": {},
     "execution_count": 22
    }
   ],
   "source": [
    "def make_averager():\n",
    "    count = 0\n",
    "    total = 0\n",
    "    def averager(new_value):\n",
    "        nonlocal count, total\n",
    "        count += 1\n",
    "        total += new_value\n",
    "        return total / count\n",
    "    return averager\n",
    "avg = make_averager()\n",
    "avg(10)"
   ]
  },
  {
   "cell_type": "code",
   "execution_count": 26,
   "metadata": {},
   "outputs": [
    {
     "output_type": "stream",
     "name": "stdout",
     "text": [
      "10\n1\n"
     ]
    }
   ],
   "source": [
    "print(avg.__closure__[1].cell_contents)\n",
    "print(avg.__closure__[0].cell_contents)"
   ]
  },
  {
   "source": [
    "** Decorators **"
   ],
   "cell_type": "markdown",
   "metadata": {}
  },
  {
   "source": [
    "** 1 **"
   ],
   "cell_type": "markdown",
   "metadata": {}
  },
  {
   "cell_type": "code",
   "execution_count": 27,
   "metadata": {},
   "outputs": [
    {
     "output_type": "stream",
     "name": "stdout",
     "text": [
      "this is the text\n<div>this is the text</div>\n"
     ]
    }
   ],
   "source": [
    "def get_text():\n",
    "    return \"this is the text\"\n",
    "\n",
    "def add_div(fn):\n",
    "    def wrapper(): \n",
    "        return \"<div>\"+fn()+\"</div>\"\n",
    "    return wrapper\n",
    "print(get_text())\n",
    "\n",
    "get_text = add_div(get_text)\n",
    "\n",
    "print(get_text())"
   ]
  },
  {
   "cell_type": "code",
   "execution_count": 28,
   "metadata": {},
   "outputs": [
    {
     "output_type": "execute_result",
     "data": {
      "text/plain": [
       "'<div>this is the text</div>'"
      ]
     },
     "metadata": {},
     "execution_count": 28
    }
   ],
   "source": [
    "def add_div(fn):\n",
    "    def wrapper(): \n",
    "        return \"<div>\"+fn()+\"</div>\"\n",
    "    return wrapper\n",
    "@add_div\n",
    "def get_text():\n",
    "    return \"this is the text\"\n",
    "get_text()"
   ]
  },
  {
   "source": [
    "** 2 **"
   ],
   "cell_type": "markdown",
   "metadata": {}
  },
  {
   "cell_type": "code",
   "execution_count": 29,
   "metadata": {},
   "outputs": [
    {
     "output_type": "execute_result",
     "data": {
      "text/plain": [
       "'<div>hello</div>'"
      ]
     },
     "metadata": {},
     "execution_count": 29
    }
   ],
   "source": [
    "def add_div(fn):\n",
    "    def wrapper(txt): \n",
    "        return \"<div>\"+fn(txt)+\"</div>\"\n",
    "    return wrapper\n",
    "@add_div\n",
    "def get_text(txt):\n",
    "    return txt\n",
    "get_text(\"hello\")"
   ]
  },
  {
   "source": [
    "** 3 **"
   ],
   "cell_type": "markdown",
   "metadata": {}
  },
  {
   "cell_type": "code",
   "execution_count": 30,
   "metadata": {},
   "outputs": [
    {
     "output_type": "execute_result",
     "data": {
      "text/plain": [
       "'<span>hello</span>'"
      ]
     },
     "metadata": {},
     "execution_count": 30
    }
   ],
   "source": [
    "def add_tag(tag):\n",
    "    def add_div(fn):\n",
    "        def wrapper(txt): \n",
    "            return f\"<{tag}>{fn(txt)}</{tag}>\"\n",
    "        return wrapper\n",
    "    return add_div\n",
    "@add_tag('span')\n",
    "def get_text(txt):\n",
    "    return txt\n",
    "get_text(\"hello\")"
   ]
  },
  {
   "source": [
    "** 4 **"
   ],
   "cell_type": "markdown",
   "metadata": {}
  },
  {
   "cell_type": "code",
   "execution_count": 31,
   "metadata": {},
   "outputs": [
    {
     "output_type": "execute_result",
     "data": {
      "text/plain": [
       "'<span><div>hello</div></span>'"
      ]
     },
     "metadata": {},
     "execution_count": 31
    }
   ],
   "source": [
    "@add_tag('span')\n",
    "@add_tag('div')\n",
    "def get_text(txt):\n",
    "    return txt\n",
    "get_text(\"hello\")"
   ]
  },
  {
   "source": [
    "** 5 **"
   ],
   "cell_type": "markdown",
   "metadata": {}
  },
  {
   "cell_type": "code",
   "execution_count": 19,
   "metadata": {},
   "outputs": [
    {
     "output_type": "execute_result",
     "data": {
      "text/plain": [
       "'<span>hello</span>'"
      ]
     },
     "metadata": {},
     "execution_count": 19
    }
   ],
   "source": [
    "def add_tag(fn = None, *, tag = \"span\" ):\n",
    "    if fn is None:\n",
    "        return lambda fn: add_tag(fn, tag = tag)\n",
    "    def wrapper(txt): \n",
    "        return f\"<{tag}>{fn(txt)}</{tag}>\"\n",
    "    return wrapper\n",
    "\n",
    "@add_tag(tag = \"span\")\n",
    "def get_text(txt):\n",
    "    return txt\n",
    "get_text(\"hello\")"
   ]
  },
  {
   "cell_type": "code",
   "execution_count": 1,
   "metadata": {},
   "outputs": [
    {
     "output_type": "stream",
     "name": "stdout",
     "text": [
      "identity (42,) {}\n"
     ]
    },
    {
     "output_type": "execute_result",
     "data": {
      "text/plain": [
       "42"
      ]
     },
     "metadata": {},
     "execution_count": 1
    }
   ],
   "source": [
    "def trace(func):\n",
    "    def inner(*args, **kwargs):\n",
    "        print(func.__name__, args, kwargs)\n",
    "        return func(*args, **kwargs)\n",
    "    return inner\n",
    "@trace\n",
    "def identity(x):\n",
    "    \"I do nothing useful.\"\n",
    "    return x\n",
    "identity(42)"
   ]
  },
  {
   "cell_type": "code",
   "execution_count": 2,
   "metadata": {},
   "outputs": [
    {
     "output_type": "stream",
     "name": "stdout",
     "text": [
      "Help on function inner in module __main__:\n\ninner(*args, **kwargs)\n\n"
     ]
    }
   ],
   "source": [
    "help(identity)"
   ]
  },
  {
   "cell_type": "code",
   "execution_count": 3,
   "metadata": {},
   "outputs": [],
   "source": [
    "identity.__doc__"
   ]
  },
  {
   "cell_type": "code",
   "execution_count": 4,
   "metadata": {},
   "outputs": [],
   "source": [
    "def identity(x):\n",
    "    \"I do nothing useful.\"\n",
    "    return x\n"
   ]
  },
  {
   "cell_type": "code",
   "execution_count": 5,
   "metadata": {},
   "outputs": [
    {
     "output_type": "execute_result",
     "data": {
      "text/plain": [
       "('identity', 'I do nothing useful.')"
      ]
     },
     "metadata": {},
     "execution_count": 5
    }
   ],
   "source": [
    "identity.__name__, identity.__doc__"
   ]
  },
  {
   "cell_type": "code",
   "execution_count": 6,
   "metadata": {},
   "outputs": [],
   "source": [
    "def trace(func):\n",
    "    def inner(*args, **kwargs):\n",
    "        print(func.__name__, args, kwargs)\n",
    "        return func(*args, **kwargs)\n",
    "    return inner\n",
    "@trace\n",
    "def identity(x):\n",
    "    \"I do nothing useful.\"\n",
    "    return x"
   ]
  },
  {
   "cell_type": "code",
   "execution_count": 7,
   "metadata": {},
   "outputs": [
    {
     "output_type": "execute_result",
     "data": {
      "text/plain": [
       "('inner', None)"
      ]
     },
     "metadata": {},
     "execution_count": 7
    }
   ],
   "source": [
    "identity.__name__, identity.__doc__"
   ]
  },
  {
   "cell_type": "code",
   "execution_count": 8,
   "metadata": {},
   "outputs": [
    {
     "output_type": "execute_result",
     "data": {
      "text/plain": [
       "'__main__'"
      ]
     },
     "metadata": {},
     "execution_count": 8
    }
   ],
   "source": [
    "identity.__module__"
   ]
  },
  {
   "cell_type": "code",
   "execution_count": 9,
   "metadata": {},
   "outputs": [],
   "source": [
    "def trace(func):\n",
    "    def inner(*args, **kwargs):\n",
    "        print(func.__name__, args, kwargs)\n",
    "        return func(*args, **kwargs)\n",
    "    inner.__module__ = func.__module__\n",
    "    inner.__name__ = func.__name__\n",
    "    inner.__doc__ = func.__doc__\n",
    "    return inner\n",
    "@trace\n",
    "def identity(x):\n",
    "    \"I do nothing useful.\"\n",
    "    return x"
   ]
  },
  {
   "cell_type": "code",
   "execution_count": 10,
   "metadata": {},
   "outputs": [
    {
     "output_type": "execute_result",
     "data": {
      "text/plain": [
       "('identity', 'I do nothing useful.')"
      ]
     },
     "metadata": {},
     "execution_count": 10
    }
   ],
   "source": [
    "identity.__name__, identity.__doc__"
   ]
  },
  {
   "cell_type": "code",
   "execution_count": null,
   "metadata": {},
   "outputs": [],
   "source": [
    "def trace(func):\n",
    "    def inner(*args, **kwargs):\n",
    "        print(func.__name__, args, kwargs)\n",
    "        return func(*args, **kwargs)\n",
    "        functools.update_wrapper(inner, func)\n",
    "    return inner"
   ]
  },
  {
   "cell_type": "code",
   "execution_count": 11,
   "metadata": {},
   "outputs": [],
   "source": [
    "import functools\n",
    "def trace(func):\n",
    "     @functools.wraps(func)\n",
    "     def inner(*args, **kwargs):\n",
    "        print(func.__name__, args, kwargs)\n",
    "        return func(*args, **kwargs)\n",
    "     return inner\n",
    "@trace\n",
    "def identity(x):\n",
    "    \"I do nothing useful.\"\n",
    "    return x"
   ]
  },
  {
   "cell_type": "code",
   "execution_count": 12,
   "metadata": {},
   "outputs": [
    {
     "output_type": "execute_result",
     "data": {
      "text/plain": [
       "('identity', 'I do nothing useful.')"
      ]
     },
     "metadata": {},
     "execution_count": 12
    }
   ],
   "source": [
    "identity.__name__, identity.__doc__"
   ]
  },
  {
   "source": [
    "Время выполнения функции"
   ],
   "cell_type": "markdown",
   "metadata": {}
  },
  {
   "cell_type": "code",
   "execution_count": 24,
   "metadata": {},
   "outputs": [
    {
     "output_type": "stream",
     "name": "stdout",
     "text": [
      "sum ... 0.13200592994689941\n"
     ]
    }
   ],
   "source": [
    " import time\n",
    " def timethis(func=None, *, n_iter=100):\n",
    "    if func is None:\n",
    "        return lambda func: timethis(func, n_iter=n_iter)\n",
    "\n",
    "    @functools.wraps(func)\n",
    "    def inner(*args, **kwargs):\n",
    "        print(func.__name__, end=\" ... \")\n",
    "        acc = float(\"inf\")\n",
    "        for i in range(n_iter):\n",
    "            tick = time.time()\n",
    "            result = func(*args, **kwargs)\n",
    "            acc = min(acc, time.time() - tick)\n",
    "        print(acc)\n",
    "        return result\n",
    "    return inner\n",
    "\n",
    " result = timethis(sum)(range(10 ** 6))"
   ]
  },
  {
   "cell_type": "code",
   "execution_count": 25,
   "metadata": {},
   "outputs": [
    {
     "output_type": "execute_result",
     "data": {
      "text/plain": [
       "1"
      ]
     },
     "metadata": {},
     "execution_count": 25
    }
   ],
   "source": [
    "def profiled(func):\n",
    "    @functools.wraps(func)\n",
    "    def inner(*args, **kwargs):\n",
    "        inner.ncalls += 1\n",
    "        return func(*args, **kwargs)\n",
    "\n",
    "    inner.ncalls = 0\n",
    "    return inner\n",
    "\n",
    "@profiled\n",
    "def identity(x):\n",
    "    return x\n",
    "\n",
    "identity(42)\n",
    "\n",
    "identity.ncalls"
   ]
  },
  {
   "cell_type": "code",
   "execution_count": 26,
   "metadata": {},
   "outputs": [
    {
     "output_type": "stream",
     "name": "stdout",
     "text": [
      "Settings initialized.\n"
     ]
    }
   ],
   "source": [
    "def once(func):\n",
    "    @functools.wraps(func)\n",
    "    def inner(*args, **kwargs):\n",
    "        if not inner.called:\n",
    "            func(*args, **kwargs)\n",
    "            inner.called = True\n",
    "    inner.called = False\n",
    "    return inner\n",
    "\n",
    "@once\n",
    "def initialize_settings():\n",
    "    print(\"Settings initialized.\")\n",
    "\n",
    "initialize_settings()\n",
    "initialize_settings()"
   ]
  },
  {
   "source": [
    "## Practice "
   ],
   "cell_type": "markdown",
   "metadata": {}
  },
  {
   "source": [
    "* Create a function getting random number of arguments.\n",
    "* Find the number of digits in product of all arguments in the power of 1000\n",
    "* You need to evaluate the time of work of this function"
   ],
   "cell_type": "markdown",
   "metadata": {}
  },
  {
   "cell_type": "code",
   "execution_count": 32,
   "metadata": {},
   "outputs": [
    {
     "output_type": "stream",
     "name": "stdout",
     "text": [
      "327675\n8.881756067276001\n"
     ]
    }
   ],
   "source": [
    "from time import time\n",
    "import random\n",
    "\n",
    "def number_of_digits(*args):\n",
    "    res = 1\n",
    "    for item in args:\n",
    "        temp =  item ** 1000\n",
    "        res *= temp\n",
    "    return len(str(res))\n",
    "\n",
    "def duration(f):\n",
    "    def wrapper(*args):\n",
    "        begin = time()\n",
    "        res = f(*args)\n",
    "        print(res)\n",
    "        end = time()\n",
    "        time_answer = end - begin\n",
    "        print(time_answer)\n",
    "    return wrapper\n",
    "n = 100\n",
    "arr = [random.randint(1000,3000) for item in range(n)]\n",
    "\n",
    "number = duration(number_of_digits)\n",
    "number(*arr)"
   ]
  },
  {
   "cell_type": "code",
   "execution_count": 37,
   "metadata": {},
   "outputs": [
    {
     "output_type": "stream",
     "name": "stdout",
     "text": [
      "329706\n8.80516767501831\n"
     ]
    }
   ],
   "source": [
    "def duration(f):\n",
    "    def wrapper(*args):\n",
    "        begin = time()\n",
    "        res = f(*args)\n",
    "        print(res)\n",
    "        end = time()\n",
    "        time_answer = end - begin\n",
    "        print(time_answer)\n",
    "    return wrapper\n",
    "@duration\n",
    "def number_of_digits(*args):\n",
    "    res = 1\n",
    "    for item in args:\n",
    "        temp =  item ** 1000\n",
    "        res *= temp\n",
    "    return len(str(res))\n",
    "n = 100\n",
    "arr = [random.randint(1000,3000) for item in range(n)]\n",
    "number_of_digits(*arr)"
   ]
  },
  {
   "cell_type": "code",
   "execution_count": 35,
   "metadata": {},
   "outputs": [
    {
     "output_type": "stream",
     "name": "stdout",
     "text": [
      "327675\n8.487214803695679\n"
     ]
    }
   ],
   "source": [
    "def number_of_digits(*args):\n",
    "    res = 1\n",
    "    for item in args:\n",
    "        temp =  item ** 1000\n",
    "        res *= temp\n",
    "    return len(str(res))\n",
    "def duration(f, *args):\n",
    "    begin = time()\n",
    "    res = number_of_digits(*args)\n",
    "    print(res)\n",
    "    end = time()\n",
    "    time_answer = end - begin\n",
    "    print(time_answer)\n",
    "n = 100\n",
    "arr = [random.randint(1000,3000) for item in range(n)]\n",
    "duration(number_of_digits, *arr)"
   ]
  },
  {
   "source": [
    "## Lection"
   ],
   "cell_type": "markdown",
   "metadata": {}
  },
  {
   "source": [
    "** iterators **"
   ],
   "cell_type": "markdown",
   "metadata": {}
  },
  {
   "source": [
    "### Итерируемая последовательность (aka Iterable)\n",
    "\n",
    "Это обьект у которого определён метод \\_\\_iter\\_\\_, возвращающий обьект реализующий протокол *итератора* \n",
    "(Примеры: list, dict, file, range)\n",
    "\n",
    "### Итератор\n",
    "Это обьект у которого определён метод \\_\\_next\\_\\_ (это может быть как отдельный обьект, так и, например, self самой последовательности, то есть она может быть итератором по самой себе)\n",
    "\n",
    "\n",
    "Метод __next__ при каждом вызове должен возвращать следующий элемент последовательности, или выкидывать исключение  StopIteration, если последовательность кончилась"
   ],
   "cell_type": "markdown",
   "metadata": {}
  },
  {
   "cell_type": "code",
   "execution_count": 3,
   "metadata": {},
   "outputs": [
    {
     "output_type": "execute_result",
     "data": {
      "text/plain": [
       "<list_iterator at 0x1acd4288400>"
      ]
     },
     "metadata": {},
     "execution_count": 3
    }
   ],
   "source": [
    "a = [1, 2, 3]\n",
    "it = iter(a)\n",
    "it"
   ]
  },
  {
   "cell_type": "code",
   "execution_count": 4,
   "metadata": {},
   "outputs": [
    {
     "output_type": "execute_result",
     "data": {
      "text/plain": [
       "1"
      ]
     },
     "metadata": {},
     "execution_count": 4
    }
   ],
   "source": [
    "next(it)"
   ]
  },
  {
   "cell_type": "code",
   "execution_count": 6,
   "metadata": {},
   "outputs": [
    {
     "output_type": "execute_result",
     "data": {
      "text/plain": [
       "2"
      ]
     },
     "metadata": {},
     "execution_count": 6
    }
   ],
   "source": [
    "lst = iter([1])\n",
    "next(lst)\n",
    "next(lst, 2)"
   ]
  },
  {
   "cell_type": "code",
   "execution_count": 5,
   "metadata": {},
   "outputs": [
    {
     "output_type": "stream",
     "name": "stdout",
     "text": [
      "9 - 8 - 7 - 6 - 5 - 4 - 3 - 2 - 1 - "
     ]
    }
   ],
   "source": [
    "def make_timer(ticks):\n",
    "    def timer():\n",
    "        nonlocal ticks\n",
    "        ticks -= 1\n",
    "        return ticks\n",
    "    return timer\n",
    "\n",
    "for t in iter(make_timer(10), 0):    # iter(function , terminal_value)\n",
    "    print(t, end=' - ')"
   ]
  },
  {
   "cell_type": "code",
   "execution_count": 8,
   "metadata": {},
   "outputs": [
    {
     "output_type": "stream",
     "name": "stdout",
     "text": [
      "1\n2\n3\n"
     ]
    }
   ],
   "source": [
    "seq = [1, 2, 3]\n",
    "for x in seq:\n",
    "    print(x)"
   ]
  },
  {
   "cell_type": "code",
   "execution_count": null,
   "metadata": {},
   "outputs": [],
   "source": [
    "it = iter(seq)\n",
    "while True:\n",
    "    try:\n",
    "        value = next(it)\n",
    "        handle(value)\n",
    "    except StopIteration:\n",
    "        break"
   ]
  },
  {
   "source": [
    "** generators **"
   ],
   "cell_type": "markdown",
   "metadata": {}
  },
  {
   "source": [
    "Генератор это функция исполнение которой приостанавливается, а не прекращается при возврате значения. Выполнение функции можно продолжить с того же места."
   ],
   "cell_type": "markdown",
   "metadata": {}
  },
  {
   "cell_type": "code",
   "execution_count": 38,
   "metadata": {},
   "outputs": [
    {
     "output_type": "stream",
     "name": "stdout",
     "text": [
      "1\n2\n3\n"
     ]
    }
   ],
   "source": [
    "def f():\n",
    "    yield 1\n",
    "    yield 2\n",
    "    yield 3\n",
    "for item in f():\n",
    "    print(item)"
   ]
  },
  {
   "cell_type": "code",
   "execution_count": 9,
   "metadata": {},
   "outputs": [
    {
     "output_type": "stream",
     "name": "stdout",
     "text": [
      "initial : type(f) <class 'function'>\nobject created : type(a) <class 'generator'>\nGenerator enter\nfirst 5\nsecond 7\n2.5\nGenerator Done\n"
     ]
    },
    {
     "output_type": "error",
     "ename": "StopIteration",
     "evalue": "",
     "traceback": [
      "\u001b[1;31m---------------------------------------------------------------------------\u001b[0m",
      "\u001b[1;31mStopIteration\u001b[0m                             Traceback (most recent call last)",
      "\u001b[1;32m<ipython-input-9-6ddca73080ff>\u001b[0m in \u001b[0;36m<module>\u001b[1;34m\u001b[0m\n\u001b[0;32m     12\u001b[0m \u001b[0mprint\u001b[0m\u001b[1;33m(\u001b[0m\u001b[1;34m'second'\u001b[0m\u001b[1;33m,\u001b[0m \u001b[0mnext\u001b[0m\u001b[1;33m(\u001b[0m\u001b[0ma\u001b[0m\u001b[1;33m)\u001b[0m\u001b[1;33m)\u001b[0m\u001b[1;33m\u001b[0m\u001b[1;33m\u001b[0m\u001b[0m\n\u001b[0;32m     13\u001b[0m \u001b[0mprint\u001b[0m\u001b[1;33m(\u001b[0m\u001b[1;34m'2.5'\u001b[0m\u001b[1;33m)\u001b[0m\u001b[1;33m\u001b[0m\u001b[1;33m\u001b[0m\u001b[0m\n\u001b[1;32m---> 14\u001b[1;33m \u001b[0mprint\u001b[0m\u001b[1;33m(\u001b[0m\u001b[1;34m'third'\u001b[0m\u001b[1;33m,\u001b[0m \u001b[0mnext\u001b[0m\u001b[1;33m(\u001b[0m\u001b[0ma\u001b[0m\u001b[1;33m)\u001b[0m\u001b[1;33m)\u001b[0m\u001b[1;33m\u001b[0m\u001b[1;33m\u001b[0m\u001b[0m\n\u001b[0m",
      "\u001b[1;31mStopIteration\u001b[0m: "
     ]
    }
   ],
   "source": [
    "def f(x):\n",
    "    print('Generator enter')\n",
    "    yield x\n",
    "    x += 2\n",
    "    yield x\n",
    "    print('Generator Done')      \n",
    "\n",
    "print('initial : type(f)', type(f))\n",
    "a = f(5)\n",
    "print('object created : type(a)', type(a))\n",
    "print('first', next( a))\n",
    "print('second', next(a))\n",
    "print('2.5')\n",
    "print('third', next(a))"
   ]
  },
  {
   "cell_type": "code",
   "execution_count": null,
   "metadata": {},
   "outputs": [],
   "source": []
  },
  {
   "cell_type": "code",
   "execution_count": 11,
   "metadata": {},
   "outputs": [
    {
     "output_type": "stream",
     "name": "stdout",
     "text": [
      "start\n--> A\ncontinue\n--> B\nend.\n"
     ]
    }
   ],
   "source": [
    " def gen_AB(): #\n",
    "    print('start')\n",
    "    yield 'A' #\n",
    "    print('continue')\n",
    "    yield 'B' #\n",
    "    print('end.') #\n",
    " for c in gen_AB(): #\n",
    "    print('-->', c)"
   ]
  },
  {
   "cell_type": "code",
   "execution_count": 39,
   "metadata": {},
   "outputs": [
    {
     "output_type": "stream",
     "name": "stdout",
     "text": [
      "0\n1\n1\n2\n3\n5\n8\n13\n21\n34\n55\n89\n144\n233\n377\n610\n987\n1597\n2584\n4181\n6765\n10946\n"
     ]
    }
   ],
   "source": [
    "def fib():\n",
    "    n0 = 0\n",
    "    n1 = 1\n",
    "    while True:\n",
    "        yield n0\n",
    "        n0, n1 = n1, n0+n1\n",
    "        \n",
    "for item in fib():\n",
    "    print(item)\n",
    "    if item > 10000:\n",
    "        break"
   ]
  },
  {
   "cell_type": "code",
   "execution_count": 40,
   "metadata": {},
   "outputs": [
    {
     "output_type": "stream",
     "name": "stdout",
     "text": [
      "0\n1\n1\n2\n3\n5\n8\n13\n21\n34\n55\n89\n144\n233\n377\n610\n987\n"
     ]
    }
   ],
   "source": [
    "def fib(b):\n",
    "    n0 = 0\n",
    "    n1 = 1\n",
    "    while True:\n",
    "        yield n0\n",
    "        n0, n1 = n1, n0+n1\n",
    "        if n0 > b:\n",
    "            return\n",
    "        \n",
    "for item in fib(1000):\n",
    "    print(item)"
   ]
  },
  {
   "cell_type": "code",
   "execution_count": 41,
   "metadata": {},
   "outputs": [
    {
     "output_type": "stream",
     "name": "stdout",
     "text": [
      "0\n1\n1\n2\n3\n5\n8\n13\n"
     ]
    }
   ],
   "source": [
    "def fib(b):\n",
    "    n0 = 0\n",
    "    n1 = 1\n",
    "    while True:\n",
    "        yield n0\n",
    "        n0, n1 = n1, n0+n1\n",
    "        if n0 > b:\n",
    "            return\n",
    "\n",
    "g = fib(1000)\n",
    "it = g.__iter__()\n",
    "print(it.__next__())\n",
    "print(it.__next__())\n",
    "print(it.__next__())\n",
    "print(it.__next__())\n",
    "print(it.__next__())\n",
    "print(it.__next__())\n",
    "print(it.__next__())\n",
    "print(it.__next__())"
   ]
  },
  {
   "cell_type": "code",
   "execution_count": 47,
   "metadata": {},
   "outputs": [
    {
     "output_type": "stream",
     "name": "stdout",
     "text": [
      "0\n1\n1\n2\n3\n"
     ]
    }
   ],
   "source": [
    "def fib(b):\n",
    "    n0 = 0\n",
    "    n1 = 1\n",
    "    while True:\n",
    "        yield n0\n",
    "        n0, n1 = n1, n0+n1\n",
    "        if n0 > b:\n",
    "            return\n",
    "\n",
    "it = fib(1000)\n",
    "#it = iter(g)\n",
    "print(next(it))\n",
    "print(next(it))\n",
    "print(next(it))\n",
    "print(next(it))\n",
    "print(next(it))"
   ]
  },
  {
   "cell_type": "code",
   "execution_count": 10,
   "metadata": {},
   "outputs": [
    {
     "output_type": "execute_result",
     "data": {
      "text/plain": [
       "[1, 2, 3, 4]"
      ]
     },
     "metadata": {},
     "execution_count": 10
    }
   ],
   "source": [
    "def unique(seq):\n",
    "    seen = set()\n",
    "    for elem in seq:\n",
    "        if elem not in seen:\n",
    "            seen.add(elem)\n",
    "            yield elem\n",
    "\n",
    "list(unique([1, 2, 3, 1, 2, 4]))"
   ]
  },
  {
   "cell_type": "code",
   "execution_count": 11,
   "metadata": {},
   "outputs": [
    {
     "output_type": "execute_result",
     "data": {
      "text/plain": [
       "[[102, 3], [108, 9], [110, 11], [132, 33], [198, 99]]"
      ]
     },
     "metadata": {},
     "execution_count": 11
    }
   ],
   "source": [
    "def pmap(function, iterable):\n",
    "    for i in iterable:\n",
    "        yield function(i)\n",
    "\n",
    "def pfilter(function, iterable):\n",
    "    for i in iterable:\n",
    "        if function(i):\n",
    "            yield i\n",
    "\n",
    "def pzip(*iterables):\n",
    "    iters = list(pmap(iter, iterables))\n",
    "    while True:\n",
    "        try:\n",
    "            yield [next(it) for it in iters]\n",
    "        except StopIteration:\n",
    "            return\n",
    "list(pfilter(\n",
    "    lambda x : not x[0] % x[1], \n",
    "    pzip(\n",
    "        range(101, 200),\n",
    "        range(2, 100))\n",
    "    )\n",
    ")"
   ]
  },
  {
   "source": [
    "** Lazy evaluation **"
   ],
   "cell_type": "markdown",
   "metadata": {}
  },
  {
   "source": [
    "[to read](https://realpython.com/introduction-to-python-generators/#:~:text=When%20you%20call%20a%20generator,is%20executed%20up%20to%20yield%20.)"
   ],
   "cell_type": "markdown",
   "metadata": {}
  },
  {
   "cell_type": "code",
   "execution_count": 7,
   "metadata": {},
   "outputs": [],
   "source": [
    "arr = [item for item in range(10000000)]\n",
    "# arr"
   ]
  },
  {
   "cell_type": "code",
   "execution_count": 5,
   "metadata": {},
   "outputs": [
    {
     "output_type": "execute_result",
     "data": {
      "text/plain": [
       "<generator object <genexpr> at 0x000002D73DE7E190>"
      ]
     },
     "metadata": {},
     "execution_count": 5
    }
   ],
   "source": [
    "arr = (item for item in range(10000000))\n",
    "arr"
   ]
  },
  {
   "cell_type": "code",
   "execution_count": 12,
   "metadata": {},
   "outputs": [],
   "source": [
    " def gen_AB(): #\n",
    "    print('start')\n",
    "    yield 'A' #\n",
    "    print('continue')\n",
    "    yield 'B' #\n",
    "    print('end.') #"
   ]
  },
  {
   "cell_type": "code",
   "execution_count": 13,
   "metadata": {},
   "outputs": [
    {
     "output_type": "stream",
     "name": "stdout",
     "text": [
      "start\ncontinue\nend.\n"
     ]
    },
    {
     "output_type": "execute_result",
     "data": {
      "text/plain": [
       "['AAA', 'BBB']"
      ]
     },
     "metadata": {},
     "execution_count": 13
    }
   ],
   "source": [
    "res1 = [x*3 for x in gen_AB()]\n",
    "res1"
   ]
  },
  {
   "cell_type": "code",
   "execution_count": 14,
   "metadata": {},
   "outputs": [
    {
     "output_type": "stream",
     "name": "stdout",
     "text": [
      "start\n--> AAA\ncontinue\n--> BBB\nend.\n"
     ]
    }
   ],
   "source": [
    "res2 = (x*3 for x in gen_AB())\n",
    "for i in res2: \n",
    "    print('-->', i)"
   ]
  },
  {
   "cell_type": "code",
   "execution_count": 15,
   "metadata": {},
   "outputs": [
    {
     "output_type": "execute_result",
     "data": {
      "text/plain": [
       "range(1, 100)"
      ]
     },
     "metadata": {},
     "execution_count": 15
    }
   ],
   "source": [
    "range(1,100,1)"
   ]
  },
  {
   "cell_type": "code",
   "execution_count": null,
   "metadata": {},
   "outputs": [],
   "source": [
    "arr = [2,6,8,4,5,7]\n",
    "result = (item *2 for item in arr if item %2 == 1)\n",
    "result"
   ]
  },
  {
   "cell_type": "code",
   "execution_count": null,
   "metadata": {},
   "outputs": [],
   "source": [
    "arr = [2,6,8,4,5,7]\n",
    "result = map(lambda n: n*2, arr)\n",
    "print(result)"
   ]
  },
  {
   "cell_type": "code",
   "execution_count": 12,
   "metadata": {},
   "outputs": [
    {
     "output_type": "stream",
     "name": "stdout",
     "text": [
      "1\n3\n5\n7\n9\n11\n13\n15\n17\n19\n21\n23\n25\n27\n29\n31\n33\n35\n37\n39\n41\n43\n45\n47\n49\n51\n53\n55\n57\n59\n61\n63\n65\n67\n69\n71\n73\n75\n77\n79\n81\n83\n85\n87\n89\n91\n93\n95\n97\n99\n"
     ]
    }
   ],
   "source": [
    "def aritprog_gen(begin=0, end=None, step=1):\n",
    "    result = type(begin + step)(begin)\n",
    "    forever = end is None\n",
    "    index = 0\n",
    "    while forever or result < end:\n",
    "        yield result\n",
    "        index += 1\n",
    "        result = begin + step * index\n",
    "for item in aritprog_gen(1,100,2):\n",
    "    print(item)"
   ]
  },
  {
   "source": [
    "** itertools **"
   ],
   "cell_type": "markdown",
   "metadata": {}
  },
  {
   "cell_type": "code",
   "execution_count": 20,
   "metadata": {},
   "outputs": [
    {
     "output_type": "stream",
     "name": "stdout",
     "text": [
      "1\n1.5\n2.0\n2.5\n3.0\n3.5\n4.0\n4.5\n5.0\n5.5\n"
     ]
    }
   ],
   "source": [
    "import itertools\n",
    "gen = itertools.count(1, .5)\n",
    "for item in range(10):\n",
    "    print(next(gen))"
   ]
  },
  {
   "cell_type": "code",
   "execution_count": 13,
   "metadata": {
    "tags": []
   },
   "outputs": [
    {
     "output_type": "stream",
     "name": "stdout",
     "text": [
      "count(1, 0.5)\n"
     ]
    }
   ],
   "source": [
    "import itertools\n",
    "gen = itertools.count(1, .5)\n",
    "print(gen)\n",
    "# for item in gen:\n",
    "#     print(item)"
   ]
  },
  {
   "cell_type": "code",
   "execution_count": null,
   "metadata": {},
   "outputs": [],
   "source": [
    "import itertools\n",
    "gen = itertools.count(1, .5)\n",
    "list(gen)"
   ]
  },
  {
   "cell_type": "code",
   "execution_count": 3,
   "metadata": {},
   "outputs": [
    {
     "output_type": "stream",
     "name": "stdout",
     "text": [
      "[1, 1.5, 2.0, 2.5]\n"
     ]
    }
   ],
   "source": [
    "import itertools\n",
    "gen = itertools.takewhile(lambda n: n < 3, itertools.count(1, .5))\n",
    "print(list(gen))"
   ]
  },
  {
   "cell_type": "code",
   "execution_count": null,
   "metadata": {},
   "outputs": [],
   "source": [
    "import itertools\n",
    "def aritprog_gen(begin, step, end=None):\n",
    "    first = type(begin + step)(begin)\n",
    "    ap_gen = itertools.count(first, step)\n",
    "    if end is not None:\n",
    "        ap_gen = itertools.takewhile(lambda n: n < end, ap_gen)\n",
    "    return ap_gen"
   ]
  },
  {
   "source": [
    "** Examples **"
   ],
   "cell_type": "markdown",
   "metadata": {}
  },
  {
   "source": [
    "** 1 **"
   ],
   "cell_type": "markdown",
   "metadata": {}
  },
  {
   "source": [
    "count the number of rows in a CSV file"
   ],
   "cell_type": "markdown",
   "metadata": {}
  },
  {
   "cell_type": "code",
   "execution_count": 18,
   "metadata": {},
   "outputs": [],
   "source": [
    "def csv_reader(file_name):\n",
    "    file = open(file_name,\"r\", encoding = \"utf-8\")\n",
    "    result = file.read().split(\"\\n\")\n",
    "    return result"
   ]
  },
  {
   "cell_type": "code",
   "execution_count": 16,
   "metadata": {},
   "outputs": [],
   "source": [
    "def csv_reader(file_name):\n",
    "    for row in open(file_name, \"r\",encoding = \"utf-8\"):\n",
    "        yield row"
   ]
  },
  {
   "cell_type": "code",
   "execution_count": 19,
   "metadata": {},
   "outputs": [
    {
     "output_type": "stream",
     "name": "stdout",
     "text": [
      "Row count is 64462\n"
     ]
    }
   ],
   "source": [
    "csv_gen = csv_reader(\"data\\\\file.csv\")\n",
    "row_count = 0\n",
    "\n",
    "for row in csv_gen:\n",
    "    row_count += 1\n",
    "\n",
    "print(f\"Row count is {row_count}\")"
   ]
  },
  {
   "cell_type": "code",
   "execution_count": null,
   "metadata": {},
   "outputs": [],
   "source": [
    "csv_gen = (row for row in open(file_name))"
   ]
  },
  {
   "source": [
    "** Perfomance **"
   ],
   "cell_type": "markdown",
   "metadata": {}
  },
  {
   "cell_type": "code",
   "execution_count": 11,
   "metadata": {},
   "outputs": [
    {
     "output_type": "stream",
     "name": "stdout",
     "text": [
      "87616\n112\n"
     ]
    }
   ],
   "source": [
    "import sys\n",
    "nums_squared_lc = [i * 2 for i in range(10000)]\n",
    "print(sys.getsizeof(nums_squared_lc))\n",
    "nums_squared_gc = (i ** 2 for i in range(10000))\n",
    "print(sys.getsizeof(nums_squared_gc))"
   ]
  }
 ]
}