{
 "cells": [
  {
   "cell_type": "markdown",
   "source": [
    "# Assignment.1"
   ],
   "metadata": {}
  },
  {
   "cell_type": "markdown",
   "source": [
    "На основе https://en.wikipedia.org/wiki/ISO_4217 и таблицы Active ISO 4217 currency codes создать csv файл, состоящий из столбцов (Code, Currency, Locations listed for the currency)"
   ],
   "metadata": {}
  },
  {
   "cell_type": "code",
   "execution_count": 3,
   "source": [
    "#YOUR CODE HERE"
   ],
   "outputs": [],
   "metadata": {}
  },
  {
   "cell_type": "markdown",
   "source": [
    "# Assignment.2"
   ],
   "metadata": {}
  },
  {
   "cell_type": "markdown",
   "source": [
    "Вывести 5 валют, которые используются в наибольшем количестве стран"
   ],
   "metadata": {}
  },
  {
   "cell_type": "code",
   "execution_count": null,
   "source": [
    "#YOUR CODE HERE"
   ],
   "outputs": [],
   "metadata": {}
  },
  {
   "cell_type": "markdown",
   "source": [
    "# Assignment.3"
   ],
   "metadata": {}
  },
  {
   "cell_type": "markdown",
   "source": [
    "Скачать гимн для каждой страны, где он есть"
   ],
   "metadata": {}
  },
  {
   "cell_type": "code",
   "execution_count": null,
   "source": [
    "#YOUR CODE HERE"
   ],
   "outputs": [],
   "metadata": {}
  }
 ],
 "metadata": {
  "orig_nbformat": 4,
  "language_info": {
   "name": "python",
   "version": "3.8.8",
   "mimetype": "text/x-python",
   "codemirror_mode": {
    "name": "ipython",
    "version": 3
   },
   "pygments_lexer": "ipython3",
   "nbconvert_exporter": "python",
   "file_extension": ".py"
  },
  "kernelspec": {
   "name": "python3",
   "display_name": "Python 3.8.8 64-bit ('base': conda)"
  },
  "interpreter": {
   "hash": "262af24f6390e181d1b86df4568fd74653813b7e5cf759105ca918c8cd7e2241"
  }
 },
 "nbformat": 4,
 "nbformat_minor": 2
}