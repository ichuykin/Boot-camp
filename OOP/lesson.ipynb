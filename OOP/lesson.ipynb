{
 "cells": [
  {
   "cell_type": "code",
   "execution_count": 1,
   "source": [
    "# Python code to illustrate program \r\n",
    "# without functors \r\n",
    "class GodClass(object): \r\n",
    "      \r\n",
    "    def DoSomething(self,x): \r\n",
    "          \r\n",
    "        x_first=x[0] \r\n",
    "          \r\n",
    "        if type(x_first) is int : \r\n",
    "            return self.__MergeSort(x) \r\n",
    "        if type(x_first) is float : \r\n",
    "            return self.__HeapSort(x) \r\n",
    "        else : \r\n",
    "            return self.__QuickSort(x) \r\n",
    "          \r\n",
    "    def __MergeSort(self,a): \r\n",
    "        #\" Dummy MergeSort \" \r\n",
    "        print (\"Data is Merge sorted\")\r\n",
    "        return a \r\n",
    "      \r\n",
    "    def __HeapSort(self,b): \r\n",
    "        # \" Dummy HeapSort \" \r\n",
    "        print( \"Data is Heap sorted\")\r\n",
    "        return b\r\n",
    "      \r\n",
    "    def __QuickSort(self,c): \r\n",
    "        # \"Dummy QuickSort\" \r\n",
    "        print (\"Data is Quick sorted\")\r\n",
    "        return c \r\n",
    "# Here the user code need to know about the conditions for calling different strategy \r\n",
    "# and making it tightly coupled code. \r\n",
    "      \r\n",
    "godObject=GodClass() \r\n",
    "print (godObject.DoSomething([1,2,3])) "
   ],
   "outputs": [
    {
     "output_type": "stream",
     "name": "stdout",
     "text": [
      "Data is Merge sorted\n",
      "[1, 2, 3]\n"
     ]
    }
   ],
   "metadata": {}
  },
  {
   "cell_type": "code",
   "execution_count": null,
   "source": [
    "# Python code to illustrate program \r\n",
    "# using functors \r\n",
    "  \r\n",
    "class Functor(object): \r\n",
    "    def __init__(self, n=10): \r\n",
    "        self.n = n \r\n",
    "              \r\n",
    "    # This construct allows objects to be called as functions in python \r\n",
    "    def __call__(self, x) : \r\n",
    "        x_first = x[0] \r\n",
    "        if type(x_first) is int: \r\n",
    "            return self. __MergeSort(x) \r\n",
    "        if type(x_first) is float: \r\n",
    "            return self. __HeapSort(x) \r\n",
    "        else : \r\n",
    "            return self.__QuickSort(x) \r\n",
    "  \r\n",
    "    def __MergeSort(self,a): \r\n",
    "        #\" Dummy MergeSort \" \r\n",
    "        print (\"Data is Merge sorted\")\r\n",
    "        return a \r\n",
    "    def __HeapSort(self,b): \r\n",
    "        # \" Dummy HeapSort \" \r\n",
    "        print (\"Data is Heap sorted\")\r\n",
    "        return b \r\n",
    "    def __QuickSort(self,c): \r\n",
    "        # \"Dummy QuickSort\" \r\n",
    "        print (\"Data is Quick sorted\")\r\n",
    "        return c \r\n",
    "  \r\n",
    "# Now let's code the class which will call the above functions. \r\n",
    "# Without the functor this class should know which specific function to be called \r\n",
    "# based on the type of input \r\n",
    "  \r\n",
    "### USER CODE \r\n",
    "class Caller(object): \r\n",
    "    def __init__(self): \r\n",
    "        self.sort=Functor() \r\n",
    "      \r\n",
    "    def Dosomething(self,x): \r\n",
    "# Here it simply calls the function and doesn't need to care about \r\n",
    "# which sorting is used. It only knows that sorted output will be the \r\n",
    "# result of this call \r\n",
    "        return self.sort(x) \r\n",
    "  \r\n",
    "Call=Caller() \r\n",
    "  \r\n",
    "# Here passing different input \r\n",
    "print(Call.Dosomething([5,4,6])) # Mergesort \r\n",
    "  \r\n",
    "print(Call.Dosomething([2.23,3.45,5.65])) # heapsort \r\n",
    "print(Call.Dosomething(['a','s','b','q'])) # quick sort \r\n",
    "# creating word vocab "
   ],
   "outputs": [],
   "metadata": {}
  }
 ],
 "metadata": {
  "orig_nbformat": 4,
  "language_info": {
   "name": "python",
   "version": "3.8.8",
   "mimetype": "text/x-python",
   "codemirror_mode": {
    "name": "ipython",
    "version": 3
   },
   "pygments_lexer": "ipython3",
   "nbconvert_exporter": "python",
   "file_extension": ".py"
  },
  "kernelspec": {
   "name": "python3",
   "display_name": "Python 3.8.8 64-bit ('base': conda)"
  },
  "interpreter": {
   "hash": "7b1a062bb510a37bcdd2ba61ed6bba242638905c2c079c3f0f71d3b5a6f7f2ab"
  }
 },
 "nbformat": 4,
 "nbformat_minor": 2
}