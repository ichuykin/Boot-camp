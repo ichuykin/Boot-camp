{
 "metadata": {
  "language_info": {
   "codemirror_mode": {
    "name": "ipython",
    "version": 3
   },
   "file_extension": ".py",
   "mimetype": "text/x-python",
   "name": "python",
   "nbconvert_exporter": "python",
   "pygments_lexer": "ipython3",
   "version": "3.8.8"
  },
  "orig_nbformat": 2,
  "kernelspec": {
   "name": "python388jvsc74a57bd07b1a062bb510a37bcdd2ba61ed6bba242638905c2c079c3f0f71d3b5a6f7f2ab",
   "display_name": "Python 3.8.8 64-bit ('base': conda)"
  }
 },
 "nbformat": 4,
 "nbformat_minor": 2,
 "cells": [
  {
   "source": [
    "# Работа с файлами"
   ],
   "cell_type": "markdown",
   "metadata": {}
  },
  {
   "source": [
    "## Лекция"
   ],
   "cell_type": "markdown",
   "metadata": {}
  },
  {
   "source": [
    "### Представления символов в памяти"
   ],
   "cell_type": "code",
   "metadata": {},
   "execution_count": 22,
   "outputs": []
  },
  {
   "source": [
    "* Каждому символу ссотвествует код\n",
    "* ord(char) - показать код символа\n",
    "* chr(code) - показать символ, соответствующий коду"
   ],
   "cell_type": "markdown",
   "metadata": {}
  },
  {
   "source": [
    "ord(\"x\")"
   ],
   "cell_type": "code",
   "metadata": {},
   "execution_count": 23,
   "outputs": [
    {
     "output_type": "execute_result",
     "data": {
      "text/plain": [
       "120"
      ]
     },
     "metadata": {},
     "execution_count": 23
    }
   ]
  },
  {
   "cell_type": "code",
   "execution_count": 24,
   "metadata": {},
   "outputs": [
    {
     "output_type": "execute_result",
     "data": {
      "text/plain": [
       "'x'"
      ]
     },
     "metadata": {},
     "execution_count": 24
    }
   ],
   "source": [
    "chr(120)"
   ]
  },
  {
   "source": [
    "[ASCII](https://ru.wikipedia.org/wiki/ASCII)"
   ],
   "cell_type": "markdown",
   "metadata": {}
  },
  {
   "cell_type": "code",
   "execution_count": 25,
   "metadata": {},
   "outputs": [
    {
     "output_type": "stream",
     "name": "stdout",
     "text": [
      "0 0x0 \u0000\n1 0x1 \u0001\n2 0x2 \u0002\n3 0x3 \u0003\n4 0x4 \u0004\n5 0x5 \u0005\n6 0x6 \u0006\n7 0x7 \u0007\n8 0x8\n9 0x9 \t\n10 0xa \n\n11 0xb \u000b\n12 0xc \f\n13 0xd \n14 0xe \u000e\n15 0xf \u000f\n16 0x10 \u0010\n17 0x11 \u0011\n18 0x12 \u0012\n19 0x13 \u0013\n20 0x14 \u0014\n21 0x15 \u0015\n22 0x16 \u0016\n23 0x17 \u0017\n24 0x18 \u0018\n25 0x19 \u0019\n26 0x1a \u001a\n27 0x1b \u001b\n28 0x1c \u001c\n29 0x1d \u001d\n30 0x1e \u001e\n31 0x1f \u001f\n32 0x20  \n33 0x21 !\n34 0x22 \"\n35 0x23 #\n36 0x24 $\n37 0x25 %\n38 0x26 &\n39 0x27 '\n40 0x28 (\n41 0x29 )\n42 0x2a *\n43 0x2b +\n44 0x2c ,\n45 0x2d -\n46 0x2e .\n47 0x2f /\n48 0x30 0\n49 0x31 1\n50 0x32 2\n51 0x33 3\n52 0x34 4\n53 0x35 5\n54 0x36 6\n55 0x37 7\n56 0x38 8\n57 0x39 9\n58 0x3a :\n59 0x3b ;\n60 0x3c <\n61 0x3d =\n62 0x3e >\n63 0x3f ?\n64 0x40 @\n65 0x41 A\n66 0x42 B\n67 0x43 C\n68 0x44 D\n69 0x45 E\n70 0x46 F\n71 0x47 G\n72 0x48 H\n73 0x49 I\n74 0x4a J\n75 0x4b K\n76 0x4c L\n77 0x4d M\n78 0x4e N\n79 0x4f O\n80 0x50 P\n81 0x51 Q\n82 0x52 R\n83 0x53 S\n84 0x54 T\n85 0x55 U\n86 0x56 V\n87 0x57 W\n88 0x58 X\n89 0x59 Y\n90 0x5a Z\n91 0x5b [\n92 0x5c \\\n93 0x5d ]\n94 0x5e ^\n95 0x5f _\n96 0x60 `\n97 0x61 a\n98 0x62 b\n99 0x63 c\n100 0x64 d\n101 0x65 e\n102 0x66 f\n103 0x67 g\n104 0x68 h\n105 0x69 i\n106 0x6a j\n107 0x6b k\n108 0x6c l\n109 0x6d m\n110 0x6e n\n111 0x6f o\n112 0x70 p\n113 0x71 q\n114 0x72 r\n115 0x73 s\n116 0x74 t\n117 0x75 u\n118 0x76 v\n119 0x77 w\n120 0x78 x\n121 0x79 y\n122 0x7a z\n123 0x7b {\n124 0x7c |\n125 0x7d }\n126 0x7e ~\n127 0x7f \n"
     ]
    }
   ],
   "source": [
    "for code in range(128):\n",
    "    print(code, hex(code), chr(code))"
   ]
  },
  {
   "source": [
    "В python символы хранятся в [Unicode](http://foxtools.ru/Unicode)"
   ],
   "cell_type": "markdown",
   "metadata": {}
  },
  {
   "source": [
    "for code in range(2500, 3000):\n",
    "    print(code, chr(code))"
   ],
   "cell_type": "code",
   "metadata": {},
   "execution_count": 26,
   "outputs": [
    {
     "output_type": "stream",
     "name": "stdout",
     "text": [
      "2500 ৄ\n2501 ৅\n2502 ৆\n2503 ে\n2504 ৈ\n2505 ৉\n2506 ৊\n2507 ো\n2508 ৌ\n2509 ্\n2510 ৎ\n2511 ৏\n2512 ৐\n2513 ৑\n2514 ৒\n2515 ৓\n2516 ৔\n2517 ৕\n2518 ৖\n2519 ৗ\n2520 ৘\n2521 ৙\n2522 ৚\n2523 ৛\n2524 ড়\n2525 ঢ়\n2526 ৞\n2527 য়\n2528 ৠ\n2529 ৡ\n2530 ৢ\n2531 ৣ\n2532 ৤\n2533 ৥\n2534 ০\n2535 ১\n2536 ২\n2537 ৩\n2538 ৪\n2539 ৫\n2540 ৬\n2541 ৭\n2542 ৮\n2543 ৯\n2544 ৰ\n2545 ৱ\n2546 ৲\n2547 ৳\n2548 ৴\n2549 ৵\n2550 ৶\n2551 ৷\n2552 ৸\n2553 ৹\n2554 ৺\n2555 ৻\n2556 ৼ\n2557 ৽\n2558 ৾\n2559 ৿\n2560 ਀\n2561 ਁ\n2562 ਂ\n2563 ਃ\n2564 ਄\n2565 ਅ\n2566 ਆ\n2567 ਇ\n2568 ਈ\n2569 ਉ\n2570 ਊ\n2571 ਋\n2572 ਌\n2573 ਍\n2574 ਎\n2575 ਏ\n2576 ਐ\n2577 ਑\n2578 ਒\n2579 ਓ\n2580 ਔ\n2581 ਕ\n2582 ਖ\n2583 ਗ\n2584 ਘ\n2585 ਙ\n2586 ਚ\n2587 ਛ\n2588 ਜ\n2589 ਝ\n2590 ਞ\n2591 ਟ\n2592 ਠ\n2593 ਡ\n2594 ਢ\n2595 ਣ\n2596 ਤ\n2597 ਥ\n2598 ਦ\n2599 ਧ\n2600 ਨ\n2601 ਩\n2602 ਪ\n2603 ਫ\n2604 ਬ\n2605 ਭ\n2606 ਮ\n2607 ਯ\n2608 ਰ\n2609 ਱\n2610 ਲ\n2611 ਲ਼\n2612 ਴\n2613 ਵ\n2614 ਸ਼\n2615 ਷\n2616 ਸ\n2617 ਹ\n2618 ਺\n2619 ਻\n2620 ਼\n2621 ਽\n2622 ਾ\n2623 ਿ\n2624 ੀ\n2625 ੁ\n2626 ੂ\n2627 ੃\n2628 ੄\n2629 ੅\n2630 ੆\n2631 ੇ\n2632 ੈ\n2633 ੉\n2634 ੊\n2635 ੋ\n2636 ੌ\n2637 ੍\n2638 ੎\n2639 ੏\n2640 ੐\n2641 ੑ\n2642 ੒\n2643 ੓\n2644 ੔\n2645 ੕\n2646 ੖\n2647 ੗\n2648 ੘\n2649 ਖ਼\n2650 ਗ਼\n2651 ਜ਼\n2652 ੜ\n2653 ੝\n2654 ਫ਼\n2655 ੟\n2656 ੠\n2657 ੡\n2658 ੢\n2659 ੣\n2660 ੤\n2661 ੥\n2662 ੦\n2663 ੧\n2664 ੨\n2665 ੩\n2666 ੪\n2667 ੫\n2668 ੬\n2669 ੭\n2670 ੮\n2671 ੯\n2672 ੰ\n2673 ੱ\n2674 ੲ\n2675 ੳ\n2676 ੴ\n2677 ੵ\n2678 ੶\n2679 ੷\n2680 ੸\n2681 ੹\n2682 ੺\n2683 ੻\n2684 ੼\n2685 ੽\n2686 ੾\n2687 ੿\n2688 ઀\n2689 ઁ\n2690 ં\n2691 ઃ\n2692 ઄\n2693 અ\n2694 આ\n2695 ઇ\n2696 ઈ\n2697 ઉ\n2698 ઊ\n2699 ઋ\n2700 ઌ\n2701 ઍ\n2702 ઎\n2703 એ\n2704 ઐ\n2705 ઑ\n2706 ઒\n2707 ઓ\n2708 ઔ\n2709 ક\n2710 ખ\n2711 ગ\n2712 ઘ\n2713 ઙ\n2714 ચ\n2715 છ\n2716 જ\n2717 ઝ\n2718 ઞ\n2719 ટ\n2720 ઠ\n2721 ડ\n2722 ઢ\n2723 ણ\n2724 ત\n2725 થ\n2726 દ\n2727 ધ\n2728 ન\n2729 ઩\n2730 પ\n2731 ફ\n2732 બ\n2733 ભ\n2734 મ\n2735 ય\n2736 ર\n2737 ઱\n2738 લ\n2739 ળ\n2740 ઴\n2741 વ\n2742 શ\n2743 ષ\n2744 સ\n2745 હ\n2746 ઺\n2747 ઻\n2748 ઼\n2749 ઽ\n2750 ા\n2751 િ\n2752 ી\n2753 ુ\n2754 ૂ\n2755 ૃ\n2756 ૄ\n2757 ૅ\n2758 ૆\n2759 ે\n2760 ૈ\n2761 ૉ\n2762 ૊\n2763 ો\n2764 ૌ\n2765 ્\n2766 ૎\n2767 ૏\n2768 ૐ\n2769 ૑\n2770 ૒\n2771 ૓\n2772 ૔\n2773 ૕\n2774 ૖\n2775 ૗\n2776 ૘\n2777 ૙\n2778 ૚\n2779 ૛\n2780 ૜\n2781 ૝\n2782 ૞\n2783 ૟\n2784 ૠ\n2785 ૡ\n2786 ૢ\n2787 ૣ\n2788 ૤\n2789 ૥\n2790 ૦\n2791 ૧\n2792 ૨\n2793 ૩\n2794 ૪\n2795 ૫\n2796 ૬\n2797 ૭\n2798 ૮\n2799 ૯\n2800 ૰\n2801 ૱\n2802 ૲\n2803 ૳\n2804 ૴\n2805 ૵\n2806 ૶\n2807 ૷\n2808 ૸\n2809 ૹ\n2810 ૺ\n2811 ૻ\n2812 ૼ\n2813 ૽\n2814 ૾\n2815 ૿\n2816 ଀\n2817 ଁ\n2818 ଂ\n2819 ଃ\n2820 ଄\n2821 ଅ\n2822 ଆ\n2823 ଇ\n2824 ଈ\n2825 ଉ\n2826 ଊ\n2827 ଋ\n2828 ଌ\n2829 ଍\n2830 ଎\n2831 ଏ\n2832 ଐ\n2833 ଑\n2834 ଒\n2835 ଓ\n2836 ଔ\n2837 କ\n2838 ଖ\n2839 ଗ\n2840 ଘ\n2841 ଙ\n2842 ଚ\n2843 ଛ\n2844 ଜ\n2845 ଝ\n2846 ଞ\n2847 ଟ\n2848 ଠ\n2849 ଡ\n2850 ଢ\n2851 ଣ\n2852 ତ\n2853 ଥ\n2854 ଦ\n2855 ଧ\n2856 ନ\n2857 ଩\n2858 ପ\n2859 ଫ\n2860 ବ\n2861 ଭ\n2862 ମ\n2863 ଯ\n2864 ର\n2865 ଱\n2866 ଲ\n2867 ଳ\n2868 ଴\n2869 ଵ\n2870 ଶ\n2871 ଷ\n2872 ସ\n2873 ହ\n2874 ଺\n2875 ଻\n2876 ଼\n2877 ଽ\n2878 ା\n2879 ି\n2880 ୀ\n2881 ୁ\n2882 ୂ\n2883 ୃ\n2884 ୄ\n2885 ୅\n2886 ୆\n2887 େ\n2888 ୈ\n2889 ୉\n2890 ୊\n2891 ୋ\n2892 ୌ\n2893 ୍\n2894 ୎\n2895 ୏\n2896 ୐\n2897 ୑\n2898 ୒\n2899 ୓\n2900 ୔\n2901 ୕\n2902 ୖ\n2903 ୗ\n2904 ୘\n2905 ୙\n2906 ୚\n2907 ୛\n2908 ଡ଼\n2909 ଢ଼\n2910 ୞\n2911 ୟ\n2912 ୠ\n2913 ୡ\n2914 ୢ\n2915 ୣ\n2916 ୤\n2917 ୥\n2918 ୦\n2919 ୧\n2920 ୨\n2921 ୩\n2922 ୪\n2923 ୫\n2924 ୬\n2925 ୭\n2926 ୮\n2927 ୯\n2928 ୰\n2929 ୱ\n2930 ୲\n2931 ୳\n2932 ୴\n2933 ୵\n2934 ୶\n2935 ୷\n2936 ୸\n2937 ୹\n2938 ୺\n2939 ୻\n2940 ୼\n2941 ୽\n2942 ୾\n2943 ୿\n2944 ஀\n2945 ஁\n2946 ஂ\n2947 ஃ\n2948 ஄\n2949 அ\n2950 ஆ\n2951 இ\n2952 ஈ\n2953 உ\n2954 ஊ\n2955 ஋\n2956 ஌\n2957 ஍\n2958 எ\n2959 ஏ\n2960 ஐ\n2961 ஑\n2962 ஒ\n2963 ஓ\n2964 ஔ\n2965 க\n2966 ஖\n2967 ஗\n2968 ஘\n2969 ங\n2970 ச\n2971 ஛\n2972 ஜ\n2973 ஝\n2974 ஞ\n2975 ட\n2976 ஠\n2977 ஡\n2978 ஢\n2979 ண\n2980 த\n2981 ஥\n2982 ஦\n2983 ஧\n2984 ந\n2985 ன\n2986 ப\n2987 ஫\n2988 ஬\n2989 ஭\n2990 ம\n2991 ய\n2992 ர\n2993 ற\n2994 ல\n2995 ள\n2996 ழ\n2997 வ\n2998 ஶ\n2999 ஷ\n"
     ]
    }
   ]
  },
  {
   "source": [
    "Самая популярная кодировка [UTF-8](https://ru.wikipedia.org/wiki/UTF-8)"
   ],
   "cell_type": "markdown",
   "metadata": {}
  },
  {
   "source": [
    "### Bytes"
   ],
   "cell_type": "markdown",
   "metadata": {}
  },
  {
   "source": [
    "Неизменяемый тип"
   ],
   "cell_type": "markdown",
   "metadata": {}
  },
  {
   "cell_type": "code",
   "execution_count": 27,
   "metadata": {},
   "outputs": [
    {
     "output_type": "stream",
     "name": "stdout",
     "text": [
      "<class 'bytes'>\n66\nB\n"
     ]
    }
   ],
   "source": [
    "x = b'\\x42\\xfa'\n",
    "print(type(x))\n",
    "print(x[0])\n",
    "print(chr(x[0]))"
   ]
  },
  {
   "cell_type": "code",
   "execution_count": 28,
   "metadata": {},
   "outputs": [
    {
     "output_type": "stream",
     "name": "stdout",
     "text": [
      "b'B\\xfaT\\x87'\n"
     ]
    }
   ],
   "source": [
    "x = b'\\x42\\xfa'\n",
    "y = b'\\x54\\x87'\n",
    "z = x+y\n",
    "print(z)"
   ]
  },
  {
   "source": [
    "** Латинские символы ASCII при выводе на терминал отображаются\n",
    "как символы, а не коды **"
   ],
   "cell_type": "markdown",
   "metadata": {}
  },
  {
   "cell_type": "code",
   "execution_count": 29,
   "metadata": {},
   "outputs": [
    {
     "output_type": "stream",
     "name": "stdout",
     "text": [
      "102\nb'fg'\n"
     ]
    }
   ],
   "source": [
    "x = b'fg'\n",
    "print(x[0])\n",
    "print(x)"
   ]
  },
  {
   "source": [
    "### Bytearray"
   ],
   "cell_type": "markdown",
   "metadata": {}
  },
  {
   "source": [
    "Изменяемый тип"
   ],
   "cell_type": "markdown",
   "metadata": {}
  },
  {
   "cell_type": "code",
   "execution_count": 30,
   "metadata": {},
   "outputs": [
    {
     "output_type": "stream",
     "name": "stdout",
     "text": [
      "bytearray(b'%ello world')\n"
     ]
    }
   ],
   "source": [
    "x = bytearray(b'hello world')\n",
    "x[0] = 3  # код пробела\n",
    "print(x)\n"
   ]
  },
  {
   "cell_type": "code",
   "execution_count": 31,
   "metadata": {},
   "outputs": [
    {
     "output_type": "error",
     "ename": "SyntaxError",
     "evalue": "invalid syntax (<ipython-input-31-4502b94b1e1b>, line 1)",
     "traceback": [
      "\u001b[1;36m  File \u001b[1;32m\"<ipython-input-31-4502b94b1e1b>\"\u001b[1;36m, line \u001b[1;32m1\u001b[0m\n\u001b[1;33m    bytearray может создаваться только через конструктор\u001b[0m\n\u001b[1;37m              ^\u001b[0m\n\u001b[1;31mSyntaxError\u001b[0m\u001b[1;31m:\u001b[0m invalid syntax\n"
     ]
    }
   ],
   "source": [
    "bytearray может создаваться только через конструктор"
   ]
  },
  {
   "cell_type": "code",
   "execution_count": 31,
   "metadata": {},
   "outputs": [
    {
     "output_type": "stream",
     "name": "stdout",
     "text": [
      "bytearray(b'')\nbytearray(b'\\x00\\x00\\x00\\x00\\x00\\x00\\x00\\x00\\x00\\x00')\nbytearray(b\"\\x01\\x03\\x05\\x07\\t\\x0b\\r\\x0f\\x11\\x13\\x15\\x17\\x19\\x1b\\x1d\\x1f!#%\\')+-/1\")\nbytearray(b'co{')\nbytearray(b'hello world')\nbytearray(b'\\xd0\\xbf\\xd1\\x80\\xd0\\xb8\\xd0\\xb2\\xd0\\xb5\\xd1\\x82 \\xd0\\xbc\\xd0\\xb8\\xd1\\x80')\n"
     ]
    }
   ],
   "source": [
    "print(bytearray())\n",
    "print(bytearray(10))\n",
    "print(bytearray(range(1,50,2)))\n",
    "print(bytearray([99,111,123]))\n",
    "print(bytearray(b'hello world'))\n",
    "# print(bytearray('привет мир'))\n",
    "# print(bytearray('hello world'))\n",
    "print(bytearray('привет мир', encoding='utf-8'))"
   ]
  },
  {
   "source": [
    "#### Преобразования bytearray"
   ],
   "cell_type": "markdown",
   "metadata": {}
  },
  {
   "source": [
    "**str->byte**"
   ],
   "cell_type": "markdown",
   "metadata": {}
  },
  {
   "cell_type": "code",
   "execution_count": 33,
   "metadata": {},
   "outputs": [
    {
     "output_type": "stream",
     "name": "stdout",
     "text": [
      "b'\\xd0\\xbf\\xd1\\x80\\xd0\\xb8\\xd0\\xb2\\xd0\\xb5\\xd1\\x82 \\xd0\\xbc\\xd0\\xb8\\xd1\\x80'\nb'\\xff\\xfe?\\x04@\\x048\\x042\\x045\\x04B\\x04 \\x00<\\x048\\x04@\\x04'\n"
     ]
    }
   ],
   "source": [
    "print('привет мир'.encode(encoding=\"utf-8\"))\n",
    "print('привет мир'.encode(encoding=\"utf-16\"))"
   ]
  },
  {
   "source": [
    "[Кодировки](https://docs.python.org/3.5/library/codecs.html#standard-encodings)"
   ],
   "cell_type": "markdown",
   "metadata": {}
  },
  {
   "source": [
    "**byte->str**"
   ],
   "cell_type": "markdown",
   "metadata": {}
  },
  {
   "cell_type": "code",
   "execution_count": 34,
   "metadata": {},
   "outputs": [
    {
     "output_type": "stream",
     "name": "stdout",
     "text": [
      "привет мир\n"
     ]
    }
   ],
   "source": [
    "string = b'\\xd0\\xbf\\xd1\\x80\\xd0\\xb8\\xd0\\xb2\\xd0\\xb5\\xd1\\x82 \\xd0\\xbc\\xd0\\xb8\\xd1\\x80'.decode(encoding=\"utf-8\")\n",
    "print(string)"
   ]
  },
  {
   "source": [
    "### Чтение и запись файлов"
   ],
   "cell_type": "markdown",
   "metadata": {}
  },
  {
   "source": [
    "**Файл** - последовательность байт"
   ],
   "cell_type": "markdown",
   "metadata": {}
  },
  {
   "cell_type": "code",
   "execution_count": 35,
   "metadata": {},
   "outputs": [],
   "source": [
    "import os"
   ]
  },
  {
   "source": [
    "#### Чтение"
   ],
   "cell_type": "markdown",
   "metadata": {}
  },
  {
   "cell_type": "code",
   "execution_count": 46,
   "metadata": {},
   "outputs": [
    {
     "output_type": "execute_result",
     "data": {
      "text/plain": [
       "'data\\\\bird.txt'"
      ]
     },
     "metadata": {},
     "execution_count": 46
    }
   ],
   "source": [
    "file_name = os.path.join(\"data\",\"bird.txt\")\n",
    "file_name"
   ]
  },
  {
   "cell_type": "code",
   "execution_count": 49,
   "metadata": {},
   "outputs": [
    {
     "output_type": "stream",
     "name": "stdout",
     "text": [
      "b'\\xd0\\xa0\\xd0\\xb0\\xd1\\x81\\xd0\\xbf\\xd0\\xb8\\xd1\\x81\\xd0\\xbd\\xd0\\xbe\\xd0\\xb9 \\xd0\\xbe\\xd0\\xb2\\xd1\\x81\\xd1\\x8f\\xd0\\xbd\\xd0\\xba\\xd0\\xbe\\xd0\\xb2\\xd1\\x8b\\xd0\\xb9 \\xd0\\xba\\xd0\\xb0\\xd1\\x80\\xd0\\xb4\\xd0\\xb8\\xd0\\xbd\\xd0\\xb0\\xd0\\xbb (\\xd0\\xbb\\xd0\\xb0\\xd1\\x82. Passerina ciris) \\xe2\\x80\\x94 \\r\\n\\xd0\\xbf\\xd0\\xb5\\xd0\\xb2\\xd1\\x87\\xd0\\xb0\\xd1\\x8f \\xd0\\xbf\\xd1\\x82\\xd0\\xb8\\xd1\\x86\\xd0\\xb0 \\xd1\\x81\\xd0\\xb5\\xd0\\xbc\\xd0\\xb5\\xd0\\xb9\\xd1\\x81\\xd1\\x82\\xd0\\xb2\\xd0\\xb0 \\xd0\\xba\\xd0\\xb0\\xd1\\x80\\xd0\\xb4\\xd0\\xb8\\xd0\\xbd\\xd0\\xb0\\xd0\\xbb\\xd0\\xbe\\xd0\\xb2\\xd1\\x8b\\xd1\\x85 (Cardinalidae), \\r\\n\\xd0\\xbe\\xd0\\xb4\\xd0\\xbd\\xd0\\xb0 \\xd0\\xb8\\xd0\\xb7 \\xd1\\x81\\xd0\\xb0\\xd0\\xbc\\xd1\\x8b\\xd1\\x85 \\xd1\\x80\\xd0\\xb0\\xd0\\xb7\\xd0\\xbd\\xd0\\xbe\\xd1\\x86\\xd0\\xb2\\xd0\\xb5\\xd1\\x82\\xd0\\xbd\\xd1\\x8b\\xd1\\x85 \\xd0\\xbf\\xd1\\x82\\xd0\\xb8\\xd1\\x86 \\xd0\\xa1\\xd0\\xb5\\xd0\\xb2\\xd0\\xb5\\xd1\\x80\\xd0\\xbd\\xd0\\xbe\\xd0\\xb9 \\xd0\\x90\\xd0\\xbc\\xd0\\xb5\\xd1\\x80\\xd0\\xb8\\xd0\\xba\\xd0\\xb8. \\r\\n\\xd0\\xa3 \\xd0\\xb2\\xd0\\xb7\\xd1\\x80\\xd0\\xbe\\xd1\\x81\\xd0\\xbb\\xd0\\xbe\\xd0\\xb3\\xd0\\xbe \\xd1\\x81\\xd0\\xb0\\xd0\\xbc\\xd1\\x86\\xd0\\xb0 \\xd0\\xb3\\xd0\\xbe\\xd0\\xbb\\xd0\\xbe\\xd0\\xb2\\xd0\\xb0 \\xd0\\xb8 \\xd0\\xb7\\xd0\\xb0\\xd1\\x82\\xd1\\x8b\\xd0\\xbb\\xd0\\xbe\\xd0\\xba \\xd0\\xbe\\xd0\\xba\\xd1\\x80\\xd0\\xb0\\xd1\\x88\\xd0\\xb5\\xd0\\xbd\\xd1\\x8b \\xd0\\xb2 \\xd0\\xb3\\xd0\\xbe\\xd0\\xbb\\xd1\\x83\\xd0\\xb1\\xd0\\xbe\\xd0\\xb9 \\xd1\\x86\\xd0\\xb2\\xd0\\xb5\\xd1\\x82, \\r\\n\\xd1\\x81\\xd0\\xbf\\xd0\\xb8\\xd0\\xbd\\xd0\\xb0 \\xe2\\x80\\x94 \\xd0\\xb2 \\xd0\\xb1\\xd1\\x80\\xd0\\xbe\\xd0\\xbd\\xd0\\xb7\\xd0\\xbe\\xd0\\xb2\\xd0\\xbe-\\xd0\\xb7\\xd0\\xb5\\xd0\\xbb\\xd1\\x91\\xd0\\xbd\\xd1\\x8b\\xd0\\xb9, \\xd0\\xbe\\xd0\\xbf\\xd0\\xb5\\xd1\\x80\\xd0\\xb5\\xd0\\xbd\\xd0\\xb8\\xd0\\xb5 \\xd1\\x81\\xd0\\xbd\\xd0\\xb8\\xd0\\xb7\\xd1\\x83 \\xd0\\xba\\xd1\\x80\\xd0\\xb0\\xd1\\x81\\xd0\\xbd\\xd0\\xbe\\xd0\\xb5, \\xd0\\xb0 \\xd0\\xba\\xd1\\x80\\xd1\\x8b\\xd0\\xbb\\xd1\\x8c\\xd1\\x8f \\xd0\\xb8 \\xd1\\x85\\xd0\\xb2\\xd0\\xbe\\xd1\\x81\\xd1\\x82 \\xe2\\x80\\x94 \\xd1\\x82\\xd1\\x91\\xd0\\xbc\\xd0\\xbd\\xd1\\x8b\\xd0\\xb5. \\r\\n\\xd0\\xa1\\xd0\\xb0\\xd0\\xbc\\xd0\\xba\\xd0\\xb0 \\xd0\\xbe\\xd0\\xba\\xd1\\x80\\xd0\\xb0\\xd1\\x88\\xd0\\xb5\\xd0\\xbd\\xd0\\xb0 \\xd0\\xb2 \\xd1\\x82\\xd1\\x91\\xd0\\xbc\\xd0\\xbd\\xd1\\x8b\\xd0\\xb9 \\xd0\\xb7\\xd0\\xb5\\xd0\\xbb\\xd0\\xb5\\xd0\\xbd\\xd0\\xbe\\xd0\\xb2\\xd0\\xb0\\xd1\\x82\\xd1\\x8b\\xd0\\xb9 \\xd1\\x86\\xd0\\xb2\\xd0\\xb5\\xd1\\x82 \\xd1\\x81\\xd0\\xb2\\xd0\\xb5\\xd1\\x80\\xd1\\x85\\xd1\\x83 \\xd0\\xb8 \\xd0\\xb2 \\xd0\\xb6\\xd0\\xb5\\xd0\\xbb\\xd1\\x82\\xd0\\xbe\\xd0\\xb2\\xd0\\xb0\\xd1\\x82\\xd0\\xbe-\\xd0\\xb7\\xd0\\xb5\\xd0\\xbb\\xd1\\x91\\xd0\\xbd\\xd1\\x8b\\xd0\\xb9 \\xe2\\x80\\x94 \\xd1\\x81\\xd0\\xbd\\xd0\\xb8\\xd0\\xb7\\xd1\\x83. \\r\\n\\xd0\\x90\\xd1\\x80\\xd0\\xb5\\xd0\\xb0\\xd0\\xbb \\xd1\\x80\\xd0\\xb0\\xd1\\x81\\xd0\\xbf\\xd0\\xb8\\xd1\\x81\\xd0\\xbd\\xd0\\xbe\\xd0\\xb3\\xd0\\xbe \\xd0\\xbe\\xd0\\xb2\\xd1\\x81\\xd1\\x8f\\xd0\\xbd\\xd0\\xba\\xd0\\xbe\\xd0\\xb2\\xd0\\xbe\\xd0\\xb3\\xd0\\xbe \\xd0\\xba\\xd0\\xb0\\xd1\\x80\\xd0\\xb4\\xd0\\xb8\\xd0\\xbd\\xd0\\xb0\\xd0\\xbb\\xd0\\xb0 \\xd0\\xb2\\xd0\\xba\\xd0\\xbb\\xd1\\x8e\\xd1\\x87\\xd0\\xb0\\xd0\\xb5\\xd1\\x82 \\xd1\\x82\\xd0\\xb5\\xd1\\x80\\xd1\\x80\\xd0\\xb8\\xd1\\x82\\xd0\\xbe\\xd1\\x80\\xd0\\xb8\\xd0\\xb8 \\xd0\\xb2 \\xd0\\x9c\\xd0\\xb5\\xd0\\xba\\xd1\\x81\\xd0\\xb8\\xd0\\xba\\xd0\\xb5 \\xd0\\xb8 \\xd0\\xa1\\xd0\\xa8\\xd0\\x90, \\r\\n\\xd0\\xb2 \\xd0\\xb7\\xd0\\xb8\\xd0\\xbc\\xd0\\xbd\\xd0\\xb5\\xd0\\xb5 \\xd0\\xb2\\xd1\\x80\\xd0\\xb5\\xd0\\xbc\\xd1\\x8f \\xd0\\xbf\\xd1\\x82\\xd0\\xb8\\xd1\\x86\\xd1\\x8b \\xd0\\xbc\\xd0\\xb8\\xd0\\xb3\\xd1\\x80\\xd0\\xb8\\xd1\\x80\\xd1\\x83\\xd1\\x8e\\xd1\\x82 \\xd0\\xbd\\xd0\\xb0 \\xd1\\x82\\xd0\\xb5\\xd1\\x80\\xd1\\x80\\xd0\\xb8\\xd1\\x82\\xd0\\xbe\\xd1\\x80\\xd0\\xb8\\xd1\\x8e \\xd0\\x91\\xd0\\xb0\\xd0\\xb3\\xd0\\xb0\\xd0\\xbc\\xd1\\x81\\xd0\\xba\\xd0\\xb8\\xd1\\x85 \\xd0\\x9e\\xd1\\x81\\xd1\\x82\\xd1\\x80\\xd0\\xbe\\xd0\\xb2\\xd0\\xbe\\xd0\\xb2, \\xd0\\x91\\xd0\\xb5\\xd0\\xbb\\xd0\\xb8\\xd0\\xb7\\xd0\\xb0, \\r\\n\\xd0\\x9a\\xd0\\xbe\\xd1\\x81\\xd1\\x82\\xd0\\xb0-\\xd0\\xa0\\xd0\\xb8\\xd0\\xba\\xd0\\xb8, \\xd0\\x9a\\xd1\\x83\\xd0\\xb1\\xd1\\x8b, \\xd0\\xa1\\xd0\\xb0\\xd0\\xbb\\xd1\\x8c\\xd0\\xb2\\xd0\\xb0\\xd0\\xb4\\xd0\\xbe\\xd1\\x80\\xd0\\xb0, \\xd0\\x93\\xd0\\xb2\\xd0\\xb0\\xd1\\x82\\xd0\\xb5\\xd0\\xbc\\xd0\\xb0\\xd0\\xbb\\xd1\\x8b, \\xd0\\x93\\xd0\\xbe\\xd0\\xbd\\xd0\\xb4\\xd1\\x83\\xd1\\x80\\xd0\\xb0\\xd1\\x81\\xd0\\xb0, \\xd0\\x9d\\xd0\\xb8\\xd0\\xba\\xd0\\xb0\\xd1\\x80\\xd0\\xb0\\xd0\\xb3\\xd1\\x83\\xd0\\xb0 \\xd0\\xb8 \\xd0\\x9f\\xd0\\xb0\\xd0\\xbd\\xd0\\xb0\\xd0\\xbc\\xd1\\x8b.\\r\\n\\xd0\\x92\\xd0\\xb8\\xd0\\xb4 \\xd0\\xb4\\xd0\\xb5\\xd0\\xbb\\xd0\\xb8\\xd1\\x82\\xd1\\x81\\xd1\\x8f \\xd0\\xbd\\xd0\\xb0 \\xd0\\xbd\\xd0\\xb5\\xd0\\xbf\\xd0\\xb5\\xd1\\x80\\xd0\\xb5\\xd1\\x81\\xd0\\xb5\\xd0\\xba\\xd0\\xb0\\xd1\\x8e\\xd1\\x89\\xd0\\xb8\\xd0\\xb5\\xd1\\x81\\xd1\\x8f \\xd0\\xb2\\xd0\\xbe\\xd1\\x81\\xd1\\x82\\xd0\\xbe\\xd1\\x87\\xd0\\xbd\\xd1\\x83\\xd1\\x8e \\xd0\\xb8 \\xd0\\xb7\\xd0\\xb0\\xd0\\xbf\\xd0\\xb0\\xd0\\xb4\\xd0\\xbd\\xd1\\x83\\xd1\\x8e \\xd0\\xbf\\xd0\\xbe\\xd0\\xbf\\xd1\\x83\\xd0\\xbb\\xd1\\x8f\\xd1\\x86\\xd0\\xb8\\xd0\\xb8, \\xd1\\x80\\xd0\\xb0\\xd0\\xb7\\xd0\\xb4\\xd0\\xb5\\xd0\\xbb\\xd1\\x91\\xd0\\xbd\\xd0\\xbd\\xd1\\x8b\\xd0\\xb5 \\xd1\\x88\\xd0\\xb8\\xd1\\x80\\xd0\\xbe\\xd0\\xba\\xd0\\xb8\\xd0\\xbc \\xd0\\xba\\xd0\\xbe\\xd1\\x80\\xd0\\xb8\\xd0\\xb4\\xd0\\xbe\\xd1\\x80\\xd0\\xbe\\xd0\\xbc.\\r\\n\\xd0\\x9f\\xd1\\x82\\xd0\\xb8\\xd1\\x86\\xd1\\x8b \\xd0\\xbf\\xd0\\xb8\\xd1\\x82\\xd0\\xb0\\xd1\\x8e\\xd1\\x82\\xd1\\x81\\xd1\\x8f \\xd0\\xbf\\xd1\\x80\\xd0\\xb5\\xd0\\xb8\\xd0\\xbc\\xd1\\x83\\xd1\\x89\\xd0\\xb5\\xd1\\x81\\xd1\\x82\\xd0\\xb2\\xd0\\xb5\\xd0\\xbd\\xd0\\xbd\\xd0\\xbe \\xd1\\x81\\xd0\\xb5\\xd0\\xbc\\xd0\\xb5\\xd0\\xbd\\xd0\\xb0\\xd0\\xbc\\xd0\\xb8 \\xd1\\x82\\xd1\\x80\\xd0\\xb0\\xd0\\xb2, \\xd0\\xbe\\xd0\\xb1\\xd1\\x8b\\xd1\\x87\\xd0\\xbd\\xd0\\xbe \\xd0\\xbd\\xd0\\xb0\\xd1\\x85\\xd0\\xbe\\xd0\\xb4\\xd1\\x8f \\xd0\\xba\\xd0\\xbe\\xd1\\x80\\xd0\\xbc \\xd0\\xbd\\xd0\\xb0 \\xd0\\xb7\\xd0\\xb5\\xd0\\xbc\\xd0\\xbb\\xd0\\xb5. \\r\\n\\xd0\\xa1\\xd0\\xb0\\xd0\\xbc\\xd0\\xba\\xd0\\xb0 \\xd0\\xbe\\xd1\\x82\\xd0\\xba\\xd0\\xbb\\xd0\\xb0\\xd0\\xb4\\xd1\\x8b\\xd0\\xb2\\xd0\\xb0\\xd0\\xb5\\xd1\\x82 3\\xe2\\x80\\x944 \\xd1\\x8f\\xd0\\xb9\\xd1\\x86\\xd0\\xb0, \\xd0\\xba\\xd0\\xbe\\xd1\\x82\\xd0\\xbe\\xd1\\x80\\xd1\\x8b\\xd0\\xb5 \\xd0\\xbd\\xd0\\xb0\\xd1\\x81\\xd0\\xb8\\xd0\\xb6\\xd0\\xb8\\xd0\\xb2\\xd0\\xb0\\xd0\\xb5\\xd1\\x82 11\\xe2\\x80\\x9412 \\xd0\\xb4\\xd0\\xbd\\xd0\\xb5\\xd0\\xb9. \\r\\n\\xd0\\x92\\xd1\\x8b\\xd0\\xbb\\xd1\\x83\\xd0\\xbf\\xd0\\xb8\\xd0\\xb2\\xd1\\x88\\xd0\\xb8\\xd0\\xb5\\xd1\\x81\\xd1\\x8f \\xd0\\xbf\\xd1\\x82\\xd0\\xb5\\xd0\\xbd\\xd1\\x86\\xd1\\x8b \\xd0\\xb3\\xd0\\xbe\\xd0\\xbb\\xd1\\x8b\\xd0\\xb5 \\xd0\\xb8 \\xd0\\xb1\\xd0\\xb5\\xd1\\x81\\xd0\\xbf\\xd0\\xbe\\xd0\\xbc\\xd0\\xbe\\xd1\\x89\\xd0\\xbd\\xd1\\x8b\\xd0\\xb5, \\xd0\\xbd\\xd0\\xbe \\xd1\\x83\\xd0\\xb6\\xd0\\xb5 \\xd0\\xbd\\xd0\\xb0 10\\xe2\\x80\\x9411-\\xd0\\xb9 \\xd0\\xb4\\xd0\\xb5\\xd0\\xbd\\xd1\\x8c \\xd0\\xbe\\xd0\\xbd\\xd0\\xb8 \\xd0\\xbf\\xd0\\xbe\\xd0\\xba\\xd0\\xb8\\xd0\\xb4\\xd0\\xb0\\xd1\\x8e\\xd1\\x82 \\xd0\\xb3\\xd0\\xbd\\xd0\\xb5\\xd0\\xb7\\xd0\\xb4\\xd0\\xbe,\\r\\n\\xd0\\xbf\\xd0\\xbe\\xd1\\x81\\xd0\\xbb\\xd0\\xb5 \\xd1\\x87\\xd0\\xb5\\xd0\\xb3\\xd0\\xbe \\xd0\\xbf\\xd0\\xbe\\xd0\\xbf\\xd0\\xb0\\xd0\\xb4\\xd0\\xb0\\xd1\\x8e\\xd1\\x82 \\xd0\\xbf\\xd0\\xbe\\xd0\\xb4 \\xd0\\xbe\\xd0\\xbf\\xd0\\xb5\\xd0\\xba\\xd1\\x83 \\xd1\\x81\\xd0\\xb0\\xd0\\xbc\\xd1\\x86\\xd0\\xb0, \\xd0\\xb2 \\xd1\\x82\\xd0\\xbe \\xd0\\xb2\\xd1\\x80\\xd0\\xb5\\xd0\\xbc\\xd1\\x8f \\xd0\\xba\\xd0\\xb0\\xd0\\xba \\xd1\\x81\\xd0\\xb0\\xd0\\xbc\\xd0\\xba\\xd0\\xb0 \\xd0\\xb7\\xd0\\xb0\\xd0\\xbd\\xd0\\xb8\\xd0\\xbc\\xd0\\xb0\\xd0\\xb5\\xd1\\x82\\xd1\\x81\\xd1\\x8f \\xd0\\xb2\\xd1\\x82\\xd0\\xbe\\xd1\\x80\\xd0\\xbe\\xd0\\xb9 \\xd0\\xba\\xd0\\xbb\\xd0\\xb0\\xd0\\xb4\\xd0\\xba\\xd0\\xbe\\xd0\\xb9.\\r\\n\\xd0\\xa0\\xd0\\xb0\\xd1\\x81\\xd0\\xbf\\xd0\\xb8\\xd1\\x81\\xd0\\xbd\\xd0\\xbe\\xd0\\xb9 \\xd0\\xbe\\xd0\\xb2\\xd1\\x81\\xd1\\x8f\\xd0\\xbd\\xd0\\xba\\xd0\\xbe\\xd0\\xb2\\xd1\\x8b\\xd0\\xb9 \\xd0\\xba\\xd0\\xb0\\xd1\\x80\\xd0\\xb4\\xd0\\xb8\\xd0\\xbd\\xd0\\xb0\\xd0\\xbb \\xd0\\xb1\\xd1\\x8b\\xd0\\xbb \\xd0\\xbe\\xd0\\xbf\\xd0\\xb8\\xd1\\x81\\xd0\\xb0\\xd0\\xbd \\xd1\\x88\\xd0\\xb2\\xd0\\xb5\\xd0\\xb4\\xd1\\x81\\xd0\\xba\\xd0\\xb8\\xd0\\xbc \\xd0\\xb5\\xd1\\x81\\xd1\\x82\\xd0\\xb5\\xd1\\x81\\xd1\\x82\\xd0\\xb2\\xd0\\xbe\\xd0\\xb8\\xd1\\x81\\xd0\\xbf\\xd1\\x8b\\xd1\\x82\\xd0\\xb0\\xd1\\x82\\xd0\\xb5\\xd0\\xbb\\xd0\\xb5\\xd0\\xbc \\r\\n\\xd0\\x9a\\xd0\\xb0\\xd1\\x80\\xd0\\xbb\\xd0\\xbe\\xd0\\xbc \\xd0\\x9b\\xd0\\xb8\\xd0\\xbd\\xd0\\xbd\\xd0\\xb5\\xd0\\xb5\\xd0\\xbc \\xd0\\xb2 \\xd0\\xb4\\xd0\\xb5\\xd1\\x81\\xd1\\x8f\\xd1\\x82\\xd0\\xbe\\xd0\\xbc \\xd0\\xb8\\xd0\\xb7\\xd0\\xb4\\xd0\\xb0\\xd0\\xbd\\xd0\\xb8\\xd0\\xb8 \\xc2\\xab\\xd0\\xa1\\xd0\\xb8\\xd1\\x81\\xd1\\x82\\xd0\\xb5\\xd0\\xbc\\xd1\\x8b \\xd0\\xbf\\xd1\\x80\\xd0\\xb8\\xd1\\x80\\xd0\\xbe\\xd0\\xb4\\xd1\\x8b\\xc2\\xbb \\xd0\\xb2 1758 \\xd0\\xb3\\xd0\\xbe\\xd0\\xb4\\xd1\\x83. \\r\\n\\xd0\\x9c\\xd0\\xb5\\xd0\\xb6\\xd0\\xb4\\xd1\\x83\\xd0\\xbd\\xd0\\xb0\\xd1\\x80\\xd0\\xbe\\xd0\\xb4\\xd0\\xbd\\xd1\\x8b\\xd0\\xb9 \\xd1\\x81\\xd0\\xbe\\xd1\\x8e\\xd0\\xb7 \\xd0\\xbe\\xd1\\x85\\xd1\\x80\\xd0\\xb0\\xd0\\xbd\\xd1\\x8b \\xd0\\xbf\\xd1\\x80\\xd0\\xb8\\xd1\\x80\\xd0\\xbe\\xd0\\xb4\\xd1\\x8b \\xd0\\xbe\\xd1\\x82\\xd0\\xbd\\xd0\\xbe\\xd1\\x81\\xd0\\xb8\\xd1\\x82 \\xd1\\x80\\xd0\\xb0\\xd1\\x81\\xd0\\xbf\\xd0\\xb8\\xd1\\x81\\xd0\\xbd\\xd0\\xbe\\xd0\\xb3\\xd0\\xbe \\xd0\\xbe\\xd0\\xb2\\xd1\\x81\\xd1\\x8f\\xd0\\xbd\\xd0\\xba\\xd0\\xbe\\xd0\\xb2\\xd0\\xbe\\xd0\\xb3\\xd0\\xbe \\xd0\\xba\\xd0\\xb0\\xd1\\x80\\xd0\\xb4\\xd0\\xb8\\xd0\\xbd\\xd0\\xb0\\xd0\\xbb\\xd0\\xb0 \\xd0\\xba \\xd0\\xb2\\xd0\\xb8\\xd0\\xb4\\xd0\\xb0\\xd0\\xbc,\\r\\n\\xd0\\xb1\\xd0\\xbb\\xd0\\xb8\\xd0\\xb7\\xd0\\xba\\xd0\\xb8\\xd0\\xbc \\xd0\\xba \\xd1\\x83\\xd1\\x8f\\xd0\\xb7\\xd0\\xb2\\xd0\\xb8\\xd0\\xbc\\xd0\\xbe\\xd0\\xbc\\xd1\\x83 \\xd0\\xbf\\xd0\\xbe\\xd0\\xbb\\xd0\\xbe\\xd0\\xb6\\xd0\\xb5\\xd0\\xbd\\xd0\\xb8\\xd1\\x8e, \\xd0\\xbe\\xd1\\x81\\xd0\\xbe\\xd0\\xb1\\xd1\\x8b\\xd0\\xb5 \\xd0\\xbe\\xd0\\xbf\\xd0\\xb0\\xd1\\x81\\xd0\\xb5\\xd0\\xbd\\xd0\\xb8\\xd1\\x8f \\xd0\\xb2\\xd1\\x8b\\xd0\\xb7\\xd1\\x8b\\xd0\\xb2\\xd0\\xb0\\xd0\\xb5\\xd1\\x82 \\xd1\\x87\\xd0\\xb8\\xd1\\x81\\xd0\\xbb\\xd0\\xb5\\xd0\\xbd\\xd0\\xbd\\xd0\\xbe\\xd1\\x81\\xd1\\x82\\xd1\\x8c \\xd0\\xb2\\xd0\\xbe\\xd1\\x81\\xd1\\x82\\xd0\\xbe\\xd1\\x87\\xd0\\xbd\\xd0\\xbe\\xd0\\xb9 \\xd0\\xbf\\xd0\\xbe\\xd0\\xbf\\xd1\\x83\\xd0\\xbb\\xd1\\x8f\\xd1\\x86\\xd0\\xb8\\xd0\\xb8. \\r\\n\\xd0\\x9f\\xd0\\xbe\\xd0\\xbc\\xd0\\xb8\\xd0\\xbc\\xd0\\xbe \\xd0\\xbf\\xd0\\xbe\\xd1\\x82\\xd0\\xb5\\xd1\\x80\\xd0\\xb8 \\xd1\\x81\\xd1\\x80\\xd0\\xb5\\xd0\\xb4\\xd1\\x8b \\xd0\\xbe\\xd0\\xb1\\xd0\\xb8\\xd1\\x82\\xd0\\xb0\\xd0\\xbd\\xd0\\xb8\\xd1\\x8f \\xd0\\xb8 \\xd0\\xb3\\xd0\\xbd\\xd0\\xb5\\xd0\\xb7\\xd0\\xb4\\xd0\\xbe\\xd0\\xb2\\xd0\\xbe\\xd0\\xb3\\xd0\\xbe \\xd0\\xbf\\xd0\\xb0\\xd1\\x80\\xd0\\xb0\\xd0\\xb7\\xd0\\xb8\\xd1\\x82\\xd0\\xb8\\xd0\\xb7\\xd0\\xbc\\xd0\\xb0 \\xd0\\xb1\\xd1\\x83\\xd1\\x80\\xd0\\xbe\\xd0\\xb3\\xd0\\xbe\\xd0\\xbb\\xd0\\xbe\\xd0\\xb2\\xd0\\xbe\\xd0\\xb3\\xd0\\xbe \\xd0\\xba\\xd0\\xbe\\xd1\\x80\\xd0\\xbe\\xd0\\xb2\\xd1\\x8c\\xd0\\xb5\\xd0\\xb3\\xd0\\xbe \\xd1\\x82\\xd1\\x80\\xd1\\x83\\xd0\\xbf\\xd0\\xb8\\xd0\\xb0\\xd0\\xbb\\xd0\\xb0, \\r\\n\\xd1\\x80\\xd0\\xb0\\xd1\\x81\\xd0\\xbf\\xd0\\xb8\\xd1\\x81\\xd0\\xbd\\xd1\\x8b\\xd0\\xb5 \\xd0\\xbe\\xd0\\xb2\\xd1\\x81\\xd1\\x8f\\xd0\\xbd\\xd0\\xba\\xd0\\xbe\\xd0\\xb2\\xd1\\x8b\\xd0\\xb5 \\xd0\\xba\\xd0\\xb0\\xd1\\x80\\xd0\\xb4\\xd0\\xb8\\xd0\\xbd\\xd0\\xb0\\xd0\\xbb\\xd1\\x8b \\xd1\\x81\\xd1\\x82\\xd1\\x80\\xd0\\xb0\\xd0\\xb4\\xd0\\xb0\\xd1\\x8e\\xd1\\x82 \\xd0\\xbe\\xd1\\x82 \\xd1\\x86\\xd0\\xb5\\xd0\\xbb\\xd0\\xb5\\xd0\\xbd\\xd0\\xb0\\xd0\\xbf\\xd1\\x80\\xd0\\xb0\\xd0\\xb2\\xd0\\xbb\\xd0\\xb5\\xd0\\xbd\\xd0\\xbd\\xd0\\xbe\\xd0\\xb3\\xd0\\xbe \\xd0\\xbe\\xd1\\x82\\xd0\\xbb\\xd0\\xbe\\xd0\\xb2\\xd0\\xb0 \\xd0\\xba\\xd1\\x80\\xd0\\xb0\\xd1\\x81\\xd0\\xbe\\xd1\\x87\\xd0\\xbd\\xd1\\x8b\\xd1\\x85 \\xd1\\x81\\xd0\\xb0\\xd0\\xbc\\xd1\\x86\\xd0\\xbe\\xd0\\xb2, \\r\\n\\xd0\\xbe\\xd0\\xb1\\xd0\\xbb\\xd0\\xb0\\xd0\\xb4\\xd0\\xb0\\xd1\\x8e\\xd1\\x89\\xd0\\xb8\\xd1\\x85 \\xd0\\xba\\xd1\\x80\\xd0\\xb0\\xd1\\x81\\xd0\\xb8\\xd0\\xb2\\xd1\\x8b\\xd0\\xbc \\xd0\\xbf\\xd0\\xb5\\xd0\\xbd\\xd0\\xb8\\xd0\\xb5\\xd0\\xbc, \\xd0\\xbd\\xd0\\xb0 \\xd0\\xbf\\xd1\\x80\\xd0\\xbe\\xd0\\xb4\\xd0\\xb0\\xd0\\xb6\\xd1\\x83.'\n"
     ]
    }
   ],
   "source": [
    "file = open(file_name, 'rb')\n",
    "content = file.read()\n",
    "file.close()\n",
    "print(content)"
   ]
  },
  {
   "cell_type": "code",
   "execution_count": 67,
   "metadata": {},
   "outputs": [
    {
     "output_type": "stream",
     "name": "stdout",
     "text": [
      "Расписной\n"
     ]
    }
   ],
   "source": [
    "file = open(file_name, 'r')\n",
    "content = file.read(9)\n",
    "file.close()\n",
    "print(content)"
   ]
  },
  {
   "cell_type": "code",
   "execution_count": 68,
   "metadata": {},
   "outputs": [
    {
     "output_type": "stream",
     "name": "stdout",
     "text": [
      "Расписной овсянковый кардинал (лат. Passerina ciris) — \n\nпевчая птица семейства кардиналовых (Cardinalidae), \n\nодна из самых разноцветных птиц Северной Америки. \n\nУ взрослого самца голова и затылок окрашены в голубой цвет, \n\nспина — в бронзово-зелёный, оперение снизу красное, а крылья и хвост — тёмные. \n\nСамка окрашена в тёмный зеленоватый цвет сверху и в желтовато-зелёный — снизу. \n\nАреал расписного овсянкового кардинала включает территории в Мексике и США, \n\nв зимнее время птицы мигрируют на территорию Багамских Островов, Белиза, \n\nКоста-Рики, Кубы, Сальвадора, Гватемалы, Гондураса, Никарагуа и Панамы.\n\nВид делится на непересекающиеся восточную и западную популяции, разделённые широким коридором.\n\nПтицы питаются преимущественно семенами трав, обычно находя корм на земле. \n\nСамка откладывает 3—4 яйца, которые насиживает 11—12 дней. \n\nВылупившиеся птенцы голые и беспомощные, но уже на 10—11-й день они покидают гнездо,\n\nпосле чего попадают под опеку самца, в то время как самка занимается второй кладкой.\n\nРасписной овсянковый кардинал был описан шведским естествоиспытателем \n\nКарлом Линнеем в десятом издании «Системы природы» в 1758 году. \n\nМеждународный союз охраны природы относит расписного овсянкового кардинала к видам,\n\nблизким к уязвимому положению, особые опасения вызывает численность восточной популяции. \n\nПомимо потери среды обитания и гнездового паразитизма буроголового коровьего трупиала, \n\nрасписные овсянковые кардиналы страдают от целенаправленного отлова красочных самцов, \n\nобладающих красивым пением, на продажу.\n"
     ]
    }
   ],
   "source": [
    "file = open(file_name, 'r')\n",
    "for line in file:\n",
    "    print(line)\n",
    "file.close()"
   ]
  },
  {
   "cell_type": "code",
   "execution_count": 69,
   "metadata": {},
   "outputs": [
    {
     "output_type": "stream",
     "name": "stdout",
     "text": [
      "['Расписной овсянковый кардинал (лат. Passerina ciris) — \\n', 'певчая птица семейства кардиналовых (Cardinalidae), \\n', 'одна из самых разноцветных птиц Северной Америки. \\n', 'У взрослого самца голова и затылок окрашены в голубой цвет, \\n', 'спина — в бронзово-зелёный, оперение снизу красное, а крылья и хвост — тёмные. \\n', 'Самка окрашена в тёмный зеленоватый цвет сверху и в желтовато-зелёный — снизу. \\n', 'Ареал расписного овсянкового кардинала включает территории в Мексике и США, \\n', 'в зимнее время птицы мигрируют на территорию Багамских Островов, Белиза, \\n', 'Коста-Рики, Кубы, Сальвадора, Гватемалы, Гондураса, Никарагуа и Панамы.\\n', 'Вид делится на непересекающиеся восточную и западную популяции, разделённые широким коридором.\\n', 'Птицы питаются преимущественно семенами трав, обычно находя корм на земле. \\n', 'Самка откладывает 3—4 яйца, которые насиживает 11—12 дней. \\n', 'Вылупившиеся птенцы голые и беспомощные, но уже на 10—11-й день они покидают гнездо,\\n', 'после чего попадают под опеку самца, в то время как самка занимается второй кладкой.\\n', 'Расписной овсянковый кардинал был описан шведским естествоиспытателем \\n', 'Карлом Линнеем в десятом издании «Системы природы» в 1758 году. \\n', 'Международный союз охраны природы относит расписного овсянкового кардинала к видам,\\n', 'близким к уязвимому положению, особые опасения вызывает численность восточной популяции. \\n', 'Помимо потери среды обитания и гнездового паразитизма буроголового коровьего трупиала, \\n', 'расписные овсянковые кардиналы страдают от целенаправленного отлова красочных самцов, \\n', 'обладающих красивым пением, на продажу.']\n"
     ]
    }
   ],
   "source": [
    "file = open(file_name, 'r')\n",
    "print(file.readlines())\n",
    "file.close()"
   ]
  },
  {
   "source": [
    "#### Запись"
   ],
   "cell_type": "markdown",
   "metadata": {}
  },
  {
   "cell_type": "code",
   "execution_count": 57,
   "metadata": {},
   "outputs": [
    {
     "output_type": "stream",
     "name": "stdout",
     "text": [
      "Р\n<class 'str'>\n"
     ]
    }
   ],
   "source": [
    "file = open(file_name, 'r',encoding=\"utf-8\")\n",
    "content = file.read()\n",
    "file.close()\n",
    "print(content)\n",
    "print(type(content))"
   ]
  },
  {
   "cell_type": "code",
   "execution_count": 58,
   "metadata": {},
   "outputs": [],
   "source": [
    "file_name = os.path.join(\"data\", \"output.txt\")\n",
    "file = open(file_name, mode=\"w\", encoding=\"utf-16\")\n",
    "file.write(\"привет мир\")\n",
    "file.close()\n"
   ]
  },
  {
   "source": [
    "#### with"
   ],
   "cell_type": "markdown",
   "metadata": {}
  },
  {
   "cell_type": "code",
   "execution_count": 71,
   "metadata": {},
   "outputs": [
    {
     "output_type": "stream",
     "name": "stdout",
     "text": [
      "Расписной овсянковый кардинал (лат. Passerina ciris) — \nпевчая птица семейства кардиналовых (Cardinalidae), \nодна из самых разноцветных птиц Северной Америки. \nУ взрослого самца голова и затылок окрашены в голубой цвет, \nспина — в бронзово-зелёный, оперение снизу красное, а крылья и хвост — тёмные. \nСамка окрашена в тёмный зеленоватый цвет сверху и в желтовато-зелёный — снизу. \nАреал расписного овсянкового кардинала включает территории в Мексике и США, \nв зимнее время птицы мигрируют на территорию Багамских Островов, Белиза, \nКоста-Рики, Кубы, Сальвадора, Гватемалы, Гондураса, Никарагуа и Панамы.\nВид делится на непересекающиеся восточную и западную популяции, разделённые широким коридором.\nПтицы питаются преимущественно семенами трав, обычно находя корм на земле. \nСамка откладывает 3—4 яйца, которые насиживает 11—12 дней. \nВылупившиеся птенцы голые и беспомощные, но уже на 10—11-й день они покидают гнездо,\nпосле чего попадают под опеку самца, в то время как самка занимается второй кладкой.\nРасписной овсянковый кардинал был описан шведским естествоиспытателем \nКарлом Линнеем в десятом издании «Системы природы» в 1758 году. \nМеждународный союз охраны природы относит расписного овсянкового кардинала к видам,\nблизким к уязвимому положению, особые опасения вызывает численность восточной популяции. \nПомимо потери среды обитания и гнездового паразитизма буроголового коровьего трупиала, \nрасписные овсянковые кардиналы страдают от целенаправленного отлова красочных самцов, \nобладающих красивым пением, на продажу."
     ]
    }
   ],
   "source": [
    "with open(file_name, 'r') as file:\n",
    "    for line in file:\n",
    "        print(line,end=\"\")"
   ]
  },
  {
   "source": [
    "#### Определение кодировки"
   ],
   "cell_type": "markdown",
   "metadata": {}
  },
  {
   "cell_type": "code",
   "execution_count": 59,
   "metadata": {},
   "outputs": [],
   "source": [
    "import chardet    "
   ]
  },
  {
   "cell_type": "code",
   "execution_count": 61,
   "metadata": {},
   "outputs": [
    {
     "output_type": "stream",
     "name": "stdout",
     "text": [
      "UTF-16\n"
     ]
    }
   ],
   "source": [
    "file_name = os.path.join(\"data\", \"output.txt\")\n",
    "rawdata = open(file_name, \"rb\").read()\n",
    "result = chardet.detect(rawdata)\n",
    "charenc = result['encoding']\n",
    "print(charenc)"
   ]
  },
  {
   "source": [
    "#### Свойства файлов"
   ],
   "cell_type": "markdown",
   "metadata": {}
  },
  {
   "cell_type": "code",
   "execution_count": 81,
   "metadata": {},
   "outputs": [
    {
     "output_type": "stream",
     "name": "stdout",
     "text": [
      "data\\bird.txt\ncp65001\nFalse\n"
     ]
    }
   ],
   "source": [
    "file_name = os.path.join(\"data\",\"bird.txt\")\n",
    "with open(file_name, 'r') as file:\n",
    "    print(file.name)\n",
    "    print(file.encoding)\n",
    "    print(file.closed)"
   ]
  },
  {
   "source": [
    "## Практика"
   ],
   "cell_type": "markdown",
   "metadata": {}
  },
  {
   "source": [
    "Определить кодировку файла *practice_1.txt*. Найти самое длинное слово в файле и записать его в новый файл в кодировке *cp1251*. Если таких слов несколько, записать все."
   ],
   "cell_type": "markdown",
   "metadata": {}
  },
  {
   "cell_type": "code",
   "execution_count": null,
   "metadata": {},
   "outputs": [],
   "source": [
    "import os\n",
    "import chardet\n",
    "file_name = os.path.join(\"data\", \"practice_1.txt\")\n",
    "with open(file_name, mode=\"rb\") as file:\n",
    "    raw_data = file.read()\n",
    "    encoding = chardet.detect(raw_data)[\"encoding\"]\n",
    "data = raw_data.decode(encoding=encoding)\n",
    "\n",
    "words = data.split()\n",
    "words\n",
    "max_len = len(max(words, key = len))\n",
    "res = []\n",
    "for word in words:\n",
    "    if len(word) == max_len:\n",
    "        res.append(word)\n",
    "print(res)\n",
    "\n",
    "file_output_name = os.path.join(\"data\", \"result.txt\")\n",
    "with open(file_output_name, mode=\"w\", encoding=\"cp1251\") as file:\n",
    "    for word in res:\n",
    "        file.write(word)"
   ]
  },
  {
   "source": [
    "## Лекция"
   ],
   "cell_type": "markdown",
   "metadata": {}
  },
  {
   "source": [
    "### Поиск в файле"
   ],
   "cell_type": "markdown",
   "metadata": {}
  },
  {
   "source": [
    "Файл можно представить как ленту.\n",
    "Лента имеет начало и конец, каждый байт пронумерован.\n",
    "И мы можем ходить вдоль ленты - брать или класть байты.\n",
    "Если файл открыт только для чтения (посмотреть на байты)\n",
    "то при открытии файла стоим вначале ленты, на 0 месте,\n",
    "А при самом чтении - сдвигаемся вдоль ленты на количество прочитанных байт.\n",
    "file.tell() говорит нам текущую позицию"
   ],
   "cell_type": "code",
   "metadata": {},
   "execution_count": null,
   "outputs": []
  },
  {
   "cell_type": "code",
   "execution_count": 75,
   "metadata": {},
   "outputs": [
    {
     "output_type": "stream",
     "name": "stdout",
     "text": [
      "Расписной овсянковый кардинал (лат. Passerina ciris) — \nпевчая птица семейства кардиналовых (Cardina\n---------\n165\nlidae), \nодна из самых разноцветных птиц Северной Америки. \nУ взрослого самца голова и затылок окрашены в голубой цвет, \nспина — в бронзово-зелёный, оперение снизу красное, а крылья и хвост — тёмные. \nСамка окрашена в тёмный зеленоватый цвет сверху и в желтовато-зелёный — снизу. \nАреал расписного овсянкового кардинала включает территории в Мексике и США, \nв зимнее время птицы мигрируют на территорию Багамских Островов, Белиза, \nКоста-Рики, Кубы, Сальвадора, Гватемалы, Гондураса, Никарагуа и Панамы.\nВид делится на непересекающиеся восточную и западную популяции, разделённые широким коридором.\nПтицы питаются преимущественно семенами трав, обычно находя корм на земле. \nСамка откладывает 3—4 яйца, которые насиживает 11—12 дней. \nВылупившиеся птенцы голые и беспомощные, но уже на 10—11-й день они покидают гнездо,\nпосле чего попадают под опеку самца, в то время как самка занимается второй кладкой.\nРасписной овсянковый кардинал был описан шведским естествоиспытателем \nКарлом Линнеем в десятом издании «Системы природы» в 1758 году. \nМеждународный союз охраны природы относит расписного овсянкового кардинала к видам,\nблизким к уязвимому положению, особые опасения вызывает численность восточной популяции. \nПомимо потери среды обитания и гнездового паразитизма буроголового коровьего трупиала, \nрасписные овсянковые кардиналы страдают от целенаправленного отлова красочных самцов, \nобладающих красивым пением, на продажу.\n2789\n"
     ]
    }
   ],
   "source": [
    "file_name = os.path.join(\"data\",\"bird.txt\")\n",
    "with open(file_name, 'r') as file:\n",
    "    content = file.read(100)#в символах\n",
    "    print(content)\n",
    "    print(\"---------\")\n",
    "    print(file.tell())  # в байтах!\n",
    "    content = file.read()\n",
    "    print(content)\n",
    "    print(file.tell())  # в байтах!"
   ]
  },
  {
   "cell_type": "code",
   "execution_count": 77,
   "metadata": {},
   "outputs": [],
   "source": [
    "import io"
   ]
  },
  {
   "cell_type": "code",
   "execution_count": 78,
   "metadata": {},
   "outputs": [
    {
     "output_type": "stream",
     "name": "stdout",
     "text": [
      "Расписной овсянковый кардинал (лат. Passerina ciris) — \nпевчая птица семейства кардиналовых (Cardina\n---------\n165\nРасписной овсянковый кардинал (лат. Passerina ciris) — \nпевчая птица семейства кардиналовых (Cardinalidae), \nодна из самых разноцветных птиц Северной Америки. \nУ взрослого самца голова и затылок окрашены в голубой цвет, \nспина — в бронзово-зелёный, оперение снизу красное, а крылья и хвост — тёмные. \nСамка окрашена в тёмный зеленоватый цвет сверху и в желтовато-зелёный — снизу. \nАреал расписного овсянкового кардинала включает территории в Мексике и США, \nв зимнее время птицы мигрируют на территорию Багамских Островов, Белиза, \nКоста-Рики, Кубы, Сальвадора, Гватемалы, Гондураса, Никарагуа и Панамы.\nВид делится на непересекающиеся восточную и западную популяции, разделённые широким коридором.\nПтицы питаются преимущественно семенами трав, обычно находя корм на земле. \nСамка откладывает 3—4 яйца, которые насиживает 11—12 дней. \nВылупившиеся птенцы голые и беспомощные, но уже на 10—11-й день они покидают гнездо,\nпосле чего попадают под опеку самца, в то время как самка занимается второй кладкой.\nРасписной овсянковый кардинал был описан шведским естествоиспытателем \nКарлом Линнеем в десятом издании «Системы природы» в 1758 году. \nМеждународный союз охраны природы относит расписного овсянкового кардинала к видам,\nблизким к уязвимому положению, особые опасения вызывает численность восточной популяции. \nПомимо потери среды обитания и гнездового паразитизма буроголового коровьего трупиала, \nрасписные овсянковые кардиналы страдают от целенаправленного отлова красочных самцов, \nобладающих красивым пением, на продажу.\n2789\n"
     ]
    }
   ],
   "source": [
    "file_name = os.path.join(\"data\",\"bird.txt\")\n",
    "with open(file_name, 'r') as file:\n",
    "    content = file.read(100)#в символах\n",
    "    print(content)\n",
    "    print(\"---------\")\n",
    "    print(file.tell())  # в байтах!\n",
    "    new_position = file.seek(0, io.SEEK_SET)\n",
    "    # io.SEEK_SET - начало файла\n",
    "    # io.SEEK_CUR - текущая позиция\n",
    "    # io.SEEK_END - конец файла\n",
    "\n",
    "    content = file.read()\n",
    "    print(content)\n",
    "    print(file.tell())  # в байтах!"
   ]
  },
  {
   "cell_type": "code",
   "execution_count": 2,
   "metadata": {},
   "outputs": [],
   "source": [
    "import zipfile\n",
    "import os"
   ]
  },
  {
   "cell_type": "code",
   "execution_count": 3,
   "metadata": {},
   "outputs": [],
   "source": [
    "file_name = os.path.join(\"data\",\"bratya-karamazovy.zip\")\n",
    "zip = zipfile.ZipFile(file_name,\"r\")\n",
    "file_name = zip.extract(zip.namelist()[0], \"data\")"
   ]
  },
  {
   "cell_type": "code",
   "execution_count": 4,
   "metadata": {},
   "outputs": [],
   "source": [
    "import chardet\n",
    "import pprint\n",
    "import string"
   ]
  },
  {
   "cell_type": "code",
   "execution_count": 5,
   "metadata": {},
   "outputs": [
    {
     "output_type": "stream",
     "name": "stdout",
     "text": [
      "windows-1251\n"
     ]
    }
   ],
   "source": [
    "rawdata = open(file_name, \"rb\").read()\n",
    "result = chardet.detect(rawdata)\n",
    "charenc = result['encoding']\n",
    "print(charenc)"
   ]
  },
  {
   "cell_type": "code",
   "execution_count": 6,
   "metadata": {
    "tags": []
   },
   "outputs": [],
   "source": [
    "accuracy = 8\n",
    "cur_string = ' '*accuracy\n",
    "occurencies = {}\n",
    "with open (file_name, mode=\"r\", encoding=charenc) as file:\n",
    "    for line in file:\n",
    "        for char in line[:-1]:\n",
    "            if char.lower() not in string.ascii_lowercase:\n",
    "                if cur_string in occurencies:\n",
    "                    if char in occurencies[cur_string]:\n",
    "                        occurencies[cur_string][char]+=1\n",
    "                    else:\n",
    "                        occurencies[cur_string][char]=1\n",
    "                else:\n",
    "                    occurencies[cur_string]={char:1}\n",
    "                cur_string = cur_string[1::]+char\n",
    "\n",
    "# pprint.pprint(occurencies)   \n",
    "# pprint.pprint(len(occurencies))   "
   ]
  },
  {
   "cell_type": "code",
   "execution_count": 36,
   "metadata": {
    "tags": [
     "outputPrepend"
    ]
   },
   "outputs": [
    {
     "output_type": "stream",
     "name": "stdout",
     "text": [
      " 80,\n",
      "       'я': 2},\n",
      " 'Н': {'-': 4,\n",
      "       'а': 452,\n",
      "       'е': 832,\n",
      "       'и': 260,\n",
      "       'о': 846,\n",
      "       'р': 2,\n",
      "       'у': 326,\n",
      "       'ы': 5},\n",
      " 'О': {' ': 62,\n",
      "       '!': 4,\n",
      "       ',': 138,\n",
      "       'б': 109,\n",
      "       'г': 5,\n",
      "       'д': 86,\n",
      "       'ж': 4,\n",
      "       'з': 8,\n",
      "       'к': 14,\n",
      "       'л': 3,\n",
      "       'м': 1,\n",
      "       'н': 914,\n",
      "       'п': 40,\n",
      "       'р': 3,\n",
      "       'с': 59,\n",
      "       'т': 168,\n",
      "       'ф': 2,\n",
      "       'х': 16,\n",
      "       'ц': 1,\n",
      "       'ч': 26,\n",
      "       'ш': 3,\n",
      "       'щ': 1},\n",
      " 'П': {'а': 594,\n",
      "       'е': 339,\n",
      "       'и': 26,\n",
      "       'л': 30,\n",
      "       'о': 780,\n",
      "       'р': 525,\n",
      "       'с': 6,\n",
      "       'т': 2,\n",
      "       'у': 76,\n",
      "       'ф': 1,\n",
      "       'ш': 1,\n",
      "       'ь': 10,\n",
      "       'я': 7},\n",
      " 'Р': {'.': 2,\n",
      "       'а': 337,\n",
      "       'е': 27,\n",
      "       'и': 20,\n",
      "       'о': 85,\n",
      "       'у': 23,\n",
      "       'ы': 1,\n",
      "       'ю': 1,\n",
      "       'я': 1},\n",
      " 'С': {' ': 116,\n",
      "       'а': 152,\n",
      "       'б': 4,\n",
      "       'в': 50,\n",
      "       'г': 2,\n",
      "       'д': 12,\n",
      "       'е': 67,\n",
      "       'ж': 1,\n",
      "       'и': 68,\n",
      "       'к': 85,\n",
      "       'л': 183,\n",
      "       'м': 497,\n",
      "       'н': 36,\n",
      "       'о': 119,\n",
      "       'п': 46,\n",
      "       'р': 7,\n",
      "       'с': 2,\n",
      "       'т': 278,\n",
      "       'у': 30,\n",
      "       'х': 8,\n",
      "       'ц': 1,\n",
      "       'ч': 7,\n",
      "       'ъ': 2,\n",
      "       'ы': 6,\n",
      "       'ю': 2,\n",
      "       'я': 3},\n",
      " 'Т': {'а': 362,\n",
      "       'в': 8,\n",
      "       'е': 166,\n",
      "       'и': 18,\n",
      "       'л': 1,\n",
      "       'о': 283,\n",
      "       'р': 108,\n",
      "       'у': 93,\n",
      "       'ы': 203,\n",
      "       'ь': 3,\n",
      "       'э': 1,\n",
      "       'ю': 4,\n",
      "       'я': 4},\n",
      " 'У': {' ': 140,\n",
      "       'б': 32,\n",
      "       'в': 34,\n",
      "       'г': 6,\n",
      "       'д': 13,\n",
      "       'е': 2,\n",
      "       'ж': 44,\n",
      "       'з': 10,\n",
      "       'й': 2,\n",
      "       'к': 7,\n",
      "       'л': 2,\n",
      "       'м': 20,\n",
      "       'н': 1,\n",
      "       'п': 5,\n",
      "       'р': 2,\n",
      "       'с': 10,\n",
      "       'т': 9,\n",
      "       'х': 14,\n",
      "       'ц': 1,\n",
      "       'ч': 5,\n",
      "       'ш': 3},\n",
      " 'Ф': {'а': 13, 'е': 1168, 'и': 8, 'л': 1, 'о': 17, 'р': 3, 'у': 7, 'ь': 1},\n",
      " 'Х': {'а': 11, 'в': 3, 'е': 5, 'и': 4, 'л': 3, 'о': 200, 'р': 65, 'у': 1},\n",
      " 'Ц': {'а': 3, 'в': 2, 'е': 21, 'и': 2, 'ы': 5, 'ю': 1},\n",
      " 'Ч': {'а': 15,\n",
      "       'е': 159,\n",
      "       'и': 26,\n",
      "       'л': 1,\n",
      "       'о': 17,\n",
      "       'р': 11,\n",
      "       'т': 276,\n",
      "       'у': 12,\n",
      "       'ь': 1},\n",
      " 'Ш': {'-': 1,\n",
      "       'а': 7,\n",
      "       'е': 10,\n",
      "       'и': 6,\n",
      "       'к': 4,\n",
      "       'л': 2,\n",
      "       'м': 2,\n",
      "       'п': 1,\n",
      "       'т': 19,\n",
      "       'у': 11},\n",
      " 'Щ': {'е': 7},\n",
      " 'Э': {' ': 1,\n",
      "       ',': 20,\n",
      "       '-': 3,\n",
      "       'в': 2,\n",
      "       'г': 2,\n",
      "       'з': 1,\n",
      "       'й': 6,\n",
      "       'к': 13,\n",
      "       'п': 1,\n",
      "       'с': 1,\n",
      "       'т': 566,\n",
      "       'ф': 4,\n",
      "       'х': 17},\n",
      " 'Ю': {'л': 10, 'н': 5, 'п': 2},\n",
      " 'Я': {' ': 888,\n",
      "       ',': 44,\n",
      "       '-': 8,\n",
      "       '.': 6,\n",
      "       'б': 1,\n",
      "       'в': 7,\n",
      "       'з': 1,\n",
      "       'к': 3,\n",
      "       'м': 1,\n",
      "       'с': 4},\n",
      " 'а': {'\\n': 22,\n",
      "       ' ': 19934,\n",
      "       '!': 340,\n",
      "       '\"': 142,\n",
      "       ')': 22,\n",
      "       ',': 3934,\n",
      "       '-': 325,\n",
      "       '.': 1651,\n",
      "       ':': 163,\n",
      "       ';': 44,\n",
      "       '?': 275,\n",
      "       'а': 13,\n",
      "       'б': 896,\n",
      "       'в': 4856,\n",
      "       'г': 1060,\n",
      "       'д': 3019,\n",
      "       'е': 1829,\n",
      "       'ж': 2546,\n",
      "       'з': 4975,\n",
      "       'и': 310,\n",
      "       'й': 1313,\n",
      "       'к': 9547,\n",
      "       'л': 11247,\n",
      "       'м': 5837,\n",
      "       'н': 5358,\n",
      "       'о': 14,\n",
      "       'п': 1313,\n",
      "       'р': 3397,\n",
      "       'с': 6260,\n",
      "       'т': 6768,\n",
      "       'у': 75,\n",
      "       'ф': 156,\n",
      "       'х': 1276,\n",
      "       'ц': 54,\n",
      "       'ч': 1325,\n",
      "       'ш': 1761,\n",
      "       'щ': 351,\n",
      "       'э': 1,\n",
      "       'ю': 1510,\n",
      "       'я': 2580},\n",
      " 'б': {' ': 669,\n",
      "       '!': 2,\n",
      "       '\"': 1,\n",
      "       ')': 1,\n",
      "       ',': 33,\n",
      "       '-': 3,\n",
      "       '.': 13,\n",
      "       '?': 1,\n",
      "       'а': 975,\n",
      "       'б': 6,\n",
      "       'в': 235,\n",
      "       'г': 1,\n",
      "       'д': 42,\n",
      "       'е': 3558,\n",
      "       'ж': 1,\n",
      "       'з': 2,\n",
      "       'и': 1772,\n",
      "       'й': 1,\n",
      "       'к': 126,\n",
      "       'л': 1352,\n",
      "       'м': 62,\n",
      "       'н': 533,\n",
      "       'о': 3654,\n",
      "       'р': 1779,\n",
      "       'с': 306,\n",
      "       'т': 12,\n",
      "       'у': 1769,\n",
      "       'х': 73,\n",
      "       'ц': 6,\n",
      "       'ч': 52,\n",
      "       'ш': 22,\n",
      "       'щ': 293,\n",
      "       'ъ': 213,\n",
      "       'ы': 6368,\n",
      "       'ь': 123,\n",
      "       'ю': 2,\n",
      "       'я': 1136},\n",
      " 'в': {'\\n': 5,\n",
      "       ' ': 8068,\n",
      "       '!': 38,\n",
      "       '\"': 25,\n",
      "       ')': 5,\n",
      "       ',': 682,\n",
      "       '-': 45,\n",
      "       '.': 265,\n",
      "       ':': 23,\n",
      "       ';': 14,\n",
      "       '?': 28,\n",
      "       'а': 8840,\n",
      "       'б': 24,\n",
      "       'в': 63,\n",
      "       'г': 19,\n",
      "       'д': 1574,\n",
      "       'е': 8477,\n",
      "       'з': 631,\n",
      "       'и': 5695,\n",
      "       'к': 233,\n",
      "       'л': 1241,\n",
      "       'м': 175,\n",
      "       'н': 1953,\n",
      "       'о': 11052,\n",
      "       'п': 472,\n",
      "       'р': 777,\n",
      "       'с': 6114,\n",
      "       'т': 378,\n",
      "       'у': 882,\n",
      "       'х': 78,\n",
      "       'ц': 38,\n",
      "       'ч': 180,\n",
      "       'ш': 1166,\n",
      "       'щ': 24,\n",
      "       'ъ': 9,\n",
      "       'ы': 3901,\n",
      "       'ь': 397,\n",
      "       'ю': 2,\n",
      "       'я': 408,\n",
      "       'ё': 1},\n",
      " 'г': {'\\n': 2,\n",
      "       ' ': 1836,\n",
      "       '!': 9,\n",
      "       '\"': 13,\n",
      "       ',': 250,\n",
      "       '-': 78,\n",
      "       '.': 94,\n",
      "       ':': 8,\n",
      "       ';': 3,\n",
      "       '?': 11,\n",
      "       'а': 1527,\n",
      "       'б': 2,\n",
      "       'в': 8,\n",
      "       'д': 2127,\n",
      "       'е': 358,\n",
      "       'з': 1,\n",
      "       'и': 1021,\n",
      "       'к': 104,\n",
      "       'л': 1879,\n",
      "       'м': 6,\n",
      "       'н': 454,\n",
      "       'о': 14596,\n",
      "       'р': 1029,\n",
      "       'с': 18,\n",
      "       'т': 4,\n",
      "       'у': 848,\n",
      "       'ч': 37,\n",
      "       'ш': 10},\n",
      " 'д': {'\\n': 2,\n",
      "       ' ': 1219,\n",
      "       '!': 17,\n",
      "       '\"': 14,\n",
      "       ')': 2,\n",
      "       ',': 204,\n",
      "       '-': 14,\n",
      "       '.': 91,\n",
      "       ':': 10,\n",
      "       ';': 3,\n",
      "       '?': 13,\n",
      "       'а': 8128,\n",
      "       'б': 28,\n",
      "       'в': 1077,\n",
      "       'г': 19,\n",
      "       'д': 39,\n",
      "       'е': 7149,\n",
      "       'ж': 22,\n",
      "       'з': 22,\n",
      "       'и': 3957,\n",
      "       'к': 358,\n",
      "       'л': 1115,\n",
      "       'м': 59,\n",
      "       'н': 2795,\n",
      "       'о': 6633,\n",
      "       'п': 127,\n",
      "       'р': 2703,\n",
      "       'с': 752,\n",
      "       'т': 314,\n",
      "       'у': 2876,\n",
      "       'х': 74,\n",
      "       'ц': 550,\n",
      "       'ч': 134,\n",
      "       'ш': 99,\n",
      "       'ъ': 10,\n",
      "       'ы': 717,\n",
      "       'ь': 1366,\n",
      "       'ю': 9,\n",
      "       'я': 833},\n",
      " 'е': {'\\n': 16,\n",
      "       ' ': 25196,\n",
      "       '!': 299,\n",
      "       '\"': 123,\n",
      "       ')': 17,\n",
      "       ',': 3943,\n",
      "       '-': 361,\n",
      "       '.': 1408,\n",
      "       ':': 259,\n",
      "       ';': 52,\n",
      "       '?': 297,\n",
      "       'а': 62,\n",
      "       'б': 2476,\n",
      "       'в': 1781,\n",
      "       'г': 6449,\n",
      "       'д': 5691,\n",
      "       'е': 2266,\n",
      "       'ж': 1390,\n",
      "       'з': 2133,\n",
      "       'и': 178,\n",
      "       'й': 3574,\n",
      "       'к': 2091,\n",
      "       'л': 8616,\n",
      "       'м': 7267,\n",
      "       'н': 11827,\n",
      "       'о': 351,\n",
      "       'п': 1941,\n",
      "       'р': 9172,\n",
      "       'с': 7111,\n",
      "       'т': 8607,\n",
      "       'у': 231,\n",
      "       'ф': 12,\n",
      "       'х': 1005,\n",
      "       'ц': 944,\n",
      "       'ч': 1849,\n",
      "       'ш': 2934,\n",
      "       'щ': 1396,\n",
      "       'ю': 463,\n",
      "       'я': 429,\n",
      "       'ё': 11},\n",
      " 'ж': {' ': 680,\n",
      "       '!': 1,\n",
      "       '\"': 2,\n",
      "       ',': 61,\n",
      "       '-': 1,\n",
      "       '.': 6,\n",
      "       ':': 2,\n",
      "       '?': 8,\n",
      "       'а': 1947,\n",
      "       'б': 24,\n",
      "       'г': 23,\n",
      "       'д': 1307,\n",
      "       'е': 7427,\n",
      "       'ж': 7,\n",
      "       'и': 2166,\n",
      "       'й': 2,\n",
      "       'к': 160,\n",
      "       'л': 27,\n",
      "       'м': 3,\n",
      "       'н': 1170,\n",
      "       'о': 46,\n",
      "       'р': 3,\n",
      "       'с': 8,\n",
      "       'т': 41,\n",
      "       'у': 522,\n",
      "       'ч': 15,\n",
      "       'ь': 67,\n",
      "       'ё': 1},\n",
      " 'з': {' ': 1929,\n",
      "       '!': 4,\n",
      "       '\"': 4,\n",
      "       ',': 103,\n",
      "       '-': 100,\n",
      "       '.': 47,\n",
      "       ':': 10,\n",
      "       ';': 2,\n",
      "       '?': 6,\n",
      "       'а': 7161,\n",
      "       'б': 253,\n",
      "       'в': 1453,\n",
      "       'г': 438,\n",
      "       'д': 1172,\n",
      "       'е': 491,\n",
      "       'ж': 114,\n",
      "       'з': 18,\n",
      "       'и': 609,\n",
      "       'к': 139,\n",
      "       'л': 481,\n",
      "       'м': 425,\n",
      "       'н': 3045,\n",
      "       'о': 1088,\n",
      "       'р': 426,\n",
      "       'с': 14,\n",
      "       'т': 22,\n",
      "       'у': 406,\n",
      "       'ц': 2,\n",
      "       'ч': 20,\n",
      "       'ш': 12,\n",
      "       'ъ': 39,\n",
      "       'ы': 535,\n",
      "       'ь': 183,\n",
      "       'ю': 1,\n",
      "       'я': 452},\n",
      " 'и': {'\\n': 16,\n",
      "       ' ': 24700,\n",
      "       '!': 248,\n",
      "       '\"': 123,\n",
      "       ')': 19,\n",
      "       ',': 3345,\n",
      "       '-': 236,\n",
      "       '.': 1306,\n",
      "       '/': 1,\n",
      "       ':': 167,\n",
      "       ';': 48,\n",
      "       '?': 267,\n",
      "       'а': 145,\n",
      "       'б': 1076,\n",
      "       'в': 3221,\n",
      "       'г': 877,\n",
      "       'д': 2590,\n",
      "       'е': 3010,\n",
      "       'ж': 472,\n",
      "       'з': 3054,\n",
      "       'и': 822,\n",
      "       'й': 1966,\n",
      "       'к': 3668,\n",
      "       'л': 8425,\n",
      "       'м': 4670,\n",
      "       'н': 4584,\n",
      "       'о': 162,\n",
      "       'п': 263,\n",
      "       'р': 1045,\n",
      "       'с': 3507,\n",
      "       'т': 8829,\n",
      "       'у': 83,\n",
      "       'ф': 78,\n",
      "       'х': 2587,\n",
      "       'ц': 1029,\n",
      "       'ч': 2937,\n",
      "       'ш': 1471,\n",
      "       'щ': 201,\n",
      "       'э': 1,\n",
      "       'ю': 499,\n",
      "       'я': 1690,\n",
      "       'ё': 4},\n",
      " 'й': {'\\n': 14,\n",
      "       ' ': 8028,\n",
      "       '!': 138,\n",
      "       '\"': 72,\n",
      "       ')': 16,\n",
      "       ',': 1907,\n",
      "       '-': 177,\n",
      "       '.': 632,\n",
      "       ':': 76,\n",
      "       ';': 31,\n",
      "       '?': 80,\n",
      "       'д': 417,\n",
      "       'е': 1,\n",
      "       'з': 1,\n",
      "       'й': 1,\n",
      "       'к': 137,\n",
      "       'л': 10,\n",
      "       'м': 80,\n",
      "       'н': 536,\n",
      "       'о': 9,\n",
      "       'р': 2,\n",
      "       'с': 561,\n",
      "       'т': 546,\n",
      "       'ф': 1,\n",
      "       'ц': 76,\n",
      "       'ч': 379,\n",
      "       'ш': 306},\n",
      " 'к': {'\\n': 3,\n",
      "       ' ': 7067,\n",
      "       '!': 84,\n",
      "       '\"': 32,\n",
      "       ')': 3,\n",
      "       ',': 805,\n",
      "       '-': 260,\n",
      "       '.': 260,\n",
      "       ':': 29,\n",
      "       ';': 10,\n",
      "       '?': 67,\n",
      "       'а': 10616,\n",
      "       'б': 3,\n",
      "       'в': 277,\n",
      "       'д': 25,\n",
      "       'е': 849,\n",
      "       'ж': 4,\n",
      "       'з': 2,\n",
      "       'и': 3844,\n",
      "       'к': 10,\n",
      "       'л': 993,\n",
      "       'м': 5,\n",
      "       'н': 821,\n",
      "       'о': 12317,\n",
      "       'р': 2375,\n",
      "       'с': 440,\n",
      "       'т': 854,\n",
      "       'у': 2396,\n",
      "       'ц': 19,\n",
      "       'ш': 15,\n",
      "       'ь': 1},\n",
      " 'л': {'\\n': 2,\n",
      "       ' ': 8928,\n",
      "       '!': 136,\n",
      "       '\"': 74,\n",
      "       ')': 19,\n",
      "       ',': 1840,\n",
      "       '-': 68,\n",
      "       '.': 821,\n",
      "       ':': 143,\n",
      "       ';': 35,\n",
      "       '?': 152,\n",
      "       'o': 1,\n",
      "       'а': 7704,\n",
      "       'б': 55,\n",
      "       'в': 43,\n",
      "       'г': 311,\n",
      "       'д': 38,\n",
      "       'е': 7410,\n",
      "       'ж': 463,\n",
      "       'з': 14,\n",
      "       'и': 9627,\n",
      "       'й': 1,\n",
      "       'к': 355,\n",
      "       'л': 123,\n",
      "       'м': 10,\n",
      "       'н': 387,\n",
      "       'о': 8270,\n",
      "       'п': 42,\n",
      "       'р': 2,\n",
      "       'с': 2270,\n",
      "       'т': 96,\n",
      "       'у': 2240,\n",
      "       'ф': 5,\n",
      "       'ч': 324,\n",
      "       'ш': 2,\n",
      "       'ы': 980,\n",
      "       'ь': 6362,\n",
      "       'э': 1,\n",
      "       'ю': 2203,\n",
      "       'я': 2191,\n",
      "       'ё': 1},\n",
      " 'м': {'\\n': 7,\n",
      "       ' ': 9939,\n",
      "       '!': 103,\n",
      "       '\"': 90,\n",
      "       ')': 14,\n",
      "       ',': 2169,\n",
      "       '-': 249,\n",
      "       '.': 742,\n",
      "       ':': 99,\n",
      "       ';': 20,\n",
      "       '?': 113,\n",
      "       'а': 3636,\n",
      "       'б': 21,\n",
      "       'г': 105,\n",
      "       'е': 6866,\n",
      "       'з': 3,\n",
      "       'и': 4330,\n",
      "       'к': 90,\n",
      "       'л': 351,\n",
      "       'м': 61,\n",
      "       'н': 2632,\n",
      "       'о': 6400,\n",
      "       'п': 95,\n",
      "       'р': 130,\n",
      "       'с': 260,\n",
      "       'т': 9,\n",
      "       'у': 4350,\n",
      "       'ф': 2,\n",
      "       'ц': 7,\n",
      "       'ч': 50,\n",
      "       'ш': 13,\n",
      "       'щ': 43,\n",
      "       'ы': 1489,\n",
      "       'ь': 113,\n",
      "       'я': 559},\n",
      " 'н': {'\\n': 1,\n",
      "       ' ': 5331,\n",
      "       '!': 79,\n",
      "       '\"': 33,\n",
      "       ')': 9,\n",
      "       ',': 848,\n",
      "       '-': 57,\n",
      "       '.': 389,\n",
      "       ':': 31,\n",
      "       ';': 12,\n",
      "       '?': 55,\n",
      "       'e': 1,\n",
      "       'а': 15015,\n",
      "       'б': 3,\n",
      "       'в': 29,\n",
      "       'г': 97,\n",
      "       'д': 303,\n",
      "       'е': 16727,\n",
      "       'ж': 7,\n",
      "       'з': 31,\n",
      "       'и': 10413,\n",
      "       'й': 1,\n",
      "       'к': 420,\n",
      "       'л': 2,\n",
      "       'м': 5,\n",
      "       'н': 4079,\n",
      "       'о': 15490,\n",
      "       'п': 3,\n",
      "       'р': 110,\n",
      "       'с': 473,\n",
      "       'т': 499,\n",
      "       'у': 3668,\n",
      "       'ф': 54,\n",
      "       'х': 1,\n",
      "       'ц': 283,\n",
      "       'ч': 344,\n",
      "       'ш': 40,\n",
      "       'щ': 164,\n",
      "       'ы': 4057,\n",
      "       'ь': 2361,\n",
      "       'ю': 312,\n",
      "       'я': 2599,\n",
      "       'ё': 1},\n",
      " 'о': {'\\n': 6,\n",
      "       ' ': 34778,\n",
      "       '!': 317,\n",
      "       '\"': 124,\n",
      "       ')': 40,\n",
      "       ',': 4051,\n",
      "       '-': 1052,\n",
      "       '.': 1385,\n",
      "       ':': 240,\n",
      "       ';': 59,\n",
      "       '?': 278,\n",
      "       'а': 3,\n",
      "       'б': 5657,\n",
      "       'в': 12639,\n",
      "       'г': 8124,\n",
      "       'д': 7466,\n",
      "       'е': 3576,\n",
      "       'ж': 3270,\n",
      "       'з': 1781,\n",
      "       'и': 1410,\n",
      "       'й': 4727,\n",
      "       'к': 3073,\n",
      "       'л': 8457,\n",
      "       'м': 8203,\n",
      "       'н': 8165,\n",
      "       'о': 302,\n",
      "       'п': 2050,\n",
      "       'р': 9287,\n",
      "       'с': 9480,\n",
      "       'т': 11066,\n",
      "       'у': 121,\n",
      "       'ф': 149,\n",
      "       'х': 552,\n",
      "       'ц': 168,\n",
      "       'ч': 3574,\n",
      "       'ш': 1283,\n",
      "       'щ': 301,\n",
      "       'э': 30,\n",
      "       'ю': 1215,\n",
      "       'я': 909},\n",
      " 'п': {' ': 26,\n",
      "       '!': 1,\n",
      "       ',': 23,\n",
      "       '-': 1,\n",
      "       '.': 10,\n",
      "       ':': 1,\n",
      "       '?': 1,\n",
      "       'o': 2,\n",
      "       'а': 1693,\n",
      "       'е': 3192,\n",
      "       'и': 1415,\n",
      "       'к': 104,\n",
      "       'л': 965,\n",
      "       'н': 222,\n",
      "       'о': 13733,\n",
      "       'п': 85,\n",
      "       'р': 11381,\n",
      "       'с': 42,\n",
      "       'т': 98,\n",
      "       'у': 914,\n",
      "       'ф': 1,\n",
      "       'ц': 23,\n",
      "       'ч': 49,\n",
      "       'ш': 23,\n",
      "       'щ': 11,\n",
      "       'ы': 285,\n",
      "       'ь': 167,\n",
      "       'я': 755},\n",
      " 'р': {'\\n': 2,\n",
      "       ' ': 816,\n",
      "       '!': 39,\n",
      "       '\"': 13,\n",
      "       ',': 289,\n",
      "       '-': 19,\n",
      "       '.': 118,\n",
      "       ':': 5,\n",
      "       ';': 2,\n",
      "       '?': 18,\n",
      "       'а': 10532,\n",
      "       'б': 124,\n",
      "       'в': 669,\n",
      "       'г': 297,\n",
      "       'д': 1233,\n",
      "       'е': 8922,\n",
      "       'ж': 430,\n",
      "       'з': 93,\n",
      "       'и': 8781,\n",
      "       'к': 321,\n",
      "       'л': 53,\n",
      "       'м': 293,\n",
      "       'н': 956,\n",
      "       'о': 11495,\n",
      "       'п': 133,\n",
      "       'р': 13,\n",
      "       'с': 262,\n",
      "       'т': 771,\n",
      "       'у': 4438,\n",
      "       'ф': 178,\n",
      "       'х': 171,\n",
      "       'ц': 245,\n",
      "       'ч': 109,\n",
      "       'ш': 337,\n",
      "       'щ': 20,\n",
      "       'ы': 1410,\n",
      "       'ь': 1539,\n",
      "       'ю': 383,\n",
      "       'я': 1540},\n",
      " 'с': {' ': 4602,\n",
      "       '!': 56,\n",
      "       '\"': 16,\n",
      "       ')': 5,\n",
      "       ',': 634,\n",
      "       '-': 97,\n",
      "       '.': 315,\n",
      "       ':': 58,\n",
      "       ';': 11,\n",
      "       '?': 69,\n",
      "       'а': 3092,\n",
      "       'б': 91,\n",
      "       'в': 2575,\n",
      "       'г': 29,\n",
      "       'д': 293,\n",
      "       'е': 6384,\n",
      "       'ж': 21,\n",
      "       'з': 17,\n",
      "       'и': 2319,\n",
      "       'к': 4776,\n",
      "       'л': 4643,\n",
      "       'м': 1652,\n",
      "       'н': 1325,\n",
      "       'о': 4283,\n",
      "       'п': 2649,\n",
      "       'р': 196,\n",
      "       'с': 1220,\n",
      "       'т': 16241,\n",
      "       'у': 1387,\n",
      "       'ф': 6,\n",
      "       'х': 315,\n",
      "       'ц': 78,\n",
      "       'ч': 598,\n",
      "       'ш': 161,\n",
      "       'щ': 3,\n",
      "       'ъ': 41,\n",
      "       'ы': 480,\n",
      "       'ь': 4133,\n",
      "       'ю': 477,\n",
      "       'я': 6271,\n",
      "       'ё': 1585},\n",
      " 'т': {'\\n': 6,\n",
      "       ' ': 7821,\n",
      "       '!': 176,\n",
      "       '\"': 70,\n",
      "       ')': 13,\n",
      "       ',': 2042,\n",
      "       '-': 143,\n",
      "       '.': 808,\n",
      "       ':': 106,\n",
      "       ';': 31,\n",
      "       '?': 216,\n",
      "       'e': 1,\n",
      "       'а': 8907,\n",
      "       'б': 24,\n",
      "       'в': 3896,\n",
      "       'г': 13,\n",
      "       'д': 204,\n",
      "       'е': 9529,\n",
      "       'ж': 1,\n",
      "       'з': 12,\n",
      "       'и': 6290,\n",
      "       'к': 700,\n",
      "       'л': 347,\n",
      "       'м': 46,\n",
      "       'н': 1479,\n",
      "       'о': 24381,\n",
      "       'п': 127,\n",
      "       'р': 4442,\n",
      "       'с': 1629,\n",
      "       'т': 76,\n",
      "       'у': 2601,\n",
      "       'ф': 2,\n",
      "       'х': 36,\n",
      "       'ц': 462,\n",
      "       'ч': 444,\n",
      "       'ш': 8,\n",
      "       'щ': 13,\n",
      "       'ъ': 22,\n",
      "       'ы': 2793,\n",
      "       'ь': 10473,\n",
      "       'ю': 239,\n",
      "       'я': 1447,\n",
      "       'ё': 19},\n",
      " 'у': {'\\n': 2,\n",
      "       ' ': 8790,\n",
      "       '!': 174,\n",
      "       '\"': 90,\n",
      "       ')': 10,\n",
      "       ',': 2243,\n",
      "       '-': 196,\n",
      "       '.': 921,\n",
      "       ':': 144,\n",
      "       ';': 39,\n",
      "       '?': 124,\n",
      "       'p': 1,\n",
      "       'а': 8,\n",
      "       'б': 1499,\n",
      "       'в': 1032,\n",
      "       'г': 2472,\n",
      "       'д': 3106,\n",
      "       'е': 340,\n",
      "       'ж': 2651,\n",
      "       'з': 413,\n",
      "       'и': 27,\n",
      "       'й': 237,\n",
      "       'к': 1013,\n",
      "       'л': 1807,\n",
      "       'м': 1819,\n",
      "       'н': 350,\n",
      "       'о': 2,\n",
      "       'п': 1232,\n",
      "       'р': 678,\n",
      "       'с': 1747,\n",
      "       'т': 2350,\n",
      "       'у': 2,\n",
      "       'ф': 8,\n",
      "       'х': 526,\n",
      "       'ц': 7,\n",
      "       'ч': 1489,\n",
      "       'ш': 1569,\n",
      "       'щ': 429,\n",
      "       'э': 13,\n",
      "       'ю': 1385,\n",
      "       'я': 86,\n",
      "       'ё': 1},\n",
      " 'ф': {' ': 12,\n",
      "       ',': 12,\n",
      "       '.': 4,\n",
      "       ';': 1,\n",
      "       'а': 246,\n",
      "       'е': 280,\n",
      "       'и': 193,\n",
      "       'л': 27,\n",
      "       'м': 4,\n",
      "       'о': 161,\n",
      "       'р': 52,\n",
      "       'с': 9,\n",
      "       'т': 5,\n",
      "       'у': 65,\n",
      "       'ф': 11,\n",
      "       'ы': 16,\n",
      "       'ь': 29,\n",
      "       'я': 16},\n",
      " 'х': {'\\n': 5,\n",
      "       ' ': 3693,\n",
      "       '!': 37,\n",
      "       '\"': 30,\n",
      "       ')': 6,\n",
      "       ',': 853,\n",
      "       '-': 60,\n",
      "       '.': 262,\n",
      "       ':': 19,\n",
      "       ';': 14,\n",
      "       '?': 26,\n",
      "       'а': 702,\n",
      "       'в': 336,\n",
      "       'е': 84,\n",
      "       'и': 255,\n",
      "       'к': 1,\n",
      "       'л': 260,\n",
      "       'м': 65,\n",
      "       'н': 225,\n",
      "       'о': 3264,\n",
      "       'р': 163,\n",
      "       'с': 39,\n",
      "       'т': 5,\n",
      "       'у': 186,\n",
      "       'ц': 2,\n",
      "       'ч': 1,\n",
      "       'ш': 19,\n",
      "       'э': 3},\n",
      " 'ц': {'\\n': 1,\n",
      "       ' ': 703,\n",
      "       '!': 35,\n",
      "       '\"': 10,\n",
      "       ',': 170,\n",
      "       '-': 24,\n",
      "       '.': 41,\n",
      "       ':': 5,\n",
      "       ';': 1,\n",
      "       '?': 8,\n",
      "       'а': 1256,\n",
      "       'в': 41,\n",
      "       'е': 1322,\n",
      "       'и': 241,\n",
      "       'к': 29,\n",
      "       'м': 1,\n",
      "       'о': 397,\n",
      "       'у': 291,\n",
      "       'ы': 188,\n",
      "       'ь': 6},\n",
      " 'ч': {'\\n': 1,\n",
      "       ' ': 532,\n",
      "       '!': 18,\n",
      "       '\"': 1,\n",
      "       ')': 2,\n",
      "       ',': 457,\n",
      "       '-': 5,\n",
      "       '.': 218,\n",
      "       ':': 8,\n",
      "       ';': 1,\n",
      "       '?': 14,\n",
      "       'а': 4020,\n",
      "       'в': 6,\n",
      "       'е': 5660,\n",
      "       'и': 3056,\n",
      "       'к': 759,\n",
      "       'л': 32,\n",
      "       'м': 3,\n",
      "       'н': 1087,\n",
      "       'о': 204,\n",
      "       'р': 212,\n",
      "       'т': 6863,\n",
      "       'у': 1175,\n",
      "       'ш': 181,\n",
      "       'ь': 411},\n",
      " 'ш': {' ': 144,\n",
      "       '!': 7,\n",
      "       '\"': 2,\n",
      "       ',': 26,\n",
      "       '-': 1,\n",
      "       '.': 8,\n",
      "       ':': 1,\n",
      "       ';': 1,\n",
      "       'а': 2311,\n",
      "       'в': 16,\n",
      "       'е': 3723,\n",
      "       'и': 2654,\n",
      "       'к': 752,\n",
      "       'л': 601,\n",
      "       'м': 16,\n",
      "       'н': 810,\n",
      "       'о': 300,\n",
      "       'п': 14,\n",
      "       'т': 143,\n",
      "       'у': 608,\n",
      "       'ь': 1543,\n",
      "       'ю': 4,\n",
      "       'ё': 1},\n",
      " 'щ': {' ': 7,\n",
      "       '!': 2,\n",
      "       ',': 1,\n",
      "       'а': 591,\n",
      "       'в': 1,\n",
      "       'е': 2211,\n",
      "       'и': 967,\n",
      "       'н': 49,\n",
      "       'р': 2,\n",
      "       'у': 172,\n",
      "       'ш': 1,\n",
      "       'ь': 36,\n",
      "       'ё': 1},\n",
      " 'ъ': {'е': 90, 'и': 1, 'я': 245},\n",
      " 'ы': {'\\n': 7,\n",
      "       ' ': 6239,\n",
      "       '!': 80,\n",
      "       '\"': 34,\n",
      "       ')': 6,\n",
      "       ',': 1006,\n",
      "       '-': 55,\n",
      "       '.': 366,\n",
      "       ':': 28,\n",
      "       ';': 11,\n",
      "       '?': 75,\n",
      "       'б': 221,\n",
      "       'в': 1166,\n",
      "       'г': 129,\n",
      "       'д': 317,\n",
      "       'е': 1163,\n",
      "       'ж': 37,\n",
      "       'з': 131,\n",
      "       'и': 12,\n",
      "       'й': 2317,\n",
      "       'к': 188,\n",
      "       'л': 2981,\n",
      "       'м': 1620,\n",
      "       'н': 416,\n",
      "       'п': 178,\n",
      "       'р': 494,\n",
      "       'с': 1339,\n",
      "       'т': 1152,\n",
      "       'у': 2,\n",
      "       'х': 1177,\n",
      "       'ц': 12,\n",
      "       'ч': 277,\n",
      "       'ш': 601,\n",
      "       'щ': 19,\n",
      "       'я': 5},\n",
      " 'ь': {'\\n': 2,\n",
      "       ' ': 13164,\n",
      "       '!': 301,\n",
      "       '\"': 109,\n",
      "       ')': 16,\n",
      "       ',': 3408,\n",
      "       '-': 237,\n",
      "       '.': 1362,\n",
      "       ':': 188,\n",
      "       ';': 44,\n",
      "       '?': 354,\n",
      "       'б': 105,\n",
      "       'в': 9,\n",
      "       'г': 287,\n",
      "       'д': 29,\n",
      "       'е': 645,\n",
      "       'ж': 2,\n",
      "       'з': 176,\n",
      "       'и': 216,\n",
      "       'й': 7,\n",
      "       'к': 2555,\n",
      "       'м': 515,\n",
      "       'н': 2017,\n",
      "       'о': 3,\n",
      "       'п': 1,\n",
      "       'с': 1401,\n",
      "       'т': 252,\n",
      "       'ф': 7,\n",
      "       'ц': 97,\n",
      "       'ч': 335,\n",
      "       'ш': 521,\n",
      "       'щ': 30,\n",
      "       'ю': 524,\n",
      "       'я': 412},\n",
      " 'э': {'-': 2,\n",
      "       'в': 7,\n",
      "       'г': 6,\n",
      "       'д': 2,\n",
      "       'й': 2,\n",
      "       'к': 48,\n",
      "       'л': 23,\n",
      "       'м': 26,\n",
      "       'н': 12,\n",
      "       'п': 36,\n",
      "       'р': 1,\n",
      "       'с': 7,\n",
      "       'т': 4308,\n",
      "       'ф': 12,\n",
      "       'х': 9,\n",
      "       'ш': 8},\n",
      " 'ю': {'\\n': 6,\n",
      "       ' ': 3948,\n",
      "       '!': 100,\n",
      "       '\"': 60,\n",
      "       ')': 9,\n",
      "       ',': 1226,\n",
      "       '-': 107,\n",
      "       '.': 486,\n",
      "       ':': 86,\n",
      "       ';': 21,\n",
      "       '?': 63,\n",
      "       'б': 1064,\n",
      "       'г': 3,\n",
      "       'д': 492,\n",
      "       'е': 2,\n",
      "       'ж': 13,\n",
      "       'з': 17,\n",
      "       'к': 54,\n",
      "       'л': 5,\n",
      "       'м': 41,\n",
      "       'н': 113,\n",
      "       'п': 3,\n",
      "       'р': 90,\n",
      "       'с': 284,\n",
      "       'т': 518,\n",
      "       'ф': 15,\n",
      "       'х': 9,\n",
      "       'ц': 10,\n",
      "       'ч': 177,\n",
      "       'ш': 251,\n",
      "       'щ': 344,\n",
      "       'ю': 61},\n",
      " 'я': {'\\n': 19,\n",
      "       ' ': 13145,\n",
      "       '!': 209,\n",
      "       '\"': 103,\n",
      "       ')': 19,\n",
      "       ',': 2965,\n",
      "       '-': 156,\n",
      "       '.': 1343,\n",
      "       ':': 156,\n",
      "       ';': 56,\n",
      "       '?': 181,\n",
      "       'б': 21,\n",
      "       'в': 497,\n",
      "       'г': 105,\n",
      "       'д': 627,\n",
      "       'е': 203,\n",
      "       'ж': 169,\n",
      "       'з': 275,\n",
      "       'и': 39,\n",
      "       'й': 59,\n",
      "       'к': 708,\n",
      "       'л': 1210,\n",
      "       'м': 549,\n",
      "       'н': 776,\n",
      "       'п': 44,\n",
      "       'р': 52,\n",
      "       'с': 851,\n",
      "       'т': 2358,\n",
      "       'х': 230,\n",
      "       'ц': 127,\n",
      "       'ч': 541,\n",
      "       'ш': 22,\n",
      "       'щ': 281,\n",
      "       'ю': 196,\n",
      "       'я': 111},\n",
      " 'ё': {'\\n': 1,\n",
      "       ' ': 1327,\n",
      "       '!': 5,\n",
      "       '\"': 6,\n",
      "       ',': 90,\n",
      "       '-': 154,\n",
      "       '.': 20,\n",
      "       ':': 3,\n",
      "       '?': 6,\n",
      "       'й': 2,\n",
      "       'л': 1,\n",
      "       'м': 1,\n",
      "       'н': 6,\n",
      "       'ю': 4}}\n"
     ]
    }
   ],
   "source": [
    "# occurencies_without_latin ={}\n",
    "# for key, val in occurencies.items():\n",
    "#     if key.lower() not in string.ascii_lowercase:\n",
    "#         occurencies_without_latin[key] = val\n",
    "# pprint.pprint(occurencies_without_latin)"
   ]
  },
  {
   "cell_type": "code",
   "execution_count": 7,
   "metadata": {
    "tags": []
   },
   "outputs": [],
   "source": [
    "total = {}\n",
    "generate ={}\n",
    "for cur_char, char_info in occurencies.items():\n",
    "    total[cur_char]=sum(char_info.values())\n",
    "    generate[cur_char] = []\n",
    "    for char, count in char_info.items():\n",
    "        generate[cur_char].append([count, char])\n",
    "    generate[cur_char].sort(reverse=True)  \n",
    "\n",
    "# pprint.pprint(generate)\n",
    "\n"
   ]
  },
  {
   "cell_type": "code",
   "execution_count": 8,
   "metadata": {},
   "outputs": [],
   "source": [
    "import random"
   ]
  },
  {
   "cell_type": "code",
   "execution_count": 19,
   "metadata": {},
   "outputs": [
    {
     "output_type": "stream",
     "name": "stdout",
     "text": [
      "[[11597, ' '], [4002, '-'], [126, 'И'], [120, 'О'], [113, '.'], [104, 'А'], [98, 'Н'], [84, 'М'], [84, '\"'], [80, 'П'], [78, 'В'], [74, 'С'], [53, 'К'], [47, 'Д'], [46, 'Т'], [36, 'Г'], [25, 'Е'], [24, 'З'], [23, 'Р'], [22, 'Б'], [19, 'Ч'], [16, ','], [14, 'У'], [13, 'Я'], [10, 'Э'], [9, \"'\"], [8, 'Х'], [8, 'Ф'], [7, 'Л'], [5, '!'], [4, 'Ш'], [3, 'Ц'], [3, 'Ж'], [2, 'в'], [2, 'Ю'], [1, 'у'], [1, 'с'], [1, 'з'], [1, '?'], [1, '*'], [1, '(']]\n"
     ]
    }
   ],
   "source": [
    "print(generate[\"   \"])"
   ]
  },
  {
   "cell_type": "code",
   "execution_count": 9,
   "metadata": {
    "tags": []
   },
   "outputs": [
    {
     "output_type": "stream",
     "name": "stdout",
     "text": [
      "  Цыган будет больше и большие портретов русских мальчика, и я спрошу: справедливо сейчас же все утверждать, - настойчиво передает она просили о трех днях февральская революция, столь многие из них какой-то подавите его теперь, почти машинально Митя, - в бессильном отчаяния, по поводу рощи.     Мужик важно примолк; Смуров (первый по латинскому в классах он всегда любовь его до сих пор не признание, тебе одному делу, близко один Дмитрий, оскорбленную полковую честь\", говорит, - как-то вы?     - Да разве это не только церковным службам, к святым дарам, дает ему благоразумно, то ничего-с, то всё же не видали нас, ну и загалдел. Вижу, она меня же в глазах ее замелькала многое отзывалось лишь главнейшему человека, нельзя, а рот-то всё-таки будешь шить, Ракитка, не знаю, как решу. Конечно и робко посмотрел на Колю своими гостям. В разговору тогда сам, я стоял над ним, предположения не прерывалась, бросился к окну и подняли с ее стороны, как бы перекосившимся от злобы, суду. По мановению пред"
     ]
    }
   ],
   "source": [
    "n=1000\n",
    "i=0\n",
    "cur_string = ' '*accuracy\n",
    "for i in range(n):\n",
    "    char_info_elem = generate[cur_string]\n",
    "    random_number = random.randint(1, total[cur_string])\n",
    "    pos = 0\n",
    "    for count, char in char_info_elem:\n",
    "        pos += count\n",
    "        if random_number <= pos:\n",
    "            break\n",
    "    print(char, end=\"\")\n",
    "    cur_string = cur_string[1::]+char\n",
    "    "
   ]
  },
  {
   "cell_type": "code",
   "execution_count": null,
   "metadata": {},
   "outputs": [],
   "source": []
  }
 ]
}