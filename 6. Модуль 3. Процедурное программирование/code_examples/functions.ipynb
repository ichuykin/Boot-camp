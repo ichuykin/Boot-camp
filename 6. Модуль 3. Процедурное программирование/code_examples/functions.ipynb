{
 "metadata": {
  "language_info": {
   "codemirror_mode": {
    "name": "ipython",
    "version": 3
   },
   "file_extension": ".py",
   "mimetype": "text/x-python",
   "name": "python",
   "nbconvert_exporter": "python",
   "pygments_lexer": "ipython3",
   "version": "3.8.8"
  },
  "orig_nbformat": 2,
  "kernelspec": {
   "name": "python3",
   "display_name": "Python 3.8.8 64-bit ('base': conda)"
  },
  "interpreter": {
   "hash": "7b1a062bb510a37bcdd2ba61ed6bba242638905c2c079c3f0f71d3b5a6f7f2ab"
  }
 },
 "nbformat": 4,
 "nbformat_minor": 2,
 "cells": [
  {
   "source": [
    "# Процедурное программирование"
   ],
   "cell_type": "code",
   "metadata": {},
   "execution_count": null,
   "outputs": []
  },
  {
   "source": [
    "## Лекция"
   ],
   "cell_type": "markdown",
   "metadata": {}
  },
  {
   "source": [
    "### Встроенные функции"
   ],
   "cell_type": "markdown",
   "metadata": {}
  },
  {
   "source": [
    "```python\n",
    "min()\n",
    "max()\n",
    "sum()\n",
    "sorted()\n",
    "len()\n",
    "zip()\n",
    "enumerate()\n",
    "all()\n",
    "any()\n",
    "dir()\n",
    "help()\n",
    "id()\n",
    "isinstance()\n",
    "type()\n",
    "```"
   ],
   "cell_type": "markdown",
   "metadata": {}
  },
  {
   "cell_type": "code",
   "execution_count": 5,
   "metadata": {},
   "outputs": [],
   "source": [
    "from pprint import pprint"
   ]
  },
  {
   "cell_type": "code",
   "execution_count": null,
   "metadata": {},
   "outputs": [],
   "source": [
    "arr = [17,62,3,4,5,6]\n",
    "print(len(arr))\n",
    "print(max(arr))\n",
    "print(min(arr))\n",
    "print(sum(arr))\n",
    "print(sorted(arr))\n",
    "print(arr)\n",
    "print(arr.sort())\n",
    "print(arr)"
   ]
  },
  {
   "cell_type": "code",
   "execution_count": null,
   "metadata": {},
   "outputs": [],
   "source": [
    "x = [1,2,3,4]\n",
    "y = [9,8,7,9]\n",
    "z = zip(x,y,x)\n",
    "list(z)\n",
    "for it1, it2 in zip(x,y):\n",
    "    print(it1, it2)"
   ]
  },
  {
   "cell_type": "code",
   "execution_count": null,
   "metadata": {},
   "outputs": [],
   "source": [
    "list(enumerate(x, start=10))"
   ]
  },
  {
   "cell_type": "code",
   "execution_count": null,
   "metadata": {},
   "outputs": [],
   "source": [
    "for i, n in enumerate(x, start=10):\n",
    "    print(i,n)"
   ]
  },
  {
   "cell_type": "code",
   "execution_count": null,
   "metadata": {},
   "outputs": [],
   "source": [
    "all([True, False, True])"
   ]
  },
  {
   "cell_type": "code",
   "execution_count": null,
   "metadata": {},
   "outputs": [],
   "source": [
    "any([True, False, True])"
   ]
  },
  {
   "cell_type": "code",
   "execution_count": null,
   "metadata": {},
   "outputs": [],
   "source": [
    "arr = [1,2,3,4]\n",
    "dir(arr)\n",
    "pprint(dir([]))"
   ]
  },
  {
   "cell_type": "code",
   "execution_count": null,
   "metadata": {},
   "outputs": [],
   "source": [
    "help([])"
   ]
  },
  {
   "cell_type": "code",
   "execution_count": null,
   "metadata": {},
   "outputs": [],
   "source": [
    "help(help)"
   ]
  },
  {
   "cell_type": "code",
   "execution_count": null,
   "metadata": {},
   "outputs": [],
   "source": [
    "x = 3\n",
    "print(id(x))\n",
    "x = x+1\n",
    "print(id(x))"
   ]
  },
  {
   "cell_type": "code",
   "execution_count": null,
   "metadata": {},
   "outputs": [],
   "source": [
    "x = 3\n",
    "y = 3\n",
    "print(id(x))\n",
    "print(id(y))\n",
    "print(x is y)"
   ]
  },
  {
   "cell_type": "code",
   "execution_count": null,
   "metadata": {},
   "outputs": [],
   "source": [
    "a = [1,2,3,4]\n",
    "b = a\n",
    "a.append(5)\n",
    "b"
   ]
  },
  {
   "cell_type": "code",
   "execution_count": null,
   "metadata": {},
   "outputs": [],
   "source": [
    "a = [1,2,3,4]\n",
    "b = a\n",
    "print(id(a))\n",
    "print(id(b))"
   ]
  },
  {
   "cell_type": "code",
   "execution_count": null,
   "metadata": {},
   "outputs": [],
   "source": [
    "a = [1,2,3,4]\n",
    "b = a\n",
    "c = [1,2,3,4]\n",
    "print(a==b, a is b, a == c, a is c)\n",
    "# print(id(c))\n",
    "# print(id(b))"
   ]
  },
  {
   "cell_type": "code",
   "execution_count": null,
   "metadata": {},
   "outputs": [],
   "source": [
    "print(type([]))\n",
    "print(type(2))\n",
    "if type(2) == int:\n",
    "    print(\"integer\")"
   ]
  },
  {
   "cell_type": "code",
   "execution_count": null,
   "metadata": {},
   "outputs": [],
   "source": [
    "isinstance(1, object)"
   ]
  },
  {
   "cell_type": "code",
   "execution_count": null,
   "metadata": {},
   "outputs": [],
   "source": [
    "arr = [\"he\", \"llo\", \"avcda\"]\n",
    "print(max(arr, key=len))"
   ]
  },
  {
   "source": [
    "### Функции"
   ],
   "cell_type": "markdown",
   "metadata": {}
  },
  {
   "cell_type": "code",
   "execution_count": null,
   "metadata": {},
   "outputs": [],
   "source": [
    "def f(a,b,c):\n",
    "    return a+b+c\n",
    "f(1,2,3)"
   ]
  },
  {
   "cell_type": "code",
   "execution_count": null,
   "metadata": {},
   "outputs": [],
   "source": [
    "def f(a,b,c):\n",
    "    return a**2,b**2\n",
    "res = f(1,2,3)\n",
    "type(res)"
   ]
  },
  {
   "cell_type": "code",
   "execution_count": null,
   "metadata": {},
   "outputs": [],
   "source": [
    "x = 10\n",
    "def f(a1):\n",
    "    b1 = a1 *x\n",
    "    print(b1)\n",
    "f(3)\n",
    "print(a1)\n",
    "print(b1)"
   ]
  },
  {
   "source": [
    "### Пространство имен"
   ],
   "cell_type": "markdown",
   "metadata": {}
  },
  {
   "cell_type": "code",
   "execution_count": null,
   "metadata": {},
   "outputs": [],
   "source": []
  },
  {
   "cell_type": "code",
   "execution_count": null,
   "metadata": {},
   "outputs": [],
   "source": [
    "for i in range(4):\n",
    "    print(i)\n",
    "print(i)"
   ]
  },
  {
   "cell_type": "code",
   "execution_count": null,
   "metadata": {},
   "outputs": [],
   "source": [
    "if 4>3:\n",
    "    zzz = 3\n",
    "zzz"
   ]
  },
  {
   "source": [
    "[статья](https://realpython.com/python-namespaces-scope/)\n"
   ],
   "cell_type": "markdown",
   "metadata": {}
  },
  {
   "source": [
    "**Встроенное пространство имен**"
   ],
   "cell_type": "markdown",
   "metadata": {}
  },
  {
   "cell_type": "code",
   "execution_count": 2,
   "metadata": {},
   "outputs": [],
   "source": [
    "# dir(__builtins__)"
   ]
  },
  {
   "source": [
    "**Глобальное пространство имен**"
   ],
   "cell_type": "markdown",
   "metadata": {}
  },
  {
   "cell_type": "code",
   "execution_count": 1,
   "metadata": {},
   "outputs": [],
   "source": [
    "g = 1\n",
    "# globals()\n",
    "from pprint import pprint\n",
    "g = 1\n",
    "pprint(globals())"
   ]
  },
  {
   "source": [
    "**Локальное и объемлющее пространство имен**"
   ],
   "cell_type": "markdown",
   "metadata": {}
  },
  {
   "cell_type": "code",
   "execution_count": 2,
   "metadata": {},
   "outputs": [
    {
     "output_type": "stream",
     "name": "stdout",
     "text": [
      "3\n"
     ]
    }
   ],
   "source": [
    "x = 3\n",
    "def f():\n",
    "    print(x)\n",
    "f()"
   ]
  },
  {
   "cell_type": "code",
   "execution_count": null,
   "metadata": {},
   "outputs": [],
   "source": [
    "def f(a1):\n",
    "    b1 = a1 *x\n",
    "    print(locals())\n",
    "f(2)"
   ]
  },
  {
   "cell_type": "code",
   "execution_count": 7,
   "metadata": {},
   "outputs": [],
   "source": [
    "def f():\n",
    "    z = 3\n",
    "    pprint(locals())"
   ]
  },
  {
   "cell_type": "code",
   "execution_count": 8,
   "metadata": {},
   "outputs": [
    {
     "output_type": "stream",
     "name": "stdout",
     "text": [
      "{'z': 3}\n"
     ]
    }
   ],
   "source": [
    "f()"
   ]
  },
  {
   "source": [
    "**Порядок поиска переменных**"
   ],
   "cell_type": "markdown",
   "metadata": {}
  },
  {
   "cell_type": "code",
   "execution_count": 10,
   "metadata": {},
   "outputs": [
    {
     "output_type": "stream",
     "name": "stdout",
     "text": [
      "{'g': <function f.<locals>.g at 0x0000026745DE3940>}\nglobal\n"
     ]
    }
   ],
   "source": [
    "x = 'global'\n",
    "def f():\n",
    "    # x = 'enclosing'\n",
    "    \n",
    "    def g():\n",
    "        # x = 'local'\n",
    "        print(x)\n",
    "    pprint(locals())\n",
    "    g()\n",
    "f()"
   ]
  },
  {
   "source": [
    "**Операторы управления потоком не создают локального пространства имен**"
   ],
   "cell_type": "markdown",
   "metadata": {}
  },
  {
   "source": [
    "### Способы вызова функций"
   ],
   "cell_type": "markdown",
   "metadata": {}
  },
  {
   "source": [
    "**Позиционные**"
   ],
   "cell_type": "markdown",
   "metadata": {}
  },
  {
   "cell_type": "code",
   "execution_count": null,
   "metadata": {},
   "outputs": [],
   "source": [
    "def f(x,y,z):\r\n",
    "    return x+y+z\r\n",
    "res = f(1,2,3)\r\n",
    "print(res)"
   ]
  },
  {
   "source": [
    "**Именованные**"
   ],
   "cell_type": "markdown",
   "metadata": {}
  },
  {
   "cell_type": "code",
   "execution_count": null,
   "metadata": {},
   "outputs": [],
   "source": [
    "def f(x,y,z):\n",
    "    return x+y+z\n",
    "res = f(x = 1, y = 2, z = 3)\n",
    "print(res)"
   ]
  },
  {
   "cell_type": "code",
   "execution_count": null,
   "metadata": {},
   "outputs": [],
   "source": [
    "def f(x,y,z):\n",
    "    return x+y+z\n",
    "res = f(x=2,3, z =4)\n",
    "print(res)"
   ]
  },
  {
   "cell_type": "code",
   "execution_count": null,
   "metadata": {},
   "outputs": [],
   "source": [
    "def f(*args):\n",
    "    print(type(args))\n",
    "    res = 0\n",
    "    for item in args:\n",
    "        res +=item\n",
    "    return res\n",
    "f(1,1,2,3,4,5)"
   ]
  },
  {
   "cell_type": "code",
   "execution_count": null,
   "metadata": {},
   "outputs": [],
   "source": [
    "def f(**kwargs):\n",
    "    print(type(kwargs))\n",
    "    for key, val in kwargs.items():\n",
    "        print(key, val)\n",
    "f(x=1,y=2,z=3)"
   ]
  },
  {
   "cell_type": "code",
   "execution_count": null,
   "metadata": {},
   "outputs": [],
   "source": [
    "def f(*args, **kwargs):\n",
    "    print(type(args))\n",
    "    print(type(kwargs))\n",
    "    res = 0\n",
    "    for item in args:\n",
    "        res +=item\n",
    "    for key, val in kwargs.items():\n",
    "        print(key, val)\n",
    "    return res\n",
    "f(4,x=1,y=2,z=3)"
   ]
  },
  {
   "source": [
    "### Распаковка "
   ],
   "cell_type": "markdown",
   "metadata": {}
  },
  {
   "cell_type": "code",
   "execution_count": 11,
   "metadata": {},
   "outputs": [],
   "source": [
    "def s(x,y,z):\n",
    "    print(z+y+z)"
   ]
  },
  {
   "cell_type": "code",
   "execution_count": 28,
   "metadata": {},
   "outputs": [],
   "source": [
    "def s(*arr):\n",
    "    print(type(arr))\n",
    "    res = 0\n",
    "    for item in arr:\n",
    "        res+=item\n",
    "    print(res)"
   ]
  },
  {
   "source": [
    "**Неименованные аргументы**"
   ],
   "cell_type": "markdown",
   "metadata": {}
  },
  {
   "cell_type": "code",
   "execution_count": 14,
   "metadata": {},
   "outputs": [
    {
     "output_type": "stream",
     "name": "stdout",
     "text": [
      "8\n"
     ]
    }
   ],
   "source": [
    "arr = [1,2,3]\n",
    "s(*arr)"
   ]
  },
  {
   "cell_type": "code",
   "execution_count": 29,
   "metadata": {},
   "outputs": [
    {
     "output_type": "stream",
     "name": "stdout",
     "text": [
      "<class 'tuple'>\n110\n"
     ]
    }
   ],
   "source": [
    "s(2,10,98)"
   ]
  },
  {
   "cell_type": "code",
   "execution_count": 31,
   "metadata": {},
   "outputs": [
    {
     "output_type": "stream",
     "name": "stdout",
     "text": [
      "<class 'tuple'>\n6\n"
     ]
    }
   ],
   "source": [
    "arr = [1,2,3]\n",
    "s(*arr)"
   ]
  },
  {
   "source": [
    "**Именованные аргументы**"
   ],
   "cell_type": "markdown",
   "metadata": {}
  },
  {
   "cell_type": "code",
   "execution_count": 17,
   "metadata": {},
   "outputs": [
    {
     "output_type": "stream",
     "name": "stdout",
     "text": [
      "11\n11\n"
     ]
    }
   ],
   "source": [
    "my_dict = {'x': 2, 'y': 3, 'z': 4}\n",
    "s(**my_dict)\n",
    "s(x=2, y=3, z=4)"
   ]
  },
  {
   "cell_type": "code",
   "execution_count": 32,
   "metadata": {},
   "outputs": [
    {
     "output_type": "stream",
     "name": "stdout",
     "text": [
      "<class 'list'>\nname Tom\naddress Moscow\nage 30\n"
     ]
    }
   ],
   "source": [
    "def s(**kwargs):\n",
    "    print(type(arr))\n",
    "    for key, val in kwargs.items():\n",
    "        print(key, val)\n",
    "person = {'name': 'Tom', 'address': 'Moscow', 'age': 30}\n",
    "s(**person)"
   ]
  },
  {
   "source": [
    "### Параметры по умолчанию"
   ],
   "cell_type": "markdown",
   "metadata": {}
  },
  {
   "cell_type": "code",
   "execution_count": null,
   "metadata": {},
   "outputs": [],
   "source": [
    "def f(x, y = 0, z = 0):\n",
    "    print(x,y,z)\n",
    "x=f(1,z=2)\n",
    "print(x)"
   ]
  },
  {
   "source": [
    "**Типичная ошибка**"
   ],
   "cell_type": "markdown",
   "metadata": {}
  },
  {
   "source": [
    "Значения по умолчанию вычисляются в точке определения функции, при компиляции. Ошибка возникает, когда изменяемый обьект в качестве параметра по умолчанию"
   ],
   "cell_type": "markdown",
   "metadata": {}
  },
  {
   "cell_type": "code",
   "execution_count": 18,
   "metadata": {},
   "outputs": [],
   "source": [
    "def add_element(element, my_list=[]):\n",
    "    \"\"\"добавляем элемент к списку\"\"\"\n",
    "    my_list.append(element)\n",
    "    return my_list"
   ]
  },
  {
   "cell_type": "code",
   "execution_count": 23,
   "metadata": {},
   "outputs": [
    {
     "output_type": "execute_result",
     "data": {
      "text/plain": [
       "[1, 1, 2, 1]"
      ]
     },
     "metadata": {},
     "execution_count": 23
    }
   ],
   "source": [
    "new_list = add_element(element=1)\n",
    "new_list"
   ]
  },
  {
   "cell_type": "code",
   "execution_count": 24,
   "metadata": {},
   "outputs": [
    {
     "output_type": "execute_result",
     "data": {
      "text/plain": [
       "[1, 1, 2, 1, 2]"
      ]
     },
     "metadata": {},
     "execution_count": 24
    }
   ],
   "source": [
    "other_new_list = add_element(element=2)\n",
    "other_new_list"
   ]
  },
  {
   "source": [
    "[Визуализация](http://www.pythontutor.com/visualize.html#mode=edit)"
   ],
   "cell_type": "markdown",
   "metadata": {}
  },
  {
   "source": [
    "## Практика"
   ],
   "cell_type": "markdown",
   "metadata": {}
  },
  {
   "source": [
    "Решить проблему с add_elementadd_element"
   ],
   "cell_type": "markdown",
   "metadata": {}
  },
  {
   "cell_type": "code",
   "execution_count": 25,
   "metadata": {},
   "outputs": [],
   "source": [
    "def add_element(element, my_list=None):\n",
    "    \"\"\"добавляем элемент к списку\"\"\"\n",
    "    if my_list is None:\n",
    "        my_list = []\n",
    "    my_list.append(element)\n",
    "    return my_list"
   ]
  },
  {
   "cell_type": "code",
   "execution_count": null,
   "metadata": {},
   "outputs": [],
   "source": [
    "Написать функцию, которая принимает на вход два целых числа a, b и возвращает кортеж из чисел в промежутке от a до b, имеющих наибольшее количество делителей."
   ]
  },
  {
   "cell_type": "code",
   "execution_count": 11,
   "metadata": {},
   "outputs": [
    {
     "output_type": "execute_result",
     "data": {
      "text/plain": [
       "(60, 72, 84, 90, 96)"
      ]
     },
     "metadata": {},
     "execution_count": 11
    }
   ],
   "source": [
    "def MaxDivide(a,b):\n",
    "    def Divide(c):\n",
    "        d=2 # yf 1 и себя делится всегда\n",
    "        for i in range(2,c):\n",
    "            if c%i==0:\n",
    "                d+=1\n",
    "        return d\n",
    "    res={}\n",
    "    m=1 \n",
    "    for i in range(a,b+1):\n",
    "        n=Divide(i)\n",
    "        if n>m:\n",
    "            m=n\n",
    "        res[i]=n\n",
    "    out_res=[]\n",
    "    for key,val in res.items():\n",
    "        if val==m:\n",
    "            out_res.append(key)\n",
    "    return tuple(out_res)\n",
    "MaxDivide(1,100)\n"
   ]
  },
  {
   "cell_type": "code",
   "execution_count": null,
   "metadata": {},
   "outputs": [],
   "source": [
    "Написать функцию, которая принимает в качестве аргумента список и возвращает True, если все значения внутри данного списка уникальны, иначе возвращает False."
   ]
  },
  {
   "cell_type": "code",
   "execution_count": 1,
   "metadata": {},
   "outputs": [
    {
     "output_type": "execute_result",
     "data": {
      "text/plain": [
       "True"
      ]
     },
     "metadata": {},
     "execution_count": 1
    }
   ],
   "source": [
    "def unique_lst(lst):\n",
    "    return list(set(lst)) == lst\n",
    "unique_lst([1,2,3])"
   ]
  },
  {
   "cell_type": "code",
   "execution_count": null,
   "metadata": {},
   "outputs": [],
   "source": [
    "Написать функцию, которая принимает произвольное число аргументов, в котором каждый аргумент - список и находит пересечение всех списков"
   ]
  },
  {
   "source": [
    "## Лекция"
   ],
   "cell_type": "markdown",
   "metadata": {}
  },
  {
   "source": [
    "### global"
   ],
   "cell_type": "markdown",
   "metadata": {}
  },
  {
   "cell_type": "code",
   "execution_count": 35,
   "metadata": {},
   "outputs": [
    {
     "output_type": "stream",
     "name": "stdout",
     "text": [
      "20\n20\n"
     ]
    }
   ],
   "source": [
    "x = 10\n",
    "def f():\n",
    "    global x\n",
    "    x = 20\n",
    "    print(x)\n",
    "f()\n",
    "print(x)"
   ]
  },
  {
   "cell_type": "code",
   "execution_count": null,
   "metadata": {},
   "outputs": [],
   "source": [
    "x = 10\n",
    "def f():\n",
    "    global x\n",
    "    x = x +10\n",
    "    print(x)\n",
    "f()"
   ]
  },
  {
   "cell_type": "code",
   "execution_count": 36,
   "metadata": {},
   "outputs": [
    {
     "output_type": "stream",
     "name": "stdout",
     "text": [
      "20\n20\n"
     ]
    }
   ],
   "source": [
    "x = 10\n",
    "def f():\n",
    "    globals()['x'] = 20\n",
    "    print(x)\n",
    "f()\n",
    "print(x)"
   ]
  },
  {
   "cell_type": "code",
   "execution_count": 37,
   "metadata": {},
   "outputs": [
    {
     "output_type": "stream",
     "name": "stdout",
     "text": [
      "20\n"
     ]
    }
   ],
   "source": [
    "def f():\n",
    "    global x\n",
    "    x = 20\n",
    "f()\n",
    "print(x)"
   ]
  },
  {
   "cell_type": "code",
   "execution_count": null,
   "metadata": {},
   "outputs": [],
   "source": [
    "def f():\n",
    "    x = 20\n",
    "    def g():\n",
    "        global x\n",
    "        x = 40\n",
    "        print(x)\n",
    "    g()\n",
    "    print(x)\n",
    "f()\n",
    "print(x)"
   ]
  },
  {
   "source": [
    "### nonlocal"
   ],
   "cell_type": "markdown",
   "metadata": {}
  },
  {
   "cell_type": "code",
   "execution_count": 40,
   "metadata": {},
   "outputs": [
    {
     "output_type": "stream",
     "name": "stdout",
     "text": [
      "20\n40\n"
     ]
    }
   ],
   "source": [
    "def f():\n",
    "    x = 20\n",
    "\n",
    "    def g():\n",
    "        global x\n",
    "        x = 40\n",
    "\n",
    "    g()\n",
    "    print(x)\n",
    "f()\n",
    "print(x)"
   ]
  },
  {
   "cell_type": "code",
   "execution_count": 42,
   "metadata": {},
   "outputs": [],
   "source": [
    "del x"
   ]
  },
  {
   "cell_type": "code",
   "execution_count": 43,
   "metadata": {},
   "outputs": [
    {
     "output_type": "stream",
     "name": "stdout",
     "text": [
      "40\n"
     ]
    },
    {
     "output_type": "error",
     "ename": "NameError",
     "evalue": "name 'x' is not defined",
     "traceback": [
      "\u001b[1;31m---------------------------------------------------------------------------\u001b[0m",
      "\u001b[1;31mNameError\u001b[0m                                 Traceback (most recent call last)",
      "\u001b[1;32m<ipython-input-43-f65c85856c4b>\u001b[0m in \u001b[0;36m<module>\u001b[1;34m\u001b[0m\n\u001b[0;32m      9\u001b[0m     \u001b[0mprint\u001b[0m\u001b[1;33m(\u001b[0m\u001b[0mx\u001b[0m\u001b[1;33m)\u001b[0m\u001b[1;33m\u001b[0m\u001b[1;33m\u001b[0m\u001b[0m\n\u001b[0;32m     10\u001b[0m \u001b[0mf\u001b[0m\u001b[1;33m(\u001b[0m\u001b[1;33m)\u001b[0m\u001b[1;33m\u001b[0m\u001b[1;33m\u001b[0m\u001b[0m\n\u001b[1;32m---> 11\u001b[1;33m \u001b[0mprint\u001b[0m\u001b[1;33m(\u001b[0m\u001b[0mx\u001b[0m\u001b[1;33m)\u001b[0m\u001b[1;33m\u001b[0m\u001b[1;33m\u001b[0m\u001b[0m\n\u001b[0m",
      "\u001b[1;31mNameError\u001b[0m: name 'x' is not defined"
     ]
    }
   ],
   "source": [
    "def f():\n",
    "    x = 20\n",
    "\n",
    "    def g():\n",
    "        nonlocal x\n",
    "        x = 40\n",
    "\n",
    "    g()\n",
    "    print(x)\n",
    "f()\n",
    "print(x)"
   ]
  },
  {
   "cell_type": "code",
   "execution_count": null,
   "metadata": {},
   "outputs": [],
   "source": [
    "def f():\n",
    "    x = 20\n",
    "    def h():\n",
    "        def g():\n",
    "            nonlocal x\n",
    "            x = x + 40\n",
    "            print(x)\n",
    "        g()\n",
    "        print(x)\n",
    "    h()\n",
    "    print(x)\n",
    "f()\n",
    "print(x)"
   ]
  },
  {
   "source": [
    "### faker"
   ],
   "cell_type": "markdown",
   "metadata": {}
  },
  {
   "source": [
    "[статья](https://faker.readthedocs.io/en/master/)"
   ],
   "cell_type": "markdown",
   "metadata": {}
  },
  {
   "cell_type": "code",
   "execution_count": 44,
   "metadata": {},
   "outputs": [],
   "source": [
    "from faker import Faker\n"
   ]
  },
  {
   "cell_type": "code",
   "execution_count": 45,
   "metadata": {},
   "outputs": [],
   "source": [
    "faker = Faker('ru_RU')"
   ]
  },
  {
   "cell_type": "code",
   "execution_count": 48,
   "metadata": {},
   "outputs": [
    {
     "output_type": "execute_result",
     "data": {
      "text/plain": [
       "'Громова Любовь Оскаровна'"
      ]
     },
     "metadata": {},
     "execution_count": 48
    }
   ],
   "source": [
    "faker.name()"
   ]
  },
  {
   "cell_type": "code",
   "execution_count": 50,
   "metadata": {},
   "outputs": [
    {
     "output_type": "execute_result",
     "data": {
      "text/plain": [
       "'с. Южно-Сахалинск, бул. Тенистый, д. 9/1 стр. 62, 366162'"
      ]
     },
     "metadata": {},
     "execution_count": 50
    }
   ],
   "source": [
    "faker.address()"
   ]
  },
  {
   "cell_type": "code",
   "execution_count": 51,
   "metadata": {},
   "outputs": [
    {
     "output_type": "execute_result",
     "data": {
      "text/plain": [
       "'jaroslav1981@ao.com'"
      ]
     },
     "metadata": {},
     "execution_count": 51
    }
   ],
   "source": [
    "faker.email()"
   ]
  },
  {
   "cell_type": "code",
   "execution_count": 52,
   "metadata": {},
   "outputs": [
    {
     "output_type": "execute_result",
     "data": {
      "text/plain": [
       "'Иллюстратор'"
      ]
     },
     "metadata": {},
     "execution_count": 52
    }
   ],
   "source": [
    "faker.job()"
   ]
  },
  {
   "cell_type": "code",
   "execution_count": 3,
   "metadata": {},
   "outputs": [
    {
     "output_type": "stream",
     "name": "stdout",
     "text": [
      "9\n[(90, 9)]\n"
     ]
    }
   ],
   "source": []
  },
  {
   "cell_type": "code",
   "execution_count": null,
   "metadata": {},
   "outputs": [],
   "source": []
  }
 ]
}