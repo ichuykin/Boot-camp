{
 "cells": [
  {
   "cell_type": "markdown",
   "source": [
    "# Assignment.1"
   ],
   "metadata": {}
  },
  {
   "cell_type": "markdown",
   "source": [
    "Load an array from file `array_hw.npy` and save it as` arr`. The array contains ice cream sales volumes (in pieces) in 5 stores for one week (7 days, from Monday to Sunday). All required files are in `data` folder."
   ],
   "metadata": {}
  },
  {
   "cell_type": "markdown",
   "source": [],
   "metadata": {}
  },
  {
   "cell_type": "markdown",
   "source": [
    "Convert the `arr` array in such a way that shops go by rows, and days - by columns"
   ],
   "metadata": {}
  },
  {
   "cell_type": "markdown",
   "source": [
    "Download your array into txt file"
   ],
   "metadata": {}
  },
  {
   "cell_type": "code",
   "execution_count": 3,
   "source": [
    "#YOUR CODE HERE"
   ],
   "outputs": [],
   "metadata": {}
  },
  {
   "cell_type": "markdown",
   "source": [
    "# Assignment.2"
   ],
   "metadata": {}
  },
  {
   "cell_type": "markdown",
   "source": [
    "Студент N подрабатывает репетитором по математике и ведёт занятия разных типов: готовит к ЕГЭ, к олимпиадам, «подтягивает» математику у школьников младших классов.\r\n",
    "\r\n",
    "В массиве classes хранится число проведённых уроков за пять рабочих дней, в массиве prices — стоимость одного урока (считаем, что студент за день проводит занятия одного типа, одинаковые по стоимости).\r\n",
    "\r\n",
    "Определить доход студента за неделю, используя метод .dot() для нахождения скалярного произведения."
   ],
   "metadata": {}
  },
  {
   "cell_type": "code",
   "execution_count": 4,
   "source": [
    "import numpy as np\r\n",
    "classes = np.array([3, 3, 2, 0, 2])\r\n",
    "prices = np.array([1500, 1500, 2500, 1000, 1000])"
   ],
   "outputs": [],
   "metadata": {}
  },
  {
   "cell_type": "markdown",
   "source": [
    "# Assignment.3"
   ],
   "metadata": {}
  },
  {
   "cell_type": "markdown",
   "source": [
    "По результатам работы с данными по оценкам за эссе студентов, поставленным двумя разными экспертами, были созданы два булевых массива expert1 и expert2, в которых значение True означает оценку «удовлетворительно» и выше, а значение False – неудовлетворительно. Всего было оценено 15 эссе, по 5 эссе на каждую из трёх тем. Определить, используя различные логические операторы (|, &, и проч.) и вспомогательные методы/функции, сколько студентов получат зачёт, если известно, что для этого необходимо получить оценку не ниже удовлетворительной у обоих экспертов."
   ],
   "metadata": {}
  },
  {
   "cell_type": "code",
   "execution_count": null,
   "source": [
    "expert1 = np.array([[True, False, False, True, True],\r\n",
    "                   [False, True, False, False, True],\r\n",
    "                   [True, True, True, False, False]])\r\n",
    "expert2 = np.array([[True, False, False, False, True],\r\n",
    "                   [False, False, False, False, False],\r\n",
    "                   [True, False, True, False, False]])"
   ],
   "outputs": [],
   "metadata": {}
  }
 ],
 "metadata": {
  "orig_nbformat": 4,
  "language_info": {
   "name": "python",
   "version": "3.8.8",
   "mimetype": "text/x-python",
   "codemirror_mode": {
    "name": "ipython",
    "version": 3
   },
   "pygments_lexer": "ipython3",
   "nbconvert_exporter": "python",
   "file_extension": ".py"
  },
  "kernelspec": {
   "name": "python3",
   "display_name": "Python 3.8.8 64-bit ('base': conda)"
  },
  "interpreter": {
   "hash": "262af24f6390e181d1b86df4568fd74653813b7e5cf759105ca918c8cd7e2241"
  }
 },
 "nbformat": 4,
 "nbformat_minor": 2
}