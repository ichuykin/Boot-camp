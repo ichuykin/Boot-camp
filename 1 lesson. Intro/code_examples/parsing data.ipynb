{
 "metadata": {
  "language_info": {
   "codemirror_mode": {
    "name": "ipython",
    "version": 3
   },
   "file_extension": ".py",
   "mimetype": "text/x-python",
   "name": "python",
   "nbconvert_exporter": "python",
   "pygments_lexer": "ipython3",
   "version": "3.8.8"
  },
  "orig_nbformat": 2,
  "kernelspec": {
   "name": "python388jvsc74a57bd07b1a062bb510a37bcdd2ba61ed6bba242638905c2c079c3f0f71d3b5a6f7f2ab",
   "display_name": "Python 3.8.8 64-bit ('base': conda)"
  }
 },
 "nbformat": 4,
 "nbformat_minor": 2,
 "cells": [
  {
   "cell_type": "code",
   "execution_count": null,
   "metadata": {},
   "outputs": [],
   "source": [
    "## Импорт библиотек"
   ]
  },
  {
   "cell_type": "code",
   "execution_count": 2,
   "metadata": {},
   "outputs": [],
   "source": [
    "import numpy as np\n",
    "import pandas as pd\n",
    "import requests\n",
    "from bs4 import BeautifulSoup "
   ]
  },
  {
   "source": [
    "## Чтение данных"
   ],
   "cell_type": "markdown",
   "metadata": {}
  },
  {
   "cell_type": "code",
   "execution_count": 63,
   "metadata": {},
   "outputs": [
    {
     "output_type": "execute_result",
     "data": {
      "text/plain": [
       "     code     Type                      Indicator Name        1960  \\\n",
       "0     533  Country  Military expenditure (current USD)         NaN   \n",
       "1       4  Country  Military expenditure (current USD)         NaN   \n",
       "2      24  Country  Military expenditure (current USD)         NaN   \n",
       "3       8  Country  Military expenditure (current USD)         NaN   \n",
       "4      20  Country  Military expenditure (current USD)         NaN   \n",
       "..    ...      ...                                 ...         ...   \n",
       "210   882  Country  Military expenditure (current USD)         NaN   \n",
       "211   887  Country  Military expenditure (current USD)         NaN   \n",
       "212   710  Country  Military expenditure (current USD)  69999972.0   \n",
       "213   894  Country  Military expenditure (current USD)         NaN   \n",
       "214   716  Country  Military expenditure (current USD)         NaN   \n",
       "\n",
       "            1961         1962         1963         1964         1965  \\\n",
       "0            NaN          NaN          NaN          NaN          NaN   \n",
       "1            NaN          NaN          NaN          NaN          NaN   \n",
       "2            NaN          NaN          NaN          NaN          NaN   \n",
       "3            NaN          NaN          NaN          NaN          NaN   \n",
       "4            NaN          NaN          NaN          NaN          NaN   \n",
       "..           ...          ...          ...          ...          ...   \n",
       "210          NaN          NaN          NaN          NaN          NaN   \n",
       "211          NaN          NaN          NaN          NaN          NaN   \n",
       "212  113749954.5  186199925.5  188999924.4  271599891.4  289449884.2   \n",
       "213          NaN          NaN          NaN          NaN          NaN   \n",
       "214          NaN          NaN          NaN          NaN   15600000.0   \n",
       "\n",
       "            1966  ...          2009          2010          2011          2012  \\\n",
       "0            NaN  ...           NaN           NaN           NaN           NaN   \n",
       "1            NaN  ...  2.518695e+08  2.981469e+08  3.258070e+08  2.385834e+08   \n",
       "2            NaN  ...  3.311193e+09  3.500795e+09  3.639496e+09  4.144635e+09   \n",
       "3            NaN  ...  1.827369e+08  1.858932e+08  1.970068e+08  1.832047e+08   \n",
       "4            NaN  ...           NaN           NaN           NaN           NaN   \n",
       "..           ...  ...           ...           ...           ...           ...   \n",
       "210          NaN  ...           NaN           NaN           NaN           NaN   \n",
       "211          NaN  ...  1.420775e+09  1.448153e+09  1.612254e+09  1.618840e+09   \n",
       "212  324449870.2  ...  3.592688e+09  4.188168e+09  4.594154e+09  4.489590e+09   \n",
       "213          NaN  ...  2.209623e+08  2.801878e+08  3.091138e+08  3.463014e+08   \n",
       "214   16950000.0  ...           NaN  9.829300e+07  1.984380e+08  3.182720e+08   \n",
       "\n",
       "             2013          2014          2015          2016          2017  \\\n",
       "0             NaN           NaN           NaN           NaN           NaN   \n",
       "1    2.171941e+08  2.682271e+08  1.995186e+08  1.858783e+08  1.914071e+08   \n",
       "2    6.090752e+09  6.841864e+09  3.608299e+09  2.764055e+09  3.062873e+09   \n",
       "3    1.800155e+08  1.781204e+08  1.323507e+08  1.308532e+08  1.443827e+08   \n",
       "4             NaN           NaN           NaN           NaN           NaN   \n",
       "..            ...           ...           ...           ...           ...   \n",
       "210           NaN           NaN           NaN           NaN           NaN   \n",
       "211  1.648751e+09  1.714831e+09           NaN           NaN           NaN   \n",
       "212  4.118208e+09  3.892469e+09  3.488868e+09  3.169756e+09  3.638937e+09   \n",
       "213  3.813458e+08  4.436044e+08  3.724476e+08  2.995048e+08  3.396645e+08   \n",
       "214  3.567000e+08  3.681000e+08  3.766770e+08  3.580650e+08  3.405220e+08   \n",
       "\n",
       "             2018  \n",
       "0             NaN  \n",
       "1    1.980863e+08  \n",
       "2    1.983614e+09  \n",
       "3    1.804887e+08  \n",
       "4             NaN  \n",
       "..            ...  \n",
       "210           NaN  \n",
       "211           NaN  \n",
       "212  3.639879e+09  \n",
       "213  3.780254e+08  \n",
       "214  4.203640e+08  \n",
       "\n",
       "[215 rows x 62 columns]"
      ],
      "text/html": "<div>\n<style scoped>\n    .dataframe tbody tr th:only-of-type {\n        vertical-align: middle;\n    }\n\n    .dataframe tbody tr th {\n        vertical-align: top;\n    }\n\n    .dataframe thead th {\n        text-align: right;\n    }\n</style>\n<table border=\"1\" class=\"dataframe\">\n  <thead>\n    <tr style=\"text-align: right;\">\n      <th></th>\n      <th>code</th>\n      <th>Type</th>\n      <th>Indicator Name</th>\n      <th>1960</th>\n      <th>1961</th>\n      <th>1962</th>\n      <th>1963</th>\n      <th>1964</th>\n      <th>1965</th>\n      <th>1966</th>\n      <th>...</th>\n      <th>2009</th>\n      <th>2010</th>\n      <th>2011</th>\n      <th>2012</th>\n      <th>2013</th>\n      <th>2014</th>\n      <th>2015</th>\n      <th>2016</th>\n      <th>2017</th>\n      <th>2018</th>\n    </tr>\n  </thead>\n  <tbody>\n    <tr>\n      <th>0</th>\n      <td>533</td>\n      <td>Country</td>\n      <td>Military expenditure (current USD)</td>\n      <td>NaN</td>\n      <td>NaN</td>\n      <td>NaN</td>\n      <td>NaN</td>\n      <td>NaN</td>\n      <td>NaN</td>\n      <td>NaN</td>\n      <td>...</td>\n      <td>NaN</td>\n      <td>NaN</td>\n      <td>NaN</td>\n      <td>NaN</td>\n      <td>NaN</td>\n      <td>NaN</td>\n      <td>NaN</td>\n      <td>NaN</td>\n      <td>NaN</td>\n      <td>NaN</td>\n    </tr>\n    <tr>\n      <th>1</th>\n      <td>4</td>\n      <td>Country</td>\n      <td>Military expenditure (current USD)</td>\n      <td>NaN</td>\n      <td>NaN</td>\n      <td>NaN</td>\n      <td>NaN</td>\n      <td>NaN</td>\n      <td>NaN</td>\n      <td>NaN</td>\n      <td>...</td>\n      <td>2.518695e+08</td>\n      <td>2.981469e+08</td>\n      <td>3.258070e+08</td>\n      <td>2.385834e+08</td>\n      <td>2.171941e+08</td>\n      <td>2.682271e+08</td>\n      <td>1.995186e+08</td>\n      <td>1.858783e+08</td>\n      <td>1.914071e+08</td>\n      <td>1.980863e+08</td>\n    </tr>\n    <tr>\n      <th>2</th>\n      <td>24</td>\n      <td>Country</td>\n      <td>Military expenditure (current USD)</td>\n      <td>NaN</td>\n      <td>NaN</td>\n      <td>NaN</td>\n      <td>NaN</td>\n      <td>NaN</td>\n      <td>NaN</td>\n      <td>NaN</td>\n      <td>...</td>\n      <td>3.311193e+09</td>\n      <td>3.500795e+09</td>\n      <td>3.639496e+09</td>\n      <td>4.144635e+09</td>\n      <td>6.090752e+09</td>\n      <td>6.841864e+09</td>\n      <td>3.608299e+09</td>\n      <td>2.764055e+09</td>\n      <td>3.062873e+09</td>\n      <td>1.983614e+09</td>\n    </tr>\n    <tr>\n      <th>3</th>\n      <td>8</td>\n      <td>Country</td>\n      <td>Military expenditure (current USD)</td>\n      <td>NaN</td>\n      <td>NaN</td>\n      <td>NaN</td>\n      <td>NaN</td>\n      <td>NaN</td>\n      <td>NaN</td>\n      <td>NaN</td>\n      <td>...</td>\n      <td>1.827369e+08</td>\n      <td>1.858932e+08</td>\n      <td>1.970068e+08</td>\n      <td>1.832047e+08</td>\n      <td>1.800155e+08</td>\n      <td>1.781204e+08</td>\n      <td>1.323507e+08</td>\n      <td>1.308532e+08</td>\n      <td>1.443827e+08</td>\n      <td>1.804887e+08</td>\n    </tr>\n    <tr>\n      <th>4</th>\n      <td>20</td>\n      <td>Country</td>\n      <td>Military expenditure (current USD)</td>\n      <td>NaN</td>\n      <td>NaN</td>\n      <td>NaN</td>\n      <td>NaN</td>\n      <td>NaN</td>\n      <td>NaN</td>\n      <td>NaN</td>\n      <td>...</td>\n      <td>NaN</td>\n      <td>NaN</td>\n      <td>NaN</td>\n      <td>NaN</td>\n      <td>NaN</td>\n      <td>NaN</td>\n      <td>NaN</td>\n      <td>NaN</td>\n      <td>NaN</td>\n      <td>NaN</td>\n    </tr>\n    <tr>\n      <th>...</th>\n      <td>...</td>\n      <td>...</td>\n      <td>...</td>\n      <td>...</td>\n      <td>...</td>\n      <td>...</td>\n      <td>...</td>\n      <td>...</td>\n      <td>...</td>\n      <td>...</td>\n      <td>...</td>\n      <td>...</td>\n      <td>...</td>\n      <td>...</td>\n      <td>...</td>\n      <td>...</td>\n      <td>...</td>\n      <td>...</td>\n      <td>...</td>\n      <td>...</td>\n      <td>...</td>\n    </tr>\n    <tr>\n      <th>210</th>\n      <td>882</td>\n      <td>Country</td>\n      <td>Military expenditure (current USD)</td>\n      <td>NaN</td>\n      <td>NaN</td>\n      <td>NaN</td>\n      <td>NaN</td>\n      <td>NaN</td>\n      <td>NaN</td>\n      <td>NaN</td>\n      <td>...</td>\n      <td>NaN</td>\n      <td>NaN</td>\n      <td>NaN</td>\n      <td>NaN</td>\n      <td>NaN</td>\n      <td>NaN</td>\n      <td>NaN</td>\n      <td>NaN</td>\n      <td>NaN</td>\n      <td>NaN</td>\n    </tr>\n    <tr>\n      <th>211</th>\n      <td>887</td>\n      <td>Country</td>\n      <td>Military expenditure (current USD)</td>\n      <td>NaN</td>\n      <td>NaN</td>\n      <td>NaN</td>\n      <td>NaN</td>\n      <td>NaN</td>\n      <td>NaN</td>\n      <td>NaN</td>\n      <td>...</td>\n      <td>1.420775e+09</td>\n      <td>1.448153e+09</td>\n      <td>1.612254e+09</td>\n      <td>1.618840e+09</td>\n      <td>1.648751e+09</td>\n      <td>1.714831e+09</td>\n      <td>NaN</td>\n      <td>NaN</td>\n      <td>NaN</td>\n      <td>NaN</td>\n    </tr>\n    <tr>\n      <th>212</th>\n      <td>710</td>\n      <td>Country</td>\n      <td>Military expenditure (current USD)</td>\n      <td>69999972.0</td>\n      <td>113749954.5</td>\n      <td>186199925.5</td>\n      <td>188999924.4</td>\n      <td>271599891.4</td>\n      <td>289449884.2</td>\n      <td>324449870.2</td>\n      <td>...</td>\n      <td>3.592688e+09</td>\n      <td>4.188168e+09</td>\n      <td>4.594154e+09</td>\n      <td>4.489590e+09</td>\n      <td>4.118208e+09</td>\n      <td>3.892469e+09</td>\n      <td>3.488868e+09</td>\n      <td>3.169756e+09</td>\n      <td>3.638937e+09</td>\n      <td>3.639879e+09</td>\n    </tr>\n    <tr>\n      <th>213</th>\n      <td>894</td>\n      <td>Country</td>\n      <td>Military expenditure (current USD)</td>\n      <td>NaN</td>\n      <td>NaN</td>\n      <td>NaN</td>\n      <td>NaN</td>\n      <td>NaN</td>\n      <td>NaN</td>\n      <td>NaN</td>\n      <td>...</td>\n      <td>2.209623e+08</td>\n      <td>2.801878e+08</td>\n      <td>3.091138e+08</td>\n      <td>3.463014e+08</td>\n      <td>3.813458e+08</td>\n      <td>4.436044e+08</td>\n      <td>3.724476e+08</td>\n      <td>2.995048e+08</td>\n      <td>3.396645e+08</td>\n      <td>3.780254e+08</td>\n    </tr>\n    <tr>\n      <th>214</th>\n      <td>716</td>\n      <td>Country</td>\n      <td>Military expenditure (current USD)</td>\n      <td>NaN</td>\n      <td>NaN</td>\n      <td>NaN</td>\n      <td>NaN</td>\n      <td>NaN</td>\n      <td>15600000.0</td>\n      <td>16950000.0</td>\n      <td>...</td>\n      <td>NaN</td>\n      <td>9.829300e+07</td>\n      <td>1.984380e+08</td>\n      <td>3.182720e+08</td>\n      <td>3.567000e+08</td>\n      <td>3.681000e+08</td>\n      <td>3.766770e+08</td>\n      <td>3.580650e+08</td>\n      <td>3.405220e+08</td>\n      <td>4.203640e+08</td>\n    </tr>\n  </tbody>\n</table>\n<p>215 rows × 62 columns</p>\n</div>"
     },
     "metadata": {},
     "execution_count": 63
    }
   ],
   "source": [
    "data = pd.read_csv(\"data/military_production.csv\")\n",
    "data"
   ]
  },
  {
   "source": [
    "## Парсинг данных"
   ],
   "cell_type": "markdown",
   "metadata": {}
  },
  {
   "cell_type": "code",
   "execution_count": 64,
   "metadata": {},
   "outputs": [],
   "source": [
    "r = requests.get(\"https://en.wikipedia.org/wiki/ISO_3166-1\")\n",
    "if r.status_code ==200:\n",
    "    soup = BeautifulSoup(r.text, 'html.parser')\n",
    "    table = soup.findAll(\"table\",{\"class\": \"wikitable\"})[1]\n",
    "    countries = table.findAll('td')[::6]\n",
    "    symbols = table.findAll('td')[2::6]\n",
    "    codes = table.findAll('td')[3::6]"
   ]
  },
  {
   "cell_type": "code",
   "execution_count": 65,
   "metadata": {},
   "outputs": [],
   "source": [
    "clean_countries = []\n",
    "clean_symbols = []\n",
    "clean_codes = []\n",
    "for country,symbol,code in zip(countries,symbols,codes):\n",
    "    clean_country = str(country.a).split('>')[1].split('<')[0]\n",
    "    clean_countries.append(clean_country)\n",
    "\n",
    "    clean_symbol = str(symbol.span).split('>')[1].split('<')[0]\n",
    "    clean_symbols.append(clean_symbol)\n",
    "\n",
    "    clean_code = str(code.span).split('>')[1].split('<')[0]\n",
    "    clean_codes.append(clean_code)\n"
   ]
  },
  {
   "source": [
    "## Создание DataFrame"
   ],
   "cell_type": "markdown",
   "metadata": {}
  },
  {
   "cell_type": "code",
   "execution_count": 23,
   "metadata": {},
   "outputs": [
    {
     "output_type": "execute_result",
     "data": {
      "text/plain": [
       "               country symbols code\n",
       "0          Afghanistan     AFG  004\n",
       "1        Åland Islands     ALA  248\n",
       "2              Albania     ALB  008\n",
       "3              Algeria     DZA  012\n",
       "4       American Samoa     ASM  016\n",
       "..                 ...     ...  ...\n",
       "244  Wallis and Futuna     WLF  876\n",
       "245     Western Sahara     ESH  732\n",
       "246              Yemen     YEM  887\n",
       "247             Zambia     ZMB  894\n",
       "248           Zimbabwe     ZWE  716\n",
       "\n",
       "[249 rows x 3 columns]"
      ],
      "text/html": "<div>\n<style scoped>\n    .dataframe tbody tr th:only-of-type {\n        vertical-align: middle;\n    }\n\n    .dataframe tbody tr th {\n        vertical-align: top;\n    }\n\n    .dataframe thead th {\n        text-align: right;\n    }\n</style>\n<table border=\"1\" class=\"dataframe\">\n  <thead>\n    <tr style=\"text-align: right;\">\n      <th></th>\n      <th>country</th>\n      <th>symbols</th>\n      <th>code</th>\n    </tr>\n  </thead>\n  <tbody>\n    <tr>\n      <th>0</th>\n      <td>Afghanistan</td>\n      <td>AFG</td>\n      <td>004</td>\n    </tr>\n    <tr>\n      <th>1</th>\n      <td>Åland Islands</td>\n      <td>ALA</td>\n      <td>248</td>\n    </tr>\n    <tr>\n      <th>2</th>\n      <td>Albania</td>\n      <td>ALB</td>\n      <td>008</td>\n    </tr>\n    <tr>\n      <th>3</th>\n      <td>Algeria</td>\n      <td>DZA</td>\n      <td>012</td>\n    </tr>\n    <tr>\n      <th>4</th>\n      <td>American Samoa</td>\n      <td>ASM</td>\n      <td>016</td>\n    </tr>\n    <tr>\n      <th>...</th>\n      <td>...</td>\n      <td>...</td>\n      <td>...</td>\n    </tr>\n    <tr>\n      <th>244</th>\n      <td>Wallis and Futuna</td>\n      <td>WLF</td>\n      <td>876</td>\n    </tr>\n    <tr>\n      <th>245</th>\n      <td>Western Sahara</td>\n      <td>ESH</td>\n      <td>732</td>\n    </tr>\n    <tr>\n      <th>246</th>\n      <td>Yemen</td>\n      <td>YEM</td>\n      <td>887</td>\n    </tr>\n    <tr>\n      <th>247</th>\n      <td>Zambia</td>\n      <td>ZMB</td>\n      <td>894</td>\n    </tr>\n    <tr>\n      <th>248</th>\n      <td>Zimbabwe</td>\n      <td>ZWE</td>\n      <td>716</td>\n    </tr>\n  </tbody>\n</table>\n<p>249 rows × 3 columns</p>\n</div>"
     },
     "metadata": {},
     "execution_count": 23
    }
   ],
   "source": [
    "wiki = pd.DataFrame({'country':clean_countries,'symbols':clean_symbols,'code':clean_codes})\n",
    "wiki"
   ]
  },
  {
   "source": [
    "## Запись в файл"
   ],
   "cell_type": "markdown",
   "metadata": {}
  },
  {
   "cell_type": "code",
   "execution_count": 66,
   "metadata": {},
   "outputs": [],
   "source": [
    "wiki.to_csv(\"data/countries_codes.csv\", index=False)"
   ]
  },
  {
   "source": [
    "## Преобразование типов"
   ],
   "cell_type": "markdown",
   "metadata": {}
  },
  {
   "cell_type": "code",
   "execution_count": 75,
   "metadata": {},
   "outputs": [],
   "source": [
    "wiki[\"code\"] = wiki[\"code\"].apply(int)"
   ]
  },
  {
   "cell_type": "code",
   "execution_count": 71,
   "metadata": {},
   "outputs": [
    {
     "output_type": "execute_result",
     "data": {
      "text/plain": [
       "               country symbols code\n",
       "0          Afghanistan     AFG  004\n",
       "1        Åland Islands     ALA  248\n",
       "2              Albania     ALB  008\n",
       "3              Algeria     DZA  012\n",
       "4       American Samoa     ASM  016\n",
       "..                 ...     ...  ...\n",
       "244  Wallis and Futuna     WLF  876\n",
       "245     Western Sahara     ESH  732\n",
       "246              Yemen     YEM  887\n",
       "247             Zambia     ZMB  894\n",
       "248           Zimbabwe     ZWE  716\n",
       "\n",
       "[249 rows x 3 columns]"
      ],
      "text/html": "<div>\n<style scoped>\n    .dataframe tbody tr th:only-of-type {\n        vertical-align: middle;\n    }\n\n    .dataframe tbody tr th {\n        vertical-align: top;\n    }\n\n    .dataframe thead th {\n        text-align: right;\n    }\n</style>\n<table border=\"1\" class=\"dataframe\">\n  <thead>\n    <tr style=\"text-align: right;\">\n      <th></th>\n      <th>country</th>\n      <th>symbols</th>\n      <th>code</th>\n    </tr>\n  </thead>\n  <tbody>\n    <tr>\n      <th>0</th>\n      <td>Afghanistan</td>\n      <td>AFG</td>\n      <td>004</td>\n    </tr>\n    <tr>\n      <th>1</th>\n      <td>Åland Islands</td>\n      <td>ALA</td>\n      <td>248</td>\n    </tr>\n    <tr>\n      <th>2</th>\n      <td>Albania</td>\n      <td>ALB</td>\n      <td>008</td>\n    </tr>\n    <tr>\n      <th>3</th>\n      <td>Algeria</td>\n      <td>DZA</td>\n      <td>012</td>\n    </tr>\n    <tr>\n      <th>4</th>\n      <td>American Samoa</td>\n      <td>ASM</td>\n      <td>016</td>\n    </tr>\n    <tr>\n      <th>...</th>\n      <td>...</td>\n      <td>...</td>\n      <td>...</td>\n    </tr>\n    <tr>\n      <th>244</th>\n      <td>Wallis and Futuna</td>\n      <td>WLF</td>\n      <td>876</td>\n    </tr>\n    <tr>\n      <th>245</th>\n      <td>Western Sahara</td>\n      <td>ESH</td>\n      <td>732</td>\n    </tr>\n    <tr>\n      <th>246</th>\n      <td>Yemen</td>\n      <td>YEM</td>\n      <td>887</td>\n    </tr>\n    <tr>\n      <th>247</th>\n      <td>Zambia</td>\n      <td>ZMB</td>\n      <td>894</td>\n    </tr>\n    <tr>\n      <th>248</th>\n      <td>Zimbabwe</td>\n      <td>ZWE</td>\n      <td>716</td>\n    </tr>\n  </tbody>\n</table>\n<p>249 rows × 3 columns</p>\n</div>"
     },
     "metadata": {},
     "execution_count": 71
    }
   ],
   "source": [
    "wiki"
   ]
  },
  {
   "source": [
    "## Join"
   ],
   "cell_type": "markdown",
   "metadata": {}
  },
  {
   "cell_type": "code",
   "execution_count": 76,
   "metadata": {},
   "outputs": [],
   "source": [
    "merged=data.merge(wiki,how=\"inner\", left_on=\"code\", right_on=\"code\")\n"
   ]
  },
  {
   "cell_type": "code",
   "execution_count": 77,
   "metadata": {},
   "outputs": [
    {
     "output_type": "execute_result",
     "data": {
      "text/plain": [
       "     code     Type                      Indicator Name        1960  \\\n",
       "0     533  Country  Military expenditure (current USD)         NaN   \n",
       "1       4  Country  Military expenditure (current USD)         NaN   \n",
       "2      24  Country  Military expenditure (current USD)         NaN   \n",
       "3       8  Country  Military expenditure (current USD)         NaN   \n",
       "4      20  Country  Military expenditure (current USD)         NaN   \n",
       "..    ...      ...                                 ...         ...   \n",
       "210   882  Country  Military expenditure (current USD)         NaN   \n",
       "211   887  Country  Military expenditure (current USD)         NaN   \n",
       "212   710  Country  Military expenditure (current USD)  69999972.0   \n",
       "213   894  Country  Military expenditure (current USD)         NaN   \n",
       "214   716  Country  Military expenditure (current USD)         NaN   \n",
       "\n",
       "            1961         1962         1963         1964         1965  \\\n",
       "0            NaN          NaN          NaN          NaN          NaN   \n",
       "1            NaN          NaN          NaN          NaN          NaN   \n",
       "2            NaN          NaN          NaN          NaN          NaN   \n",
       "3            NaN          NaN          NaN          NaN          NaN   \n",
       "4            NaN          NaN          NaN          NaN          NaN   \n",
       "..           ...          ...          ...          ...          ...   \n",
       "210          NaN          NaN          NaN          NaN          NaN   \n",
       "211          NaN          NaN          NaN          NaN          NaN   \n",
       "212  113749954.5  186199925.5  188999924.4  271599891.4  289449884.2   \n",
       "213          NaN          NaN          NaN          NaN          NaN   \n",
       "214          NaN          NaN          NaN          NaN   15600000.0   \n",
       "\n",
       "            1966  ...          2011          2012          2013          2014  \\\n",
       "0            NaN  ...           NaN           NaN           NaN           NaN   \n",
       "1            NaN  ...  3.258070e+08  2.385834e+08  2.171941e+08  2.682271e+08   \n",
       "2            NaN  ...  3.639496e+09  4.144635e+09  6.090752e+09  6.841864e+09   \n",
       "3            NaN  ...  1.970068e+08  1.832047e+08  1.800155e+08  1.781204e+08   \n",
       "4            NaN  ...           NaN           NaN           NaN           NaN   \n",
       "..           ...  ...           ...           ...           ...           ...   \n",
       "210          NaN  ...           NaN           NaN           NaN           NaN   \n",
       "211          NaN  ...  1.612254e+09  1.618840e+09  1.648751e+09  1.714831e+09   \n",
       "212  324449870.2  ...  4.594154e+09  4.489590e+09  4.118208e+09  3.892469e+09   \n",
       "213          NaN  ...  3.091138e+08  3.463014e+08  3.813458e+08  4.436044e+08   \n",
       "214   16950000.0  ...  1.984380e+08  3.182720e+08  3.567000e+08  3.681000e+08   \n",
       "\n",
       "             2015          2016          2017          2018       country  \\\n",
       "0             NaN           NaN           NaN           NaN         Aruba   \n",
       "1    1.995186e+08  1.858783e+08  1.914071e+08  1.980863e+08   Afghanistan   \n",
       "2    3.608299e+09  2.764055e+09  3.062873e+09  1.983614e+09        Angola   \n",
       "3    1.323507e+08  1.308532e+08  1.443827e+08  1.804887e+08       Albania   \n",
       "4             NaN           NaN           NaN           NaN       Andorra   \n",
       "..            ...           ...           ...           ...           ...   \n",
       "210           NaN           NaN           NaN           NaN         Samoa   \n",
       "211           NaN           NaN           NaN           NaN         Yemen   \n",
       "212  3.488868e+09  3.169756e+09  3.638937e+09  3.639879e+09  South Africa   \n",
       "213  3.724476e+08  2.995048e+08  3.396645e+08  3.780254e+08        Zambia   \n",
       "214  3.766770e+08  3.580650e+08  3.405220e+08  4.203640e+08      Zimbabwe   \n",
       "\n",
       "     symbols  \n",
       "0        ABW  \n",
       "1        AFG  \n",
       "2        AGO  \n",
       "3        ALB  \n",
       "4        AND  \n",
       "..       ...  \n",
       "210      WSM  \n",
       "211      YEM  \n",
       "212      ZAF  \n",
       "213      ZMB  \n",
       "214      ZWE  \n",
       "\n",
       "[215 rows x 64 columns]"
      ],
      "text/html": "<div>\n<style scoped>\n    .dataframe tbody tr th:only-of-type {\n        vertical-align: middle;\n    }\n\n    .dataframe tbody tr th {\n        vertical-align: top;\n    }\n\n    .dataframe thead th {\n        text-align: right;\n    }\n</style>\n<table border=\"1\" class=\"dataframe\">\n  <thead>\n    <tr style=\"text-align: right;\">\n      <th></th>\n      <th>code</th>\n      <th>Type</th>\n      <th>Indicator Name</th>\n      <th>1960</th>\n      <th>1961</th>\n      <th>1962</th>\n      <th>1963</th>\n      <th>1964</th>\n      <th>1965</th>\n      <th>1966</th>\n      <th>...</th>\n      <th>2011</th>\n      <th>2012</th>\n      <th>2013</th>\n      <th>2014</th>\n      <th>2015</th>\n      <th>2016</th>\n      <th>2017</th>\n      <th>2018</th>\n      <th>country</th>\n      <th>symbols</th>\n    </tr>\n  </thead>\n  <tbody>\n    <tr>\n      <th>0</th>\n      <td>533</td>\n      <td>Country</td>\n      <td>Military expenditure (current USD)</td>\n      <td>NaN</td>\n      <td>NaN</td>\n      <td>NaN</td>\n      <td>NaN</td>\n      <td>NaN</td>\n      <td>NaN</td>\n      <td>NaN</td>\n      <td>...</td>\n      <td>NaN</td>\n      <td>NaN</td>\n      <td>NaN</td>\n      <td>NaN</td>\n      <td>NaN</td>\n      <td>NaN</td>\n      <td>NaN</td>\n      <td>NaN</td>\n      <td>Aruba</td>\n      <td>ABW</td>\n    </tr>\n    <tr>\n      <th>1</th>\n      <td>4</td>\n      <td>Country</td>\n      <td>Military expenditure (current USD)</td>\n      <td>NaN</td>\n      <td>NaN</td>\n      <td>NaN</td>\n      <td>NaN</td>\n      <td>NaN</td>\n      <td>NaN</td>\n      <td>NaN</td>\n      <td>...</td>\n      <td>3.258070e+08</td>\n      <td>2.385834e+08</td>\n      <td>2.171941e+08</td>\n      <td>2.682271e+08</td>\n      <td>1.995186e+08</td>\n      <td>1.858783e+08</td>\n      <td>1.914071e+08</td>\n      <td>1.980863e+08</td>\n      <td>Afghanistan</td>\n      <td>AFG</td>\n    </tr>\n    <tr>\n      <th>2</th>\n      <td>24</td>\n      <td>Country</td>\n      <td>Military expenditure (current USD)</td>\n      <td>NaN</td>\n      <td>NaN</td>\n      <td>NaN</td>\n      <td>NaN</td>\n      <td>NaN</td>\n      <td>NaN</td>\n      <td>NaN</td>\n      <td>...</td>\n      <td>3.639496e+09</td>\n      <td>4.144635e+09</td>\n      <td>6.090752e+09</td>\n      <td>6.841864e+09</td>\n      <td>3.608299e+09</td>\n      <td>2.764055e+09</td>\n      <td>3.062873e+09</td>\n      <td>1.983614e+09</td>\n      <td>Angola</td>\n      <td>AGO</td>\n    </tr>\n    <tr>\n      <th>3</th>\n      <td>8</td>\n      <td>Country</td>\n      <td>Military expenditure (current USD)</td>\n      <td>NaN</td>\n      <td>NaN</td>\n      <td>NaN</td>\n      <td>NaN</td>\n      <td>NaN</td>\n      <td>NaN</td>\n      <td>NaN</td>\n      <td>...</td>\n      <td>1.970068e+08</td>\n      <td>1.832047e+08</td>\n      <td>1.800155e+08</td>\n      <td>1.781204e+08</td>\n      <td>1.323507e+08</td>\n      <td>1.308532e+08</td>\n      <td>1.443827e+08</td>\n      <td>1.804887e+08</td>\n      <td>Albania</td>\n      <td>ALB</td>\n    </tr>\n    <tr>\n      <th>4</th>\n      <td>20</td>\n      <td>Country</td>\n      <td>Military expenditure (current USD)</td>\n      <td>NaN</td>\n      <td>NaN</td>\n      <td>NaN</td>\n      <td>NaN</td>\n      <td>NaN</td>\n      <td>NaN</td>\n      <td>NaN</td>\n      <td>...</td>\n      <td>NaN</td>\n      <td>NaN</td>\n      <td>NaN</td>\n      <td>NaN</td>\n      <td>NaN</td>\n      <td>NaN</td>\n      <td>NaN</td>\n      <td>NaN</td>\n      <td>Andorra</td>\n      <td>AND</td>\n    </tr>\n    <tr>\n      <th>...</th>\n      <td>...</td>\n      <td>...</td>\n      <td>...</td>\n      <td>...</td>\n      <td>...</td>\n      <td>...</td>\n      <td>...</td>\n      <td>...</td>\n      <td>...</td>\n      <td>...</td>\n      <td>...</td>\n      <td>...</td>\n      <td>...</td>\n      <td>...</td>\n      <td>...</td>\n      <td>...</td>\n      <td>...</td>\n      <td>...</td>\n      <td>...</td>\n      <td>...</td>\n      <td>...</td>\n    </tr>\n    <tr>\n      <th>210</th>\n      <td>882</td>\n      <td>Country</td>\n      <td>Military expenditure (current USD)</td>\n      <td>NaN</td>\n      <td>NaN</td>\n      <td>NaN</td>\n      <td>NaN</td>\n      <td>NaN</td>\n      <td>NaN</td>\n      <td>NaN</td>\n      <td>...</td>\n      <td>NaN</td>\n      <td>NaN</td>\n      <td>NaN</td>\n      <td>NaN</td>\n      <td>NaN</td>\n      <td>NaN</td>\n      <td>NaN</td>\n      <td>NaN</td>\n      <td>Samoa</td>\n      <td>WSM</td>\n    </tr>\n    <tr>\n      <th>211</th>\n      <td>887</td>\n      <td>Country</td>\n      <td>Military expenditure (current USD)</td>\n      <td>NaN</td>\n      <td>NaN</td>\n      <td>NaN</td>\n      <td>NaN</td>\n      <td>NaN</td>\n      <td>NaN</td>\n      <td>NaN</td>\n      <td>...</td>\n      <td>1.612254e+09</td>\n      <td>1.618840e+09</td>\n      <td>1.648751e+09</td>\n      <td>1.714831e+09</td>\n      <td>NaN</td>\n      <td>NaN</td>\n      <td>NaN</td>\n      <td>NaN</td>\n      <td>Yemen</td>\n      <td>YEM</td>\n    </tr>\n    <tr>\n      <th>212</th>\n      <td>710</td>\n      <td>Country</td>\n      <td>Military expenditure (current USD)</td>\n      <td>69999972.0</td>\n      <td>113749954.5</td>\n      <td>186199925.5</td>\n      <td>188999924.4</td>\n      <td>271599891.4</td>\n      <td>289449884.2</td>\n      <td>324449870.2</td>\n      <td>...</td>\n      <td>4.594154e+09</td>\n      <td>4.489590e+09</td>\n      <td>4.118208e+09</td>\n      <td>3.892469e+09</td>\n      <td>3.488868e+09</td>\n      <td>3.169756e+09</td>\n      <td>3.638937e+09</td>\n      <td>3.639879e+09</td>\n      <td>South Africa</td>\n      <td>ZAF</td>\n    </tr>\n    <tr>\n      <th>213</th>\n      <td>894</td>\n      <td>Country</td>\n      <td>Military expenditure (current USD)</td>\n      <td>NaN</td>\n      <td>NaN</td>\n      <td>NaN</td>\n      <td>NaN</td>\n      <td>NaN</td>\n      <td>NaN</td>\n      <td>NaN</td>\n      <td>...</td>\n      <td>3.091138e+08</td>\n      <td>3.463014e+08</td>\n      <td>3.813458e+08</td>\n      <td>4.436044e+08</td>\n      <td>3.724476e+08</td>\n      <td>2.995048e+08</td>\n      <td>3.396645e+08</td>\n      <td>3.780254e+08</td>\n      <td>Zambia</td>\n      <td>ZMB</td>\n    </tr>\n    <tr>\n      <th>214</th>\n      <td>716</td>\n      <td>Country</td>\n      <td>Military expenditure (current USD)</td>\n      <td>NaN</td>\n      <td>NaN</td>\n      <td>NaN</td>\n      <td>NaN</td>\n      <td>NaN</td>\n      <td>15600000.0</td>\n      <td>16950000.0</td>\n      <td>...</td>\n      <td>1.984380e+08</td>\n      <td>3.182720e+08</td>\n      <td>3.567000e+08</td>\n      <td>3.681000e+08</td>\n      <td>3.766770e+08</td>\n      <td>3.580650e+08</td>\n      <td>3.405220e+08</td>\n      <td>4.203640e+08</td>\n      <td>Zimbabwe</td>\n      <td>ZWE</td>\n    </tr>\n  </tbody>\n</table>\n<p>215 rows × 64 columns</p>\n</div>"
     },
     "metadata": {},
     "execution_count": 77
    }
   ],
   "source": [
    "merged"
   ]
  },
  {
   "source": [
    "## Найти страны, потратившие больше всего денег на вооружение"
   ],
   "cell_type": "markdown",
   "metadata": {}
  },
  {
   "cell_type": "code",
   "execution_count": 90,
   "metadata": {},
   "outputs": [
    {
     "output_type": "execute_result",
     "data": {
      "text/plain": [
       "0      0.000000e+00\n",
       "1      3.239602e+09\n",
       "2      7.011220e+10\n",
       "3      3.054373e+09\n",
       "4      0.000000e+00\n",
       "           ...     \n",
       "210    0.000000e+00\n",
       "211    2.607185e+10\n",
       "212    1.406252e+11\n",
       "213    5.472793e+09\n",
       "214    1.374008e+10\n",
       "Length: 215, dtype: float64"
      ]
     },
     "metadata": {},
     "execution_count": 90
    }
   ],
   "source": [
    "(merged.loc[:,\"1960\":\"2018\"]).sum(axis=1, skipna= True)"
   ]
  },
  {
   "cell_type": "code",
   "execution_count": 93,
   "metadata": {},
   "outputs": [],
   "source": [
    "merged[\"total\"] = (merged.loc[:,\"1960\":\"2018\"]).sum(axis=1, skipna= True)"
   ]
  },
  {
   "cell_type": "code",
   "execution_count": 94,
   "metadata": {},
   "outputs": [
    {
     "output_type": "execute_result",
     "data": {
      "text/plain": [
       "     code     Type                      Indicator Name        1960  \\\n",
       "0     533  Country  Military expenditure (current USD)         NaN   \n",
       "1       4  Country  Military expenditure (current USD)         NaN   \n",
       "2      24  Country  Military expenditure (current USD)         NaN   \n",
       "3       8  Country  Military expenditure (current USD)         NaN   \n",
       "4      20  Country  Military expenditure (current USD)         NaN   \n",
       "..    ...      ...                                 ...         ...   \n",
       "210   882  Country  Military expenditure (current USD)         NaN   \n",
       "211   887  Country  Military expenditure (current USD)         NaN   \n",
       "212   710  Country  Military expenditure (current USD)  69999972.0   \n",
       "213   894  Country  Military expenditure (current USD)         NaN   \n",
       "214   716  Country  Military expenditure (current USD)         NaN   \n",
       "\n",
       "            1961         1962         1963         1964         1965  \\\n",
       "0            NaN          NaN          NaN          NaN          NaN   \n",
       "1            NaN          NaN          NaN          NaN          NaN   \n",
       "2            NaN          NaN          NaN          NaN          NaN   \n",
       "3            NaN          NaN          NaN          NaN          NaN   \n",
       "4            NaN          NaN          NaN          NaN          NaN   \n",
       "..           ...          ...          ...          ...          ...   \n",
       "210          NaN          NaN          NaN          NaN          NaN   \n",
       "211          NaN          NaN          NaN          NaN          NaN   \n",
       "212  113749954.5  186199925.5  188999924.4  271599891.4  289449884.2   \n",
       "213          NaN          NaN          NaN          NaN          NaN   \n",
       "214          NaN          NaN          NaN          NaN   15600000.0   \n",
       "\n",
       "            1966  ...          2012          2013          2014          2015  \\\n",
       "0            NaN  ...           NaN           NaN           NaN           NaN   \n",
       "1            NaN  ...  2.385834e+08  2.171941e+08  2.682271e+08  1.995186e+08   \n",
       "2            NaN  ...  4.144635e+09  6.090752e+09  6.841864e+09  3.608299e+09   \n",
       "3            NaN  ...  1.832047e+08  1.800155e+08  1.781204e+08  1.323507e+08   \n",
       "4            NaN  ...           NaN           NaN           NaN           NaN   \n",
       "..           ...  ...           ...           ...           ...           ...   \n",
       "210          NaN  ...           NaN           NaN           NaN           NaN   \n",
       "211          NaN  ...  1.618840e+09  1.648751e+09  1.714831e+09           NaN   \n",
       "212  324449870.2  ...  4.489590e+09  4.118208e+09  3.892469e+09  3.488868e+09   \n",
       "213          NaN  ...  3.463014e+08  3.813458e+08  4.436044e+08  3.724476e+08   \n",
       "214   16950000.0  ...  3.182720e+08  3.567000e+08  3.681000e+08  3.766770e+08   \n",
       "\n",
       "             2016          2017          2018       country  symbols  \\\n",
       "0             NaN           NaN           NaN         Aruba      ABW   \n",
       "1    1.858783e+08  1.914071e+08  1.980863e+08   Afghanistan      AFG   \n",
       "2    2.764055e+09  3.062873e+09  1.983614e+09        Angola      AGO   \n",
       "3    1.308532e+08  1.443827e+08  1.804887e+08       Albania      ALB   \n",
       "4             NaN           NaN           NaN       Andorra      AND   \n",
       "..            ...           ...           ...           ...      ...   \n",
       "210           NaN           NaN           NaN         Samoa      WSM   \n",
       "211           NaN           NaN           NaN         Yemen      YEM   \n",
       "212  3.169756e+09  3.638937e+09  3.639879e+09  South Africa      ZAF   \n",
       "213  2.995048e+08  3.396645e+08  3.780254e+08        Zambia      ZMB   \n",
       "214  3.580650e+08  3.405220e+08  4.203640e+08      Zimbabwe      ZWE   \n",
       "\n",
       "            total  \n",
       "0    0.000000e+00  \n",
       "1    3.239602e+09  \n",
       "2    7.011220e+10  \n",
       "3    3.054373e+09  \n",
       "4    0.000000e+00  \n",
       "..            ...  \n",
       "210  0.000000e+00  \n",
       "211  2.607185e+10  \n",
       "212  1.406252e+11  \n",
       "213  5.472793e+09  \n",
       "214  1.374008e+10  \n",
       "\n",
       "[215 rows x 65 columns]"
      ],
      "text/html": "<div>\n<style scoped>\n    .dataframe tbody tr th:only-of-type {\n        vertical-align: middle;\n    }\n\n    .dataframe tbody tr th {\n        vertical-align: top;\n    }\n\n    .dataframe thead th {\n        text-align: right;\n    }\n</style>\n<table border=\"1\" class=\"dataframe\">\n  <thead>\n    <tr style=\"text-align: right;\">\n      <th></th>\n      <th>code</th>\n      <th>Type</th>\n      <th>Indicator Name</th>\n      <th>1960</th>\n      <th>1961</th>\n      <th>1962</th>\n      <th>1963</th>\n      <th>1964</th>\n      <th>1965</th>\n      <th>1966</th>\n      <th>...</th>\n      <th>2012</th>\n      <th>2013</th>\n      <th>2014</th>\n      <th>2015</th>\n      <th>2016</th>\n      <th>2017</th>\n      <th>2018</th>\n      <th>country</th>\n      <th>symbols</th>\n      <th>total</th>\n    </tr>\n  </thead>\n  <tbody>\n    <tr>\n      <th>0</th>\n      <td>533</td>\n      <td>Country</td>\n      <td>Military expenditure (current USD)</td>\n      <td>NaN</td>\n      <td>NaN</td>\n      <td>NaN</td>\n      <td>NaN</td>\n      <td>NaN</td>\n      <td>NaN</td>\n      <td>NaN</td>\n      <td>...</td>\n      <td>NaN</td>\n      <td>NaN</td>\n      <td>NaN</td>\n      <td>NaN</td>\n      <td>NaN</td>\n      <td>NaN</td>\n      <td>NaN</td>\n      <td>Aruba</td>\n      <td>ABW</td>\n      <td>0.000000e+00</td>\n    </tr>\n    <tr>\n      <th>1</th>\n      <td>4</td>\n      <td>Country</td>\n      <td>Military expenditure (current USD)</td>\n      <td>NaN</td>\n      <td>NaN</td>\n      <td>NaN</td>\n      <td>NaN</td>\n      <td>NaN</td>\n      <td>NaN</td>\n      <td>NaN</td>\n      <td>...</td>\n      <td>2.385834e+08</td>\n      <td>2.171941e+08</td>\n      <td>2.682271e+08</td>\n      <td>1.995186e+08</td>\n      <td>1.858783e+08</td>\n      <td>1.914071e+08</td>\n      <td>1.980863e+08</td>\n      <td>Afghanistan</td>\n      <td>AFG</td>\n      <td>3.239602e+09</td>\n    </tr>\n    <tr>\n      <th>2</th>\n      <td>24</td>\n      <td>Country</td>\n      <td>Military expenditure (current USD)</td>\n      <td>NaN</td>\n      <td>NaN</td>\n      <td>NaN</td>\n      <td>NaN</td>\n      <td>NaN</td>\n      <td>NaN</td>\n      <td>NaN</td>\n      <td>...</td>\n      <td>4.144635e+09</td>\n      <td>6.090752e+09</td>\n      <td>6.841864e+09</td>\n      <td>3.608299e+09</td>\n      <td>2.764055e+09</td>\n      <td>3.062873e+09</td>\n      <td>1.983614e+09</td>\n      <td>Angola</td>\n      <td>AGO</td>\n      <td>7.011220e+10</td>\n    </tr>\n    <tr>\n      <th>3</th>\n      <td>8</td>\n      <td>Country</td>\n      <td>Military expenditure (current USD)</td>\n      <td>NaN</td>\n      <td>NaN</td>\n      <td>NaN</td>\n      <td>NaN</td>\n      <td>NaN</td>\n      <td>NaN</td>\n      <td>NaN</td>\n      <td>...</td>\n      <td>1.832047e+08</td>\n      <td>1.800155e+08</td>\n      <td>1.781204e+08</td>\n      <td>1.323507e+08</td>\n      <td>1.308532e+08</td>\n      <td>1.443827e+08</td>\n      <td>1.804887e+08</td>\n      <td>Albania</td>\n      <td>ALB</td>\n      <td>3.054373e+09</td>\n    </tr>\n    <tr>\n      <th>4</th>\n      <td>20</td>\n      <td>Country</td>\n      <td>Military expenditure (current USD)</td>\n      <td>NaN</td>\n      <td>NaN</td>\n      <td>NaN</td>\n      <td>NaN</td>\n      <td>NaN</td>\n      <td>NaN</td>\n      <td>NaN</td>\n      <td>...</td>\n      <td>NaN</td>\n      <td>NaN</td>\n      <td>NaN</td>\n      <td>NaN</td>\n      <td>NaN</td>\n      <td>NaN</td>\n      <td>NaN</td>\n      <td>Andorra</td>\n      <td>AND</td>\n      <td>0.000000e+00</td>\n    </tr>\n    <tr>\n      <th>...</th>\n      <td>...</td>\n      <td>...</td>\n      <td>...</td>\n      <td>...</td>\n      <td>...</td>\n      <td>...</td>\n      <td>...</td>\n      <td>...</td>\n      <td>...</td>\n      <td>...</td>\n      <td>...</td>\n      <td>...</td>\n      <td>...</td>\n      <td>...</td>\n      <td>...</td>\n      <td>...</td>\n      <td>...</td>\n      <td>...</td>\n      <td>...</td>\n      <td>...</td>\n      <td>...</td>\n    </tr>\n    <tr>\n      <th>210</th>\n      <td>882</td>\n      <td>Country</td>\n      <td>Military expenditure (current USD)</td>\n      <td>NaN</td>\n      <td>NaN</td>\n      <td>NaN</td>\n      <td>NaN</td>\n      <td>NaN</td>\n      <td>NaN</td>\n      <td>NaN</td>\n      <td>...</td>\n      <td>NaN</td>\n      <td>NaN</td>\n      <td>NaN</td>\n      <td>NaN</td>\n      <td>NaN</td>\n      <td>NaN</td>\n      <td>NaN</td>\n      <td>Samoa</td>\n      <td>WSM</td>\n      <td>0.000000e+00</td>\n    </tr>\n    <tr>\n      <th>211</th>\n      <td>887</td>\n      <td>Country</td>\n      <td>Military expenditure (current USD)</td>\n      <td>NaN</td>\n      <td>NaN</td>\n      <td>NaN</td>\n      <td>NaN</td>\n      <td>NaN</td>\n      <td>NaN</td>\n      <td>NaN</td>\n      <td>...</td>\n      <td>1.618840e+09</td>\n      <td>1.648751e+09</td>\n      <td>1.714831e+09</td>\n      <td>NaN</td>\n      <td>NaN</td>\n      <td>NaN</td>\n      <td>NaN</td>\n      <td>Yemen</td>\n      <td>YEM</td>\n      <td>2.607185e+10</td>\n    </tr>\n    <tr>\n      <th>212</th>\n      <td>710</td>\n      <td>Country</td>\n      <td>Military expenditure (current USD)</td>\n      <td>69999972.0</td>\n      <td>113749954.5</td>\n      <td>186199925.5</td>\n      <td>188999924.4</td>\n      <td>271599891.4</td>\n      <td>289449884.2</td>\n      <td>324449870.2</td>\n      <td>...</td>\n      <td>4.489590e+09</td>\n      <td>4.118208e+09</td>\n      <td>3.892469e+09</td>\n      <td>3.488868e+09</td>\n      <td>3.169756e+09</td>\n      <td>3.638937e+09</td>\n      <td>3.639879e+09</td>\n      <td>South Africa</td>\n      <td>ZAF</td>\n      <td>1.406252e+11</td>\n    </tr>\n    <tr>\n      <th>213</th>\n      <td>894</td>\n      <td>Country</td>\n      <td>Military expenditure (current USD)</td>\n      <td>NaN</td>\n      <td>NaN</td>\n      <td>NaN</td>\n      <td>NaN</td>\n      <td>NaN</td>\n      <td>NaN</td>\n      <td>NaN</td>\n      <td>...</td>\n      <td>3.463014e+08</td>\n      <td>3.813458e+08</td>\n      <td>4.436044e+08</td>\n      <td>3.724476e+08</td>\n      <td>2.995048e+08</td>\n      <td>3.396645e+08</td>\n      <td>3.780254e+08</td>\n      <td>Zambia</td>\n      <td>ZMB</td>\n      <td>5.472793e+09</td>\n    </tr>\n    <tr>\n      <th>214</th>\n      <td>716</td>\n      <td>Country</td>\n      <td>Military expenditure (current USD)</td>\n      <td>NaN</td>\n      <td>NaN</td>\n      <td>NaN</td>\n      <td>NaN</td>\n      <td>NaN</td>\n      <td>15600000.0</td>\n      <td>16950000.0</td>\n      <td>...</td>\n      <td>3.182720e+08</td>\n      <td>3.567000e+08</td>\n      <td>3.681000e+08</td>\n      <td>3.766770e+08</td>\n      <td>3.580650e+08</td>\n      <td>3.405220e+08</td>\n      <td>4.203640e+08</td>\n      <td>Zimbabwe</td>\n      <td>ZWE</td>\n      <td>1.374008e+10</td>\n    </tr>\n  </tbody>\n</table>\n<p>215 rows × 65 columns</p>\n</div>"
     },
     "metadata": {},
     "execution_count": 94
    }
   ],
   "source": [
    "merged"
   ]
  },
  {
   "cell_type": "code",
   "execution_count": 106,
   "metadata": {},
   "outputs": [],
   "source": [
    "graph1 = merged.sort_values(by = \"total\", ascending=False).head(10)"
   ]
  },
  {
   "cell_type": "code",
   "execution_count": 100,
   "metadata": {},
   "outputs": [
    {
     "output_type": "execute_result",
     "data": {
      "text/plain": [
       "     code     Type                      Indicator Name          1960  \\\n",
       "202   840  Country  Military expenditure (current USD)  4.538000e+10   \n",
       "35    156  Country  Military expenditure (current USD)           NaN   \n",
       "63    250  Country  Military expenditure (current USD)  3.881220e+09   \n",
       "67    826  Country  Military expenditure (current USD)  4.587798e+09   \n",
       "49    276  Country  Military expenditure (current USD)  2.884518e+09   \n",
       "97    392  Country  Military expenditure (current USD)  4.805556e+08   \n",
       "166   682  Country  Military expenditure (current USD)  1.408889e+08   \n",
       "164   643  Country  Military expenditure (current USD)           NaN   \n",
       "88    356  Country  Military expenditure (current USD)  6.817657e+08   \n",
       "94    380  Country  Military expenditure (current USD)  1.009309e+09   \n",
       "\n",
       "             1961          1962          1963          1964          1965  \\\n",
       "202  4.780800e+10  5.238100e+10  5.229500e+10  5.121300e+10  5.182700e+10   \n",
       "35            NaN           NaN           NaN           NaN           NaN   \n",
       "63   4.131004e+09  4.493324e+09  4.628061e+09  4.917957e+09  5.124507e+09   \n",
       "67   4.747398e+09  5.005698e+09  5.196798e+09  5.508998e+09  5.791098e+09   \n",
       "49   3.266496e+09  4.308248e+09  4.981004e+09  4.888249e+09  4.978559e+09   \n",
       "97   4.923611e+08  5.381944e+08  6.298611e+08  7.180556e+08  8.213889e+08   \n",
       "166  7.155556e+07  8.422222e+07  1.137778e+08  1.235556e+08  1.777778e+08   \n",
       "164           NaN           NaN           NaN           NaN           NaN   \n",
       "88   7.483882e+08  1.065436e+09  1.795449e+09  1.986654e+09  2.125990e+09   \n",
       "94   1.062907e+09  1.222014e+09  1.463284e+09  1.586667e+09  1.719942e+09   \n",
       "\n",
       "             1966  ...          2012          2013          2014  \\\n",
       "202  6.357200e+10  ...  6.850000e+11  6.400000e+11  6.100000e+11   \n",
       "35            NaN  ...  1.570000e+11  1.800000e+11  2.010000e+11   \n",
       "63   5.414602e+09  ...  6.003515e+10  6.241710e+10  6.361357e+10   \n",
       "67   5.984998e+09  ...  5.849566e+10  5.686176e+10  5.918286e+10   \n",
       "49   5.063638e+09  ...  4.647087e+10  4.593054e+10  4.610267e+10   \n",
       "97   9.324306e+08  ...  6.001153e+10  4.902393e+10  4.688124e+10   \n",
       "166  3.004444e+08  ...  5.649787e+10  6.702000e+10  8.076240e+10   \n",
       "164           NaN  ...  8.146940e+10  8.835290e+10  8.469650e+10   \n",
       "88   1.661155e+09  ...  4.721692e+10  4.740353e+10  5.091411e+10   \n",
       "94   1.904605e+09  ...  2.978101e+10  2.995745e+10  2.770103e+10   \n",
       "\n",
       "             2015          2016          2017          2018  \\\n",
       "202  5.960000e+11  6.000000e+11  6.060000e+11  6.490000e+11   \n",
       "35   2.140000e+11  2.160000e+11  2.280000e+11  2.500000e+11   \n",
       "63   5.534213e+10  5.735841e+10  6.041750e+10  6.379968e+10   \n",
       "67   5.386219e+10  4.811894e+10  4.643330e+10  4.999719e+10   \n",
       "49   3.981258e+10  4.157949e+10  4.538172e+10  4.947063e+10   \n",
       "97   4.210610e+10  4.647129e+10  4.538703e+10  4.661795e+10   \n",
       "166  8.718587e+10  6.367280e+10  7.040000e+10  6.755467e+10   \n",
       "164  6.641871e+10  6.924531e+10  6.652730e+10  6.138755e+10   \n",
       "88   5.129548e+10  5.663762e+10  6.455944e+10  6.651029e+10   \n",
       "94   2.218085e+10  2.503303e+10  2.644789e+10  2.780751e+10   \n",
       "\n",
       "                                               country  symbols         total  \n",
       "202                           United States of America      USA  1.728412e+13  \n",
       "35                                               China      CHN  2.368372e+12  \n",
       "63                                              France      FRA  1.927283e+12  \n",
       "67   United Kingdom of Great Britain and Northern I...      GBR  1.801942e+12  \n",
       "49                                             Germany      DEU  1.611065e+12  \n",
       "97                                               Japan      JPN  1.511238e+12  \n",
       "166                                       Saudi Arabia      SAU  1.241866e+12  \n",
       "164                                 Russian Federation      RUS  1.014830e+12  \n",
       "88                                               India      IND  9.356049e+11  \n",
       "94                                               Italy      ITA  9.035149e+11  \n",
       "\n",
       "[10 rows x 65 columns]"
      ],
      "text/html": "<div>\n<style scoped>\n    .dataframe tbody tr th:only-of-type {\n        vertical-align: middle;\n    }\n\n    .dataframe tbody tr th {\n        vertical-align: top;\n    }\n\n    .dataframe thead th {\n        text-align: right;\n    }\n</style>\n<table border=\"1\" class=\"dataframe\">\n  <thead>\n    <tr style=\"text-align: right;\">\n      <th></th>\n      <th>code</th>\n      <th>Type</th>\n      <th>Indicator Name</th>\n      <th>1960</th>\n      <th>1961</th>\n      <th>1962</th>\n      <th>1963</th>\n      <th>1964</th>\n      <th>1965</th>\n      <th>1966</th>\n      <th>...</th>\n      <th>2012</th>\n      <th>2013</th>\n      <th>2014</th>\n      <th>2015</th>\n      <th>2016</th>\n      <th>2017</th>\n      <th>2018</th>\n      <th>country</th>\n      <th>symbols</th>\n      <th>total</th>\n    </tr>\n  </thead>\n  <tbody>\n    <tr>\n      <th>202</th>\n      <td>840</td>\n      <td>Country</td>\n      <td>Military expenditure (current USD)</td>\n      <td>4.538000e+10</td>\n      <td>4.780800e+10</td>\n      <td>5.238100e+10</td>\n      <td>5.229500e+10</td>\n      <td>5.121300e+10</td>\n      <td>5.182700e+10</td>\n      <td>6.357200e+10</td>\n      <td>...</td>\n      <td>6.850000e+11</td>\n      <td>6.400000e+11</td>\n      <td>6.100000e+11</td>\n      <td>5.960000e+11</td>\n      <td>6.000000e+11</td>\n      <td>6.060000e+11</td>\n      <td>6.490000e+11</td>\n      <td>United States of America</td>\n      <td>USA</td>\n      <td>1.728412e+13</td>\n    </tr>\n    <tr>\n      <th>35</th>\n      <td>156</td>\n      <td>Country</td>\n      <td>Military expenditure (current USD)</td>\n      <td>NaN</td>\n      <td>NaN</td>\n      <td>NaN</td>\n      <td>NaN</td>\n      <td>NaN</td>\n      <td>NaN</td>\n      <td>NaN</td>\n      <td>...</td>\n      <td>1.570000e+11</td>\n      <td>1.800000e+11</td>\n      <td>2.010000e+11</td>\n      <td>2.140000e+11</td>\n      <td>2.160000e+11</td>\n      <td>2.280000e+11</td>\n      <td>2.500000e+11</td>\n      <td>China</td>\n      <td>CHN</td>\n      <td>2.368372e+12</td>\n    </tr>\n    <tr>\n      <th>63</th>\n      <td>250</td>\n      <td>Country</td>\n      <td>Military expenditure (current USD)</td>\n      <td>3.881220e+09</td>\n      <td>4.131004e+09</td>\n      <td>4.493324e+09</td>\n      <td>4.628061e+09</td>\n      <td>4.917957e+09</td>\n      <td>5.124507e+09</td>\n      <td>5.414602e+09</td>\n      <td>...</td>\n      <td>6.003515e+10</td>\n      <td>6.241710e+10</td>\n      <td>6.361357e+10</td>\n      <td>5.534213e+10</td>\n      <td>5.735841e+10</td>\n      <td>6.041750e+10</td>\n      <td>6.379968e+10</td>\n      <td>France</td>\n      <td>FRA</td>\n      <td>1.927283e+12</td>\n    </tr>\n    <tr>\n      <th>67</th>\n      <td>826</td>\n      <td>Country</td>\n      <td>Military expenditure (current USD)</td>\n      <td>4.587798e+09</td>\n      <td>4.747398e+09</td>\n      <td>5.005698e+09</td>\n      <td>5.196798e+09</td>\n      <td>5.508998e+09</td>\n      <td>5.791098e+09</td>\n      <td>5.984998e+09</td>\n      <td>...</td>\n      <td>5.849566e+10</td>\n      <td>5.686176e+10</td>\n      <td>5.918286e+10</td>\n      <td>5.386219e+10</td>\n      <td>4.811894e+10</td>\n      <td>4.643330e+10</td>\n      <td>4.999719e+10</td>\n      <td>United Kingdom of Great Britain and Northern I...</td>\n      <td>GBR</td>\n      <td>1.801942e+12</td>\n    </tr>\n    <tr>\n      <th>49</th>\n      <td>276</td>\n      <td>Country</td>\n      <td>Military expenditure (current USD)</td>\n      <td>2.884518e+09</td>\n      <td>3.266496e+09</td>\n      <td>4.308248e+09</td>\n      <td>4.981004e+09</td>\n      <td>4.888249e+09</td>\n      <td>4.978559e+09</td>\n      <td>5.063638e+09</td>\n      <td>...</td>\n      <td>4.647087e+10</td>\n      <td>4.593054e+10</td>\n      <td>4.610267e+10</td>\n      <td>3.981258e+10</td>\n      <td>4.157949e+10</td>\n      <td>4.538172e+10</td>\n      <td>4.947063e+10</td>\n      <td>Germany</td>\n      <td>DEU</td>\n      <td>1.611065e+12</td>\n    </tr>\n    <tr>\n      <th>97</th>\n      <td>392</td>\n      <td>Country</td>\n      <td>Military expenditure (current USD)</td>\n      <td>4.805556e+08</td>\n      <td>4.923611e+08</td>\n      <td>5.381944e+08</td>\n      <td>6.298611e+08</td>\n      <td>7.180556e+08</td>\n      <td>8.213889e+08</td>\n      <td>9.324306e+08</td>\n      <td>...</td>\n      <td>6.001153e+10</td>\n      <td>4.902393e+10</td>\n      <td>4.688124e+10</td>\n      <td>4.210610e+10</td>\n      <td>4.647129e+10</td>\n      <td>4.538703e+10</td>\n      <td>4.661795e+10</td>\n      <td>Japan</td>\n      <td>JPN</td>\n      <td>1.511238e+12</td>\n    </tr>\n    <tr>\n      <th>166</th>\n      <td>682</td>\n      <td>Country</td>\n      <td>Military expenditure (current USD)</td>\n      <td>1.408889e+08</td>\n      <td>7.155556e+07</td>\n      <td>8.422222e+07</td>\n      <td>1.137778e+08</td>\n      <td>1.235556e+08</td>\n      <td>1.777778e+08</td>\n      <td>3.004444e+08</td>\n      <td>...</td>\n      <td>5.649787e+10</td>\n      <td>6.702000e+10</td>\n      <td>8.076240e+10</td>\n      <td>8.718587e+10</td>\n      <td>6.367280e+10</td>\n      <td>7.040000e+10</td>\n      <td>6.755467e+10</td>\n      <td>Saudi Arabia</td>\n      <td>SAU</td>\n      <td>1.241866e+12</td>\n    </tr>\n    <tr>\n      <th>164</th>\n      <td>643</td>\n      <td>Country</td>\n      <td>Military expenditure (current USD)</td>\n      <td>NaN</td>\n      <td>NaN</td>\n      <td>NaN</td>\n      <td>NaN</td>\n      <td>NaN</td>\n      <td>NaN</td>\n      <td>NaN</td>\n      <td>...</td>\n      <td>8.146940e+10</td>\n      <td>8.835290e+10</td>\n      <td>8.469650e+10</td>\n      <td>6.641871e+10</td>\n      <td>6.924531e+10</td>\n      <td>6.652730e+10</td>\n      <td>6.138755e+10</td>\n      <td>Russian Federation</td>\n      <td>RUS</td>\n      <td>1.014830e+12</td>\n    </tr>\n    <tr>\n      <th>88</th>\n      <td>356</td>\n      <td>Country</td>\n      <td>Military expenditure (current USD)</td>\n      <td>6.817657e+08</td>\n      <td>7.483882e+08</td>\n      <td>1.065436e+09</td>\n      <td>1.795449e+09</td>\n      <td>1.986654e+09</td>\n      <td>2.125990e+09</td>\n      <td>1.661155e+09</td>\n      <td>...</td>\n      <td>4.721692e+10</td>\n      <td>4.740353e+10</td>\n      <td>5.091411e+10</td>\n      <td>5.129548e+10</td>\n      <td>5.663762e+10</td>\n      <td>6.455944e+10</td>\n      <td>6.651029e+10</td>\n      <td>India</td>\n      <td>IND</td>\n      <td>9.356049e+11</td>\n    </tr>\n    <tr>\n      <th>94</th>\n      <td>380</td>\n      <td>Country</td>\n      <td>Military expenditure (current USD)</td>\n      <td>1.009309e+09</td>\n      <td>1.062907e+09</td>\n      <td>1.222014e+09</td>\n      <td>1.463284e+09</td>\n      <td>1.586667e+09</td>\n      <td>1.719942e+09</td>\n      <td>1.904605e+09</td>\n      <td>...</td>\n      <td>2.978101e+10</td>\n      <td>2.995745e+10</td>\n      <td>2.770103e+10</td>\n      <td>2.218085e+10</td>\n      <td>2.503303e+10</td>\n      <td>2.644789e+10</td>\n      <td>2.780751e+10</td>\n      <td>Italy</td>\n      <td>ITA</td>\n      <td>9.035149e+11</td>\n    </tr>\n  </tbody>\n</table>\n<p>10 rows × 65 columns</p>\n</div>"
     },
     "metadata": {},
     "execution_count": 100
    }
   ],
   "source": [
    "graph1"
   ]
  },
  {
   "source": [
    "## Визуализация"
   ],
   "cell_type": "markdown",
   "metadata": {}
  },
  {
   "cell_type": "code",
   "execution_count": 107,
   "metadata": {},
   "outputs": [
    {
     "output_type": "execute_result",
     "data": {
      "text/plain": [
       "<AxesSubplot:ylabel='country'>"
      ]
     },
     "metadata": {},
     "execution_count": 107
    },
    {
     "output_type": "display_data",
     "data": {
      "text/plain": "<Figure size 432x288 with 1 Axes>",
      "image/svg+xml": "<?xml version=\"1.0\" encoding=\"utf-8\" standalone=\"no\"?>\r\n<!DOCTYPE svg PUBLIC \"-//W3C//DTD SVG 1.1//EN\"\r\n  \"http://www.w3.org/Graphics/SVG/1.1/DTD/svg11.dtd\">\r\n<!-- Created with matplotlib (https://matplotlib.org/) -->\r\n<svg height=\"261.19625pt\" version=\"1.1\" viewBox=\"0 0 637.390625 261.19625\" width=\"637.390625pt\" xmlns=\"http://www.w3.org/2000/svg\" xmlns:xlink=\"http://www.w3.org/1999/xlink\">\r\n <metadata>\r\n  <rdf:RDF xmlns:cc=\"http://creativecommons.org/ns#\" xmlns:dc=\"http://purl.org/dc/elements/1.1/\" xmlns:rdf=\"http://www.w3.org/1999/02/22-rdf-syntax-ns#\">\r\n   <cc:Work>\r\n    <dc:type rdf:resource=\"http://purl.org/dc/dcmitype/StillImage\"/>\r\n    <dc:date>2021-05-23T18:01:52.456605</dc:date>\r\n    <dc:format>image/svg+xml</dc:format>\r\n    <dc:creator>\r\n     <cc:Agent>\r\n      <dc:title>Matplotlib v3.3.4, https://matplotlib.org/</dc:title>\r\n     </cc:Agent>\r\n    </dc:creator>\r\n   </cc:Work>\r\n  </rdf:RDF>\r\n </metadata>\r\n <defs>\r\n  <style type=\"text/css\">*{stroke-linecap:butt;stroke-linejoin:round;}</style>\r\n </defs>\r\n <g id=\"figure_1\">\r\n  <g id=\"patch_1\">\r\n   <path d=\"M 0 261.19625 \r\nL 637.390625 261.19625 \r\nL 637.390625 0 \r\nL 0 0 \r\nz\r\n\" style=\"fill:none;\"/>\r\n  </g>\r\n  <g id=\"axes_1\">\r\n   <g id=\"patch_2\">\r\n    <path d=\"M 295.390625 224.64 \r\nL 630.190625 224.64 \r\nL 630.190625 7.2 \r\nL 295.390625 7.2 \r\nz\r\n\" style=\"fill:#ffffff;\"/>\r\n   </g>\r\n   <g id=\"patch_3\">\r\n    <path clip-path=\"url(#p8ba0ae368f)\" d=\"M 295.390625 219.204 \r\nL 614.247768 219.204 \r\nL 614.247768 208.332 \r\nL 295.390625 208.332 \r\nz\r\n\" style=\"fill:#1f77b4;\"/>\r\n   </g>\r\n   <g id=\"patch_4\">\r\n    <path clip-path=\"url(#p8ba0ae368f)\" d=\"M 295.390625 197.46 \r\nL 339.0823 197.46 \r\nL 339.0823 186.588 \r\nL 295.390625 186.588 \r\nz\r\n\" style=\"fill:#1f77b4;\"/>\r\n   </g>\r\n   <g id=\"patch_5\">\r\n    <path clip-path=\"url(#p8ba0ae368f)\" d=\"M 295.390625 175.716 \r\nL 330.945102 175.716 \r\nL 330.945102 164.844 \r\nL 295.390625 164.844 \r\nz\r\n\" style=\"fill:#1f77b4;\"/>\r\n   </g>\r\n   <g id=\"patch_6\">\r\n    <path clip-path=\"url(#p8ba0ae368f)\" d=\"M 295.390625 153.972 \r\nL 328.632808 153.972 \r\nL 328.632808 143.1 \r\nL 295.390625 143.1 \r\nz\r\n\" style=\"fill:#1f77b4;\"/>\r\n   </g>\r\n   <g id=\"patch_7\">\r\n    <path clip-path=\"url(#p8ba0ae368f)\" d=\"M 295.390625 132.228 \r\nL 325.111511 132.228 \r\nL 325.111511 121.356 \r\nL 295.390625 121.356 \r\nz\r\n\" style=\"fill:#1f77b4;\"/>\r\n   </g>\r\n   <g id=\"patch_8\">\r\n    <path clip-path=\"url(#p8ba0ae368f)\" d=\"M 295.390625 110.484 \r\nL 323.269913 110.484 \r\nL 323.269913 99.612 \r\nL 295.390625 99.612 \r\nz\r\n\" style=\"fill:#1f77b4;\"/>\r\n   </g>\r\n   <g id=\"patch_9\">\r\n    <path clip-path=\"url(#p8ba0ae368f)\" d=\"M 295.390625 88.74 \r\nL 318.30055 88.74 \r\nL 318.30055 77.868 \r\nL 295.390625 77.868 \r\nz\r\n\" style=\"fill:#1f77b4;\"/>\r\n   </g>\r\n   <g id=\"patch_10\">\r\n    <path clip-path=\"url(#p8ba0ae368f)\" d=\"M 295.390625 66.996 \r\nL 314.112189 66.996 \r\nL 314.112189 56.124 \r\nL 295.390625 56.124 \r\nz\r\n\" style=\"fill:#1f77b4;\"/>\r\n   </g>\r\n   <g id=\"patch_11\">\r\n    <path clip-path=\"url(#p8ba0ae368f)\" d=\"M 295.390625 45.252 \r\nL 312.650644 45.252 \r\nL 312.650644 34.38 \r\nL 295.390625 34.38 \r\nz\r\n\" style=\"fill:#1f77b4;\"/>\r\n   </g>\r\n   <g id=\"patch_12\">\r\n    <path clip-path=\"url(#p8ba0ae368f)\" d=\"M 295.390625 23.508 \r\nL 312.058648 23.508 \r\nL 312.058648 12.636 \r\nL 295.390625 12.636 \r\nz\r\n\" style=\"fill:#1f77b4;\"/>\r\n   </g>\r\n   <g id=\"matplotlib.axis_1\">\r\n    <g id=\"xtick_1\">\r\n     <g id=\"line2d_1\">\r\n      <defs>\r\n       <path d=\"M 0 0 \r\nL 0 3.5 \r\n\" id=\"m132eb552a2\" style=\"stroke:#000000;stroke-width:0.8;\"/>\r\n      </defs>\r\n      <g>\r\n       <use style=\"stroke:#000000;stroke-width:0.8;\" x=\"295.390625\" xlink:href=\"#m132eb552a2\" y=\"224.64\"/>\r\n      </g>\r\n     </g>\r\n     <g id=\"text_1\">\r\n      <!-- 0.00 -->\r\n      <g transform=\"translate(284.257812 239.238437)scale(0.1 -0.1)\">\r\n       <defs>\r\n        <path d=\"M 31.78125 66.40625 \r\nQ 24.171875 66.40625 20.328125 58.90625 \r\nQ 16.5 51.421875 16.5 36.375 \r\nQ 16.5 21.390625 20.328125 13.890625 \r\nQ 24.171875 6.390625 31.78125 6.390625 \r\nQ 39.453125 6.390625 43.28125 13.890625 \r\nQ 47.125 21.390625 47.125 36.375 \r\nQ 47.125 51.421875 43.28125 58.90625 \r\nQ 39.453125 66.40625 31.78125 66.40625 \r\nz\r\nM 31.78125 74.21875 \r\nQ 44.046875 74.21875 50.515625 64.515625 \r\nQ 56.984375 54.828125 56.984375 36.375 \r\nQ 56.984375 17.96875 50.515625 8.265625 \r\nQ 44.046875 -1.421875 31.78125 -1.421875 \r\nQ 19.53125 -1.421875 13.0625 8.265625 \r\nQ 6.59375 17.96875 6.59375 36.375 \r\nQ 6.59375 54.828125 13.0625 64.515625 \r\nQ 19.53125 74.21875 31.78125 74.21875 \r\nz\r\n\" id=\"DejaVuSans-48\"/>\r\n        <path d=\"M 10.6875 12.40625 \r\nL 21 12.40625 \r\nL 21 0 \r\nL 10.6875 0 \r\nz\r\n\" id=\"DejaVuSans-46\"/>\r\n       </defs>\r\n       <use xlink:href=\"#DejaVuSans-48\"/>\r\n       <use x=\"63.623047\" xlink:href=\"#DejaVuSans-46\"/>\r\n       <use x=\"95.410156\" xlink:href=\"#DejaVuSans-48\"/>\r\n       <use x=\"159.033203\" xlink:href=\"#DejaVuSans-48\"/>\r\n      </g>\r\n     </g>\r\n    </g>\r\n    <g id=\"xtick_2\">\r\n     <g id=\"line2d_2\">\r\n      <g>\r\n       <use style=\"stroke:#000000;stroke-width:0.8;\" x=\"341.510573\" xlink:href=\"#m132eb552a2\" y=\"224.64\"/>\r\n      </g>\r\n     </g>\r\n     <g id=\"text_2\">\r\n      <!-- 0.25 -->\r\n      <g transform=\"translate(330.377761 239.238437)scale(0.1 -0.1)\">\r\n       <defs>\r\n        <path d=\"M 19.1875 8.296875 \r\nL 53.609375 8.296875 \r\nL 53.609375 0 \r\nL 7.328125 0 \r\nL 7.328125 8.296875 \r\nQ 12.9375 14.109375 22.625 23.890625 \r\nQ 32.328125 33.6875 34.8125 36.53125 \r\nQ 39.546875 41.84375 41.421875 45.53125 \r\nQ 43.3125 49.21875 43.3125 52.78125 \r\nQ 43.3125 58.59375 39.234375 62.25 \r\nQ 35.15625 65.921875 28.609375 65.921875 \r\nQ 23.96875 65.921875 18.8125 64.3125 \r\nQ 13.671875 62.703125 7.8125 59.421875 \r\nL 7.8125 69.390625 \r\nQ 13.765625 71.78125 18.9375 73 \r\nQ 24.125 74.21875 28.421875 74.21875 \r\nQ 39.75 74.21875 46.484375 68.546875 \r\nQ 53.21875 62.890625 53.21875 53.421875 \r\nQ 53.21875 48.921875 51.53125 44.890625 \r\nQ 49.859375 40.875 45.40625 35.40625 \r\nQ 44.1875 33.984375 37.640625 27.21875 \r\nQ 31.109375 20.453125 19.1875 8.296875 \r\nz\r\n\" id=\"DejaVuSans-50\"/>\r\n        <path d=\"M 10.796875 72.90625 \r\nL 49.515625 72.90625 \r\nL 49.515625 64.59375 \r\nL 19.828125 64.59375 \r\nL 19.828125 46.734375 \r\nQ 21.96875 47.46875 24.109375 47.828125 \r\nQ 26.265625 48.1875 28.421875 48.1875 \r\nQ 40.625 48.1875 47.75 41.5 \r\nQ 54.890625 34.8125 54.890625 23.390625 \r\nQ 54.890625 11.625 47.5625 5.09375 \r\nQ 40.234375 -1.421875 26.90625 -1.421875 \r\nQ 22.3125 -1.421875 17.546875 -0.640625 \r\nQ 12.796875 0.140625 7.71875 1.703125 \r\nL 7.71875 11.625 \r\nQ 12.109375 9.234375 16.796875 8.0625 \r\nQ 21.484375 6.890625 26.703125 6.890625 \r\nQ 35.15625 6.890625 40.078125 11.328125 \r\nQ 45.015625 15.765625 45.015625 23.390625 \r\nQ 45.015625 31 40.078125 35.4375 \r\nQ 35.15625 39.890625 26.703125 39.890625 \r\nQ 22.75 39.890625 18.8125 39.015625 \r\nQ 14.890625 38.140625 10.796875 36.28125 \r\nz\r\n\" id=\"DejaVuSans-53\"/>\r\n       </defs>\r\n       <use xlink:href=\"#DejaVuSans-48\"/>\r\n       <use x=\"63.623047\" xlink:href=\"#DejaVuSans-46\"/>\r\n       <use x=\"95.410156\" xlink:href=\"#DejaVuSans-50\"/>\r\n       <use x=\"159.033203\" xlink:href=\"#DejaVuSans-53\"/>\r\n      </g>\r\n     </g>\r\n    </g>\r\n    <g id=\"xtick_3\">\r\n     <g id=\"line2d_3\">\r\n      <g>\r\n       <use style=\"stroke:#000000;stroke-width:0.8;\" x=\"387.630521\" xlink:href=\"#m132eb552a2\" y=\"224.64\"/>\r\n      </g>\r\n     </g>\r\n     <g id=\"text_3\">\r\n      <!-- 0.50 -->\r\n      <g transform=\"translate(376.497709 239.238437)scale(0.1 -0.1)\">\r\n       <use xlink:href=\"#DejaVuSans-48\"/>\r\n       <use x=\"63.623047\" xlink:href=\"#DejaVuSans-46\"/>\r\n       <use x=\"95.410156\" xlink:href=\"#DejaVuSans-53\"/>\r\n       <use x=\"159.033203\" xlink:href=\"#DejaVuSans-48\"/>\r\n      </g>\r\n     </g>\r\n    </g>\r\n    <g id=\"xtick_4\">\r\n     <g id=\"line2d_4\">\r\n      <g>\r\n       <use style=\"stroke:#000000;stroke-width:0.8;\" x=\"433.75047\" xlink:href=\"#m132eb552a2\" y=\"224.64\"/>\r\n      </g>\r\n     </g>\r\n     <g id=\"text_4\">\r\n      <!-- 0.75 -->\r\n      <g transform=\"translate(422.617657 239.238437)scale(0.1 -0.1)\">\r\n       <defs>\r\n        <path d=\"M 8.203125 72.90625 \r\nL 55.078125 72.90625 \r\nL 55.078125 68.703125 \r\nL 28.609375 0 \r\nL 18.3125 0 \r\nL 43.21875 64.59375 \r\nL 8.203125 64.59375 \r\nz\r\n\" id=\"DejaVuSans-55\"/>\r\n       </defs>\r\n       <use xlink:href=\"#DejaVuSans-48\"/>\r\n       <use x=\"63.623047\" xlink:href=\"#DejaVuSans-46\"/>\r\n       <use x=\"95.410156\" xlink:href=\"#DejaVuSans-55\"/>\r\n       <use x=\"159.033203\" xlink:href=\"#DejaVuSans-53\"/>\r\n      </g>\r\n     </g>\r\n    </g>\r\n    <g id=\"xtick_5\">\r\n     <g id=\"line2d_5\">\r\n      <g>\r\n       <use style=\"stroke:#000000;stroke-width:0.8;\" x=\"479.870418\" xlink:href=\"#m132eb552a2\" y=\"224.64\"/>\r\n      </g>\r\n     </g>\r\n     <g id=\"text_5\">\r\n      <!-- 1.00 -->\r\n      <g transform=\"translate(468.737605 239.238437)scale(0.1 -0.1)\">\r\n       <defs>\r\n        <path d=\"M 12.40625 8.296875 \r\nL 28.515625 8.296875 \r\nL 28.515625 63.921875 \r\nL 10.984375 60.40625 \r\nL 10.984375 69.390625 \r\nL 28.421875 72.90625 \r\nL 38.28125 72.90625 \r\nL 38.28125 8.296875 \r\nL 54.390625 8.296875 \r\nL 54.390625 0 \r\nL 12.40625 0 \r\nz\r\n\" id=\"DejaVuSans-49\"/>\r\n       </defs>\r\n       <use xlink:href=\"#DejaVuSans-49\"/>\r\n       <use x=\"63.623047\" xlink:href=\"#DejaVuSans-46\"/>\r\n       <use x=\"95.410156\" xlink:href=\"#DejaVuSans-48\"/>\r\n       <use x=\"159.033203\" xlink:href=\"#DejaVuSans-48\"/>\r\n      </g>\r\n     </g>\r\n    </g>\r\n    <g id=\"xtick_6\">\r\n     <g id=\"line2d_6\">\r\n      <g>\r\n       <use style=\"stroke:#000000;stroke-width:0.8;\" x=\"525.990366\" xlink:href=\"#m132eb552a2\" y=\"224.64\"/>\r\n      </g>\r\n     </g>\r\n     <g id=\"text_6\">\r\n      <!-- 1.25 -->\r\n      <g transform=\"translate(514.857553 239.238437)scale(0.1 -0.1)\">\r\n       <use xlink:href=\"#DejaVuSans-49\"/>\r\n       <use x=\"63.623047\" xlink:href=\"#DejaVuSans-46\"/>\r\n       <use x=\"95.410156\" xlink:href=\"#DejaVuSans-50\"/>\r\n       <use x=\"159.033203\" xlink:href=\"#DejaVuSans-53\"/>\r\n      </g>\r\n     </g>\r\n    </g>\r\n    <g id=\"xtick_7\">\r\n     <g id=\"line2d_7\">\r\n      <g>\r\n       <use style=\"stroke:#000000;stroke-width:0.8;\" x=\"572.110314\" xlink:href=\"#m132eb552a2\" y=\"224.64\"/>\r\n      </g>\r\n     </g>\r\n     <g id=\"text_7\">\r\n      <!-- 1.50 -->\r\n      <g transform=\"translate(560.977502 239.238437)scale(0.1 -0.1)\">\r\n       <use xlink:href=\"#DejaVuSans-49\"/>\r\n       <use x=\"63.623047\" xlink:href=\"#DejaVuSans-46\"/>\r\n       <use x=\"95.410156\" xlink:href=\"#DejaVuSans-53\"/>\r\n       <use x=\"159.033203\" xlink:href=\"#DejaVuSans-48\"/>\r\n      </g>\r\n     </g>\r\n    </g>\r\n    <g id=\"xtick_8\">\r\n     <g id=\"line2d_8\">\r\n      <g>\r\n       <use style=\"stroke:#000000;stroke-width:0.8;\" x=\"618.230262\" xlink:href=\"#m132eb552a2\" y=\"224.64\"/>\r\n      </g>\r\n     </g>\r\n     <g id=\"text_8\">\r\n      <!-- 1.75 -->\r\n      <g transform=\"translate(607.09745 239.238437)scale(0.1 -0.1)\">\r\n       <use xlink:href=\"#DejaVuSans-49\"/>\r\n       <use x=\"63.623047\" xlink:href=\"#DejaVuSans-46\"/>\r\n       <use x=\"95.410156\" xlink:href=\"#DejaVuSans-55\"/>\r\n       <use x=\"159.033203\" xlink:href=\"#DejaVuSans-53\"/>\r\n      </g>\r\n     </g>\r\n    </g>\r\n    <g id=\"text_9\">\r\n     <!-- 1e13 -->\r\n     <g transform=\"translate(604.95 251.916562)scale(0.1 -0.1)\">\r\n      <defs>\r\n       <path d=\"M 56.203125 29.59375 \r\nL 56.203125 25.203125 \r\nL 14.890625 25.203125 \r\nQ 15.484375 15.921875 20.484375 11.0625 \r\nQ 25.484375 6.203125 34.421875 6.203125 \r\nQ 39.59375 6.203125 44.453125 7.46875 \r\nQ 49.3125 8.734375 54.109375 11.28125 \r\nL 54.109375 2.78125 \r\nQ 49.265625 0.734375 44.1875 -0.34375 \r\nQ 39.109375 -1.421875 33.890625 -1.421875 \r\nQ 20.796875 -1.421875 13.15625 6.1875 \r\nQ 5.515625 13.8125 5.515625 26.8125 \r\nQ 5.515625 40.234375 12.765625 48.109375 \r\nQ 20.015625 56 32.328125 56 \r\nQ 43.359375 56 49.78125 48.890625 \r\nQ 56.203125 41.796875 56.203125 29.59375 \r\nz\r\nM 47.21875 32.234375 \r\nQ 47.125 39.59375 43.09375 43.984375 \r\nQ 39.0625 48.390625 32.421875 48.390625 \r\nQ 24.90625 48.390625 20.390625 44.140625 \r\nQ 15.875 39.890625 15.1875 32.171875 \r\nz\r\n\" id=\"DejaVuSans-101\"/>\r\n       <path d=\"M 40.578125 39.3125 \r\nQ 47.65625 37.796875 51.625 33 \r\nQ 55.609375 28.21875 55.609375 21.1875 \r\nQ 55.609375 10.40625 48.1875 4.484375 \r\nQ 40.765625 -1.421875 27.09375 -1.421875 \r\nQ 22.515625 -1.421875 17.65625 -0.515625 \r\nQ 12.796875 0.390625 7.625 2.203125 \r\nL 7.625 11.71875 \r\nQ 11.71875 9.328125 16.59375 8.109375 \r\nQ 21.484375 6.890625 26.8125 6.890625 \r\nQ 36.078125 6.890625 40.9375 10.546875 \r\nQ 45.796875 14.203125 45.796875 21.1875 \r\nQ 45.796875 27.640625 41.28125 31.265625 \r\nQ 36.765625 34.90625 28.71875 34.90625 \r\nL 20.21875 34.90625 \r\nL 20.21875 43.015625 \r\nL 29.109375 43.015625 \r\nQ 36.375 43.015625 40.234375 45.921875 \r\nQ 44.09375 48.828125 44.09375 54.296875 \r\nQ 44.09375 59.90625 40.109375 62.90625 \r\nQ 36.140625 65.921875 28.71875 65.921875 \r\nQ 24.65625 65.921875 20.015625 65.03125 \r\nQ 15.375 64.15625 9.8125 62.3125 \r\nL 9.8125 71.09375 \r\nQ 15.4375 72.65625 20.34375 73.4375 \r\nQ 25.25 74.21875 29.59375 74.21875 \r\nQ 40.828125 74.21875 47.359375 69.109375 \r\nQ 53.90625 64.015625 53.90625 55.328125 \r\nQ 53.90625 49.265625 50.4375 45.09375 \r\nQ 46.96875 40.921875 40.578125 39.3125 \r\nz\r\n\" id=\"DejaVuSans-51\"/>\r\n      </defs>\r\n      <use xlink:href=\"#DejaVuSans-49\"/>\r\n      <use x=\"63.623047\" xlink:href=\"#DejaVuSans-101\"/>\r\n      <use x=\"125.146484\" xlink:href=\"#DejaVuSans-49\"/>\r\n      <use x=\"188.769531\" xlink:href=\"#DejaVuSans-51\"/>\r\n     </g>\r\n    </g>\r\n   </g>\r\n   <g id=\"matplotlib.axis_2\">\r\n    <g id=\"ytick_1\">\r\n     <g id=\"line2d_9\">\r\n      <defs>\r\n       <path d=\"M 0 0 \r\nL -3.5 0 \r\n\" id=\"m5dcdb293b2\" style=\"stroke:#000000;stroke-width:0.8;\"/>\r\n      </defs>\r\n      <g>\r\n       <use style=\"stroke:#000000;stroke-width:0.8;\" x=\"295.390625\" xlink:href=\"#m5dcdb293b2\" y=\"213.768\"/>\r\n      </g>\r\n     </g>\r\n     <g id=\"text_10\">\r\n      <!-- United States of America -->\r\n      <g transform=\"translate(163.43125 217.567219)scale(0.1 -0.1)\">\r\n       <defs>\r\n        <path d=\"M 8.6875 72.90625 \r\nL 18.609375 72.90625 \r\nL 18.609375 28.609375 \r\nQ 18.609375 16.890625 22.84375 11.734375 \r\nQ 27.09375 6.59375 36.625 6.59375 \r\nQ 46.09375 6.59375 50.34375 11.734375 \r\nQ 54.59375 16.890625 54.59375 28.609375 \r\nL 54.59375 72.90625 \r\nL 64.5 72.90625 \r\nL 64.5 27.390625 \r\nQ 64.5 13.140625 57.4375 5.859375 \r\nQ 50.390625 -1.421875 36.625 -1.421875 \r\nQ 22.796875 -1.421875 15.734375 5.859375 \r\nQ 8.6875 13.140625 8.6875 27.390625 \r\nz\r\n\" id=\"DejaVuSans-85\"/>\r\n        <path d=\"M 54.890625 33.015625 \r\nL 54.890625 0 \r\nL 45.90625 0 \r\nL 45.90625 32.71875 \r\nQ 45.90625 40.484375 42.875 44.328125 \r\nQ 39.84375 48.1875 33.796875 48.1875 \r\nQ 26.515625 48.1875 22.3125 43.546875 \r\nQ 18.109375 38.921875 18.109375 30.90625 \r\nL 18.109375 0 \r\nL 9.078125 0 \r\nL 9.078125 54.6875 \r\nL 18.109375 54.6875 \r\nL 18.109375 46.1875 \r\nQ 21.34375 51.125 25.703125 53.5625 \r\nQ 30.078125 56 35.796875 56 \r\nQ 45.21875 56 50.046875 50.171875 \r\nQ 54.890625 44.34375 54.890625 33.015625 \r\nz\r\n\" id=\"DejaVuSans-110\"/>\r\n        <path d=\"M 9.421875 54.6875 \r\nL 18.40625 54.6875 \r\nL 18.40625 0 \r\nL 9.421875 0 \r\nz\r\nM 9.421875 75.984375 \r\nL 18.40625 75.984375 \r\nL 18.40625 64.59375 \r\nL 9.421875 64.59375 \r\nz\r\n\" id=\"DejaVuSans-105\"/>\r\n        <path d=\"M 18.3125 70.21875 \r\nL 18.3125 54.6875 \r\nL 36.8125 54.6875 \r\nL 36.8125 47.703125 \r\nL 18.3125 47.703125 \r\nL 18.3125 18.015625 \r\nQ 18.3125 11.328125 20.140625 9.421875 \r\nQ 21.96875 7.515625 27.59375 7.515625 \r\nL 36.8125 7.515625 \r\nL 36.8125 0 \r\nL 27.59375 0 \r\nQ 17.1875 0 13.234375 3.875 \r\nQ 9.28125 7.765625 9.28125 18.015625 \r\nL 9.28125 47.703125 \r\nL 2.6875 47.703125 \r\nL 2.6875 54.6875 \r\nL 9.28125 54.6875 \r\nL 9.28125 70.21875 \r\nz\r\n\" id=\"DejaVuSans-116\"/>\r\n        <path d=\"M 45.40625 46.390625 \r\nL 45.40625 75.984375 \r\nL 54.390625 75.984375 \r\nL 54.390625 0 \r\nL 45.40625 0 \r\nL 45.40625 8.203125 \r\nQ 42.578125 3.328125 38.25 0.953125 \r\nQ 33.9375 -1.421875 27.875 -1.421875 \r\nQ 17.96875 -1.421875 11.734375 6.484375 \r\nQ 5.515625 14.40625 5.515625 27.296875 \r\nQ 5.515625 40.1875 11.734375 48.09375 \r\nQ 17.96875 56 27.875 56 \r\nQ 33.9375 56 38.25 53.625 \r\nQ 42.578125 51.265625 45.40625 46.390625 \r\nz\r\nM 14.796875 27.296875 \r\nQ 14.796875 17.390625 18.875 11.75 \r\nQ 22.953125 6.109375 30.078125 6.109375 \r\nQ 37.203125 6.109375 41.296875 11.75 \r\nQ 45.40625 17.390625 45.40625 27.296875 \r\nQ 45.40625 37.203125 41.296875 42.84375 \r\nQ 37.203125 48.484375 30.078125 48.484375 \r\nQ 22.953125 48.484375 18.875 42.84375 \r\nQ 14.796875 37.203125 14.796875 27.296875 \r\nz\r\n\" id=\"DejaVuSans-100\"/>\r\n        <path id=\"DejaVuSans-32\"/>\r\n        <path d=\"M 53.515625 70.515625 \r\nL 53.515625 60.890625 \r\nQ 47.90625 63.578125 42.921875 64.890625 \r\nQ 37.9375 66.21875 33.296875 66.21875 \r\nQ 25.25 66.21875 20.875 63.09375 \r\nQ 16.5 59.96875 16.5 54.203125 \r\nQ 16.5 49.359375 19.40625 46.890625 \r\nQ 22.3125 44.4375 30.421875 42.921875 \r\nL 36.375 41.703125 \r\nQ 47.40625 39.59375 52.65625 34.296875 \r\nQ 57.90625 29 57.90625 20.125 \r\nQ 57.90625 9.515625 50.796875 4.046875 \r\nQ 43.703125 -1.421875 29.984375 -1.421875 \r\nQ 24.8125 -1.421875 18.96875 -0.25 \r\nQ 13.140625 0.921875 6.890625 3.21875 \r\nL 6.890625 13.375 \r\nQ 12.890625 10.015625 18.65625 8.296875 \r\nQ 24.421875 6.59375 29.984375 6.59375 \r\nQ 38.421875 6.59375 43.015625 9.90625 \r\nQ 47.609375 13.234375 47.609375 19.390625 \r\nQ 47.609375 24.75 44.3125 27.78125 \r\nQ 41.015625 30.8125 33.5 32.328125 \r\nL 27.484375 33.5 \r\nQ 16.453125 35.6875 11.515625 40.375 \r\nQ 6.59375 45.0625 6.59375 53.421875 \r\nQ 6.59375 63.09375 13.40625 68.65625 \r\nQ 20.21875 74.21875 32.171875 74.21875 \r\nQ 37.3125 74.21875 42.625 73.28125 \r\nQ 47.953125 72.359375 53.515625 70.515625 \r\nz\r\n\" id=\"DejaVuSans-83\"/>\r\n        <path d=\"M 34.28125 27.484375 \r\nQ 23.390625 27.484375 19.1875 25 \r\nQ 14.984375 22.515625 14.984375 16.5 \r\nQ 14.984375 11.71875 18.140625 8.90625 \r\nQ 21.296875 6.109375 26.703125 6.109375 \r\nQ 34.1875 6.109375 38.703125 11.40625 \r\nQ 43.21875 16.703125 43.21875 25.484375 \r\nL 43.21875 27.484375 \r\nz\r\nM 52.203125 31.203125 \r\nL 52.203125 0 \r\nL 43.21875 0 \r\nL 43.21875 8.296875 \r\nQ 40.140625 3.328125 35.546875 0.953125 \r\nQ 30.953125 -1.421875 24.3125 -1.421875 \r\nQ 15.921875 -1.421875 10.953125 3.296875 \r\nQ 6 8.015625 6 15.921875 \r\nQ 6 25.140625 12.171875 29.828125 \r\nQ 18.359375 34.515625 30.609375 34.515625 \r\nL 43.21875 34.515625 \r\nL 43.21875 35.40625 \r\nQ 43.21875 41.609375 39.140625 45 \r\nQ 35.0625 48.390625 27.6875 48.390625 \r\nQ 23 48.390625 18.546875 47.265625 \r\nQ 14.109375 46.140625 10.015625 43.890625 \r\nL 10.015625 52.203125 \r\nQ 14.9375 54.109375 19.578125 55.046875 \r\nQ 24.21875 56 28.609375 56 \r\nQ 40.484375 56 46.34375 49.84375 \r\nQ 52.203125 43.703125 52.203125 31.203125 \r\nz\r\n\" id=\"DejaVuSans-97\"/>\r\n        <path d=\"M 44.28125 53.078125 \r\nL 44.28125 44.578125 \r\nQ 40.484375 46.53125 36.375 47.5 \r\nQ 32.28125 48.484375 27.875 48.484375 \r\nQ 21.1875 48.484375 17.84375 46.4375 \r\nQ 14.5 44.390625 14.5 40.28125 \r\nQ 14.5 37.15625 16.890625 35.375 \r\nQ 19.28125 33.59375 26.515625 31.984375 \r\nL 29.59375 31.296875 \r\nQ 39.15625 29.25 43.1875 25.515625 \r\nQ 47.21875 21.78125 47.21875 15.09375 \r\nQ 47.21875 7.46875 41.1875 3.015625 \r\nQ 35.15625 -1.421875 24.609375 -1.421875 \r\nQ 20.21875 -1.421875 15.453125 -0.5625 \r\nQ 10.6875 0.296875 5.421875 2 \r\nL 5.421875 11.28125 \r\nQ 10.40625 8.6875 15.234375 7.390625 \r\nQ 20.0625 6.109375 24.8125 6.109375 \r\nQ 31.15625 6.109375 34.5625 8.28125 \r\nQ 37.984375 10.453125 37.984375 14.40625 \r\nQ 37.984375 18.0625 35.515625 20.015625 \r\nQ 33.0625 21.96875 24.703125 23.78125 \r\nL 21.578125 24.515625 \r\nQ 13.234375 26.265625 9.515625 29.90625 \r\nQ 5.8125 33.546875 5.8125 39.890625 \r\nQ 5.8125 47.609375 11.28125 51.796875 \r\nQ 16.75 56 26.8125 56 \r\nQ 31.78125 56 36.171875 55.265625 \r\nQ 40.578125 54.546875 44.28125 53.078125 \r\nz\r\n\" id=\"DejaVuSans-115\"/>\r\n        <path d=\"M 30.609375 48.390625 \r\nQ 23.390625 48.390625 19.1875 42.75 \r\nQ 14.984375 37.109375 14.984375 27.296875 \r\nQ 14.984375 17.484375 19.15625 11.84375 \r\nQ 23.34375 6.203125 30.609375 6.203125 \r\nQ 37.796875 6.203125 41.984375 11.859375 \r\nQ 46.1875 17.53125 46.1875 27.296875 \r\nQ 46.1875 37.015625 41.984375 42.703125 \r\nQ 37.796875 48.390625 30.609375 48.390625 \r\nz\r\nM 30.609375 56 \r\nQ 42.328125 56 49.015625 48.375 \r\nQ 55.71875 40.765625 55.71875 27.296875 \r\nQ 55.71875 13.875 49.015625 6.21875 \r\nQ 42.328125 -1.421875 30.609375 -1.421875 \r\nQ 18.84375 -1.421875 12.171875 6.21875 \r\nQ 5.515625 13.875 5.515625 27.296875 \r\nQ 5.515625 40.765625 12.171875 48.375 \r\nQ 18.84375 56 30.609375 56 \r\nz\r\n\" id=\"DejaVuSans-111\"/>\r\n        <path d=\"M 37.109375 75.984375 \r\nL 37.109375 68.5 \r\nL 28.515625 68.5 \r\nQ 23.6875 68.5 21.796875 66.546875 \r\nQ 19.921875 64.59375 19.921875 59.515625 \r\nL 19.921875 54.6875 \r\nL 34.71875 54.6875 \r\nL 34.71875 47.703125 \r\nL 19.921875 47.703125 \r\nL 19.921875 0 \r\nL 10.890625 0 \r\nL 10.890625 47.703125 \r\nL 2.296875 47.703125 \r\nL 2.296875 54.6875 \r\nL 10.890625 54.6875 \r\nL 10.890625 58.5 \r\nQ 10.890625 67.625 15.140625 71.796875 \r\nQ 19.390625 75.984375 28.609375 75.984375 \r\nz\r\n\" id=\"DejaVuSans-102\"/>\r\n        <path d=\"M 34.1875 63.1875 \r\nL 20.796875 26.90625 \r\nL 47.609375 26.90625 \r\nz\r\nM 28.609375 72.90625 \r\nL 39.796875 72.90625 \r\nL 67.578125 0 \r\nL 57.328125 0 \r\nL 50.6875 18.703125 \r\nL 17.828125 18.703125 \r\nL 11.1875 0 \r\nL 0.78125 0 \r\nz\r\n\" id=\"DejaVuSans-65\"/>\r\n        <path d=\"M 52 44.1875 \r\nQ 55.375 50.25 60.0625 53.125 \r\nQ 64.75 56 71.09375 56 \r\nQ 79.640625 56 84.28125 50.015625 \r\nQ 88.921875 44.046875 88.921875 33.015625 \r\nL 88.921875 0 \r\nL 79.890625 0 \r\nL 79.890625 32.71875 \r\nQ 79.890625 40.578125 77.09375 44.375 \r\nQ 74.3125 48.1875 68.609375 48.1875 \r\nQ 61.625 48.1875 57.5625 43.546875 \r\nQ 53.515625 38.921875 53.515625 30.90625 \r\nL 53.515625 0 \r\nL 44.484375 0 \r\nL 44.484375 32.71875 \r\nQ 44.484375 40.625 41.703125 44.40625 \r\nQ 38.921875 48.1875 33.109375 48.1875 \r\nQ 26.21875 48.1875 22.15625 43.53125 \r\nQ 18.109375 38.875 18.109375 30.90625 \r\nL 18.109375 0 \r\nL 9.078125 0 \r\nL 9.078125 54.6875 \r\nL 18.109375 54.6875 \r\nL 18.109375 46.1875 \r\nQ 21.1875 51.21875 25.484375 53.609375 \r\nQ 29.78125 56 35.6875 56 \r\nQ 41.65625 56 45.828125 52.96875 \r\nQ 50 49.953125 52 44.1875 \r\nz\r\n\" id=\"DejaVuSans-109\"/>\r\n        <path d=\"M 41.109375 46.296875 \r\nQ 39.59375 47.171875 37.8125 47.578125 \r\nQ 36.03125 48 33.890625 48 \r\nQ 26.265625 48 22.1875 43.046875 \r\nQ 18.109375 38.09375 18.109375 28.8125 \r\nL 18.109375 0 \r\nL 9.078125 0 \r\nL 9.078125 54.6875 \r\nL 18.109375 54.6875 \r\nL 18.109375 46.1875 \r\nQ 20.953125 51.171875 25.484375 53.578125 \r\nQ 30.03125 56 36.53125 56 \r\nQ 37.453125 56 38.578125 55.875 \r\nQ 39.703125 55.765625 41.0625 55.515625 \r\nz\r\n\" id=\"DejaVuSans-114\"/>\r\n        <path d=\"M 48.78125 52.59375 \r\nL 48.78125 44.1875 \r\nQ 44.96875 46.296875 41.140625 47.34375 \r\nQ 37.3125 48.390625 33.40625 48.390625 \r\nQ 24.65625 48.390625 19.8125 42.84375 \r\nQ 14.984375 37.3125 14.984375 27.296875 \r\nQ 14.984375 17.28125 19.8125 11.734375 \r\nQ 24.65625 6.203125 33.40625 6.203125 \r\nQ 37.3125 6.203125 41.140625 7.25 \r\nQ 44.96875 8.296875 48.78125 10.40625 \r\nL 48.78125 2.09375 \r\nQ 45.015625 0.34375 40.984375 -0.53125 \r\nQ 36.96875 -1.421875 32.421875 -1.421875 \r\nQ 20.0625 -1.421875 12.78125 6.34375 \r\nQ 5.515625 14.109375 5.515625 27.296875 \r\nQ 5.515625 40.671875 12.859375 48.328125 \r\nQ 20.21875 56 33.015625 56 \r\nQ 37.15625 56 41.109375 55.140625 \r\nQ 45.0625 54.296875 48.78125 52.59375 \r\nz\r\n\" id=\"DejaVuSans-99\"/>\r\n       </defs>\r\n       <use xlink:href=\"#DejaVuSans-85\"/>\r\n       <use x=\"73.193359\" xlink:href=\"#DejaVuSans-110\"/>\r\n       <use x=\"136.572266\" xlink:href=\"#DejaVuSans-105\"/>\r\n       <use x=\"164.355469\" xlink:href=\"#DejaVuSans-116\"/>\r\n       <use x=\"203.564453\" xlink:href=\"#DejaVuSans-101\"/>\r\n       <use x=\"265.087891\" xlink:href=\"#DejaVuSans-100\"/>\r\n       <use x=\"328.564453\" xlink:href=\"#DejaVuSans-32\"/>\r\n       <use x=\"360.351562\" xlink:href=\"#DejaVuSans-83\"/>\r\n       <use x=\"423.828125\" xlink:href=\"#DejaVuSans-116\"/>\r\n       <use x=\"463.037109\" xlink:href=\"#DejaVuSans-97\"/>\r\n       <use x=\"524.316406\" xlink:href=\"#DejaVuSans-116\"/>\r\n       <use x=\"563.525391\" xlink:href=\"#DejaVuSans-101\"/>\r\n       <use x=\"625.048828\" xlink:href=\"#DejaVuSans-115\"/>\r\n       <use x=\"677.148438\" xlink:href=\"#DejaVuSans-32\"/>\r\n       <use x=\"708.935547\" xlink:href=\"#DejaVuSans-111\"/>\r\n       <use x=\"770.117188\" xlink:href=\"#DejaVuSans-102\"/>\r\n       <use x=\"805.322266\" xlink:href=\"#DejaVuSans-32\"/>\r\n       <use x=\"837.109375\" xlink:href=\"#DejaVuSans-65\"/>\r\n       <use x=\"905.517578\" xlink:href=\"#DejaVuSans-109\"/>\r\n       <use x=\"1002.929688\" xlink:href=\"#DejaVuSans-101\"/>\r\n       <use x=\"1064.453125\" xlink:href=\"#DejaVuSans-114\"/>\r\n       <use x=\"1105.566406\" xlink:href=\"#DejaVuSans-105\"/>\r\n       <use x=\"1133.349609\" xlink:href=\"#DejaVuSans-99\"/>\r\n       <use x=\"1188.330078\" xlink:href=\"#DejaVuSans-97\"/>\r\n      </g>\r\n     </g>\r\n    </g>\r\n    <g id=\"ytick_2\">\r\n     <g id=\"line2d_10\">\r\n      <g>\r\n       <use style=\"stroke:#000000;stroke-width:0.8;\" x=\"295.390625\" xlink:href=\"#m5dcdb293b2\" y=\"192.024\"/>\r\n      </g>\r\n     </g>\r\n     <g id=\"text_11\">\r\n      <!-- China -->\r\n      <g transform=\"translate(259.826563 195.823219)scale(0.1 -0.1)\">\r\n       <defs>\r\n        <path d=\"M 64.40625 67.28125 \r\nL 64.40625 56.890625 \r\nQ 59.421875 61.53125 53.78125 63.8125 \r\nQ 48.140625 66.109375 41.796875 66.109375 \r\nQ 29.296875 66.109375 22.65625 58.46875 \r\nQ 16.015625 50.828125 16.015625 36.375 \r\nQ 16.015625 21.96875 22.65625 14.328125 \r\nQ 29.296875 6.6875 41.796875 6.6875 \r\nQ 48.140625 6.6875 53.78125 8.984375 \r\nQ 59.421875 11.28125 64.40625 15.921875 \r\nL 64.40625 5.609375 \r\nQ 59.234375 2.09375 53.4375 0.328125 \r\nQ 47.65625 -1.421875 41.21875 -1.421875 \r\nQ 24.65625 -1.421875 15.125 8.703125 \r\nQ 5.609375 18.84375 5.609375 36.375 \r\nQ 5.609375 53.953125 15.125 64.078125 \r\nQ 24.65625 74.21875 41.21875 74.21875 \r\nQ 47.75 74.21875 53.53125 72.484375 \r\nQ 59.328125 70.75 64.40625 67.28125 \r\nz\r\n\" id=\"DejaVuSans-67\"/>\r\n        <path d=\"M 54.890625 33.015625 \r\nL 54.890625 0 \r\nL 45.90625 0 \r\nL 45.90625 32.71875 \r\nQ 45.90625 40.484375 42.875 44.328125 \r\nQ 39.84375 48.1875 33.796875 48.1875 \r\nQ 26.515625 48.1875 22.3125 43.546875 \r\nQ 18.109375 38.921875 18.109375 30.90625 \r\nL 18.109375 0 \r\nL 9.078125 0 \r\nL 9.078125 75.984375 \r\nL 18.109375 75.984375 \r\nL 18.109375 46.1875 \r\nQ 21.34375 51.125 25.703125 53.5625 \r\nQ 30.078125 56 35.796875 56 \r\nQ 45.21875 56 50.046875 50.171875 \r\nQ 54.890625 44.34375 54.890625 33.015625 \r\nz\r\n\" id=\"DejaVuSans-104\"/>\r\n       </defs>\r\n       <use xlink:href=\"#DejaVuSans-67\"/>\r\n       <use x=\"69.824219\" xlink:href=\"#DejaVuSans-104\"/>\r\n       <use x=\"133.203125\" xlink:href=\"#DejaVuSans-105\"/>\r\n       <use x=\"160.986328\" xlink:href=\"#DejaVuSans-110\"/>\r\n       <use x=\"224.365234\" xlink:href=\"#DejaVuSans-97\"/>\r\n      </g>\r\n     </g>\r\n    </g>\r\n    <g id=\"ytick_3\">\r\n     <g id=\"line2d_11\">\r\n      <g>\r\n       <use style=\"stroke:#000000;stroke-width:0.8;\" x=\"295.390625\" xlink:href=\"#m5dcdb293b2\" y=\"170.28\"/>\r\n      </g>\r\n     </g>\r\n     <g id=\"text_12\">\r\n      <!-- France -->\r\n      <g transform=\"translate(255.135938 174.079219)scale(0.1 -0.1)\">\r\n       <defs>\r\n        <path d=\"M 9.8125 72.90625 \r\nL 51.703125 72.90625 \r\nL 51.703125 64.59375 \r\nL 19.671875 64.59375 \r\nL 19.671875 43.109375 \r\nL 48.578125 43.109375 \r\nL 48.578125 34.8125 \r\nL 19.671875 34.8125 \r\nL 19.671875 0 \r\nL 9.8125 0 \r\nz\r\n\" id=\"DejaVuSans-70\"/>\r\n       </defs>\r\n       <use xlink:href=\"#DejaVuSans-70\"/>\r\n       <use x=\"50.269531\" xlink:href=\"#DejaVuSans-114\"/>\r\n       <use x=\"91.382812\" xlink:href=\"#DejaVuSans-97\"/>\r\n       <use x=\"152.662109\" xlink:href=\"#DejaVuSans-110\"/>\r\n       <use x=\"216.041016\" xlink:href=\"#DejaVuSans-99\"/>\r\n       <use x=\"271.021484\" xlink:href=\"#DejaVuSans-101\"/>\r\n      </g>\r\n     </g>\r\n    </g>\r\n    <g id=\"ytick_4\">\r\n     <g id=\"line2d_12\">\r\n      <g>\r\n       <use style=\"stroke:#000000;stroke-width:0.8;\" x=\"295.390625\" xlink:href=\"#m5dcdb293b2\" y=\"148.536\"/>\r\n      </g>\r\n     </g>\r\n     <g id=\"text_13\">\r\n      <!-- United Kingdom of Great Britain and Northern Ireland -->\r\n      <g transform=\"translate(20.878125 152.335219)scale(0.1 -0.1)\">\r\n       <defs>\r\n        <path d=\"M 9.8125 72.90625 \r\nL 19.671875 72.90625 \r\nL 19.671875 42.09375 \r\nL 52.390625 72.90625 \r\nL 65.09375 72.90625 \r\nL 28.90625 38.921875 \r\nL 67.671875 0 \r\nL 54.6875 0 \r\nL 19.671875 35.109375 \r\nL 19.671875 0 \r\nL 9.8125 0 \r\nz\r\n\" id=\"DejaVuSans-75\"/>\r\n        <path d=\"M 45.40625 27.984375 \r\nQ 45.40625 37.75 41.375 43.109375 \r\nQ 37.359375 48.484375 30.078125 48.484375 \r\nQ 22.859375 48.484375 18.828125 43.109375 \r\nQ 14.796875 37.75 14.796875 27.984375 \r\nQ 14.796875 18.265625 18.828125 12.890625 \r\nQ 22.859375 7.515625 30.078125 7.515625 \r\nQ 37.359375 7.515625 41.375 12.890625 \r\nQ 45.40625 18.265625 45.40625 27.984375 \r\nz\r\nM 54.390625 6.78125 \r\nQ 54.390625 -7.171875 48.1875 -13.984375 \r\nQ 42 -20.796875 29.203125 -20.796875 \r\nQ 24.46875 -20.796875 20.265625 -20.09375 \r\nQ 16.0625 -19.390625 12.109375 -17.921875 \r\nL 12.109375 -9.1875 \r\nQ 16.0625 -11.328125 19.921875 -12.34375 \r\nQ 23.78125 -13.375 27.78125 -13.375 \r\nQ 36.625 -13.375 41.015625 -8.765625 \r\nQ 45.40625 -4.15625 45.40625 5.171875 \r\nL 45.40625 9.625 \r\nQ 42.625 4.78125 38.28125 2.390625 \r\nQ 33.9375 0 27.875 0 \r\nQ 17.828125 0 11.671875 7.65625 \r\nQ 5.515625 15.328125 5.515625 27.984375 \r\nQ 5.515625 40.671875 11.671875 48.328125 \r\nQ 17.828125 56 27.875 56 \r\nQ 33.9375 56 38.28125 53.609375 \r\nQ 42.625 51.21875 45.40625 46.390625 \r\nL 45.40625 54.6875 \r\nL 54.390625 54.6875 \r\nz\r\n\" id=\"DejaVuSans-103\"/>\r\n        <path d=\"M 59.515625 10.40625 \r\nL 59.515625 29.984375 \r\nL 43.40625 29.984375 \r\nL 43.40625 38.09375 \r\nL 69.28125 38.09375 \r\nL 69.28125 6.78125 \r\nQ 63.578125 2.734375 56.6875 0.65625 \r\nQ 49.8125 -1.421875 42 -1.421875 \r\nQ 24.90625 -1.421875 15.25 8.5625 \r\nQ 5.609375 18.5625 5.609375 36.375 \r\nQ 5.609375 54.25 15.25 64.234375 \r\nQ 24.90625 74.21875 42 74.21875 \r\nQ 49.125 74.21875 55.546875 72.453125 \r\nQ 61.96875 70.703125 67.390625 67.28125 \r\nL 67.390625 56.78125 \r\nQ 61.921875 61.421875 55.765625 63.765625 \r\nQ 49.609375 66.109375 42.828125 66.109375 \r\nQ 29.4375 66.109375 22.71875 58.640625 \r\nQ 16.015625 51.171875 16.015625 36.375 \r\nQ 16.015625 21.625 22.71875 14.15625 \r\nQ 29.4375 6.6875 42.828125 6.6875 \r\nQ 48.046875 6.6875 52.140625 7.59375 \r\nQ 56.25 8.5 59.515625 10.40625 \r\nz\r\n\" id=\"DejaVuSans-71\"/>\r\n        <path d=\"M 19.671875 34.8125 \r\nL 19.671875 8.109375 \r\nL 35.5 8.109375 \r\nQ 43.453125 8.109375 47.28125 11.40625 \r\nQ 51.125 14.703125 51.125 21.484375 \r\nQ 51.125 28.328125 47.28125 31.5625 \r\nQ 43.453125 34.8125 35.5 34.8125 \r\nz\r\nM 19.671875 64.796875 \r\nL 19.671875 42.828125 \r\nL 34.28125 42.828125 \r\nQ 41.5 42.828125 45.03125 45.53125 \r\nQ 48.578125 48.25 48.578125 53.8125 \r\nQ 48.578125 59.328125 45.03125 62.0625 \r\nQ 41.5 64.796875 34.28125 64.796875 \r\nz\r\nM 9.8125 72.90625 \r\nL 35.015625 72.90625 \r\nQ 46.296875 72.90625 52.390625 68.21875 \r\nQ 58.5 63.53125 58.5 54.890625 \r\nQ 58.5 48.1875 55.375 44.234375 \r\nQ 52.25 40.28125 46.1875 39.3125 \r\nQ 53.46875 37.75 57.5 32.78125 \r\nQ 61.53125 27.828125 61.53125 20.40625 \r\nQ 61.53125 10.640625 54.890625 5.3125 \r\nQ 48.25 0 35.984375 0 \r\nL 9.8125 0 \r\nz\r\n\" id=\"DejaVuSans-66\"/>\r\n        <path d=\"M 9.8125 72.90625 \r\nL 23.09375 72.90625 \r\nL 55.421875 11.921875 \r\nL 55.421875 72.90625 \r\nL 64.984375 72.90625 \r\nL 64.984375 0 \r\nL 51.703125 0 \r\nL 19.390625 60.984375 \r\nL 19.390625 0 \r\nL 9.8125 0 \r\nz\r\n\" id=\"DejaVuSans-78\"/>\r\n        <path d=\"M 9.8125 72.90625 \r\nL 19.671875 72.90625 \r\nL 19.671875 0 \r\nL 9.8125 0 \r\nz\r\n\" id=\"DejaVuSans-73\"/>\r\n        <path d=\"M 9.421875 75.984375 \r\nL 18.40625 75.984375 \r\nL 18.40625 0 \r\nL 9.421875 0 \r\nz\r\n\" id=\"DejaVuSans-108\"/>\r\n       </defs>\r\n       <use xlink:href=\"#DejaVuSans-85\"/>\r\n       <use x=\"73.193359\" xlink:href=\"#DejaVuSans-110\"/>\r\n       <use x=\"136.572266\" xlink:href=\"#DejaVuSans-105\"/>\r\n       <use x=\"164.355469\" xlink:href=\"#DejaVuSans-116\"/>\r\n       <use x=\"203.564453\" xlink:href=\"#DejaVuSans-101\"/>\r\n       <use x=\"265.087891\" xlink:href=\"#DejaVuSans-100\"/>\r\n       <use x=\"328.564453\" xlink:href=\"#DejaVuSans-32\"/>\r\n       <use x=\"360.351562\" xlink:href=\"#DejaVuSans-75\"/>\r\n       <use x=\"425.927734\" xlink:href=\"#DejaVuSans-105\"/>\r\n       <use x=\"453.710938\" xlink:href=\"#DejaVuSans-110\"/>\r\n       <use x=\"517.089844\" xlink:href=\"#DejaVuSans-103\"/>\r\n       <use x=\"580.566406\" xlink:href=\"#DejaVuSans-100\"/>\r\n       <use x=\"644.042969\" xlink:href=\"#DejaVuSans-111\"/>\r\n       <use x=\"705.224609\" xlink:href=\"#DejaVuSans-109\"/>\r\n       <use x=\"802.636719\" xlink:href=\"#DejaVuSans-32\"/>\r\n       <use x=\"834.423828\" xlink:href=\"#DejaVuSans-111\"/>\r\n       <use x=\"895.605469\" xlink:href=\"#DejaVuSans-102\"/>\r\n       <use x=\"930.810547\" xlink:href=\"#DejaVuSans-32\"/>\r\n       <use x=\"962.597656\" xlink:href=\"#DejaVuSans-71\"/>\r\n       <use x=\"1040.087891\" xlink:href=\"#DejaVuSans-114\"/>\r\n       <use x=\"1078.951172\" xlink:href=\"#DejaVuSans-101\"/>\r\n       <use x=\"1140.474609\" xlink:href=\"#DejaVuSans-97\"/>\r\n       <use x=\"1201.753906\" xlink:href=\"#DejaVuSans-116\"/>\r\n       <use x=\"1240.962891\" xlink:href=\"#DejaVuSans-32\"/>\r\n       <use x=\"1272.75\" xlink:href=\"#DejaVuSans-66\"/>\r\n       <use x=\"1341.353516\" xlink:href=\"#DejaVuSans-114\"/>\r\n       <use x=\"1382.466797\" xlink:href=\"#DejaVuSans-105\"/>\r\n       <use x=\"1410.25\" xlink:href=\"#DejaVuSans-116\"/>\r\n       <use x=\"1449.458984\" xlink:href=\"#DejaVuSans-97\"/>\r\n       <use x=\"1510.738281\" xlink:href=\"#DejaVuSans-105\"/>\r\n       <use x=\"1538.521484\" xlink:href=\"#DejaVuSans-110\"/>\r\n       <use x=\"1601.900391\" xlink:href=\"#DejaVuSans-32\"/>\r\n       <use x=\"1633.6875\" xlink:href=\"#DejaVuSans-97\"/>\r\n       <use x=\"1694.966797\" xlink:href=\"#DejaVuSans-110\"/>\r\n       <use x=\"1758.345703\" xlink:href=\"#DejaVuSans-100\"/>\r\n       <use x=\"1821.822266\" xlink:href=\"#DejaVuSans-32\"/>\r\n       <use x=\"1853.609375\" xlink:href=\"#DejaVuSans-78\"/>\r\n       <use x=\"1928.414062\" xlink:href=\"#DejaVuSans-111\"/>\r\n       <use x=\"1989.595703\" xlink:href=\"#DejaVuSans-114\"/>\r\n       <use x=\"2030.708984\" xlink:href=\"#DejaVuSans-116\"/>\r\n       <use x=\"2069.917969\" xlink:href=\"#DejaVuSans-104\"/>\r\n       <use x=\"2133.296875\" xlink:href=\"#DejaVuSans-101\"/>\r\n       <use x=\"2194.820312\" xlink:href=\"#DejaVuSans-114\"/>\r\n       <use x=\"2234.183594\" xlink:href=\"#DejaVuSans-110\"/>\r\n       <use x=\"2297.5625\" xlink:href=\"#DejaVuSans-32\"/>\r\n       <use x=\"2329.349609\" xlink:href=\"#DejaVuSans-73\"/>\r\n       <use x=\"2358.841797\" xlink:href=\"#DejaVuSans-114\"/>\r\n       <use x=\"2397.705078\" xlink:href=\"#DejaVuSans-101\"/>\r\n       <use x=\"2459.228516\" xlink:href=\"#DejaVuSans-108\"/>\r\n       <use x=\"2487.011719\" xlink:href=\"#DejaVuSans-97\"/>\r\n       <use x=\"2548.291016\" xlink:href=\"#DejaVuSans-110\"/>\r\n       <use x=\"2611.669922\" xlink:href=\"#DejaVuSans-100\"/>\r\n      </g>\r\n     </g>\r\n    </g>\r\n    <g id=\"ytick_5\">\r\n     <g id=\"line2d_13\">\r\n      <g>\r\n       <use style=\"stroke:#000000;stroke-width:0.8;\" x=\"295.390625\" xlink:href=\"#m5dcdb293b2\" y=\"126.792\"/>\r\n      </g>\r\n     </g>\r\n     <g id=\"text_14\">\r\n      <!-- Germany -->\r\n      <g transform=\"translate(242.428125 130.591219)scale(0.1 -0.1)\">\r\n       <defs>\r\n        <path d=\"M 32.171875 -5.078125 \r\nQ 28.375 -14.84375 24.75 -17.8125 \r\nQ 21.140625 -20.796875 15.09375 -20.796875 \r\nL 7.90625 -20.796875 \r\nL 7.90625 -13.28125 \r\nL 13.1875 -13.28125 \r\nQ 16.890625 -13.28125 18.9375 -11.515625 \r\nQ 21 -9.765625 23.484375 -3.21875 \r\nL 25.09375 0.875 \r\nL 2.984375 54.6875 \r\nL 12.5 54.6875 \r\nL 29.59375 11.921875 \r\nL 46.6875 54.6875 \r\nL 56.203125 54.6875 \r\nz\r\n\" id=\"DejaVuSans-121\"/>\r\n       </defs>\r\n       <use xlink:href=\"#DejaVuSans-71\"/>\r\n       <use x=\"77.490234\" xlink:href=\"#DejaVuSans-101\"/>\r\n       <use x=\"139.013672\" xlink:href=\"#DejaVuSans-114\"/>\r\n       <use x=\"178.376953\" xlink:href=\"#DejaVuSans-109\"/>\r\n       <use x=\"275.789062\" xlink:href=\"#DejaVuSans-97\"/>\r\n       <use x=\"337.068359\" xlink:href=\"#DejaVuSans-110\"/>\r\n       <use x=\"400.447266\" xlink:href=\"#DejaVuSans-121\"/>\r\n      </g>\r\n     </g>\r\n    </g>\r\n    <g id=\"ytick_6\">\r\n     <g id=\"line2d_14\">\r\n      <g>\r\n       <use style=\"stroke:#000000;stroke-width:0.8;\" x=\"295.390625\" xlink:href=\"#m5dcdb293b2\" y=\"105.048\"/>\r\n      </g>\r\n     </g>\r\n     <g id=\"text_15\">\r\n      <!-- Japan -->\r\n      <g transform=\"translate(260.498438 108.847219)scale(0.1 -0.1)\">\r\n       <defs>\r\n        <path d=\"M 9.8125 72.90625 \r\nL 19.671875 72.90625 \r\nL 19.671875 5.078125 \r\nQ 19.671875 -8.109375 14.671875 -14.0625 \r\nQ 9.671875 -20.015625 -1.421875 -20.015625 \r\nL -5.171875 -20.015625 \r\nL -5.171875 -11.71875 \r\nL -2.09375 -11.71875 \r\nQ 4.4375 -11.71875 7.125 -8.046875 \r\nQ 9.8125 -4.390625 9.8125 5.078125 \r\nz\r\n\" id=\"DejaVuSans-74\"/>\r\n        <path d=\"M 18.109375 8.203125 \r\nL 18.109375 -20.796875 \r\nL 9.078125 -20.796875 \r\nL 9.078125 54.6875 \r\nL 18.109375 54.6875 \r\nL 18.109375 46.390625 \r\nQ 20.953125 51.265625 25.265625 53.625 \r\nQ 29.59375 56 35.59375 56 \r\nQ 45.5625 56 51.78125 48.09375 \r\nQ 58.015625 40.1875 58.015625 27.296875 \r\nQ 58.015625 14.40625 51.78125 6.484375 \r\nQ 45.5625 -1.421875 35.59375 -1.421875 \r\nQ 29.59375 -1.421875 25.265625 0.953125 \r\nQ 20.953125 3.328125 18.109375 8.203125 \r\nz\r\nM 48.6875 27.296875 \r\nQ 48.6875 37.203125 44.609375 42.84375 \r\nQ 40.53125 48.484375 33.40625 48.484375 \r\nQ 26.265625 48.484375 22.1875 42.84375 \r\nQ 18.109375 37.203125 18.109375 27.296875 \r\nQ 18.109375 17.390625 22.1875 11.75 \r\nQ 26.265625 6.109375 33.40625 6.109375 \r\nQ 40.53125 6.109375 44.609375 11.75 \r\nQ 48.6875 17.390625 48.6875 27.296875 \r\nz\r\n\" id=\"DejaVuSans-112\"/>\r\n       </defs>\r\n       <use xlink:href=\"#DejaVuSans-74\"/>\r\n       <use x=\"29.492188\" xlink:href=\"#DejaVuSans-97\"/>\r\n       <use x=\"90.771484\" xlink:href=\"#DejaVuSans-112\"/>\r\n       <use x=\"154.248047\" xlink:href=\"#DejaVuSans-97\"/>\r\n       <use x=\"215.527344\" xlink:href=\"#DejaVuSans-110\"/>\r\n      </g>\r\n     </g>\r\n    </g>\r\n    <g id=\"ytick_7\">\r\n     <g id=\"line2d_15\">\r\n      <g>\r\n       <use style=\"stroke:#000000;stroke-width:0.8;\" x=\"295.390625\" xlink:href=\"#m5dcdb293b2\" y=\"83.304\"/>\r\n      </g>\r\n     </g>\r\n     <g id=\"text_16\">\r\n      <!-- Saudi Arabia -->\r\n      <g transform=\"translate(224.9375 87.103219)scale(0.1 -0.1)\">\r\n       <defs>\r\n        <path d=\"M 8.5 21.578125 \r\nL 8.5 54.6875 \r\nL 17.484375 54.6875 \r\nL 17.484375 21.921875 \r\nQ 17.484375 14.15625 20.5 10.265625 \r\nQ 23.53125 6.390625 29.59375 6.390625 \r\nQ 36.859375 6.390625 41.078125 11.03125 \r\nQ 45.3125 15.671875 45.3125 23.6875 \r\nL 45.3125 54.6875 \r\nL 54.296875 54.6875 \r\nL 54.296875 0 \r\nL 45.3125 0 \r\nL 45.3125 8.40625 \r\nQ 42.046875 3.421875 37.71875 1 \r\nQ 33.40625 -1.421875 27.6875 -1.421875 \r\nQ 18.265625 -1.421875 13.375 4.4375 \r\nQ 8.5 10.296875 8.5 21.578125 \r\nz\r\nM 31.109375 56 \r\nz\r\n\" id=\"DejaVuSans-117\"/>\r\n        <path d=\"M 48.6875 27.296875 \r\nQ 48.6875 37.203125 44.609375 42.84375 \r\nQ 40.53125 48.484375 33.40625 48.484375 \r\nQ 26.265625 48.484375 22.1875 42.84375 \r\nQ 18.109375 37.203125 18.109375 27.296875 \r\nQ 18.109375 17.390625 22.1875 11.75 \r\nQ 26.265625 6.109375 33.40625 6.109375 \r\nQ 40.53125 6.109375 44.609375 11.75 \r\nQ 48.6875 17.390625 48.6875 27.296875 \r\nz\r\nM 18.109375 46.390625 \r\nQ 20.953125 51.265625 25.265625 53.625 \r\nQ 29.59375 56 35.59375 56 \r\nQ 45.5625 56 51.78125 48.09375 \r\nQ 58.015625 40.1875 58.015625 27.296875 \r\nQ 58.015625 14.40625 51.78125 6.484375 \r\nQ 45.5625 -1.421875 35.59375 -1.421875 \r\nQ 29.59375 -1.421875 25.265625 0.953125 \r\nQ 20.953125 3.328125 18.109375 8.203125 \r\nL 18.109375 0 \r\nL 9.078125 0 \r\nL 9.078125 75.984375 \r\nL 18.109375 75.984375 \r\nz\r\n\" id=\"DejaVuSans-98\"/>\r\n       </defs>\r\n       <use xlink:href=\"#DejaVuSans-83\"/>\r\n       <use x=\"63.476562\" xlink:href=\"#DejaVuSans-97\"/>\r\n       <use x=\"124.755859\" xlink:href=\"#DejaVuSans-117\"/>\r\n       <use x=\"188.134766\" xlink:href=\"#DejaVuSans-100\"/>\r\n       <use x=\"251.611328\" xlink:href=\"#DejaVuSans-105\"/>\r\n       <use x=\"279.394531\" xlink:href=\"#DejaVuSans-32\"/>\r\n       <use x=\"311.181641\" xlink:href=\"#DejaVuSans-65\"/>\r\n       <use x=\"379.589844\" xlink:href=\"#DejaVuSans-114\"/>\r\n       <use x=\"420.703125\" xlink:href=\"#DejaVuSans-97\"/>\r\n       <use x=\"481.982422\" xlink:href=\"#DejaVuSans-98\"/>\r\n       <use x=\"545.458984\" xlink:href=\"#DejaVuSans-105\"/>\r\n       <use x=\"573.242188\" xlink:href=\"#DejaVuSans-97\"/>\r\n      </g>\r\n     </g>\r\n    </g>\r\n    <g id=\"ytick_8\">\r\n     <g id=\"line2d_16\">\r\n      <g>\r\n       <use style=\"stroke:#000000;stroke-width:0.8;\" x=\"295.390625\" xlink:href=\"#m5dcdb293b2\" y=\"61.56\"/>\r\n      </g>\r\n     </g>\r\n     <g id=\"text_17\">\r\n      <!-- Russian Federation -->\r\n      <g transform=\"translate(193.464063 65.359219)scale(0.1 -0.1)\">\r\n       <defs>\r\n        <path d=\"M 44.390625 34.1875 \r\nQ 47.5625 33.109375 50.5625 29.59375 \r\nQ 53.5625 26.078125 56.59375 19.921875 \r\nL 66.609375 0 \r\nL 56 0 \r\nL 46.6875 18.703125 \r\nQ 43.0625 26.03125 39.671875 28.421875 \r\nQ 36.28125 30.8125 30.421875 30.8125 \r\nL 19.671875 30.8125 \r\nL 19.671875 0 \r\nL 9.8125 0 \r\nL 9.8125 72.90625 \r\nL 32.078125 72.90625 \r\nQ 44.578125 72.90625 50.734375 67.671875 \r\nQ 56.890625 62.453125 56.890625 51.90625 \r\nQ 56.890625 45.015625 53.6875 40.46875 \r\nQ 50.484375 35.9375 44.390625 34.1875 \r\nz\r\nM 19.671875 64.796875 \r\nL 19.671875 38.921875 \r\nL 32.078125 38.921875 \r\nQ 39.203125 38.921875 42.84375 42.21875 \r\nQ 46.484375 45.515625 46.484375 51.90625 \r\nQ 46.484375 58.296875 42.84375 61.546875 \r\nQ 39.203125 64.796875 32.078125 64.796875 \r\nz\r\n\" id=\"DejaVuSans-82\"/>\r\n       </defs>\r\n       <use xlink:href=\"#DejaVuSans-82\"/>\r\n       <use x=\"64.982422\" xlink:href=\"#DejaVuSans-117\"/>\r\n       <use x=\"128.361328\" xlink:href=\"#DejaVuSans-115\"/>\r\n       <use x=\"180.460938\" xlink:href=\"#DejaVuSans-115\"/>\r\n       <use x=\"232.560547\" xlink:href=\"#DejaVuSans-105\"/>\r\n       <use x=\"260.34375\" xlink:href=\"#DejaVuSans-97\"/>\r\n       <use x=\"321.623047\" xlink:href=\"#DejaVuSans-110\"/>\r\n       <use x=\"385.001953\" xlink:href=\"#DejaVuSans-32\"/>\r\n       <use x=\"416.789062\" xlink:href=\"#DejaVuSans-70\"/>\r\n       <use x=\"468.808594\" xlink:href=\"#DejaVuSans-101\"/>\r\n       <use x=\"530.332031\" xlink:href=\"#DejaVuSans-100\"/>\r\n       <use x=\"593.808594\" xlink:href=\"#DejaVuSans-101\"/>\r\n       <use x=\"655.332031\" xlink:href=\"#DejaVuSans-114\"/>\r\n       <use x=\"696.445312\" xlink:href=\"#DejaVuSans-97\"/>\r\n       <use x=\"757.724609\" xlink:href=\"#DejaVuSans-116\"/>\r\n       <use x=\"796.933594\" xlink:href=\"#DejaVuSans-105\"/>\r\n       <use x=\"824.716797\" xlink:href=\"#DejaVuSans-111\"/>\r\n       <use x=\"885.898438\" xlink:href=\"#DejaVuSans-110\"/>\r\n      </g>\r\n     </g>\r\n    </g>\r\n    <g id=\"ytick_9\">\r\n     <g id=\"line2d_17\">\r\n      <g>\r\n       <use style=\"stroke:#000000;stroke-width:0.8;\" x=\"295.390625\" xlink:href=\"#m5dcdb293b2\" y=\"39.816\"/>\r\n      </g>\r\n     </g>\r\n     <g id=\"text_18\">\r\n      <!-- India -->\r\n      <g transform=\"translate(263.848437 43.615219)scale(0.1 -0.1)\">\r\n       <use xlink:href=\"#DejaVuSans-73\"/>\r\n       <use x=\"29.492188\" xlink:href=\"#DejaVuSans-110\"/>\r\n       <use x=\"92.871094\" xlink:href=\"#DejaVuSans-100\"/>\r\n       <use x=\"156.347656\" xlink:href=\"#DejaVuSans-105\"/>\r\n       <use x=\"184.130859\" xlink:href=\"#DejaVuSans-97\"/>\r\n      </g>\r\n     </g>\r\n    </g>\r\n    <g id=\"ytick_10\">\r\n     <g id=\"line2d_18\">\r\n      <g>\r\n       <use style=\"stroke:#000000;stroke-width:0.8;\" x=\"295.390625\" xlink:href=\"#m5dcdb293b2\" y=\"18.072\"/>\r\n      </g>\r\n     </g>\r\n     <g id=\"text_19\">\r\n      <!-- Italy -->\r\n      <g transform=\"translate(266.695312 21.871219)scale(0.1 -0.1)\">\r\n       <use xlink:href=\"#DejaVuSans-73\"/>\r\n       <use x=\"29.492188\" xlink:href=\"#DejaVuSans-116\"/>\r\n       <use x=\"68.701172\" xlink:href=\"#DejaVuSans-97\"/>\r\n       <use x=\"129.980469\" xlink:href=\"#DejaVuSans-108\"/>\r\n       <use x=\"157.763672\" xlink:href=\"#DejaVuSans-121\"/>\r\n      </g>\r\n     </g>\r\n    </g>\r\n    <g id=\"text_20\">\r\n     <!-- country -->\r\n     <g transform=\"translate(14.798438 135.041094)rotate(-90)scale(0.1 -0.1)\">\r\n      <use xlink:href=\"#DejaVuSans-99\"/>\r\n      <use x=\"54.980469\" xlink:href=\"#DejaVuSans-111\"/>\r\n      <use x=\"116.162109\" xlink:href=\"#DejaVuSans-117\"/>\r\n      <use x=\"179.541016\" xlink:href=\"#DejaVuSans-110\"/>\r\n      <use x=\"242.919922\" xlink:href=\"#DejaVuSans-116\"/>\r\n      <use x=\"282.128906\" xlink:href=\"#DejaVuSans-114\"/>\r\n      <use x=\"323.242188\" xlink:href=\"#DejaVuSans-121\"/>\r\n     </g>\r\n    </g>\r\n   </g>\r\n   <g id=\"patch_13\">\r\n    <path d=\"M 295.390625 224.64 \r\nL 295.390625 7.2 \r\n\" style=\"fill:none;stroke:#000000;stroke-linecap:square;stroke-linejoin:miter;stroke-width:0.8;\"/>\r\n   </g>\r\n   <g id=\"patch_14\">\r\n    <path d=\"M 630.190625 224.64 \r\nL 630.190625 7.2 \r\n\" style=\"fill:none;stroke:#000000;stroke-linecap:square;stroke-linejoin:miter;stroke-width:0.8;\"/>\r\n   </g>\r\n   <g id=\"patch_15\">\r\n    <path d=\"M 295.390625 224.64 \r\nL 630.190625 224.64 \r\n\" style=\"fill:none;stroke:#000000;stroke-linecap:square;stroke-linejoin:miter;stroke-width:0.8;\"/>\r\n   </g>\r\n   <g id=\"patch_16\">\r\n    <path d=\"M 295.390625 7.2 \r\nL 630.190625 7.2 \r\n\" style=\"fill:none;stroke:#000000;stroke-linecap:square;stroke-linejoin:miter;stroke-width:0.8;\"/>\r\n   </g>\r\n   <g id=\"legend_1\">\r\n    <g id=\"patch_17\">\r\n     <path d=\"M 568.325 29.878125 \r\nL 623.190625 29.878125 \r\nQ 625.190625 29.878125 625.190625 27.878125 \r\nL 625.190625 14.2 \r\nQ 625.190625 12.2 623.190625 12.2 \r\nL 568.325 12.2 \r\nQ 566.325 12.2 566.325 14.2 \r\nL 566.325 27.878125 \r\nQ 566.325 29.878125 568.325 29.878125 \r\nz\r\n\" style=\"fill:#ffffff;opacity:0.8;stroke:#cccccc;stroke-linejoin:miter;\"/>\r\n    </g>\r\n    <g id=\"patch_18\">\r\n     <path d=\"M 570.325 23.798437 \r\nL 590.325 23.798437 \r\nL 590.325 16.798437 \r\nL 570.325 16.798437 \r\nz\r\n\" style=\"fill:#1f77b4;\"/>\r\n    </g>\r\n    <g id=\"text_21\">\r\n     <!-- total -->\r\n     <g transform=\"translate(598.325 23.798437)scale(0.1 -0.1)\">\r\n      <use xlink:href=\"#DejaVuSans-116\"/>\r\n      <use x=\"39.208984\" xlink:href=\"#DejaVuSans-111\"/>\r\n      <use x=\"100.390625\" xlink:href=\"#DejaVuSans-116\"/>\r\n      <use x=\"139.599609\" xlink:href=\"#DejaVuSans-97\"/>\r\n      <use x=\"200.878906\" xlink:href=\"#DejaVuSans-108\"/>\r\n     </g>\r\n    </g>\r\n   </g>\r\n  </g>\r\n </g>\r\n <defs>\r\n  <clipPath id=\"p8ba0ae368f\">\r\n   <rect height=\"217.44\" width=\"334.8\" x=\"295.390625\" y=\"7.2\"/>\r\n  </clipPath>\r\n </defs>\r\n</svg>\r\n",
      "image/png": "[encoded data removed]"
     },
     "metadata": {
      "needs_background": "light"
     }
    }
   ],
   "source": [
    "graph1.plot.barh(x=\"country\", y = \"total\")"
   ]
  },
  {
   "source": [
    "## Экспорт в Excel"
   ],
   "cell_type": "markdown",
   "metadata": {}
  },
  {
   "cell_type": "code",
   "execution_count": 112,
   "metadata": {},
   "outputs": [],
   "source": [
    "merged.to_excel(\"output.xlsx\", sheet_name=\"merged_data\")"
   ]
  }
 ]
}