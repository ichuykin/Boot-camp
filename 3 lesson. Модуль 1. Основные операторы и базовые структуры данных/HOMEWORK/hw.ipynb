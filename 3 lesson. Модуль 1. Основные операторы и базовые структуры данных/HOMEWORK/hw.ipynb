{
 "metadata": {
  "language_info": {
   "codemirror_mode": {
    "name": "ipython",
    "version": 3
   },
   "file_extension": ".py",
   "mimetype": "text/x-python",
   "name": "python",
   "nbconvert_exporter": "python",
   "pygments_lexer": "ipython3",
   "version": 3
  },
  "orig_nbformat": 2
 },
 "nbformat": 4,
 "nbformat_minor": 2,
 "cells": [
  {
   "source": [
    "# Задание 1"
   ],
   "cell_type": "markdown",
   "metadata": {}
  },
  {
   "source": [
    "Есть словарь товаров с их названиями и id\n",
    "```python\n",
    "goods = {\n",
    "    'Чай': '12345',\n",
    "    'Булка французкая': '23456',\n",
    "    'Вино': '34567',\n",
    "    'Килька запорожская': '45678',\n",
    "}\n",
    "```\n",
    "Есть словарь списков количества товаров в магазине.\n",
    "```python\n",
    "store = {\n",
    "    '12345': [\n",
    "        {'quantity': 30, 'price': 42},\n",
    "        {'quantity': 14, 'price': 222},\n",
    "    ],\n",
    "    '23456': [\n",
    "        {'quantity': 22, 'price': 510},\n",
    "    ],\n",
    "    '34567': [\n",
    "        {'quantity': 17, 'price': 1100},\n",
    "        {'quantity': 10, 'price': 1000},\n",
    "    ],\n",
    "    '45678': [\n",
    "        {'quantity': 50, 'price': 90},\n",
    "        {'quantity': 12, 'price': 195},\n",
    "        {'quantity': 43, 'price': 197},\n",
    "    ],\n",
    "}\n",
    "```\n",
    "Рассчитать на какую сумму лежит каждого товара в магазине."
   ],
   "cell_type": "markdown",
   "metadata": {}
  },
  {
   "cell_type": "code",
   "execution_count": null,
   "metadata": {},
   "outputs": [],
   "source": [
    "### YOUR CODE HERE "
   ]
  },
  {
   "source": [
    "# Задание 2"
   ],
   "cell_type": "markdown",
   "metadata": {}
  },
  {
   "source": [
    "There's currently a bug in the program. When the user inputs a proper noun (e.g. Delhi, Paris, etc.) the program will convert it to lowercase and then tries to find the lowercase version (e.g. delhi)in the dataset and it cannot find it since the dataset has Delhi, but not delhi.\n",
    "\n",
    "Please add another conditional block to the program so that the program returns the definition of names that start with acapital letter. You can find thecode we have so farattached here in this lecture for your convenience."
   ],
   "cell_type": "markdown",
   "metadata": {}
  },
  {
   "cell_type": "code",
   "execution_count": null,
   "metadata": {},
   "outputs": [],
   "source": [
    "### YOUR CODE HERE "
   ]
  },
  {
   "source": [
    "# Задание 3"
   ],
   "cell_type": "markdown",
   "metadata": {}
  },
  {
   "source": [
    "A student discovered another issue with the program. The program cannot return the definition of acronyms such as USA or NATO. Therefore, please try to add another conditional that makes the program return the definition of such words."
   ],
   "cell_type": "markdown",
   "metadata": {}
  },
  {
   "cell_type": "code",
   "execution_count": null,
   "metadata": {},
   "outputs": [],
   "source": [
    "### YOUR CODE HERE "
   ]
  }
 ]
}